{
 "cells": [
  {
   "cell_type": "code",
   "execution_count": 28,
   "id": "56ecccd9-c06e-432d-b25d-3247278516a3",
   "metadata": {},
   "outputs": [],
   "source": [
    "import pandas as pd\n",
    "import fastparquet\n",
    "import glob\n",
    "import multiprocessing as mp\n",
    "from multiprocessing import Pool\n",
    "import numpy as np\n",
    "import time\n",
    "import random"
   ]
  },
  {
   "cell_type": "code",
   "execution_count": 29,
   "id": "b0502928-2be3-4d05-a27f-4b8eb26ea891",
   "metadata": {},
   "outputs": [
    {
     "data": {
      "text/plain": [
       "100"
      ]
     },
     "execution_count": 29,
     "metadata": {},
     "output_type": "execute_result"
    }
   ],
   "source": [
    "num_partitions=round(0.95*mp.cpu_count())\n",
    "all_context_files=[]\n",
    "from_path='/datanaco/dharp/compounds/datasets/googleV3//'\n",
    "to_path='/data/dharp/compounds/datasets/contexts/'\n",
    "for filename in glob.glob(from_path+'*parq'):\n",
    "    all_context_files.append(filename)\n",
    "    \n",
    "len(all_context_files)"
   ]
  },
  {
   "cell_type": "code",
   "execution_count": 39,
   "id": "8d6aef85-3769-4bdd-8ca8-a30b0fcb9120",
   "metadata": {},
   "outputs": [],
   "source": [
    "random.shuffle(all_context_files)\n",
    "all_context_files_list=np.array_split(all_context_files,2)"
   ]
  },
  {
   "cell_type": "code",
   "execution_count": 40,
   "id": "969a82ba-0e6c-49e9-8682-d4c6e885737e",
   "metadata": {},
   "outputs": [
    {
     "data": {
      "text/plain": [
       "2"
      ]
     },
     "execution_count": 40,
     "metadata": {},
     "output_type": "execute_result"
    }
   ],
   "source": [
    "len(all_context_files_list)"
   ]
  },
  {
   "cell_type": "code",
   "execution_count": 42,
   "id": "20266fc8-6734-4ed0-a09f-df80c66019bc",
   "metadata": {},
   "outputs": [
    {
     "data": {
      "text/plain": [
       "array(['/datanaco/dharp/compounds/datasets/googleV3/df_8.parq',\n",
       "       '/datanaco/dharp/compounds/datasets/googleV3/df_97.parq',\n",
       "       '/datanaco/dharp/compounds/datasets/googleV3/df_9.parq',\n",
       "       '/datanaco/dharp/compounds/datasets/googleV3/df_54.parq',\n",
       "       '/datanaco/dharp/compounds/datasets/googleV3/df_15.parq',\n",
       "       '/datanaco/dharp/compounds/datasets/googleV3/df_35.parq',\n",
       "       '/datanaco/dharp/compounds/datasets/googleV3/df_7.parq',\n",
       "       '/datanaco/dharp/compounds/datasets/googleV3/df_46.parq',\n",
       "       '/datanaco/dharp/compounds/datasets/googleV3/df_76.parq',\n",
       "       '/datanaco/dharp/compounds/datasets/googleV3/df_68.parq',\n",
       "       '/datanaco/dharp/compounds/datasets/googleV3/df_40.parq',\n",
       "       '/datanaco/dharp/compounds/datasets/googleV3/df_36.parq',\n",
       "       '/datanaco/dharp/compounds/datasets/googleV3/df_72.parq',\n",
       "       '/datanaco/dharp/compounds/datasets/googleV3/df_3.parq',\n",
       "       '/datanaco/dharp/compounds/datasets/googleV3/df_25.parq',\n",
       "       '/datanaco/dharp/compounds/datasets/googleV3/df_37.parq',\n",
       "       '/datanaco/dharp/compounds/datasets/googleV3/df_47.parq',\n",
       "       '/datanaco/dharp/compounds/datasets/googleV3/df_78.parq',\n",
       "       '/datanaco/dharp/compounds/datasets/googleV3/df_87.parq',\n",
       "       '/datanaco/dharp/compounds/datasets/googleV3/df_56.parq',\n",
       "       '/datanaco/dharp/compounds/datasets/googleV3/df_73.parq',\n",
       "       '/datanaco/dharp/compounds/datasets/googleV3/df_85.parq',\n",
       "       '/datanaco/dharp/compounds/datasets/googleV3/df_57.parq',\n",
       "       '/datanaco/dharp/compounds/datasets/googleV3/df_44.parq',\n",
       "       '/datanaco/dharp/compounds/datasets/googleV3/df_49.parq',\n",
       "       '/datanaco/dharp/compounds/datasets/googleV3/df_98.parq',\n",
       "       '/datanaco/dharp/compounds/datasets/googleV3/df_91.parq',\n",
       "       '/datanaco/dharp/compounds/datasets/googleV3/df_26.parq',\n",
       "       '/datanaco/dharp/compounds/datasets/googleV3/df_38.parq',\n",
       "       '/datanaco/dharp/compounds/datasets/googleV3/df_71.parq',\n",
       "       '/datanaco/dharp/compounds/datasets/googleV3/df_33.parq',\n",
       "       '/datanaco/dharp/compounds/datasets/googleV3/df_45.parq',\n",
       "       '/datanaco/dharp/compounds/datasets/googleV3/df_5.parq',\n",
       "       '/datanaco/dharp/compounds/datasets/googleV3/df_58.parq',\n",
       "       '/datanaco/dharp/compounds/datasets/googleV3/df_22.parq',\n",
       "       '/datanaco/dharp/compounds/datasets/googleV3/df_100.parq',\n",
       "       '/datanaco/dharp/compounds/datasets/googleV3/df_83.parq',\n",
       "       '/datanaco/dharp/compounds/datasets/googleV3/df_39.parq',\n",
       "       '/datanaco/dharp/compounds/datasets/googleV3/df_19.parq',\n",
       "       '/datanaco/dharp/compounds/datasets/googleV3/df_48.parq',\n",
       "       '/datanaco/dharp/compounds/datasets/googleV3/df_12.parq',\n",
       "       '/datanaco/dharp/compounds/datasets/googleV3/df_66.parq',\n",
       "       '/datanaco/dharp/compounds/datasets/googleV3/df_16.parq',\n",
       "       '/datanaco/dharp/compounds/datasets/googleV3/df_21.parq',\n",
       "       '/datanaco/dharp/compounds/datasets/googleV3/df_11.parq',\n",
       "       '/datanaco/dharp/compounds/datasets/googleV3/df_94.parq',\n",
       "       '/datanaco/dharp/compounds/datasets/googleV3/df_31.parq',\n",
       "       '/datanaco/dharp/compounds/datasets/googleV3/df_79.parq',\n",
       "       '/datanaco/dharp/compounds/datasets/googleV3/df_23.parq',\n",
       "       '/datanaco/dharp/compounds/datasets/googleV3/df_95.parq'],\n",
       "      dtype='<U55')"
      ]
     },
     "execution_count": 42,
     "metadata": {},
     "output_type": "execute_result"
    }
   ],
   "source": [
    "all_context_files_list[0]"
   ]
  },
  {
   "cell_type": "code",
   "execution_count": 31,
   "id": "fa808355-db45-488b-ae3f-7543fe9da8ac",
   "metadata": {},
   "outputs": [],
   "source": [
    "def context_maker(df):\n",
    "    df[['w1','w2','w3','w4','w5']]=df.lemma_pos.str.split(\" \",expand=True)\n",
    "\n",
    "    context_df=pd.melt(df,id_vars=['year','count'],value_vars=['w1','w2','w3','w4','w5'])\n",
    "    \n",
    "    context_df=context_df.groupby(['value','year'],observed=True)['count'].sum().to_frame()\n",
    "    context_df.reset_index(inplace=True)\n",
    "    context_df[['word','pos']]=context_df['value'].str.rsplit('_',expand=True,n=1)\n",
    "    \n",
    "    context_df=context_df.groupby(['word','pos','year'],observed=True)['count'].sum().to_frame()\n",
    "    context_df.reset_index(inplace=True)\n",
    "    context_df=context_df.loc[context_df.pos.isin(['NOUN','ADJ','VERB','ADV'])]\n",
    "    context_df['context']=context_df['word']+\"_\"+context_df['pos']\n",
    "    context_df=context_df.groupby(['context','year'],observed=True)['count'].sum().to_frame()\n",
    "    context_df.reset_index(inplace=True)\n",
    "\n",
    "    return context_df    "
   ]
  },
  {
   "cell_type": "code",
   "execution_count": 32,
   "id": "d93b3857-5e1c-42fe-b5ac-642ee65fc99c",
   "metadata": {},
   "outputs": [],
   "source": [
    "def parquet_file_processer(f):\n",
    "    parquet_context_df_list=[]\n",
    "    print(f'File num: {f+1} name: {cur_parq_file}')\n",
    "    cur_parq=fastparquet.ParquetFile(cur_parq_file)\n",
    "    print(f'Number of groups: {len(cur_parq.row_groups)}')\n",
    "    for i,df in enumerate(cur_parq.iter_row_groups()):\n",
    "        print(f'Group {i+1}')\n",
    "        cur_time=time.time()\n",
    "        context_df=context_maker(df)\n",
    "        print(f'Total time taken for Group {i+1}: {round(time.time()-cur_time)} secs')        \n",
    "        parquet_context_df_list.append(context_df)\n",
    "    \n",
    "    parq_context_df=pd.concat(parquet_context_df_list,ignore_index=True)\n",
    "    print(parq_context_df.shape[0])\n",
    "\n",
    "    parq_context_df=parq_context_df.groupby(['context','year'])['count'].sum().to_frame()\n",
    "    print(parq_context_df.shape[0])\n",
    "    parq_context_df.reset_index(inplace=True)\n",
    "    return parq_context_df"
   ]
  },
  {
   "cell_type": "code",
   "execution_count": 33,
   "id": "d60ed7ef-d341-432b-b63a-11c5384d0e8c",
   "metadata": {},
   "outputs": [],
   "source": [
    "def parquet_batch_processer(cur_list):\n",
    "    parquet_batch_df_list=[]\n",
    "    \n",
    "    for cur_file in cur_list:\n",
    "        parquet_batch_df_list.append(parquet_file_processer(cur_file))\n",
    "        \n",
    "    batch_context_df=pd.concat(parquet_batch_df_list,ignore_index=True)\n",
    "    print(batch_context_df.shape[0])\n",
    "    \n",
    "    batch_context_df=batch_context_df.groupby(['context','year'])['count'].sum().to_frame()\n",
    "    batch_context_df.reset_index(inplace=True)\n",
    "    print(batch_context_df.shape[0])\n",
    "    \n",
    "    return batch_context_df"
   ]
  },
  {
   "cell_type": "code",
   "execution_count": 45,
   "id": "21dfac76-20ae-4357-b719-f72f404ead09",
   "metadata": {},
   "outputs": [
    {
     "data": {
      "text/plain": [
       "50"
      ]
     },
     "execution_count": 45,
     "metadata": {},
     "output_type": "execute_result"
    }
   ],
   "source": [
    "len(all_context_files_list[0])"
   ]
  },
  {
   "cell_type": "code",
   "execution_count": null,
   "id": "5faad5e6-0551-45a7-ab88-e377dd17e50d",
   "metadata": {},
   "outputs": [],
   "source": [
    "    pool = Pool(len(cur_parq_file_list))\n"
   ]
  },
  {
   "cell_type": "code",
   "execution_count": 6,
   "id": "4b3c86c3-a58f-4f8c-ab1a-532579b11ee7",
   "metadata": {},
   "outputs": [
    {
     "name": "stdout",
     "output_type": "stream",
     "text": [
      "File num: 1 name: /datanaco/dharp/compounds/datasets/googleV3/df_75.parq\n",
      "Number of groups: 42\n"
     ]
    },
    {
     "ename": "NameError",
     "evalue": "name 'g' is not defined",
     "output_type": "error",
     "traceback": [
      "\u001b[0;31m---------------------------------------------------------------------------\u001b[0m",
      "\u001b[0;31mNameError\u001b[0m                                 Traceback (most recent call last)",
      "Cell \u001b[0;32mIn[6], line 7\u001b[0m\n\u001b[1;32m      5\u001b[0m \u001b[38;5;28mprint\u001b[39m(\u001b[38;5;124mf\u001b[39m\u001b[38;5;124m'\u001b[39m\u001b[38;5;124mNumber of groups: \u001b[39m\u001b[38;5;132;01m{\u001b[39;00m\u001b[38;5;28mlen\u001b[39m(cur_parq\u001b[38;5;241m.\u001b[39mrow_groups)\u001b[38;5;132;01m}\u001b[39;00m\u001b[38;5;124m'\u001b[39m)\n\u001b[1;32m      6\u001b[0m \u001b[38;5;28;01mfor\u001b[39;00m i,df \u001b[38;5;129;01min\u001b[39;00m \u001b[38;5;28menumerate\u001b[39m(cur_parq\u001b[38;5;241m.\u001b[39miter_row_groups()):\n\u001b[0;32m----> 7\u001b[0m     \u001b[43mg\u001b[49m\n\u001b[1;32m      8\u001b[0m     \u001b[38;5;28mprint\u001b[39m(\u001b[38;5;124mf\u001b[39m\u001b[38;5;124m'\u001b[39m\u001b[38;5;124mGroup \u001b[39m\u001b[38;5;132;01m{\u001b[39;00mi\u001b[38;5;241m+\u001b[39m\u001b[38;5;241m1\u001b[39m\u001b[38;5;132;01m}\u001b[39;00m\u001b[38;5;124m'\u001b[39m)\n\u001b[1;32m      9\u001b[0m     cur_time\u001b[38;5;241m=\u001b[39mtime\u001b[38;5;241m.\u001b[39mtime()\n",
      "\u001b[0;31mNameError\u001b[0m: name 'g' is not defined"
     ]
    }
   ],
   "source": [
    "all_context_df_list=[]\n",
    "for i,cur_parq_file_list in enumerate(all_context_files_list):\n",
    "    \n",
    "    cur_time=time.time()\n",
    "\n",
    "    print(f'Iteration {i+1}')\n",
    "    \n",
    "    pool = Pool(len(cur_parq_file_list))\n",
    "    print('Started parallelization')\n",
    "    \n",
    "    results=pool.map_async(parquet_batch_processer,cur_parq_file_list,chunksize=1)\n",
    "    pool.close()\n",
    "    pool.join()\n",
    "    \n",
    "    curr_df_list=results.get()\n",
    "    current_context_df=pd.concat(curr_df_list,ignore_index=True)\n",
    "    \n",
    "    print(current_context_df.shape[0])\n",
    "    \n",
    "    current_context_df=current_context_df.groupby(['context','year'])['count'].sum().to_frame()\n",
    "    current_context_df.reset_index(inplace=True)\n",
    "    print(current_context_df.shape[0])\n",
    "    \n",
    "    print(f'Total time taken for Iteration {i+1}: {round(time.time()-cur_time)} secs')        \n",
    "    all_context_df_list.append(current_context_df)\n",
    "    \n",
    "    \n",
    "final_context_df=pd.concat(all_context_df_list,ignore_index=True)\n",
    "\n",
    "final_context_df=final_context_df.groupby(['context','year'])['count'].sum().to_frame()\n",
    "final_context_df.reset_index(inplace=True)\n",
    "print(final_context_df.shape[0])\n",
    "\n",
    "#final_context_df.to_pickle("
   ]
  }
 ],
 "metadata": {
  "kernelspec": {
   "display_name": "Python 3 (ipykernel)",
   "language": "python",
   "name": "python3"
  },
  "language_info": {
   "codemirror_mode": {
    "name": "ipython",
    "version": 3
   },
   "file_extension": ".py",
   "mimetype": "text/x-python",
   "name": "python",
   "nbconvert_exporter": "python",
   "pygments_lexer": "ipython3",
   "version": "3.9.16"
  }
 },
 "nbformat": 4,
 "nbformat_minor": 5
}
