{
 "cells": [
  {
   "cell_type": "code",
   "execution_count": 1,
   "metadata": {},
   "outputs": [],
   "source": [
    "import pandas as pd\n",
    "import glob\n",
    "import os\n",
    "import numpy as np\n",
    "import pickle as pkl\n",
    "import time\n",
    "import multiprocessing as mp\n",
    "import argparse\n",
    "import os"
   ]
  },
  {
   "cell_type": "code",
   "execution_count": 10,
   "metadata": {},
   "outputs": [],
   "source": [
    "decade_lists=list(range(1800,2010,10))"
   ]
  },
  {
   "cell_type": "code",
   "execution_count": 43,
   "metadata": {},
   "outputs": [],
   "source": [
    "fcat_files=glob.glob(f'/data/dharp/compounds/datasets/*_fcat.txt')\n",
    "\n",
    "df_list=[]\n",
    "for cur_file in fcat_files:\n",
    "    cur_df=pd.read_table(cur_file,header=None,usecols=[0])\n",
    "    df_list.append(cur_df)\n",
    "    \n",
    "fcat_df=pd.concat(df_list)\n",
    "fcat_df.columns=['fname']\n",
    "fcat_df[['fnum']]=fcat_df.fname.str.split('/',expand=True)[[6]]\n",
    "fcat_df.fnum=fcat_df.fnum.str.rstrip('.pkl')\n",
    "actual_list=fcat_df.fnum.unique()"
   ]
  },
  {
   "cell_type": "code",
   "execution_count": 45,
   "metadata": {},
   "outputs": [
    {
     "data": {
      "text/plain": [
       "10347"
      ]
     },
     "execution_count": 45,
     "metadata": {},
     "output_type": "execute_result"
    }
   ],
   "source": [
    "len(actual_list)"
   ]
  },
  {
   "cell_type": "code",
   "execution_count": 11,
   "metadata": {},
   "outputs": [],
   "source": [
    "pkl_files=glob.glob(f'/datanaco/dharp/compounds/datasets/googleV3/*/*pkl')\n",
    "len(pkl_files)\n",
    "\n",
    "pkl_files_dict = dict()\n",
    "for cur_file in pkl_files: \n",
    "    fsize = os.stat(cur_file).st_size\n",
    "    pkl_files_dict[cur_file] = fsize"
   ]
  },
  {
   "cell_type": "code",
   "execution_count": 46,
   "metadata": {},
   "outputs": [
    {
     "data": {
      "text/plain": [
       "10347"
      ]
     },
     "execution_count": 46,
     "metadata": {},
     "output_type": "execute_result"
    }
   ],
   "source": [
    "size_df=pd.DataFrame.from_dict(pkl_files_dict,orient='index')\n",
    "size_df.reset_index(inplace=True)\n",
    "size_df.columns=['fname','fsize']\n",
    "size_df[['year','fnum']]=size_df.fname.str.split('/',expand=True)[[6,7]]\n",
    "size_df.fnum=size_df.fnum.str.rstrip('.pkl')\n",
    "stored_list=size_df.fnum.unique()\n",
    "len(stored_list)"
   ]
  },
  {
   "cell_type": "code",
   "execution_count": 23,
   "metadata": {},
   "outputs": [
    {
     "data": {
      "text/plain": [
       "year\n",
       "1800     19.417731\n",
       "1810     25.523244\n",
       "1820     33.505400\n",
       "1830     48.393158\n",
       "1840     54.132005\n",
       "1850     66.263352\n",
       "1860     70.823276\n",
       "1870     83.395534\n",
       "1880     96.430940\n",
       "1890    110.505459\n",
       "1900    127.379251\n",
       "1910    134.541142\n",
       "1920    134.267649\n",
       "1930    133.477596\n",
       "1940    137.622296\n",
       "1950    159.168369\n",
       "1960    189.301311\n",
       "1970    200.787911\n",
       "1980    201.181671\n",
       "1990    206.857616\n",
       "2000    220.492505\n",
       "2010    208.638266\n",
       "Name: fsize, dtype: float64"
      ]
     },
     "execution_count": 23,
     "metadata": {},
     "output_type": "execute_result"
    }
   ],
   "source": [
    "size_df.groupby(['year'])['fsize'].sum()/10**9"
   ]
  },
  {
   "cell_type": "code",
   "execution_count": 4,
   "metadata": {},
   "outputs": [
    {
     "data": {
      "text/html": [
       "<div>\n",
       "<style scoped>\n",
       "    .dataframe tbody tr th:only-of-type {\n",
       "        vertical-align: middle;\n",
       "    }\n",
       "\n",
       "    .dataframe tbody tr th {\n",
       "        vertical-align: top;\n",
       "    }\n",
       "\n",
       "    .dataframe thead th {\n",
       "        text-align: right;\n",
       "    }\n",
       "</style>\n",
       "<table border=\"1\" class=\"dataframe\">\n",
       "  <thead>\n",
       "    <tr style=\"text-align: right;\">\n",
       "      <th></th>\n",
       "      <th>fname</th>\n",
       "      <th>fsize</th>\n",
       "      <th>row_perc</th>\n",
       "    </tr>\n",
       "  </thead>\n",
       "  <tbody>\n",
       "    <tr>\n",
       "      <th>0</th>\n",
       "      <td>/datanaco/dharp/compounds/datasets/googleV3/20...</td>\n",
       "      <td>176840358</td>\n",
       "      <td>8.020243e-02</td>\n",
       "    </tr>\n",
       "    <tr>\n",
       "      <th>1</th>\n",
       "      <td>/datanaco/dharp/compounds/datasets/googleV3/20...</td>\n",
       "      <td>143092593</td>\n",
       "      <td>6.489681e-02</td>\n",
       "    </tr>\n",
       "    <tr>\n",
       "      <th>2</th>\n",
       "      <td>/datanaco/dharp/compounds/datasets/googleV3/20...</td>\n",
       "      <td>137636894</td>\n",
       "      <td>6.242248e-02</td>\n",
       "    </tr>\n",
       "    <tr>\n",
       "      <th>3</th>\n",
       "      <td>/datanaco/dharp/compounds/datasets/googleV3/20...</td>\n",
       "      <td>123689770</td>\n",
       "      <td>5.609704e-02</td>\n",
       "    </tr>\n",
       "    <tr>\n",
       "      <th>4</th>\n",
       "      <td>/datanaco/dharp/compounds/datasets/googleV3/20...</td>\n",
       "      <td>121483805</td>\n",
       "      <td>5.509657e-02</td>\n",
       "    </tr>\n",
       "    <tr>\n",
       "      <th>...</th>\n",
       "      <td>...</td>\n",
       "      <td>...</td>\n",
       "      <td>...</td>\n",
       "    </tr>\n",
       "    <tr>\n",
       "      <th>10333</th>\n",
       "      <td>/datanaco/dharp/compounds/datasets/googleV3/20...</td>\n",
       "      <td>993</td>\n",
       "      <td>4.503554e-07</td>\n",
       "    </tr>\n",
       "    <tr>\n",
       "      <th>10334</th>\n",
       "      <td>/datanaco/dharp/compounds/datasets/googleV3/20...</td>\n",
       "      <td>992</td>\n",
       "      <td>4.499019e-07</td>\n",
       "    </tr>\n",
       "    <tr>\n",
       "      <th>10335</th>\n",
       "      <td>/datanaco/dharp/compounds/datasets/googleV3/20...</td>\n",
       "      <td>991</td>\n",
       "      <td>4.494484e-07</td>\n",
       "    </tr>\n",
       "    <tr>\n",
       "      <th>10336</th>\n",
       "      <td>/datanaco/dharp/compounds/datasets/googleV3/20...</td>\n",
       "      <td>990</td>\n",
       "      <td>4.489949e-07</td>\n",
       "    </tr>\n",
       "    <tr>\n",
       "      <th>10337</th>\n",
       "      <td>/datanaco/dharp/compounds/datasets/googleV3/20...</td>\n",
       "      <td>987</td>\n",
       "      <td>4.476343e-07</td>\n",
       "    </tr>\n",
       "  </tbody>\n",
       "</table>\n",
       "<p>10338 rows × 3 columns</p>\n",
       "</div>"
      ],
      "text/plain": [
       "                                                   fname      fsize  \\\n",
       "0      /datanaco/dharp/compounds/datasets/googleV3/20...  176840358   \n",
       "1      /datanaco/dharp/compounds/datasets/googleV3/20...  143092593   \n",
       "2      /datanaco/dharp/compounds/datasets/googleV3/20...  137636894   \n",
       "3      /datanaco/dharp/compounds/datasets/googleV3/20...  123689770   \n",
       "4      /datanaco/dharp/compounds/datasets/googleV3/20...  121483805   \n",
       "...                                                  ...        ...   \n",
       "10333  /datanaco/dharp/compounds/datasets/googleV3/20...        993   \n",
       "10334  /datanaco/dharp/compounds/datasets/googleV3/20...        992   \n",
       "10335  /datanaco/dharp/compounds/datasets/googleV3/20...        991   \n",
       "10336  /datanaco/dharp/compounds/datasets/googleV3/20...        990   \n",
       "10337  /datanaco/dharp/compounds/datasets/googleV3/20...        987   \n",
       "\n",
       "           row_perc  \n",
       "0      8.020243e-02  \n",
       "1      6.489681e-02  \n",
       "2      6.242248e-02  \n",
       "3      5.609704e-02  \n",
       "4      5.509657e-02  \n",
       "...             ...  \n",
       "10333  4.503554e-07  \n",
       "10334  4.499019e-07  \n",
       "10335  4.494484e-07  \n",
       "10336  4.489949e-07  \n",
       "10337  4.476343e-07  \n",
       "\n",
       "[10338 rows x 3 columns]"
      ]
     },
     "execution_count": 4,
     "metadata": {},
     "output_type": "execute_result"
    }
   ],
   "source": [
    "to_divide_list=size_df.sort_values(ascending=False,by='fsize',ignore_index=True)\n",
    "to_divide_list['row_perc']=to_divide_list.fsize/to_divide_list.fsize.sum()*100\n",
    "to_divide_list"
   ]
  },
  {
   "cell_type": "code",
   "execution_count": 6,
   "metadata": {},
   "outputs": [
    {
     "data": {
      "text/plain": [
       "'/datanaco/dharp/compounds/datasets/googleV3/2000/602.pkl'"
      ]
     },
     "execution_count": 6,
     "metadata": {},
     "output_type": "execute_result"
    }
   ],
   "source": [
    "to_divide_list.iloc[0].fname"
   ]
  },
  {
   "cell_type": "code",
   "execution_count": 6,
   "metadata": {},
   "outputs": [
    {
     "data": {
      "text/html": [
       "<div>\n",
       "<style scoped>\n",
       "    .dataframe tbody tr th:only-of-type {\n",
       "        vertical-align: middle;\n",
       "    }\n",
       "\n",
       "    .dataframe tbody tr th {\n",
       "        vertical-align: top;\n",
       "    }\n",
       "\n",
       "    .dataframe thead th {\n",
       "        text-align: right;\n",
       "    }\n",
       "</style>\n",
       "<table border=\"1\" class=\"dataframe\">\n",
       "  <thead>\n",
       "    <tr style=\"text-align: right;\">\n",
       "      <th></th>\n",
       "      <th>fname</th>\n",
       "      <th>fsize</th>\n",
       "      <th>row_perc</th>\n",
       "      <th>fcat</th>\n",
       "    </tr>\n",
       "  </thead>\n",
       "  <tbody>\n",
       "    <tr>\n",
       "      <th>0</th>\n",
       "      <td>/datanaco/dharp/compounds/datasets/googleV3/60...</td>\n",
       "      <td>4824711805</td>\n",
       "      <td>1.043950e-01</td>\n",
       "      <td>1</td>\n",
       "    </tr>\n",
       "    <tr>\n",
       "      <th>1</th>\n",
       "      <td>/datanaco/dharp/compounds/datasets/googleV3/10...</td>\n",
       "      <td>3460349063</td>\n",
       "      <td>7.487353e-02</td>\n",
       "      <td>1</td>\n",
       "    </tr>\n",
       "    <tr>\n",
       "      <th>2</th>\n",
       "      <td>/datanaco/dharp/compounds/datasets/googleV3/10...</td>\n",
       "      <td>3459980866</td>\n",
       "      <td>7.486556e-02</td>\n",
       "      <td>1</td>\n",
       "    </tr>\n",
       "    <tr>\n",
       "      <th>3</th>\n",
       "      <td>/datanaco/dharp/compounds/datasets/googleV3/59...</td>\n",
       "      <td>3277271564</td>\n",
       "      <td>7.091218e-02</td>\n",
       "      <td>1</td>\n",
       "    </tr>\n",
       "    <tr>\n",
       "      <th>4</th>\n",
       "      <td>/datanaco/dharp/compounds/datasets/googleV3/62...</td>\n",
       "      <td>3062609103</td>\n",
       "      <td>6.626740e-02</td>\n",
       "      <td>1</td>\n",
       "    </tr>\n",
       "    <tr>\n",
       "      <th>...</th>\n",
       "      <td>...</td>\n",
       "      <td>...</td>\n",
       "      <td>...</td>\n",
       "      <td>...</td>\n",
       "    </tr>\n",
       "    <tr>\n",
       "      <th>10342</th>\n",
       "      <td>/datanaco/dharp/compounds/datasets/googleV3/12...</td>\n",
       "      <td>2118</td>\n",
       "      <td>4.582836e-08</td>\n",
       "      <td>100</td>\n",
       "    </tr>\n",
       "    <tr>\n",
       "      <th>10343</th>\n",
       "      <td>/datanaco/dharp/compounds/datasets/googleV3/55...</td>\n",
       "      <td>2008</td>\n",
       "      <td>4.344823e-08</td>\n",
       "      <td>100</td>\n",
       "    </tr>\n",
       "    <tr>\n",
       "      <th>10344</th>\n",
       "      <td>/datanaco/dharp/compounds/datasets/googleV3/61...</td>\n",
       "      <td>2002</td>\n",
       "      <td>4.331841e-08</td>\n",
       "      <td>100</td>\n",
       "    </tr>\n",
       "    <tr>\n",
       "      <th>10345</th>\n",
       "      <td>/datanaco/dharp/compounds/datasets/googleV3/97...</td>\n",
       "      <td>1454</td>\n",
       "      <td>3.146102e-08</td>\n",
       "      <td>100</td>\n",
       "    </tr>\n",
       "    <tr>\n",
       "      <th>10346</th>\n",
       "      <td>/datanaco/dharp/compounds/datasets/googleV3/13...</td>\n",
       "      <td>1142</td>\n",
       "      <td>2.471010e-08</td>\n",
       "      <td>100</td>\n",
       "    </tr>\n",
       "  </tbody>\n",
       "</table>\n",
       "<p>10347 rows × 4 columns</p>\n",
       "</div>"
      ],
      "text/plain": [
       "                                                   fname       fsize  \\\n",
       "0      /datanaco/dharp/compounds/datasets/googleV3/60...  4824711805   \n",
       "1      /datanaco/dharp/compounds/datasets/googleV3/10...  3460349063   \n",
       "2      /datanaco/dharp/compounds/datasets/googleV3/10...  3459980866   \n",
       "3      /datanaco/dharp/compounds/datasets/googleV3/59...  3277271564   \n",
       "4      /datanaco/dharp/compounds/datasets/googleV3/62...  3062609103   \n",
       "...                                                  ...         ...   \n",
       "10342  /datanaco/dharp/compounds/datasets/googleV3/12...        2118   \n",
       "10343  /datanaco/dharp/compounds/datasets/googleV3/55...        2008   \n",
       "10344  /datanaco/dharp/compounds/datasets/googleV3/61...        2002   \n",
       "10345  /datanaco/dharp/compounds/datasets/googleV3/97...        1454   \n",
       "10346  /datanaco/dharp/compounds/datasets/googleV3/13...        1142   \n",
       "\n",
       "           row_perc  fcat  \n",
       "0      1.043950e-01     1  \n",
       "1      7.487353e-02     1  \n",
       "2      7.486556e-02     1  \n",
       "3      7.091218e-02     1  \n",
       "4      6.626740e-02     1  \n",
       "...             ...   ...  \n",
       "10342  4.582836e-08   100  \n",
       "10343  4.344823e-08   100  \n",
       "10344  4.331841e-08   100  \n",
       "10345  3.146102e-08   100  \n",
       "10346  2.471010e-08   100  \n",
       "\n",
       "[10347 rows x 4 columns]"
      ]
     },
     "execution_count": 6,
     "metadata": {},
     "output_type": "execute_result"
    }
   ],
   "source": [
    "maxvalue = 1\n",
    "\n",
    "lastvalue = 0\n",
    "newcum = []\n",
    "labels=[]\n",
    "cur_label=1\n",
    "for row in to_divide_list.itertuples():\n",
    "    thisvalue =  row.row_perc + lastvalue\n",
    "    if thisvalue > maxvalue:\n",
    "        thisvalue = 0\n",
    "        cur_label+=1\n",
    "    newcum.append(thisvalue)\n",
    "    labels.append(cur_label)\n",
    "    lastvalue = thisvalue\n",
    "to_divide_list['fcat']=labels\n",
    "to_divide_list"
   ]
  },
  {
   "cell_type": "code",
   "execution_count": 20,
   "metadata": {},
   "outputs": [
    {
     "data": {
      "text/plain": [
       "'/datanaco/dharp/compounds/datasets/googleV3/601.pkl'"
      ]
     },
     "execution_count": 20,
     "metadata": {},
     "output_type": "execute_result"
    }
   ],
   "source": [
    "to_divide_list.iloc[10].fname"
   ]
  },
  {
   "cell_type": "code",
   "execution_count": 35,
   "metadata": {},
   "outputs": [
    {
     "data": {
      "text/html": [
       "<div>\n",
       "<style scoped>\n",
       "    .dataframe tbody tr th:only-of-type {\n",
       "        vertical-align: middle;\n",
       "    }\n",
       "\n",
       "    .dataframe tbody tr th {\n",
       "        vertical-align: top;\n",
       "    }\n",
       "\n",
       "    .dataframe thead th {\n",
       "        text-align: right;\n",
       "    }\n",
       "</style>\n",
       "<table border=\"1\" class=\"dataframe\">\n",
       "  <thead>\n",
       "    <tr style=\"text-align: right;\">\n",
       "      <th></th>\n",
       "      <th>fname</th>\n",
       "      <th>fsize</th>\n",
       "      <th>row_perc</th>\n",
       "      <th>fcat</th>\n",
       "    </tr>\n",
       "  </thead>\n",
       "  <tbody>\n",
       "    <tr>\n",
       "      <th>0</th>\n",
       "      <td>/datanaco/dharp/compounds/datasets/googleV3/80...</td>\n",
       "      <td>7677431026</td>\n",
       "      <td>0.155029</td>\n",
       "      <td>1</td>\n",
       "    </tr>\n",
       "    <tr>\n",
       "      <th>1</th>\n",
       "      <td>/datanaco/dharp/compounds/datasets/googleV3/79...</td>\n",
       "      <td>7228628958</td>\n",
       "      <td>0.145966</td>\n",
       "      <td>1</td>\n",
       "    </tr>\n",
       "    <tr>\n",
       "      <th>2</th>\n",
       "      <td>/datanaco/dharp/compounds/datasets/googleV3/80...</td>\n",
       "      <td>7134667418</td>\n",
       "      <td>0.144069</td>\n",
       "      <td>1</td>\n",
       "    </tr>\n",
       "    <tr>\n",
       "      <th>3</th>\n",
       "      <td>/datanaco/dharp/compounds/datasets/googleV3/14...</td>\n",
       "      <td>7076838209</td>\n",
       "      <td>0.142901</td>\n",
       "      <td>1</td>\n",
       "    </tr>\n",
       "    <tr>\n",
       "      <th>4</th>\n",
       "      <td>/datanaco/dharp/compounds/datasets/googleV3/81...</td>\n",
       "      <td>7050167074</td>\n",
       "      <td>0.142362</td>\n",
       "      <td>1</td>\n",
       "    </tr>\n",
       "    <tr>\n",
       "      <th>...</th>\n",
       "      <td>...</td>\n",
       "      <td>...</td>\n",
       "      <td>...</td>\n",
       "      <td>...</td>\n",
       "    </tr>\n",
       "    <tr>\n",
       "      <th>197</th>\n",
       "      <td>/datanaco/dharp/compounds/datasets/googleV3/29...</td>\n",
       "      <td>5882970430</td>\n",
       "      <td>0.118793</td>\n",
       "      <td>25</td>\n",
       "    </tr>\n",
       "    <tr>\n",
       "      <th>198</th>\n",
       "      <td>/datanaco/dharp/compounds/datasets/googleV3/18...</td>\n",
       "      <td>5881815323</td>\n",
       "      <td>0.118770</td>\n",
       "      <td>25</td>\n",
       "    </tr>\n",
       "    <tr>\n",
       "      <th>199</th>\n",
       "      <td>/datanaco/dharp/compounds/datasets/googleV3/81...</td>\n",
       "      <td>5881468020</td>\n",
       "      <td>0.118763</td>\n",
       "      <td>25</td>\n",
       "    </tr>\n",
       "    <tr>\n",
       "      <th>200</th>\n",
       "      <td>/datanaco/dharp/compounds/datasets/googleV3/18...</td>\n",
       "      <td>5862185384</td>\n",
       "      <td>0.118374</td>\n",
       "      <td>25</td>\n",
       "    </tr>\n",
       "    <tr>\n",
       "      <th>201</th>\n",
       "      <td>/datanaco/dharp/compounds/datasets/googleV3/11...</td>\n",
       "      <td>5860856450</td>\n",
       "      <td>0.118347</td>\n",
       "      <td>25</td>\n",
       "    </tr>\n",
       "  </tbody>\n",
       "</table>\n",
       "<p>202 rows × 4 columns</p>\n",
       "</div>"
      ],
      "text/plain": [
       "                                                 fname       fsize  row_perc  \\\n",
       "0    /datanaco/dharp/compounds/datasets/googleV3/80...  7677431026  0.155029   \n",
       "1    /datanaco/dharp/compounds/datasets/googleV3/79...  7228628958  0.145966   \n",
       "2    /datanaco/dharp/compounds/datasets/googleV3/80...  7134667418  0.144069   \n",
       "3    /datanaco/dharp/compounds/datasets/googleV3/14...  7076838209  0.142901   \n",
       "4    /datanaco/dharp/compounds/datasets/googleV3/81...  7050167074  0.142362   \n",
       "..                                                 ...         ...       ...   \n",
       "197  /datanaco/dharp/compounds/datasets/googleV3/29...  5882970430  0.118793   \n",
       "198  /datanaco/dharp/compounds/datasets/googleV3/18...  5881815323  0.118770   \n",
       "199  /datanaco/dharp/compounds/datasets/googleV3/81...  5881468020  0.118763   \n",
       "200  /datanaco/dharp/compounds/datasets/googleV3/18...  5862185384  0.118374   \n",
       "201  /datanaco/dharp/compounds/datasets/googleV3/11...  5860856450  0.118347   \n",
       "\n",
       "     fcat  \n",
       "0       1  \n",
       "1       1  \n",
       "2       1  \n",
       "3       1  \n",
       "4       1  \n",
       "..    ...  \n",
       "197    25  \n",
       "198    25  \n",
       "199    25  \n",
       "200    25  \n",
       "201    25  \n",
       "\n",
       "[202 rows x 4 columns]"
      ]
     },
     "execution_count": 35,
     "metadata": {},
     "output_type": "execute_result"
    }
   ],
   "source": [
    "to_divide_list.loc[to_divide_list.fcat.between(1,25)]"
   ]
  },
  {
   "cell_type": "code",
   "execution_count": 1,
   "metadata": {},
   "outputs": [
    {
     "ename": "NameError",
     "evalue": "name 'to_divide_list' is not defined",
     "output_type": "error",
     "traceback": [
      "\u001b[0;31m---------------------------------------------------------------------------\u001b[0m",
      "\u001b[0;31mNameError\u001b[0m                                 Traceback (most recent call last)",
      "Cell \u001b[0;32mIn[1], line 1\u001b[0m\n\u001b[0;32m----> 1\u001b[0m \u001b[43mto_divide_list\u001b[49m\u001b[38;5;241m.\u001b[39mloc[to_divide_list\u001b[38;5;241m.\u001b[39mfcat\u001b[38;5;241m.\u001b[39mbetween(\u001b[38;5;241m1\u001b[39m,\u001b[38;5;241m10\u001b[39m)][[\u001b[38;5;124m'\u001b[39m\u001b[38;5;124mfname\u001b[39m\u001b[38;5;124m'\u001b[39m,\u001b[38;5;124m'\u001b[39m\u001b[38;5;124mfcat\u001b[39m\u001b[38;5;124m'\u001b[39m]]\u001b[38;5;241m.\u001b[39mto_csv(\u001b[38;5;124m'\u001b[39m\u001b[38;5;124m/data/dharp/compounds/datasets/latinum_fcat.txt\u001b[39m\u001b[38;5;124m'\u001b[39m,header\u001b[38;5;241m=\u001b[39m\u001b[38;5;28;01mFalse\u001b[39;00m,index\u001b[38;5;241m=\u001b[39m\u001b[38;5;28;01mFalse\u001b[39;00m,sep\u001b[38;5;241m=\u001b[39m\u001b[38;5;124m\"\u001b[39m\u001b[38;5;130;01m\\t\u001b[39;00m\u001b[38;5;124m\"\u001b[39m)\n",
      "\u001b[0;31mNameError\u001b[0m: name 'to_divide_list' is not defined"
     ]
    }
   ],
   "source": [
    "to_divide_list.loc[to_divide_list.fcat.between(1,10)][['fname','fcat']].to_csv('/data/dharp/compounds/datasets/latinum_fcat.txt',header=False,index=False,sep=\"\\t\")\n",
    "\n",
    "\n"
   ]
  },
  {
   "cell_type": "code",
   "execution_count": 14,
   "metadata": {},
   "outputs": [],
   "source": [
    "to_divide_list.loc[to_divide_list.fcat.between(11,30)][['fname','fcat']].to_csv('/data/dharp/compounds/datasets/drogium_fcat.txt',header=True,index=False,sep=\"\\t\")\n",
    "\n",
    "\n"
   ]
  },
  {
   "cell_type": "code",
   "execution_count": 15,
   "metadata": {},
   "outputs": [],
   "source": [
    "to_divide_list.loc[to_divide_list.fcat.between(31,50)][['fname','fcat']].to_csv('/data/dharp/compounds/datasets/mithril_fcat.txt',header=True,index=False,sep=\"\\t\")\n",
    "\n",
    "\n"
   ]
  },
  {
   "cell_type": "code",
   "execution_count": 16,
   "metadata": {},
   "outputs": [],
   "source": [
    "to_divide_list.loc[to_divide_list.fcat.between(51,70)][['fname','fcat']].to_csv('/data/dharp/compounds/datasets/adamant_fcat.txt',header=True,index=False,sep=\"\\t\")\n",
    "\n"
   ]
  },
  {
   "cell_type": "code",
   "execution_count": 17,
   "metadata": {},
   "outputs": [],
   "source": [
    "to_divide_list.loc[to_divide_list.fcat.between(71,90)][['fname','fcat']].to_csv('/data/dharp/compounds/datasets/rivium_fcat.txt',header=True,index=False,sep=\"\\t\")\n",
    "\n"
   ]
  },
  {
   "cell_type": "code",
   "execution_count": 18,
   "metadata": {},
   "outputs": [],
   "source": [
    "to_divide_list.loc[to_divide_list.fcat.between(91,100)][['fname','fcat']].to_csv('/data/dharp/compounds/datasets/tiberium_fcat.txt',header=True,index=False,sep=\"\\t\")\n"
   ]
  }
 ],
 "metadata": {
  "kernelspec": {
   "display_name": "Python 3 (ipykernel)",
   "language": "python",
   "name": "python3"
  },
  "language_info": {
   "codemirror_mode": {
    "name": "ipython",
    "version": 3
   },
   "file_extension": ".py",
   "mimetype": "text/x-python",
   "name": "python",
   "nbconvert_exporter": "python",
   "pygments_lexer": "ipython3",
   "version": "3.9.7"
  }
 },
 "nbformat": 4,
 "nbformat_minor": 4
}
