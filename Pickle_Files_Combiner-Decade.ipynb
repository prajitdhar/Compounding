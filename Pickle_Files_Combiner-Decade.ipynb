{
 "cells": [
  {
   "cell_type": "code",
   "execution_count": 1,
   "metadata": {},
   "outputs": [],
   "source": [
    "import pandas as pd\n",
    "import random\n",
    "import glob\n",
    "import multiprocessing as mp\n",
    "from multiprocessing import Pool\n",
    "import argparse\n",
    "import numpy as np\n",
    "from itertools import repeat\n",
    "import time"
   ]
  },
  {
   "cell_type": "code",
   "execution_count": 11,
   "metadata": {},
   "outputs": [],
   "source": [
    "parser = argparse.ArgumentParser(description='Program to combine pickle data into one file for all settings')\n",
    "\n",
    "parser.add_argument('--setting', type=str,\n",
    "                    help='phr:Phrases const:Constituent')\n",
    "\n",
    "parser.add_argument('--ipath', type=str,\n",
    "                    help='directory where to load the datasets from')\n",
    "parser.add_argument('--spath', type=str,\n",
    "                    help='directory where to save output')\n",
    "\n",
    "args = parser.parse_args(\"--setting phr --ipath /datanaco/dharp/compounds/datasets/phrases_temp/ --spath /datanaco/dharp/compounds/datasets/phrases/\".split())"
   ]
  },
  {
   "cell_type": "code",
   "execution_count": 12,
   "metadata": {},
   "outputs": [],
   "source": [
    "dec_list=list(range(1800,2020,10))\n",
    "dec_list=[2010]"
   ]
  },
  {
   "cell_type": "code",
   "execution_count": 13,
   "metadata": {},
   "outputs": [],
   "source": [
    "if args.setting==\"phr\":\n",
    "    save_str='phrase'\n",
    "    \n",
    "elif args.setting==\"const\":\n",
    "    save_str='word'"
   ]
  },
  {
   "cell_type": "code",
   "execution_count": 14,
   "metadata": {},
   "outputs": [
    {
     "data": {
      "text/plain": [
       "['/datanaco/dharp/compounds/datasets/phrases/phrase_2010']"
      ]
     },
     "execution_count": 14,
     "metadata": {},
     "output_type": "execute_result"
    }
   ],
   "source": [
    "pkl_files"
   ]
  },
  {
   "cell_type": "code",
   "execution_count": 15,
   "metadata": {},
   "outputs": [
    {
     "name": "stdout",
     "output_type": "stream",
     "text": [
      "2010\n",
      "['/datanaco/dharp/compounds/datasets/phrases_temp/phr_2010_4', '/datanaco/dharp/compounds/datasets/phrases_temp/phr_2010_3', '/datanaco/dharp/compounds/datasets/phrases_temp/phr_2010_2', '/datanaco/dharp/compounds/datasets/phrases_temp/phr_2010_5', '/datanaco/dharp/compounds/datasets/phrases_temp/phr_2010_1']\n",
      "Done with phr 2010 in 1967 secs and current size is 60.66% of the original dataset\n"
     ]
    }
   ],
   "source": [
    "for dec in dec_list:\n",
    "    cur_time=time.time()\n",
    "\n",
    "    print(dec)\n",
    "    pkl_files=glob.glob(f'{args.ipath}/*{dec}*')\n",
    "    print(pkl_files)\n",
    "    \n",
    "    df_list=[]\n",
    "    for f in pkl_files:\n",
    "        df = pd.read_pickle(f)\n",
    "        df_list.append(df)\n",
    "    \n",
    "    combined_dec_df=pd.concat(df_list,ignore_index=True,sort=True)\n",
    "    orig_shape=combined_dec_df.shape[0]\n",
    "    \n",
    "    if args.setting==\"phr\":\n",
    "        df_reduced=combined_dec_df.groupby(['modifier','head','context','year'],observed=True)['count'].sum().to_frame().reset_index()\n",
    "        \n",
    "    else:\n",
    "        df_reduced=combined_dec_df.groupby(['word','context','year'],observed=True)['count'].sum().to_frame().reset_index()\n",
    "        \n",
    "        \n",
    "    print(f'Done with {args.setting} {dec} in {round(time.time()-cur_time)} secs and current size is {round(df_reduced.shape[0]/orig_shape*100,2)}% of the original dataset')\n",
    "\n",
    "    df_reduced.to_pickle(f'{args.spath}/{save_str}_{dec}')\n",
    "\n"
   ]
  }
 ],
 "metadata": {
  "kernelspec": {
   "display_name": "Python 3 (ipykernel)",
   "language": "python",
   "name": "python3"
  },
  "language_info": {
   "codemirror_mode": {
    "name": "ipython",
    "version": 3
   },
   "file_extension": ".py",
   "mimetype": "text/x-python",
   "name": "python",
   "nbconvert_exporter": "python",
   "pygments_lexer": "ipython3",
   "version": "3.9.7"
  }
 },
 "nbformat": 4,
 "nbformat_minor": 4
}
