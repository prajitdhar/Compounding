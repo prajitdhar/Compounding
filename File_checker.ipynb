{
 "cells": [
  {
   "cell_type": "code",
   "execution_count": 15,
   "id": "c8aa3e71-1c1a-4195-a034-d7aee36c65ed",
   "metadata": {},
   "outputs": [],
   "source": [
    "import glob\n",
    "import pandas as pd"
   ]
  },
  {
   "cell_type": "code",
   "execution_count": 46,
   "id": "bd7534de-b4f3-4ea6-8073-d138f53c30c2",
   "metadata": {},
   "outputs": [],
   "source": [
    "files_df=pd.DataFrame(glob.glob(\"../datasets/features/*\"))\n",
    "files_df=files_df[0].str.split('_',expand=True)"
   ]
  },
  {
   "cell_type": "code",
   "execution_count": 47,
   "id": "38953fdf-a73d-4f98-b19c-a66ab01a752f",
   "metadata": {},
   "outputs": [
    {
     "data": {
      "text/html": [
       "<div>\n",
       "<style scoped>\n",
       "    .dataframe tbody tr th:only-of-type {\n",
       "        vertical-align: middle;\n",
       "    }\n",
       "\n",
       "    .dataframe tbody tr th {\n",
       "        vertical-align: top;\n",
       "    }\n",
       "\n",
       "    .dataframe thead th {\n",
       "        text-align: right;\n",
       "    }\n",
       "</style>\n",
       "<table border=\"1\" class=\"dataframe\">\n",
       "  <thead>\n",
       "    <tr style=\"text-align: right;\">\n",
       "      <th></th>\n",
       "      <th>0</th>\n",
       "      <th>1</th>\n",
       "      <th>2</th>\n",
       "      <th>3</th>\n",
       "      <th>4</th>\n",
       "      <th>5</th>\n",
       "      <th>6</th>\n",
       "      <th>7</th>\n",
       "    </tr>\n",
       "  </thead>\n",
       "  <tbody>\n",
       "    <tr>\n",
       "      <th>0</th>\n",
       "      <td>../datasets/features/features</td>\n",
       "      <td>CompoundAware</td>\n",
       "      <td>withSetting</td>\n",
       "      <td>RAW</td>\n",
       "      <td>Tagged</td>\n",
       "      <td>50</td>\n",
       "      <td>0</td>\n",
       "      <td>med.csv</td>\n",
       "    </tr>\n",
       "    <tr>\n",
       "      <th>1</th>\n",
       "      <td>../datasets/features/features</td>\n",
       "      <td>CompoundAgnostic</td>\n",
       "      <td>withSetting</td>\n",
       "      <td>PPMI</td>\n",
       "      <td>Tagged</td>\n",
       "      <td>10000</td>\n",
       "      <td>10</td>\n",
       "      <td>med.csv</td>\n",
       "    </tr>\n",
       "    <tr>\n",
       "      <th>2</th>\n",
       "      <td>../datasets/features/features</td>\n",
       "      <td>CompoundAware</td>\n",
       "      <td>withSetting</td>\n",
       "      <td>PPMI</td>\n",
       "      <td>Tagged</td>\n",
       "      <td>10000</td>\n",
       "      <td>500</td>\n",
       "      <td>na.csv</td>\n",
       "    </tr>\n",
       "    <tr>\n",
       "      <th>3</th>\n",
       "      <td>../datasets/features/features</td>\n",
       "      <td>CompoundAware</td>\n",
       "      <td>withSetting</td>\n",
       "      <td>PPMI</td>\n",
       "      <td>Tagged</td>\n",
       "      <td>100</td>\n",
       "      <td>0</td>\n",
       "      <td>na.csv</td>\n",
       "    </tr>\n",
       "    <tr>\n",
       "      <th>4</th>\n",
       "      <td>../datasets/features/features</td>\n",
       "      <td>CompoundAgnostic</td>\n",
       "      <td>withSetting</td>\n",
       "      <td>RAW</td>\n",
       "      <td>UnTagged</td>\n",
       "      <td>50</td>\n",
       "      <td>1000</td>\n",
       "      <td>na.csv</td>\n",
       "    </tr>\n",
       "    <tr>\n",
       "      <th>...</th>\n",
       "      <td>...</td>\n",
       "      <td>...</td>\n",
       "      <td>...</td>\n",
       "      <td>...</td>\n",
       "      <td>...</td>\n",
       "      <td>...</td>\n",
       "      <td>...</td>\n",
       "      <td>...</td>\n",
       "    </tr>\n",
       "    <tr>\n",
       "      <th>475</th>\n",
       "      <td>../datasets/features/features</td>\n",
       "      <td>CompoundAgnostic</td>\n",
       "      <td>withSetting</td>\n",
       "      <td>PPMI</td>\n",
       "      <td>UnTagged</td>\n",
       "      <td>10000</td>\n",
       "      <td>0</td>\n",
       "      <td>med.csv</td>\n",
       "    </tr>\n",
       "    <tr>\n",
       "      <th>476</th>\n",
       "      <td>../datasets/features/features</td>\n",
       "      <td>CompoundAware</td>\n",
       "      <td>withSetting</td>\n",
       "      <td>PPMI</td>\n",
       "      <td>UnTagged</td>\n",
       "      <td>100</td>\n",
       "      <td>500</td>\n",
       "      <td>med.csv</td>\n",
       "    </tr>\n",
       "    <tr>\n",
       "      <th>477</th>\n",
       "      <td>../datasets/features/features</td>\n",
       "      <td>CompoundAware</td>\n",
       "      <td>withSetting</td>\n",
       "      <td>PPMI</td>\n",
       "      <td>UnTagged</td>\n",
       "      <td>10</td>\n",
       "      <td>1000</td>\n",
       "      <td>med.csv</td>\n",
       "    </tr>\n",
       "    <tr>\n",
       "      <th>478</th>\n",
       "      <td>../datasets/features/features</td>\n",
       "      <td>CompoundAgnostic</td>\n",
       "      <td>withSetting</td>\n",
       "      <td>RAW</td>\n",
       "      <td>UnTagged</td>\n",
       "      <td>100</td>\n",
       "      <td>50</td>\n",
       "      <td>na.csv</td>\n",
       "    </tr>\n",
       "    <tr>\n",
       "      <th>479</th>\n",
       "      <td>../datasets/features/features</td>\n",
       "      <td>CompoundAgnostic</td>\n",
       "      <td>withSetting</td>\n",
       "      <td>PPMI</td>\n",
       "      <td>Tagged</td>\n",
       "      <td>50</td>\n",
       "      <td>50</td>\n",
       "      <td>na.csv</td>\n",
       "    </tr>\n",
       "  </tbody>\n",
       "</table>\n",
       "<p>480 rows × 8 columns</p>\n",
       "</div>"
      ],
      "text/plain": [
       "                                 0                 1            2     3  \\\n",
       "0    ../datasets/features/features     CompoundAware  withSetting   RAW   \n",
       "1    ../datasets/features/features  CompoundAgnostic  withSetting  PPMI   \n",
       "2    ../datasets/features/features     CompoundAware  withSetting  PPMI   \n",
       "3    ../datasets/features/features     CompoundAware  withSetting  PPMI   \n",
       "4    ../datasets/features/features  CompoundAgnostic  withSetting   RAW   \n",
       "..                             ...               ...          ...   ...   \n",
       "475  ../datasets/features/features  CompoundAgnostic  withSetting  PPMI   \n",
       "476  ../datasets/features/features     CompoundAware  withSetting  PPMI   \n",
       "477  ../datasets/features/features     CompoundAware  withSetting  PPMI   \n",
       "478  ../datasets/features/features  CompoundAgnostic  withSetting   RAW   \n",
       "479  ../datasets/features/features  CompoundAgnostic  withSetting  PPMI   \n",
       "\n",
       "            4      5     6        7  \n",
       "0      Tagged     50     0  med.csv  \n",
       "1      Tagged  10000    10  med.csv  \n",
       "2      Tagged  10000   500   na.csv  \n",
       "3      Tagged    100     0   na.csv  \n",
       "4    UnTagged     50  1000   na.csv  \n",
       "..        ...    ...   ...      ...  \n",
       "475  UnTagged  10000     0  med.csv  \n",
       "476  UnTagged    100   500  med.csv  \n",
       "477  UnTagged     10  1000  med.csv  \n",
       "478  UnTagged    100    50   na.csv  \n",
       "479    Tagged     50    50   na.csv  \n",
       "\n",
       "[480 rows x 8 columns]"
      ]
     },
     "execution_count": 47,
     "metadata": {},
     "output_type": "execute_result"
    }
   ],
   "source": [
    "files_df"
   ]
  },
  {
   "cell_type": "code",
   "execution_count": 48,
   "id": "a4491bdb-8883-4d9e-98ac-ec66f9f5fdc5",
   "metadata": {},
   "outputs": [
    {
     "data": {
      "text/plain": [
       "3   \n",
       "PPMI    240\n",
       "RAW     240\n",
       "Name: count, dtype: int64"
      ]
     },
     "execution_count": 48,
     "metadata": {},
     "output_type": "execute_result"
    }
   ],
   "source": [
    "files_df[[3]].value_counts()"
   ]
  },
  {
   "cell_type": "code",
   "execution_count": 49,
   "id": "90b66c77-f231-4011-85c6-c8b9dfd8e716",
   "metadata": {},
   "outputs": [
    {
     "data": {
      "text/plain": [
       "5      6   \n",
       "10     0       8\n",
       "       10      8\n",
       "       100     8\n",
       "       1000    8\n",
       "       50      8\n",
       "       500     8\n",
       "100    0       8\n",
       "       10      8\n",
       "       100     8\n",
       "       1000    8\n",
       "       50      8\n",
       "       500     8\n",
       "10000  0       8\n",
       "       10      8\n",
       "       100     8\n",
       "       1000    8\n",
       "       50      8\n",
       "       500     8\n",
       "20     0       8\n",
       "       10      8\n",
       "       100     8\n",
       "       1000    8\n",
       "       50      8\n",
       "       500     8\n",
       "50     0       8\n",
       "       10      8\n",
       "       100     8\n",
       "       1000    8\n",
       "       50      8\n",
       "       500     8\n",
       "dtype: int64"
      ]
     },
     "execution_count": 49,
     "metadata": {},
     "output_type": "execute_result"
    }
   ],
   "source": [
    "files_df.loc[files_df[3]==\"RAW\"].groupby([5,6]).size()"
   ]
  },
  {
   "cell_type": "markdown",
   "id": "67c74030-8fdb-43f3-ac29-3e98eabd3864",
   "metadata": {},
   "source": [
    "ppmi, 100,         *0*,\n",
    "        20,        \n",
    "        50,        \n",
    "    "
   ]
  },
  {
   "cell_type": "code",
   "execution_count": 14,
   "id": "c322c942-2d7c-4b86-89d7-928a1a5c1bb4",
   "metadata": {},
   "outputs": [
    {
     "data": {
      "text/plain": [
       "1                 2            3     4       \n",
       "CompoundAgnostic  withSetting  PPMI  Tagged      60\n",
       "                                     UnTagged    60\n",
       "                               RAW   Tagged      48\n",
       "                                     UnTagged    60\n",
       "CompoundAware     withSetting  PPMI  Tagged      60\n",
       "                                     UnTagged    60\n",
       "                               RAW   Tagged      48\n",
       "                                     UnTagged    60\n",
       "dtype: int64"
      ]
     },
     "execution_count": 14,
     "metadata": {},
     "output_type": "execute_result"
    }
   ],
   "source": [
    "files_df.groupby([1,2,3,4]).size()"
   ]
  },
  {
   "cell_type": "code",
   "execution_count": null,
   "id": "be71cc76-a28d-452f-b595-8e3932ed3bee",
   "metadata": {},
   "outputs": [],
   "source": [
    "PPMI,20, 0, "
   ]
  }
 ],
 "metadata": {
  "kernelspec": {
   "display_name": "Python 3 (ipykernel)",
   "language": "python",
   "name": "python3"
  },
  "language_info": {
   "codemirror_mode": {
    "name": "ipython",
    "version": 3
   },
   "file_extension": ".py",
   "mimetype": "text/x-python",
   "name": "python",
   "nbconvert_exporter": "python",
   "pygments_lexer": "ipython3",
   "version": "3.9.17"
  }
 },
 "nbformat": 4,
 "nbformat_minor": 5
}
