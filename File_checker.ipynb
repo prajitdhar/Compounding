{
 "cells": [
  {
   "cell_type": "code",
   "execution_count": 11,
   "id": "c8aa3e71-1c1a-4195-a034-d7aee36c65ed",
   "metadata": {},
   "outputs": [],
   "source": [
    "import glob\n",
    "import pandas as pd"
   ]
  },
  {
   "cell_type": "code",
   "execution_count": 12,
   "id": "bd7534de-b4f3-4ea6-8073-d138f53c30c2",
   "metadata": {},
   "outputs": [
    {
     "data": {
      "text/plain": [
       "5    \n",
       "10       192\n",
       "100      192\n",
       "10000    192\n",
       "20       192\n",
       "50       192\n",
       "Name: count, dtype: int64"
      ]
     },
     "execution_count": 12,
     "metadata": {},
     "output_type": "execute_result"
    }
   ],
   "source": [
    "files_df=pd.DataFrame(glob.glob(\"/data/dharp/compounds/datasets/features/*\"))\n",
    "files_df=files_df[0].str.split('_',expand=True)\n",
    "files_df[[5]].value_counts()"
   ]
  },
  {
   "cell_type": "code",
   "execution_count": 13,
   "id": "a4491bdb-8883-4d9e-98ac-ec66f9f5fdc5",
   "metadata": {},
   "outputs": [
    {
     "data": {
      "text/plain": [
       "6   \n",
       "0       160\n",
       "10      160\n",
       "100     160\n",
       "1000    160\n",
       "50      160\n",
       "500     160\n",
       "Name: count, dtype: int64"
      ]
     },
     "execution_count": 13,
     "metadata": {},
     "output_type": "execute_result"
    }
   ],
   "source": [
    "files_df[[6]].value_counts()"
   ]
  },
  {
   "cell_type": "code",
   "execution_count": 14,
   "id": "90b66c77-f231-4011-85c6-c8b9dfd8e716",
   "metadata": {},
   "outputs": [
    {
     "data": {
      "text/plain": [
       "4       \n",
       "Tagged      480\n",
       "UnTagged    480\n",
       "Name: count, dtype: int64"
      ]
     },
     "execution_count": 14,
     "metadata": {},
     "output_type": "execute_result"
    }
   ],
   "source": [
    "files_df[[4]].value_counts()"
   ]
  },
  {
   "cell_type": "markdown",
   "id": "67c74030-8fdb-43f3-ac29-3e98eabd3864",
   "metadata": {},
   "source": [
    "ppmi, 100,         *0*,\n",
    "        20,        \n",
    "        50,        \n",
    "    "
   ]
  },
  {
   "cell_type": "code",
   "execution_count": 6,
   "id": "c322c942-2d7c-4b86-89d7-928a1a5c1bb4",
   "metadata": {},
   "outputs": [
    {
     "data": {
      "text/plain": [
       "4         3   \n",
       "Tagged    PPMI    232\n",
       "          RAW     232\n",
       "UnTagged  PPMI    240\n",
       "          RAW     240\n",
       "dtype: int64"
      ]
     },
     "execution_count": 6,
     "metadata": {},
     "output_type": "execute_result"
    }
   ],
   "source": [
    "files_df.groupby([4,3]).size()"
   ]
  },
  {
   "cell_type": "code",
   "execution_count": null,
   "id": "be71cc76-a28d-452f-b595-8e3932ed3bee",
   "metadata": {},
   "outputs": [],
   "source": []
  }
 ],
 "metadata": {
  "kernelspec": {
   "display_name": "Python 3 (ipykernel)",
   "language": "python",
   "name": "python3"
  },
  "language_info": {
   "codemirror_mode": {
    "name": "ipython",
    "version": 3
   },
   "file_extension": ".py",
   "mimetype": "text/x-python",
   "name": "python",
   "nbconvert_exporter": "python",
   "pygments_lexer": "ipython3",
   "version": "3.9.17"
  }
 },
 "nbformat": 4,
 "nbformat_minor": 5
}
