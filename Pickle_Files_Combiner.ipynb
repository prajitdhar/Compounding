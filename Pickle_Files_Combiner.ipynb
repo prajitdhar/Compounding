{
 "cells": [
  {
   "cell_type": "code",
   "execution_count": 1,
   "metadata": {},
   "outputs": [],
   "source": [
    "import pandas as pd\n",
    "import glob\n",
    "import os\n",
    "import numpy as np\n",
    "import pickle as pkl\n",
    "import time\n",
    "from fastparquet import write\n",
    "import fastparquet\n",
    "import multiprocessing as mp\n",
    "import snappy\n",
    "import argparse\n",
    "import multiprocessing as mp\n",
    "from multiprocessing import Pool"
   ]
  },
  {
   "cell_type": "code",
   "execution_count": 2,
   "metadata": {},
   "outputs": [],
   "source": [
    "parser = argparse.ArgumentParser(description='Program to combine pickle data into parquet files for version 3')\n",
    "\n",
    "\n",
    "parser.add_argument('--spath', type=str,\n",
    "                    help='directory where to save output')\n",
    "parser.add_argument('--dec', type=str,\n",
    "                    help='Which decade to be processed?')\n",
    "\n",
    "args = parser.parse_args('--spath /datanaco/dharp/compounds/datasets/googleV3/ --dec 2010'.split())\n"
   ]
  },
  {
   "cell_type": "code",
   "execution_count": 3,
   "metadata": {},
   "outputs": [],
   "source": [
    "save_path=args.spath"
   ]
  },
  {
   "cell_type": "code",
   "execution_count": 4,
   "metadata": {},
   "outputs": [
    {
     "data": {
      "text/plain": [
       "10333"
      ]
     },
     "execution_count": 4,
     "metadata": {},
     "output_type": "execute_result"
    }
   ],
   "source": [
    "pkl_files=glob.glob(f'{args.spath}/{args.dec}/*pkl')\n",
    "len(pkl_files)"
   ]
  },
  {
   "cell_type": "code",
   "execution_count": 5,
   "metadata": {},
   "outputs": [],
   "source": [
    "def df_list_processor(df_list):\n",
    "    \n",
    "    if type(df_list)==str:\n",
    "        df_list=[df_list]\n",
    "    concat_list=[]\n",
    "    for cur_file in df_list:\n",
    "        #print(row.fname)\n",
    "        cur_df=pd.read_pickle(cur_file)\n",
    "        concat_list.append(cur_df)\n",
    "    concat_df=pd.concat(concat_list,ignore_index=True,sort=True)\n",
    "    total_df_shape=concat_df.shape[0]\n",
    "    \n",
    "    new_df=concat_df.groupby(['lemma_pos','comp_class','is_comp','comp_ner_sent'])['count'].sum().to_frame().reset_index()\n",
    "    \n",
    "    new_df[\"comp_class\"] = new_df[\"comp_class\"].astype(\"category\")\n",
    "    new_df[\"comp_ner_sent\"] = new_df[\"comp_ner_sent\"].astype(\"category\")\n",
    "    \n",
    "    return new_df"
   ]
  },
  {
   "cell_type": "code",
   "execution_count": 6,
   "metadata": {},
   "outputs": [
    {
     "name": "stdout",
     "output_type": "stream",
     "text": [
      "Decade 2010\n",
      "Started parallelization\n",
      "Done parallelization\n"
     ]
    }
   ],
   "source": [
    "print(f'Decade {args.dec}')\n",
    "\n",
    "num_partitions=round(0.95*mp.cpu_count())\n",
    "cur_time=time.time()\n",
    "pool = Pool(num_partitions)\n",
    "print('Started parallelization')\n",
    "results=pool.map_async(df_list_processor,pkl_files,chunksize=len(pkl_files)//num_partitions)\n",
    "pool.close()\n",
    "pool.join()\n",
    "    \n",
    "print('Done parallelization')\n",
    "\n",
    "curr_df_list=results.get()\n",
    "new_index_df=pd.concat(curr_df_list,ignore_index=True)\n",
    "old_shape=new_index_df.shape[0]\n",
    "\n",
    "#new_index_df=new_index_df.groupby(['lemma_pos','comp_class','is_comp','comp_ner_sent'],observed=True)['count'].sum().to_frame().reset_index()\n",
    "\n",
    "#print(f'{new_index_df.shape[0]/old_shape}')"
   ]
  },
  {
   "cell_type": "code",
   "execution_count": 8,
   "metadata": {
    "tags": []
   },
   "outputs": [],
   "source": [
    "new_index_df.to_parquet(path=f'{save_path}/{args.dec}.parq', engine='fastparquet',compression='snappy',row_group_offsets=50_000_000)\n"
   ]
  },
  {
   "cell_type": "code",
   "execution_count": 7,
   "metadata": {},
   "outputs": [
    {
     "ename": "NameError",
     "evalue": "name 'new_index_df_2' is not defined",
     "output_type": "error",
     "traceback": [
      "\u001b[0;31m---------------------------------------------------------------------------\u001b[0m",
      "\u001b[0;31mNameError\u001b[0m                                 Traceback (most recent call last)",
      "Cell \u001b[0;32mIn[7], line 1\u001b[0m\n\u001b[0;32m----> 1\u001b[0m \u001b[38;5;28mprint\u001b[39m(\u001b[38;5;124mf\u001b[39m\u001b[38;5;124m'\u001b[39m\u001b[38;5;132;01m{\u001b[39;00mnew_index_df_2\u001b[38;5;241m.\u001b[39mshape[\u001b[38;5;241m0\u001b[39m]\u001b[38;5;241m/\u001b[39mold_shape\u001b[38;5;132;01m}\u001b[39;00m\u001b[38;5;124m'\u001b[39m)\n",
      "\u001b[0;31mNameError\u001b[0m: name 'new_index_df_2' is not defined"
     ]
    }
   ],
   "source": [
    "print(f'{new_index_df_2.shape[0]/old_shape}')\n"
   ]
  },
  {
   "cell_type": "raw",
   "metadata": {},
   "source": [
    "Started parallelization\n",
    "0.9391927482396691\n",
    "Total time taken 1126 secs"
   ]
  },
  {
   "cell_type": "markdown",
   "metadata": {},
   "source": [
    "\n",
    "new_index_df_2=new_index_df.groupby(['lemma_pos','comp_class','is_comp','comp_ner_sent'])['count'].progress_apply(sum).to_frame().reset_index()\n"
   ]
  },
  {
   "cell_type": "code",
   "execution_count": 10,
   "metadata": {},
   "outputs": [
    {
     "data": {
      "application/vnd.jupyter.widget-view+json": {
       "model_id": "abb9b085c071466885f1b5836dbb901e",
       "version_major": 2,
       "version_minor": 0
      },
      "text/plain": [
       "  0%|          | 0/999742 [00:00<?, ?it/s]"
      ]
     },
     "metadata": {},
     "output_type": "display_data"
    },
    {
     "data": {
      "text/html": [
       "<div>\n",
       "<style scoped>\n",
       "    .dataframe tbody tr th:only-of-type {\n",
       "        vertical-align: middle;\n",
       "    }\n",
       "\n",
       "    .dataframe tbody tr th {\n",
       "        vertical-align: top;\n",
       "    }\n",
       "\n",
       "    .dataframe thead th {\n",
       "        text-align: right;\n",
       "    }\n",
       "</style>\n",
       "<table border=\"1\" class=\"dataframe\">\n",
       "  <thead>\n",
       "    <tr style=\"text-align: right;\">\n",
       "      <th></th>\n",
       "      <th>lemma_pos</th>\n",
       "      <th>comp_class</th>\n",
       "      <th>is_comp</th>\n",
       "      <th>comp_ner_sent</th>\n",
       "      <th>count</th>\n",
       "    </tr>\n",
       "  </thead>\n",
       "  <tbody>\n",
       "    <tr>\n",
       "      <th>0</th>\n",
       "      <td>'_AUX m_AUX acquaint_VERB with_ADP ._PUNCT</td>\n",
       "      <td>0</td>\n",
       "      <td>False</td>\n",
       "      <td></td>\n",
       "      <td>1</td>\n",
       "    </tr>\n",
       "    <tr>\n",
       "      <th>1</th>\n",
       "      <td>'_AUX m_AUX afeard_ADJ ._PUNCT \"_PUNCT</td>\n",
       "      <td>0</td>\n",
       "      <td>False</td>\n",
       "      <td></td>\n",
       "      <td>1</td>\n",
       "    </tr>\n",
       "    <tr>\n",
       "      <th>2</th>\n",
       "      <td>'_AUX m_AUX agree_VERB ._PUNCT \"_PUNCT</td>\n",
       "      <td>0</td>\n",
       "      <td>False</td>\n",
       "      <td></td>\n",
       "      <td>1</td>\n",
       "    </tr>\n",
       "    <tr>\n",
       "      <th>3</th>\n",
       "      <td>'_AUX m_AUX always_ADV fight_VERB ._PUNCT</td>\n",
       "      <td>0</td>\n",
       "      <td>False</td>\n",
       "      <td></td>\n",
       "      <td>2</td>\n",
       "    </tr>\n",
       "    <tr>\n",
       "      <th>4</th>\n",
       "      <td>'_AUX m_AUX badly_ADV wound_VERB ._PUNCT</td>\n",
       "      <td>0</td>\n",
       "      <td>False</td>\n",
       "      <td></td>\n",
       "      <td>1</td>\n",
       "    </tr>\n",
       "    <tr>\n",
       "      <th>...</th>\n",
       "      <td>...</td>\n",
       "      <td>...</td>\n",
       "      <td>...</td>\n",
       "      <td>...</td>\n",
       "      <td>...</td>\n",
       "    </tr>\n",
       "    <tr>\n",
       "      <th>999737</th>\n",
       "      <td>word_VERB his_PRON tremble_VERB troop_NOUN bes...</td>\n",
       "      <td>0</td>\n",
       "      <td>False</td>\n",
       "      <td></td>\n",
       "      <td>9</td>\n",
       "    </tr>\n",
       "    <tr>\n",
       "      <th>999738</th>\n",
       "      <td>word_VERB his_PRON way_NOUN ._PUNCT eos_X</td>\n",
       "      <td>0</td>\n",
       "      <td>False</td>\n",
       "      <td></td>\n",
       "      <td>2</td>\n",
       "    </tr>\n",
       "    <tr>\n",
       "      <th>999739</th>\n",
       "      <td>word_VERB his_PRON will_AUX ,_PUNCT from_ADP</td>\n",
       "      <td>0</td>\n",
       "      <td>False</td>\n",
       "      <td></td>\n",
       "      <td>4</td>\n",
       "    </tr>\n",
       "    <tr>\n",
       "      <th>999740</th>\n",
       "      <td>word_VERB his_PRON woe_NOUN betray_VERB ,_PUNCT</td>\n",
       "      <td>0</td>\n",
       "      <td>False</td>\n",
       "      <td></td>\n",
       "      <td>1</td>\n",
       "    </tr>\n",
       "    <tr>\n",
       "      <th>999741</th>\n",
       "      <td>word_VERB liberty_NOUN and_CCONJ property_NOUN...</td>\n",
       "      <td>0</td>\n",
       "      <td>True</td>\n",
       "      <td></td>\n",
       "      <td>17</td>\n",
       "    </tr>\n",
       "  </tbody>\n",
       "</table>\n",
       "<p>999742 rows × 5 columns</p>\n",
       "</div>"
      ],
      "text/plain": [
       "                                                lemma_pos  comp_class  \\\n",
       "0              '_AUX m_AUX acquaint_VERB with_ADP ._PUNCT           0   \n",
       "1                  '_AUX m_AUX afeard_ADJ ._PUNCT \"_PUNCT           0   \n",
       "2                  '_AUX m_AUX agree_VERB ._PUNCT \"_PUNCT           0   \n",
       "3               '_AUX m_AUX always_ADV fight_VERB ._PUNCT           0   \n",
       "4                '_AUX m_AUX badly_ADV wound_VERB ._PUNCT           0   \n",
       "...                                                   ...         ...   \n",
       "999737  word_VERB his_PRON tremble_VERB troop_NOUN bes...           0   \n",
       "999738          word_VERB his_PRON way_NOUN ._PUNCT eos_X           0   \n",
       "999739       word_VERB his_PRON will_AUX ,_PUNCT from_ADP           0   \n",
       "999740    word_VERB his_PRON woe_NOUN betray_VERB ,_PUNCT           0   \n",
       "999741  word_VERB liberty_NOUN and_CCONJ property_NOUN...           0   \n",
       "\n",
       "        is_comp comp_ner_sent  count  \n",
       "0         False                    1  \n",
       "1         False                    1  \n",
       "2         False                    1  \n",
       "3         False                    2  \n",
       "4         False                    1  \n",
       "...         ...           ...    ...  \n",
       "999737    False                    9  \n",
       "999738    False                    2  \n",
       "999739    False                    4  \n",
       "999740    False                    1  \n",
       "999741     True                   17  \n",
       "\n",
       "[999742 rows x 5 columns]"
      ]
     },
     "execution_count": 10,
     "metadata": {},
     "output_type": "execute_result"
    }
   ],
   "source": [
    "new_index_df.head(1_000_000).groupby(['lemma_pos','comp_class','is_comp','comp_ner_sent'],observed=True)['count'].progress_apply(sum).to_frame().reset_index()\n"
   ]
  },
  {
   "cell_type": "code",
   "execution_count": 11,
   "metadata": {},
   "outputs": [
    {
     "data": {
      "text/html": [
       "<div>\n",
       "<style scoped>\n",
       "    .dataframe tbody tr th:only-of-type {\n",
       "        vertical-align: middle;\n",
       "    }\n",
       "\n",
       "    .dataframe tbody tr th {\n",
       "        vertical-align: top;\n",
       "    }\n",
       "\n",
       "    .dataframe thead th {\n",
       "        text-align: right;\n",
       "    }\n",
       "</style>\n",
       "<table border=\"1\" class=\"dataframe\">\n",
       "  <thead>\n",
       "    <tr style=\"text-align: right;\">\n",
       "      <th></th>\n",
       "      <th>lemma_pos</th>\n",
       "      <th>comp_class</th>\n",
       "      <th>is_comp</th>\n",
       "      <th>comp_ner_sent</th>\n",
       "      <th>count</th>\n",
       "    </tr>\n",
       "  </thead>\n",
       "  <tbody>\n",
       "    <tr>\n",
       "      <th>0</th>\n",
       "      <td>'_AUX m_AUX acquaint_VERB with_ADP ._PUNCT</td>\n",
       "      <td>0</td>\n",
       "      <td>False</td>\n",
       "      <td></td>\n",
       "      <td>1</td>\n",
       "    </tr>\n",
       "    <tr>\n",
       "      <th>1</th>\n",
       "      <td>'_AUX m_AUX afeard_ADJ ._PUNCT \"_PUNCT</td>\n",
       "      <td>0</td>\n",
       "      <td>False</td>\n",
       "      <td></td>\n",
       "      <td>1</td>\n",
       "    </tr>\n",
       "    <tr>\n",
       "      <th>2</th>\n",
       "      <td>'_AUX m_AUX agree_VERB ._PUNCT \"_PUNCT</td>\n",
       "      <td>0</td>\n",
       "      <td>False</td>\n",
       "      <td></td>\n",
       "      <td>1</td>\n",
       "    </tr>\n",
       "    <tr>\n",
       "      <th>3</th>\n",
       "      <td>'_AUX m_AUX always_ADV fight_VERB ._PUNCT</td>\n",
       "      <td>0</td>\n",
       "      <td>False</td>\n",
       "      <td></td>\n",
       "      <td>2</td>\n",
       "    </tr>\n",
       "    <tr>\n",
       "      <th>4</th>\n",
       "      <td>'_AUX m_AUX badly_ADV wound_VERB ._PUNCT</td>\n",
       "      <td>0</td>\n",
       "      <td>False</td>\n",
       "      <td></td>\n",
       "      <td>1</td>\n",
       "    </tr>\n",
       "    <tr>\n",
       "      <th>...</th>\n",
       "      <td>...</td>\n",
       "      <td>...</td>\n",
       "      <td>...</td>\n",
       "      <td>...</td>\n",
       "      <td>...</td>\n",
       "    </tr>\n",
       "    <tr>\n",
       "      <th>999737</th>\n",
       "      <td>word_VERB his_PRON tremble_VERB troop_NOUN bes...</td>\n",
       "      <td>0</td>\n",
       "      <td>False</td>\n",
       "      <td></td>\n",
       "      <td>9</td>\n",
       "    </tr>\n",
       "    <tr>\n",
       "      <th>999738</th>\n",
       "      <td>word_VERB his_PRON way_NOUN ._PUNCT eos_X</td>\n",
       "      <td>0</td>\n",
       "      <td>False</td>\n",
       "      <td></td>\n",
       "      <td>2</td>\n",
       "    </tr>\n",
       "    <tr>\n",
       "      <th>999739</th>\n",
       "      <td>word_VERB his_PRON will_AUX ,_PUNCT from_ADP</td>\n",
       "      <td>0</td>\n",
       "      <td>False</td>\n",
       "      <td></td>\n",
       "      <td>4</td>\n",
       "    </tr>\n",
       "    <tr>\n",
       "      <th>999740</th>\n",
       "      <td>word_VERB his_PRON woe_NOUN betray_VERB ,_PUNCT</td>\n",
       "      <td>0</td>\n",
       "      <td>False</td>\n",
       "      <td></td>\n",
       "      <td>1</td>\n",
       "    </tr>\n",
       "    <tr>\n",
       "      <th>999741</th>\n",
       "      <td>word_VERB liberty_NOUN and_CCONJ property_NOUN...</td>\n",
       "      <td>0</td>\n",
       "      <td>True</td>\n",
       "      <td></td>\n",
       "      <td>17</td>\n",
       "    </tr>\n",
       "  </tbody>\n",
       "</table>\n",
       "<p>999742 rows × 5 columns</p>\n",
       "</div>"
      ],
      "text/plain": [
       "                                                lemma_pos  comp_class  \\\n",
       "0              '_AUX m_AUX acquaint_VERB with_ADP ._PUNCT           0   \n",
       "1                  '_AUX m_AUX afeard_ADJ ._PUNCT \"_PUNCT           0   \n",
       "2                  '_AUX m_AUX agree_VERB ._PUNCT \"_PUNCT           0   \n",
       "3               '_AUX m_AUX always_ADV fight_VERB ._PUNCT           0   \n",
       "4                '_AUX m_AUX badly_ADV wound_VERB ._PUNCT           0   \n",
       "...                                                   ...         ...   \n",
       "999737  word_VERB his_PRON tremble_VERB troop_NOUN bes...           0   \n",
       "999738          word_VERB his_PRON way_NOUN ._PUNCT eos_X           0   \n",
       "999739       word_VERB his_PRON will_AUX ,_PUNCT from_ADP           0   \n",
       "999740    word_VERB his_PRON woe_NOUN betray_VERB ,_PUNCT           0   \n",
       "999741  word_VERB liberty_NOUN and_CCONJ property_NOUN...           0   \n",
       "\n",
       "        is_comp comp_ner_sent  count  \n",
       "0         False                    1  \n",
       "1         False                    1  \n",
       "2         False                    1  \n",
       "3         False                    2  \n",
       "4         False                    1  \n",
       "...         ...           ...    ...  \n",
       "999737    False                    9  \n",
       "999738    False                    2  \n",
       "999739    False                    4  \n",
       "999740    False                    1  \n",
       "999741     True                   17  \n",
       "\n",
       "[999742 rows x 5 columns]"
      ]
     },
     "execution_count": 11,
     "metadata": {},
     "output_type": "execute_result"
    }
   ],
   "source": [
    "new_index_df.head(1_000_000).groupby(['lemma_pos','comp_class','is_comp','comp_ner_sent'],observed=True)['count'].sum().to_frame().reset_index()\n"
   ]
  }
 ],
 "metadata": {
  "kernelspec": {
   "display_name": "Python 3 (ipykernel)",
   "language": "python",
   "name": "python3"
  },
  "language_info": {
   "codemirror_mode": {
    "name": "ipython",
    "version": 3
   },
   "file_extension": ".py",
   "mimetype": "text/x-python",
   "name": "python",
   "nbconvert_exporter": "python",
   "pygments_lexer": "ipython3",
   "version": "3.9.16"
  }
 },
 "nbformat": 4,
 "nbformat_minor": 4
}
