{
 "cells": [
  {
   "cell_type": "code",
   "execution_count": 1,
   "metadata": {},
   "outputs": [],
   "source": [
    "import pandas as pd\n",
    "import glob\n",
    "import os\n",
    "import numpy as np\n",
    "import pickle as pkl\n",
    "import time\n",
    "import dask.dataframe as dd\n",
    "from fastparquet import write\n",
    "import fastparquet\n",
    "import multiprocessing as mp\n",
    "import snappy\n",
    "import argparse"
   ]
  },
  {
   "cell_type": "code",
   "execution_count": 2,
   "metadata": {},
   "outputs": [],
   "source": [
    "parser = argparse.ArgumentParser(description='Program to combine pickle data into parquet files for version 3')\n",
    "\n",
    "parser.add_argument('--server', type=str,\n",
    "                    help='which server to be used')\n",
    "parser.add_argument('--spath', type=str,\n",
    "                    help='directory where to save output')\n",
    "\n",
    "args = parser.parse_args('--server drogium --spath /data/dharp/compounds/datasets/V3/'.split())\n",
    "\n",
    "pkl_df=pd.read_csv(f'/data/dharp/compounds/datasets/{args.server}_fcat.txt',sep=\"\\t\")\n",
    "\n"
   ]
  },
  {
   "cell_type": "code",
   "execution_count": 3,
   "metadata": {},
   "outputs": [],
   "source": [
    "save_path=args.spath"
   ]
  },
  {
   "cell_type": "code",
   "execution_count": 5,
   "metadata": {},
   "outputs": [
    {
     "data": {
      "text/html": [
       "<div>\n",
       "<style scoped>\n",
       "    .dataframe tbody tr th:only-of-type {\n",
       "        vertical-align: middle;\n",
       "    }\n",
       "\n",
       "    .dataframe tbody tr th {\n",
       "        vertical-align: top;\n",
       "    }\n",
       "\n",
       "    .dataframe thead th {\n",
       "        text-align: right;\n",
       "    }\n",
       "</style>\n",
       "<table border=\"1\" class=\"dataframe\">\n",
       "  <thead>\n",
       "    <tr style=\"text-align: right;\">\n",
       "      <th></th>\n",
       "      <th>fname</th>\n",
       "      <th>fcat</th>\n",
       "    </tr>\n",
       "  </thead>\n",
       "  <tbody>\n",
       "    <tr>\n",
       "      <th>1796</th>\n",
       "      <td>/datanaco/dharp/compounds/datasets/googleV3/16...</td>\n",
       "      <td>90</td>\n",
       "    </tr>\n",
       "    <tr>\n",
       "      <th>1797</th>\n",
       "      <td>/datanaco/dharp/compounds/datasets/googleV3/24...</td>\n",
       "      <td>90</td>\n",
       "    </tr>\n",
       "    <tr>\n",
       "      <th>1798</th>\n",
       "      <td>/datanaco/dharp/compounds/datasets/googleV3/16...</td>\n",
       "      <td>90</td>\n",
       "    </tr>\n",
       "    <tr>\n",
       "      <th>1799</th>\n",
       "      <td>/datanaco/dharp/compounds/datasets/googleV3/16...</td>\n",
       "      <td>90</td>\n",
       "    </tr>\n",
       "    <tr>\n",
       "      <th>1800</th>\n",
       "      <td>/datanaco/dharp/compounds/datasets/googleV3/13...</td>\n",
       "      <td>90</td>\n",
       "    </tr>\n",
       "    <tr>\n",
       "      <th>...</th>\n",
       "      <td>...</td>\n",
       "      <td>...</td>\n",
       "    </tr>\n",
       "    <tr>\n",
       "      <th>1969</th>\n",
       "      <td>/datanaco/dharp/compounds/datasets/googleV3/26...</td>\n",
       "      <td>90</td>\n",
       "    </tr>\n",
       "    <tr>\n",
       "      <th>1970</th>\n",
       "      <td>/datanaco/dharp/compounds/datasets/googleV3/17...</td>\n",
       "      <td>90</td>\n",
       "    </tr>\n",
       "    <tr>\n",
       "      <th>1971</th>\n",
       "      <td>/datanaco/dharp/compounds/datasets/googleV3/17...</td>\n",
       "      <td>90</td>\n",
       "    </tr>\n",
       "    <tr>\n",
       "      <th>1972</th>\n",
       "      <td>/datanaco/dharp/compounds/datasets/googleV3/18...</td>\n",
       "      <td>90</td>\n",
       "    </tr>\n",
       "    <tr>\n",
       "      <th>1973</th>\n",
       "      <td>/datanaco/dharp/compounds/datasets/googleV3/13...</td>\n",
       "      <td>90</td>\n",
       "    </tr>\n",
       "  </tbody>\n",
       "</table>\n",
       "<p>178 rows × 2 columns</p>\n",
       "</div>"
      ],
      "text/plain": [
       "                                                  fname  fcat\n",
       "1796  /datanaco/dharp/compounds/datasets/googleV3/16...    90\n",
       "1797  /datanaco/dharp/compounds/datasets/googleV3/24...    90\n",
       "1798  /datanaco/dharp/compounds/datasets/googleV3/16...    90\n",
       "1799  /datanaco/dharp/compounds/datasets/googleV3/16...    90\n",
       "1800  /datanaco/dharp/compounds/datasets/googleV3/13...    90\n",
       "...                                                 ...   ...\n",
       "1969  /datanaco/dharp/compounds/datasets/googleV3/26...    90\n",
       "1970  /datanaco/dharp/compounds/datasets/googleV3/17...    90\n",
       "1971  /datanaco/dharp/compounds/datasets/googleV3/17...    90\n",
       "1972  /datanaco/dharp/compounds/datasets/googleV3/18...    90\n",
       "1973  /datanaco/dharp/compounds/datasets/googleV3/13...    90\n",
       "\n",
       "[178 rows x 2 columns]"
      ]
     },
     "execution_count": 5,
     "metadata": {},
     "output_type": "execute_result"
    }
   ],
   "source": [
    "cur_df=pkl_df.loc[pkl_df.fcat==90].copy()\n",
    "cur_df"
   ]
  },
  {
   "cell_type": "code",
   "execution_count": 6,
   "metadata": {},
   "outputs": [
    {
     "name": "stdout",
     "output_type": "stream",
     "text": [
      "90\n",
      "178\n",
      "1104296345\n",
      "Done concatenating\n"
     ]
    }
   ],
   "source": [
    "    num_partitions=round(0.95*mp.cpu_count())\n",
    "    print(cur_df.iloc[0].fcat)\n",
    "    #cur_time=time.time()\n",
    "    df_list=[]\n",
    "    print(cur_df.shape[0])\n",
    "    for row in cur_df.itertuples():\n",
    "        #print(row.fname)\n",
    "        cur_df=pd.read_pickle(row.fname)\n",
    "        #cur_df.reset_index(inplace=True)\n",
    "        df_list.append(cur_df)\n",
    "    concat_df=pd.concat(df_list,ignore_index=True,sort=False)\n",
    "    print(concat_df.shape[0])\n",
    "    total_df_shape=concat_df.shape[0]\n",
    "    print('Done concatenating')"
   ]
  },
  {
   "cell_type": "code",
   "execution_count": 7,
   "metadata": {},
   "outputs": [
    {
     "name": "stdout",
     "output_type": "stream",
     "text": [
      "<class 'pandas.core.frame.DataFrame'>\n",
      "RangeIndex: 1104296345 entries, 0 to 1104296344\n",
      "Data columns (total 6 columns):\n",
      " #   Column         Dtype   \n",
      "---  ------         -----   \n",
      " 0   lemma_pos      category\n",
      " 1   year           int64   \n",
      " 2   comp_class     category\n",
      " 3   num_comp       bool    \n",
      " 4   comp_ner_sent  category\n",
      " 5   count          int64   \n",
      "dtypes: bool(1), category(3), int64(2)\n",
      "memory usage: 25.9 GB\n"
     ]
    }
   ],
   "source": []
  },
  {
   "cell_type": "code",
   "execution_count": 13,
   "metadata": {},
   "outputs": [],
   "source": [
    "ddf = dd.from_pandas(concat_df, npartitions=100)"
   ]
  },
  {
   "cell_type": "code",
   "execution_count": 14,
   "metadata": {},
   "outputs": [],
   "source": []
  },
  {
   "cell_type": "code",
   "execution_count": 16,
   "metadata": {},
   "outputs": [
    {
     "ename": "KeyboardInterrupt",
     "evalue": "",
     "output_type": "error",
     "traceback": [
      "\u001b[0;31m---------------------------------------------------------------------------\u001b[0m",
      "\u001b[0;31mKeyboardInterrupt\u001b[0m                         Traceback (most recent call last)",
      "Cell \u001b[0;32mIn[16], line 1\u001b[0m\n\u001b[0;32m----> 1\u001b[0m ddf\u001b[38;5;241m=\u001b[39m\u001b[43mddf\u001b[49m\u001b[38;5;241;43m.\u001b[39;49m\u001b[43mto_frame\u001b[49m\u001b[43m(\u001b[49m\u001b[43m)\u001b[49m\u001b[38;5;241;43m.\u001b[39;49m\u001b[43mreset_index\u001b[49m\u001b[43m(\u001b[49m\u001b[43m)\u001b[49m\u001b[38;5;241;43m.\u001b[39;49m\u001b[43mcompute\u001b[49m\u001b[43m(\u001b[49m\u001b[43m)\u001b[49m\n",
      "File \u001b[0;32m/data/dharp/packages/miniconda3/lib/python3.9/site-packages/dask/base.py:290\u001b[0m, in \u001b[0;36mDaskMethodsMixin.compute\u001b[0;34m(self, **kwargs)\u001b[0m\n\u001b[1;32m    266\u001b[0m \u001b[38;5;28;01mdef\u001b[39;00m \u001b[38;5;21mcompute\u001b[39m(\u001b[38;5;28mself\u001b[39m, \u001b[38;5;241m*\u001b[39m\u001b[38;5;241m*\u001b[39mkwargs):\n\u001b[1;32m    267\u001b[0m     \u001b[38;5;124;03m\"\"\"Compute this dask collection\u001b[39;00m\n\u001b[1;32m    268\u001b[0m \n\u001b[1;32m    269\u001b[0m \u001b[38;5;124;03m    This turns a lazy Dask collection into its in-memory equivalent.\u001b[39;00m\n\u001b[0;32m   (...)\u001b[0m\n\u001b[1;32m    288\u001b[0m \u001b[38;5;124;03m    dask.base.compute\u001b[39;00m\n\u001b[1;32m    289\u001b[0m \u001b[38;5;124;03m    \"\"\"\u001b[39;00m\n\u001b[0;32m--> 290\u001b[0m     (result,) \u001b[38;5;241m=\u001b[39m \u001b[43mcompute\u001b[49m\u001b[43m(\u001b[49m\u001b[38;5;28;43mself\u001b[39;49m\u001b[43m,\u001b[49m\u001b[43m \u001b[49m\u001b[43mtraverse\u001b[49m\u001b[38;5;241;43m=\u001b[39;49m\u001b[38;5;28;43;01mFalse\u001b[39;49;00m\u001b[43m,\u001b[49m\u001b[43m \u001b[49m\u001b[38;5;241;43m*\u001b[39;49m\u001b[38;5;241;43m*\u001b[39;49m\u001b[43mkwargs\u001b[49m\u001b[43m)\u001b[49m\n\u001b[1;32m    291\u001b[0m     \u001b[38;5;28;01mreturn\u001b[39;00m result\n",
      "File \u001b[0;32m/data/dharp/packages/miniconda3/lib/python3.9/site-packages/dask/base.py:574\u001b[0m, in \u001b[0;36mcompute\u001b[0;34m(traverse, optimize_graph, scheduler, get, *args, **kwargs)\u001b[0m\n\u001b[1;32m    571\u001b[0m     postcomputes\u001b[38;5;241m.\u001b[39mappend(x\u001b[38;5;241m.\u001b[39m__dask_postcompute__())\n\u001b[1;32m    573\u001b[0m results \u001b[38;5;241m=\u001b[39m schedule(dsk, keys, \u001b[38;5;241m*\u001b[39m\u001b[38;5;241m*\u001b[39mkwargs)\n\u001b[0;32m--> 574\u001b[0m \u001b[38;5;28;01mreturn\u001b[39;00m repack([f(r, \u001b[38;5;241m*\u001b[39ma) \u001b[38;5;28;01mfor\u001b[39;00m r, (f, a) \u001b[38;5;129;01min\u001b[39;00m \u001b[38;5;28mzip\u001b[39m(results, postcomputes)])\n",
      "File \u001b[0;32m/data/dharp/packages/miniconda3/lib/python3.9/site-packages/dask/base.py:574\u001b[0m, in \u001b[0;36m<listcomp>\u001b[0;34m(.0)\u001b[0m\n\u001b[1;32m    571\u001b[0m     postcomputes\u001b[38;5;241m.\u001b[39mappend(x\u001b[38;5;241m.\u001b[39m__dask_postcompute__())\n\u001b[1;32m    573\u001b[0m results \u001b[38;5;241m=\u001b[39m schedule(dsk, keys, \u001b[38;5;241m*\u001b[39m\u001b[38;5;241m*\u001b[39mkwargs)\n\u001b[0;32m--> 574\u001b[0m \u001b[38;5;28;01mreturn\u001b[39;00m repack([\u001b[43mf\u001b[49m\u001b[43m(\u001b[49m\u001b[43mr\u001b[49m\u001b[43m,\u001b[49m\u001b[43m \u001b[49m\u001b[38;5;241;43m*\u001b[39;49m\u001b[43ma\u001b[49m\u001b[43m)\u001b[49m \u001b[38;5;28;01mfor\u001b[39;00m r, (f, a) \u001b[38;5;129;01min\u001b[39;00m \u001b[38;5;28mzip\u001b[39m(results, postcomputes)])\n",
      "File \u001b[0;32m/data/dharp/packages/miniconda3/lib/python3.9/site-packages/dask/dataframe/core.py:124\u001b[0m, in \u001b[0;36mfinalize\u001b[0;34m(results)\u001b[0m\n\u001b[1;32m    123\u001b[0m \u001b[38;5;28;01mdef\u001b[39;00m \u001b[38;5;21mfinalize\u001b[39m(results):\n\u001b[0;32m--> 124\u001b[0m     \u001b[38;5;28;01mreturn\u001b[39;00m \u001b[43m_concat\u001b[49m\u001b[43m(\u001b[49m\u001b[43mresults\u001b[49m\u001b[43m)\u001b[49m\n",
      "File \u001b[0;32m/data/dharp/packages/miniconda3/lib/python3.9/site-packages/dask/dataframe/core.py:119\u001b[0m, in \u001b[0;36m_concat\u001b[0;34m(args, ignore_index)\u001b[0m\n\u001b[1;32m    111\u001b[0m \u001b[38;5;66;03m# We filter out empty partitions here because pandas frequently has\u001b[39;00m\n\u001b[1;32m    112\u001b[0m \u001b[38;5;66;03m# inconsistent dtypes in results between empty and non-empty frames.\u001b[39;00m\n\u001b[1;32m    113\u001b[0m \u001b[38;5;66;03m# Ideally this would be handled locally for each operation, but in practice\u001b[39;00m\n\u001b[1;32m    114\u001b[0m \u001b[38;5;66;03m# this seems easier. TODO: don't do this.\u001b[39;00m\n\u001b[1;32m    115\u001b[0m args2 \u001b[38;5;241m=\u001b[39m [i \u001b[38;5;28;01mfor\u001b[39;00m i \u001b[38;5;129;01min\u001b[39;00m args \u001b[38;5;28;01mif\u001b[39;00m \u001b[38;5;28mlen\u001b[39m(i)]\n\u001b[1;32m    116\u001b[0m \u001b[38;5;28;01mreturn\u001b[39;00m (\n\u001b[1;32m    117\u001b[0m     args[\u001b[38;5;241m0\u001b[39m]\n\u001b[1;32m    118\u001b[0m     \u001b[38;5;28;01mif\u001b[39;00m \u001b[38;5;129;01mnot\u001b[39;00m args2\n\u001b[0;32m--> 119\u001b[0m     \u001b[38;5;28;01melse\u001b[39;00m \u001b[43mmethods\u001b[49m\u001b[38;5;241;43m.\u001b[39;49m\u001b[43mconcat\u001b[49m\u001b[43m(\u001b[49m\u001b[43margs2\u001b[49m\u001b[43m,\u001b[49m\u001b[43m \u001b[49m\u001b[43muniform\u001b[49m\u001b[38;5;241;43m=\u001b[39;49m\u001b[38;5;28;43;01mTrue\u001b[39;49;00m\u001b[43m,\u001b[49m\u001b[43m \u001b[49m\u001b[43mignore_index\u001b[49m\u001b[38;5;241;43m=\u001b[39;49m\u001b[43mignore_index\u001b[49m\u001b[43m)\u001b[49m\n\u001b[1;32m    120\u001b[0m )\n",
      "File \u001b[0;32m/data/dharp/packages/miniconda3/lib/python3.9/site-packages/dask/dataframe/dispatch.py:61\u001b[0m, in \u001b[0;36mconcat\u001b[0;34m(dfs, axis, join, uniform, filter_warning, ignore_index, **kwargs)\u001b[0m\n\u001b[1;32m     59\u001b[0m \u001b[38;5;28;01melse\u001b[39;00m:\n\u001b[1;32m     60\u001b[0m     func \u001b[38;5;241m=\u001b[39m concat_dispatch\u001b[38;5;241m.\u001b[39mdispatch(\u001b[38;5;28mtype\u001b[39m(dfs[\u001b[38;5;241m0\u001b[39m]))\n\u001b[0;32m---> 61\u001b[0m     \u001b[38;5;28;01mreturn\u001b[39;00m \u001b[43mfunc\u001b[49m\u001b[43m(\u001b[49m\n\u001b[1;32m     62\u001b[0m \u001b[43m        \u001b[49m\u001b[43mdfs\u001b[49m\u001b[43m,\u001b[49m\n\u001b[1;32m     63\u001b[0m \u001b[43m        \u001b[49m\u001b[43maxis\u001b[49m\u001b[38;5;241;43m=\u001b[39;49m\u001b[43maxis\u001b[49m\u001b[43m,\u001b[49m\n\u001b[1;32m     64\u001b[0m \u001b[43m        \u001b[49m\u001b[43mjoin\u001b[49m\u001b[38;5;241;43m=\u001b[39;49m\u001b[43mjoin\u001b[49m\u001b[43m,\u001b[49m\n\u001b[1;32m     65\u001b[0m \u001b[43m        \u001b[49m\u001b[43muniform\u001b[49m\u001b[38;5;241;43m=\u001b[39;49m\u001b[43muniform\u001b[49m\u001b[43m,\u001b[49m\n\u001b[1;32m     66\u001b[0m \u001b[43m        \u001b[49m\u001b[43mfilter_warning\u001b[49m\u001b[38;5;241;43m=\u001b[39;49m\u001b[43mfilter_warning\u001b[49m\u001b[43m,\u001b[49m\n\u001b[1;32m     67\u001b[0m \u001b[43m        \u001b[49m\u001b[43mignore_index\u001b[49m\u001b[38;5;241;43m=\u001b[39;49m\u001b[43mignore_index\u001b[49m\u001b[43m,\u001b[49m\n\u001b[1;32m     68\u001b[0m \u001b[43m        \u001b[49m\u001b[38;5;241;43m*\u001b[39;49m\u001b[38;5;241;43m*\u001b[39;49m\u001b[43mkwargs\u001b[49m\u001b[43m,\u001b[49m\n\u001b[1;32m     69\u001b[0m \u001b[43m    \u001b[49m\u001b[43m)\u001b[49m\n",
      "File \u001b[0;32m/data/dharp/packages/miniconda3/lib/python3.9/site-packages/dask/dataframe/backends.py:489\u001b[0m, in \u001b[0;36mconcat_pandas\u001b[0;34m(dfs, axis, join, uniform, filter_warning, ignore_index, **kwargs)\u001b[0m\n\u001b[1;32m    485\u001b[0m         data \u001b[38;5;241m=\u001b[39m pd\u001b[38;5;241m.\u001b[39mCategorical\u001b[38;5;241m.\u001b[39mfrom_codes(\n\u001b[1;32m    486\u001b[0m             codes, sample\u001b[38;5;241m.\u001b[39mcat\u001b[38;5;241m.\u001b[39mcategories, sample\u001b[38;5;241m.\u001b[39mcat\u001b[38;5;241m.\u001b[39mordered\n\u001b[1;32m    487\u001b[0m         )\n\u001b[1;32m    488\u001b[0m         parts\u001b[38;5;241m.\u001b[39mappend(data)\n\u001b[0;32m--> 489\u001b[0m out[col] \u001b[38;5;241m=\u001b[39m \u001b[43munion_categoricals\u001b[49m\u001b[43m(\u001b[49m\u001b[43mparts\u001b[49m\u001b[43m,\u001b[49m\u001b[43m \u001b[49m\u001b[43mignore_order\u001b[49m\u001b[38;5;241;43m=\u001b[39;49m\u001b[43mignore_order\u001b[49m\u001b[43m)\u001b[49m\n\u001b[1;32m    490\u001b[0m \u001b[38;5;66;03m# Pandas resets index type on assignment if frame is empty\u001b[39;00m\n\u001b[1;32m    491\u001b[0m \u001b[38;5;66;03m# https://github.com/pandas-dev/pandas/issues/17101\u001b[39;00m\n\u001b[1;32m    492\u001b[0m \u001b[38;5;28;01mif\u001b[39;00m \u001b[38;5;129;01mnot\u001b[39;00m \u001b[38;5;28mlen\u001b[39m(temp_ind):\n",
      "File \u001b[0;32m/data/dharp/packages/miniconda3/lib/python3.9/site-packages/pandas/core/dtypes/concat.py:290\u001b[0m, in \u001b[0;36munion_categoricals\u001b[0;34m(to_union, sort_categories, ignore_order)\u001b[0m\n\u001b[1;32m    287\u001b[0m     \u001b[38;5;28;01mraise\u001b[39;00m \u001b[38;5;167;01mTypeError\u001b[39;00m(\u001b[38;5;124m\"\u001b[39m\u001b[38;5;124mdtype of categories must be the same\u001b[39m\u001b[38;5;124m\"\u001b[39m)\n\u001b[1;32m    289\u001b[0m ordered \u001b[38;5;241m=\u001b[39m \u001b[38;5;28;01mFalse\u001b[39;00m\n\u001b[0;32m--> 290\u001b[0m \u001b[38;5;28;01mif\u001b[39;00m \u001b[38;5;28;43mall\u001b[39;49m\u001b[43m(\u001b[49m\u001b[43mfirst\u001b[49m\u001b[38;5;241;43m.\u001b[39;49m\u001b[43m_categories_match_up_to_permutation\u001b[49m\u001b[43m(\u001b[49m\u001b[43mother\u001b[49m\u001b[43m)\u001b[49m\u001b[43m \u001b[49m\u001b[38;5;28;43;01mfor\u001b[39;49;00m\u001b[43m \u001b[49m\u001b[43mother\u001b[49m\u001b[43m \u001b[49m\u001b[38;5;129;43;01min\u001b[39;49;00m\u001b[43m \u001b[49m\u001b[43mto_union\u001b[49m\u001b[43m[\u001b[49m\u001b[38;5;241;43m1\u001b[39;49m\u001b[43m:\u001b[49m\u001b[43m]\u001b[49m\u001b[43m)\u001b[49m:\n\u001b[1;32m    291\u001b[0m     \u001b[38;5;66;03m# identical categories - fastpath\u001b[39;00m\n\u001b[1;32m    292\u001b[0m     categories \u001b[38;5;241m=\u001b[39m first\u001b[38;5;241m.\u001b[39mcategories\n\u001b[1;32m    293\u001b[0m     ordered \u001b[38;5;241m=\u001b[39m first\u001b[38;5;241m.\u001b[39mordered\n",
      "File \u001b[0;32m/data/dharp/packages/miniconda3/lib/python3.9/site-packages/pandas/core/dtypes/concat.py:290\u001b[0m, in \u001b[0;36m<genexpr>\u001b[0;34m(.0)\u001b[0m\n\u001b[1;32m    287\u001b[0m     \u001b[38;5;28;01mraise\u001b[39;00m \u001b[38;5;167;01mTypeError\u001b[39;00m(\u001b[38;5;124m\"\u001b[39m\u001b[38;5;124mdtype of categories must be the same\u001b[39m\u001b[38;5;124m\"\u001b[39m)\n\u001b[1;32m    289\u001b[0m ordered \u001b[38;5;241m=\u001b[39m \u001b[38;5;28;01mFalse\u001b[39;00m\n\u001b[0;32m--> 290\u001b[0m \u001b[38;5;28;01mif\u001b[39;00m \u001b[38;5;28mall\u001b[39m(\u001b[43mfirst\u001b[49m\u001b[38;5;241;43m.\u001b[39;49m\u001b[43m_categories_match_up_to_permutation\u001b[49m\u001b[43m(\u001b[49m\u001b[43mother\u001b[49m\u001b[43m)\u001b[49m \u001b[38;5;28;01mfor\u001b[39;00m other \u001b[38;5;129;01min\u001b[39;00m to_union[\u001b[38;5;241m1\u001b[39m:]):\n\u001b[1;32m    291\u001b[0m     \u001b[38;5;66;03m# identical categories - fastpath\u001b[39;00m\n\u001b[1;32m    292\u001b[0m     categories \u001b[38;5;241m=\u001b[39m first\u001b[38;5;241m.\u001b[39mcategories\n\u001b[1;32m    293\u001b[0m     ordered \u001b[38;5;241m=\u001b[39m first\u001b[38;5;241m.\u001b[39mordered\n",
      "File \u001b[0;32m/data/dharp/packages/miniconda3/lib/python3.9/site-packages/pandas/core/arrays/categorical.py:2399\u001b[0m, in \u001b[0;36mCategorical._categories_match_up_to_permutation\u001b[0;34m(self, other)\u001b[0m\n\u001b[1;32m   2386\u001b[0m \u001b[38;5;28;01mdef\u001b[39;00m \u001b[38;5;21m_categories_match_up_to_permutation\u001b[39m(\u001b[38;5;28mself\u001b[39m, other: Categorical) \u001b[38;5;241m-\u001b[39m\u001b[38;5;241m>\u001b[39m \u001b[38;5;28mbool\u001b[39m:\n\u001b[1;32m   2387\u001b[0m     \u001b[38;5;124;03m\"\"\"\u001b[39;00m\n\u001b[1;32m   2388\u001b[0m \u001b[38;5;124;03m    Returns True if categoricals are the same dtype\u001b[39;00m\n\u001b[1;32m   2389\u001b[0m \u001b[38;5;124;03m      same categories, and same ordered\u001b[39;00m\n\u001b[0;32m   (...)\u001b[0m\n\u001b[1;32m   2397\u001b[0m \u001b[38;5;124;03m    bool\u001b[39;00m\n\u001b[1;32m   2398\u001b[0m \u001b[38;5;124;03m    \"\"\"\u001b[39;00m\n\u001b[0;32m-> 2399\u001b[0m     \u001b[38;5;28;01mreturn\u001b[39;00m \u001b[38;5;28mhash\u001b[39m(\u001b[38;5;28mself\u001b[39m\u001b[38;5;241m.\u001b[39mdtype) \u001b[38;5;241m==\u001b[39m \u001b[38;5;28;43mhash\u001b[39;49m\u001b[43m(\u001b[49m\u001b[43mother\u001b[49m\u001b[38;5;241;43m.\u001b[39;49m\u001b[43mdtype\u001b[49m\u001b[43m)\u001b[49m\n",
      "File \u001b[0;32m/data/dharp/packages/miniconda3/lib/python3.9/site-packages/pandas/core/dtypes/dtypes.py:358\u001b[0m, in \u001b[0;36mCategoricalDtype.__hash__\u001b[0;34m(self)\u001b[0m\n\u001b[1;32m    356\u001b[0m         \u001b[38;5;28;01mreturn\u001b[39;00m \u001b[38;5;241m-\u001b[39m\u001b[38;5;241m2\u001b[39m\n\u001b[1;32m    357\u001b[0m \u001b[38;5;66;03m# We *do* want to include the real self.ordered here\u001b[39;00m\n\u001b[0;32m--> 358\u001b[0m \u001b[38;5;28;01mreturn\u001b[39;00m \u001b[38;5;28mint\u001b[39m(\u001b[38;5;28;43mself\u001b[39;49m\u001b[38;5;241;43m.\u001b[39;49m\u001b[43m_hash_categories\u001b[49m)\n",
      "File \u001b[0;32m/data/dharp/packages/miniconda3/lib/python3.9/site-packages/pandas/_libs/properties.pyx:37\u001b[0m, in \u001b[0;36mpandas._libs.properties.CachedProperty.__get__\u001b[0;34m()\u001b[0m\n",
      "File \u001b[0;32m/data/dharp/packages/miniconda3/lib/python3.9/site-packages/pandas/core/dtypes/dtypes.py:462\u001b[0m, in \u001b[0;36mCategoricalDtype._hash_categories\u001b[0;34m(self)\u001b[0m\n\u001b[1;32m    458\u001b[0m     \u001b[38;5;28;01mif\u001b[39;00m DatetimeTZDtype\u001b[38;5;241m.\u001b[39mis_dtype(categories\u001b[38;5;241m.\u001b[39mdtype):\n\u001b[1;32m    459\u001b[0m         \u001b[38;5;66;03m# Avoid future warning.\u001b[39;00m\n\u001b[1;32m    460\u001b[0m         categories \u001b[38;5;241m=\u001b[39m categories\u001b[38;5;241m.\u001b[39mview(\u001b[38;5;124m\"\u001b[39m\u001b[38;5;124mdatetime64[ns]\u001b[39m\u001b[38;5;124m\"\u001b[39m)\n\u001b[0;32m--> 462\u001b[0m     cat_array \u001b[38;5;241m=\u001b[39m \u001b[43mhash_array\u001b[49m\u001b[43m(\u001b[49m\u001b[43mnp\u001b[49m\u001b[38;5;241;43m.\u001b[39;49m\u001b[43masarray\u001b[49m\u001b[43m(\u001b[49m\u001b[43mcategories\u001b[49m\u001b[43m)\u001b[49m\u001b[43m,\u001b[49m\u001b[43m \u001b[49m\u001b[43mcategorize\u001b[49m\u001b[38;5;241;43m=\u001b[39;49m\u001b[38;5;28;43;01mFalse\u001b[39;49;00m\u001b[43m)\u001b[49m\n\u001b[1;32m    463\u001b[0m \u001b[38;5;28;01mif\u001b[39;00m ordered:\n\u001b[1;32m    464\u001b[0m     cat_array \u001b[38;5;241m=\u001b[39m np\u001b[38;5;241m.\u001b[39mvstack(\n\u001b[1;32m    465\u001b[0m         [cat_array, np\u001b[38;5;241m.\u001b[39marange(\u001b[38;5;28mlen\u001b[39m(cat_array), dtype\u001b[38;5;241m=\u001b[39mcat_array\u001b[38;5;241m.\u001b[39mdtype)]\n\u001b[1;32m    466\u001b[0m     )\n",
      "File \u001b[0;32m/data/dharp/packages/miniconda3/lib/python3.9/site-packages/pandas/core/util/hashing.py:293\u001b[0m, in \u001b[0;36mhash_array\u001b[0;34m(vals, encoding, hash_key, categorize)\u001b[0m\n\u001b[1;32m    289\u001b[0m \u001b[38;5;28;01melif\u001b[39;00m \u001b[38;5;129;01mnot\u001b[39;00m \u001b[38;5;28misinstance\u001b[39m(vals, np\u001b[38;5;241m.\u001b[39mndarray):\n\u001b[1;32m    290\u001b[0m     \u001b[38;5;66;03m# i.e. ExtensionArray\u001b[39;00m\n\u001b[1;32m    291\u001b[0m     vals, _ \u001b[38;5;241m=\u001b[39m vals\u001b[38;5;241m.\u001b[39m_values_for_factorize()\n\u001b[0;32m--> 293\u001b[0m \u001b[38;5;28;01mreturn\u001b[39;00m \u001b[43m_hash_ndarray\u001b[49m\u001b[43m(\u001b[49m\u001b[43mvals\u001b[49m\u001b[43m,\u001b[49m\u001b[43m \u001b[49m\u001b[43mencoding\u001b[49m\u001b[43m,\u001b[49m\u001b[43m \u001b[49m\u001b[43mhash_key\u001b[49m\u001b[43m,\u001b[49m\u001b[43m \u001b[49m\u001b[43mcategorize\u001b[49m\u001b[43m)\u001b[49m\n",
      "File \u001b[0;32m/data/dharp/packages/miniconda3/lib/python3.9/site-packages/pandas/core/util/hashing.py:338\u001b[0m, in \u001b[0;36m_hash_ndarray\u001b[0;34m(vals, encoding, hash_key, categorize)\u001b[0m\n\u001b[1;32m    335\u001b[0m     \u001b[38;5;28;01mreturn\u001b[39;00m _hash_categorical(cat, encoding, hash_key)\n\u001b[1;32m    337\u001b[0m \u001b[38;5;28;01mtry\u001b[39;00m:\n\u001b[0;32m--> 338\u001b[0m     vals \u001b[38;5;241m=\u001b[39m \u001b[43mhash_object_array\u001b[49m\u001b[43m(\u001b[49m\u001b[43mvals\u001b[49m\u001b[43m,\u001b[49m\u001b[43m \u001b[49m\u001b[43mhash_key\u001b[49m\u001b[43m,\u001b[49m\u001b[43m \u001b[49m\u001b[43mencoding\u001b[49m\u001b[43m)\u001b[49m\n\u001b[1;32m    339\u001b[0m \u001b[38;5;28;01mexcept\u001b[39;00m \u001b[38;5;167;01mTypeError\u001b[39;00m:\n\u001b[1;32m    340\u001b[0m     \u001b[38;5;66;03m# we have mixed types\u001b[39;00m\n\u001b[1;32m    341\u001b[0m     vals \u001b[38;5;241m=\u001b[39m hash_object_array(\n\u001b[1;32m    342\u001b[0m         vals\u001b[38;5;241m.\u001b[39mastype(\u001b[38;5;28mstr\u001b[39m)\u001b[38;5;241m.\u001b[39mastype(\u001b[38;5;28mobject\u001b[39m), hash_key, encoding\n\u001b[1;32m    343\u001b[0m     )\n",
      "\u001b[0;31mKeyboardInterrupt\u001b[0m: "
     ]
    }
   ],
   "source": []
  },
  {
   "cell_type": "code",
   "execution_count": 25,
   "metadata": {},
   "outputs": [],
   "source": []
  },
  {
   "cell_type": "code",
   "execution_count": 18,
   "metadata": {},
   "outputs": [
    {
     "data": {
      "text/plain": [
       "0.895055042059801"
      ]
     },
     "execution_count": 18,
     "metadata": {},
     "output_type": "execute_result"
    }
   ],
   "source": [
    "943405885/1054019966"
   ]
  },
  {
   "cell_type": "code",
   "execution_count": 27,
   "metadata": {},
   "outputs": [
    {
     "data": {
      "text/plain": [
       "lemma_pos                                                   year  comp_class  num_comp  comp_ner_sent\n",
       "beat_NOUN anything_PRON i_PRON ever_ADV see_VERB            1889  0           False                       2\n",
       "                                                            1894  0           False                       1\n",
       "                                                            1896  0           False                       1\n",
       "                                                            1899  0           False                       1\n",
       "                                                            1901  0           False                       1\n",
       "                                                                                                         ..\n",
       "v'ıctor_X padrón_PROPN ,_PUNCT classification_PROPN of_ADP  2007  0           True                        1\n",
       "                                                            2008  0           True                        3\n",
       "                                                            2010  0           True                        8\n",
       "                                                            2011  0           True                       35\n",
       "                                                            2012  0           True                       27\n",
       "Name: count, Length: 955873111, dtype: int64"
      ]
     },
     "execution_count": 27,
     "metadata": {},
     "output_type": "execute_result"
    }
   ],
   "source": [
    "concat_df"
   ]
  }
 ],
 "metadata": {
  "kernelspec": {
   "display_name": "Python 3 (ipykernel)",
   "language": "python",
   "name": "python3"
  },
  "language_info": {
   "codemirror_mode": {
    "name": "ipython",
    "version": 3
   },
   "file_extension": ".py",
   "mimetype": "text/x-python",
   "name": "python",
   "nbconvert_exporter": "python",
   "pygments_lexer": "ipython3",
   "version": "3.9.7"
  }
 },
 "nbformat": 4,
 "nbformat_minor": 4
}
