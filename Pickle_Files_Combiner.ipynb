{
 "cells": [
  {
   "cell_type": "code",
   "execution_count": 1,
   "metadata": {},
   "outputs": [],
   "source": [
    "import random\n",
    "import pandas as pd\n",
    "import glob\n",
    "import os\n",
    "import numpy as np\n",
    "import pickle as pkl\n",
    "import time\n",
    "import multiprocessing as mp\n",
    "from multiprocessing import Pool\n",
    "import re\n",
    "import argparse\n",
    "import tqdm"
   ]
  },
  {
   "cell_type": "code",
   "execution_count": 2,
   "metadata": {},
   "outputs": [],
   "source": [
    "parser = argparse.ArgumentParser(description='Program to combine pickle data into one file for all settings')\n",
    "\n",
    "parser.add_argument('--setting', type=str,\n",
    "                    help='comp:Compounds mod:Modifiers head:Heads phr:Phrases const:Constituent')\n",
    "parser.add_argument('--spath', type=str,\n",
    "                    help='directory where to save output')\n",
    "\n",
    "args = parser.parse_args(\"--setting mod --spath /data/dharp/compounds/datasets/\".split())\n",
    "\n",
    "\n",
    "\n",
    "if args.setting==\"comp\":\n",
    "    pkl_files=glob.glob(f'{args.spath}/compounds/*pkl')\n",
    "    modifiers=pd.read_pickle(f'{args.spath}/contexts/modifiers.pkl')\n",
    "    heads=pd.read_pickle(f'{args.spath}/contexts/heads.pkl')\n",
    "    \n",
    "elif args.setting==\"mod\":\n",
    "    pkl_files=glob.glob(f'{args.spath}/modifiers/*pkl')\n",
    "    modifiers=pd.read_pickle(f'{args.spath}/contexts/modifiers.pkl')\n",
    "    \n",
    "elif args.setting==\"head\":\n",
    "    pkl_files=glob.glob(f'{args.spath}/heads/*pkl')\n",
    "    heads=pd.read_pickle(f'{args.spath}/contexts/heads.pkl')\n",
    "\n",
    "    \n",
    "elif args.setting==\"phr\":\n",
    "    pkl_files=glob.glob(f'{args.spath}/phrases/*pkl')\n",
    "    \n",
    "elif args.setting==\"const\":\n",
    "    pkl_files=glob.glob(f'{args.spath}/words/*pkl')\n",
    "    \n",
    "random.shuffle(pkl_files)\n",
    "\n",
    "\n",
    "contexts=pd.read_pickle(f'{args.spath}/contexts/contexts_top50k.pkl')\n",
    "\n",
    "\n",
    "\n",
    "div_lsts=np.array_split(pkl_files, 3)"
   ]
  },
  {
   "cell_type": "code",
   "execution_count": 3,
   "metadata": {},
   "outputs": [
    {
     "data": {
      "text/plain": [
       "39"
      ]
     },
     "execution_count": 3,
     "metadata": {},
     "output_type": "execute_result"
    }
   ],
   "source": [
    "len(div_lsts[0])"
   ]
  },
  {
   "cell_type": "code",
   "execution_count": 4,
   "metadata": {},
   "outputs": [],
   "source": [
    "def mem_reducer(pkl_file):\n",
    "    #print(f'\\nStarted with file {pkl_file}\\n')\n",
    "    cur_time=time.time()\n",
    "    \n",
    "    df=pd.read_pickle(pkl_file)\n",
    "    orig_shape=df.shape[0]\n",
    "    df[\"year\"] = pd.to_numeric(df[\"year\"], downcast=\"unsigned\")\n",
    "    df=df.loc[df['year']>=1800]\n",
    "    df.context=pd.Categorical(df.context,categories=contexts)\n",
    "\n",
    "    if args.setting==\"comp\":\n",
    "        df.modifier=pd.Categorical(df.modifier,categories=modifiers)\n",
    "        df['head']=pd.Categorical(df['head'],categories=heads)\n",
    "        df.dropna(inplace=True)\n",
    "        df=df.groupby(['modifier','head','context','year'],observed=True)['count'].sum().to_frame().reset_index()\n",
    "        \n",
    "    elif args.setting==\"mod\":\n",
    "        df.modifier=pd.Categorical(df.modifier,categories=modifiers)\n",
    "        df.dropna(inplace=True)\n",
    "        df=df.groupby(['modifier','context','year'],observed=True)['count'].sum().to_frame().reset_index()\n",
    "        \n",
    "    elif args.setting==\"head\":\n",
    "        df['head']=pd.Categorical(df['head'],categories=heads)\n",
    "        df.dropna(inplace=True)\n",
    "        df=df.groupby(['head','context','year'],observed=True)['count'].sum().to_frame().reset_index()\n",
    "\n",
    "    #print(df.shape[0],((orig_shape-df.shape[0])/orig_shape*100))\n",
    "    #print(f'Done with file {pkl_file} in {round(time.time()-cur_time)} secs and current size is {round(df.shape[0]/orig_shape*100,2)}% of the original dataset')\n",
    "    return df"
   ]
  },
  {
   "cell_type": "code",
   "execution_count": null,
   "metadata": {},
   "outputs": [
    {
     "name": "stderr",
     "output_type": "stream",
     "text": [
      "  0%|                                                   | 0/115 [00:00<?, ?it/s]"
     ]
    },
    {
     "name": "stdout",
     "output_type": "stream",
     "text": [
      "\n",
      "Started with file /data/dharp/compounds/datasets//modifiers/df_113.pkl\n",
      "\n",
      "Started with file /data/dharp/compounds/datasets//modifiers/df_29.pkl\n",
      "\n",
      "Started with file /data/dharp/compounds/datasets//modifiers/df_115.pkl\n",
      "\n",
      "Started with file /data/dharp/compounds/datasets//modifiers/df_62.pkl\n",
      "\n",
      "Started with file /data/dharp/compounds/datasets//modifiers/df_68.pkl\n",
      "\n",
      "Started with file /data/dharp/compounds/datasets//modifiers/df_55.pkl\n",
      "\n",
      "\n",
      "Started with file /data/dharp/compounds/datasets//modifiers/df_35.pkl\n",
      "\n",
      "Started with file /data/dharp/compounds/datasets//modifiers/df_49.pkl\n",
      "\n",
      "Started with file /data/dharp/compounds/datasets//modifiers/df_56.pkl\n",
      "\n",
      "\n",
      "Started with file /data/dharp/compounds/datasets//modifiers/df_37.pkl\n",
      "\n",
      "Started with file /data/dharp/compounds/datasets//modifiers/df_6.pkl\n",
      "\n",
      "Started with file /data/dharp/compounds/datasets//modifiers/df_103.pkl\n",
      "\n",
      "Started with file /data/dharp/compounds/datasets//modifiers/df_84.pkl\n",
      "\n",
      "\n",
      "Started with file /data/dharp/compounds/datasets//modifiers/df_5.pkl\n",
      "\n",
      "\n",
      "Started with file /data/dharp/compounds/datasets//modifiers/df_40.pkl\n",
      "\n",
      "Started with file /data/dharp/compounds/datasets//modifiers/df_72.pkl\n",
      "\n",
      "Started with file /data/dharp/compounds/datasets//modifiers/df_1.pkl\n",
      "\n",
      "\n",
      "Started with file /data/dharp/compounds/datasets//modifiers/df_33.pkl\n",
      "\n",
      "Started with file /data/dharp/compounds/datasets//modifiers/df_91.pkl\n",
      "\n",
      "\n",
      "Started with file /data/dharp/compounds/datasets//modifiers/df_75.pkl\n",
      "\n",
      "Started with file /data/dharp/compounds/datasets//modifiers/df_44.pkl\n",
      "\n",
      "Started with file /data/dharp/compounds/datasets//modifiers/df_2.pkl\n",
      "\n",
      "Started with file /data/dharp/compounds/datasets//modifiers/df_39.pkl\n",
      "\n",
      "Started with file /data/dharp/compounds/datasets//modifiers/df_60.pkl\n",
      "\n",
      "\n",
      "\n",
      "\n",
      "\n",
      "Started with file /data/dharp/compounds/datasets//modifiers/df_41.pkl\n",
      "\n",
      "\n",
      "Started with file /data/dharp/compounds/datasets//modifiers/df_63.pkl\n",
      "\n",
      "\n",
      "\n",
      "Started with file /data/dharp/compounds/datasets//modifiers/df_50.pkl\n",
      "\n",
      "\n",
      "Started with file /data/dharp/compounds/datasets//modifiers/df_58.pkl\n",
      "\n",
      "\n",
      "\n",
      "\n",
      "\n",
      "\n",
      "\n",
      "\n",
      "\n",
      "Started with file /data/dharp/compounds/datasets//modifiers/df_30.pkl\n",
      "\n",
      "\n",
      "\n",
      "Started with file /data/dharp/compounds/datasets//modifiers/df_71.pkl\n",
      "\n",
      "Started with file /data/dharp/compounds/datasets//modifiers/df_88.pkl\n",
      "\n",
      "Started with file /data/dharp/compounds/datasets//modifiers/df_66.pkl\n",
      "\n",
      "Started with file /data/dharp/compounds/datasets//modifiers/df_9.pkl\n",
      "\n",
      "Started with file /data/dharp/compounds/datasets//modifiers/df_105.pkl\n",
      "\n",
      "Started with file /data/dharp/compounds/datasets//modifiers/df_112.pkl\n",
      "\n",
      "Started with file /data/dharp/compounds/datasets//modifiers/df_74.pkl\n",
      "\n",
      "Started with file /data/dharp/compounds/datasets//modifiers/df_81.pkl\n",
      "\n",
      "Started with file /data/dharp/compounds/datasets//modifiers/df_83.pkl\n",
      "\n",
      "Started with file /data/dharp/compounds/datasets//modifiers/df_14.pkl\n",
      "\n",
      "\n",
      "\n",
      "\n",
      "Started with file /data/dharp/compounds/datasets//modifiers/df_54.pkl\n",
      "\n",
      "Started with file /data/dharp/compounds/datasets//modifiers/df_10.pkl\n",
      "\n",
      "\n",
      "Started with file /data/dharp/compounds/datasets//modifiers/df_4.pkl\n",
      "\n",
      "Started with file /data/dharp/compounds/datasets//modifiers/df_53.pkl\n",
      "\n",
      "Started with file /data/dharp/compounds/datasets//modifiers/df_86.pkl\n",
      "\n",
      "Started with file /data/dharp/compounds/datasets//modifiers/df_114.pkl\n",
      "\n",
      "Started with file /data/dharp/compounds/datasets//modifiers/df_20.pkl\n",
      "\n",
      "Started with file /data/dharp/compounds/datasets//modifiers/df_107.pkl\n",
      "\n",
      "Started with file /data/dharp/compounds/datasets//modifiers/df_111.pkl\n",
      "\n",
      "\n",
      "\n",
      "\n",
      "\n",
      "\n",
      "\n",
      "\n",
      "\n",
      "\n",
      "\n",
      "\n",
      "\n",
      "\n",
      "\n",
      "\n",
      "\n",
      "\n",
      "\n",
      "\n",
      "\n",
      "Started with file /data/dharp/compounds/datasets//modifiers/df_45.pkl\n",
      "\n",
      "\n",
      "Started with file /data/dharp/compounds/datasets//modifiers/df_22.pkl\n",
      "\n",
      "Done with file /data/dharp/compounds/datasets//modifiers/df_9.pkl in 24 secs and current size is 50.38% of the original dataset\n",
      "\n",
      "Started with file /data/dharp/compounds/datasets//modifiers/df_51.pkl\n",
      "\n"
     ]
    },
    {
     "name": "stderr",
     "output_type": "stream",
     "text": [
      "  1%|▎                                          | 1/115 [00:24<46:32, 24.49s/it]"
     ]
    },
    {
     "name": "stdout",
     "output_type": "stream",
     "text": [
      "Done with file /data/dharp/compounds/datasets//modifiers/df_14.pkl in 39 secs and current size is 38.89% of the original dataset\n",
      "\n",
      "Started with file /data/dharp/compounds/datasets//modifiers/df_98.pkl\n",
      "\n"
     ]
    },
    {
     "name": "stderr",
     "output_type": "stream",
     "text": [
      "  2%|▋                                          | 2/115 [00:39<36:02, 19.14s/it]"
     ]
    },
    {
     "name": "stdout",
     "output_type": "stream",
     "text": [
      "Done with file /data/dharp/compounds/datasets//modifiers/df_66.pkl in 46 secs and current size is 47.89% of the original dataset\n",
      "\n",
      "Started with file /data/dharp/compounds/datasets//modifiers/df_100.pkl\n",
      "\n"
     ]
    },
    {
     "name": "stderr",
     "output_type": "stream",
     "text": [
      "  3%|█                                          | 3/115 [00:47<25:30, 13.67s/it]"
     ]
    },
    {
     "name": "stdout",
     "output_type": "stream",
     "text": [
      "Done with file /data/dharp/compounds/datasets//modifiers/df_29.pkl in 50 secs and current size is 53.09% of the original dataset\n",
      "Done with file /data/dharp/compounds/datasets//modifiers/df_62.pkl in 50 secs and current size is 39.97% of the original dataset\n",
      "\n",
      "Started with file /data/dharp/compounds/datasets//modifiers/df_76.pkl\n",
      "\n"
     ]
    },
    {
     "name": "stderr",
     "output_type": "stream",
     "text": [
      "  3%|█▍                                         | 4/115 [00:51<18:32, 10.03s/it]"
     ]
    },
    {
     "name": "stdout",
     "output_type": "stream",
     "text": [
      "\n",
      "Done with file /data/dharp/compounds/datasets//modifiers/df_68.pkl in 51 secs and current size is 51.42% of the original dataset\n",
      "Started with file /data/dharp/compounds/datasets//modifiers/df_94.pkl\n",
      "\n"
     ]
    },
    {
     "name": "stderr",
     "output_type": "stream",
     "text": [
      "  4%|█▊                                         | 5/115 [00:52<12:12,  6.66s/it]"
     ]
    },
    {
     "name": "stdout",
     "output_type": "stream",
     "text": [
      "Done with file /data/dharp/compounds/datasets//modifiers/df_71.pkl in 52 secs and current size is 48.09% of the original dataset\n",
      "\n",
      "Started with file /data/dharp/compounds/datasets//modifiers/df_64.pkl\n",
      "\n"
     ]
    },
    {
     "name": "stderr",
     "output_type": "stream",
     "text": [
      "  5%|██▏                                        | 6/115 [00:52<08:27,  4.65s/it]"
     ]
    },
    {
     "name": "stdout",
     "output_type": "stream",
     "text": [
      "\n",
      "Started with file /data/dharp/compounds/datasets//modifiers/df_82.pkl\n",
      "\n"
     ]
    },
    {
     "name": "stderr",
     "output_type": "stream",
     "text": [
      "  6%|██▌                                        | 7/115 [00:53<06:13,  3.45s/it]"
     ]
    },
    {
     "name": "stdout",
     "output_type": "stream",
     "text": [
      "Done with file /data/dharp/compounds/datasets//modifiers/df_10.pkl in 56 secs and current size is 47.28% of the original dataset\n",
      "\n",
      "Started with file /data/dharp/compounds/datasets//modifiers/df_95.pkl\n",
      "\n"
     ]
    },
    {
     "name": "stderr",
     "output_type": "stream",
     "text": [
      "  7%|██▉                                        | 8/115 [00:57<06:19,  3.54s/it]"
     ]
    },
    {
     "name": "stdout",
     "output_type": "stream",
     "text": [
      "Done with file /data/dharp/compounds/datasets//modifiers/df_74.pkl in 57 secs and current size is 46.21% of the original dataset\n",
      "Done with file /data/dharp/compounds/datasets//modifiers/df_40.pkl in 58 secs and current size is 54.84% of the original dataset\n",
      "\n",
      "Started with file /data/dharp/compounds/datasets//modifiers/df_67.pkl\n",
      "\n"
     ]
    },
    {
     "name": "stderr",
     "output_type": "stream",
     "text": [
      "  8%|███▎                                       | 9/115 [00:58<04:56,  2.80s/it]"
     ]
    },
    {
     "name": "stdout",
     "output_type": "stream",
     "text": [
      "Done with file /data/dharp/compounds/datasets//modifiers/df_53.pkl in 59 secs and current size is 46.53% of the original dataset\n",
      "\n",
      "Started with file /data/dharp/compounds/datasets//modifiers/df_46.pkl\n",
      "\n"
     ]
    },
    {
     "name": "stderr",
     "output_type": "stream",
     "text": [
      "  9%|███▋                                      | 10/115 [00:59<03:56,  2.25s/it]"
     ]
    },
    {
     "name": "stdout",
     "output_type": "stream",
     "text": [
      "\n",
      "Started with file /data/dharp/compounds/datasets//modifiers/df_47.pkl\n",
      "\n"
     ]
    },
    {
     "name": "stderr",
     "output_type": "stream",
     "text": [
      " 10%|████                                      | 11/115 [01:00<03:13,  1.86s/it]"
     ]
    },
    {
     "name": "stdout",
     "output_type": "stream",
     "text": [
      "Done with file /data/dharp/compounds/datasets//modifiers/df_83.pkl in 63 secs and current size is 50.33% of the original dataset\n",
      "\n",
      "Started with file /data/dharp/compounds/datasets//modifiers/df_96.pkl\n",
      "\n"
     ]
    },
    {
     "name": "stderr",
     "output_type": "stream",
     "text": [
      " 10%|████▍                                     | 12/115 [01:05<04:26,  2.59s/it]"
     ]
    },
    {
     "name": "stdout",
     "output_type": "stream",
     "text": [
      "Done with file /data/dharp/compounds/datasets//modifiers/df_88.pkl in 65 secs and current size is 54.34% of the original dataset\n",
      "\n",
      "Started with file /data/dharp/compounds/datasets//modifiers/df_26.pkl\n",
      "\n"
     ]
    },
    {
     "name": "stderr",
     "output_type": "stream",
     "text": [
      " 11%|████▋                                     | 13/115 [01:07<04:09,  2.45s/it]"
     ]
    },
    {
     "name": "stdout",
     "output_type": "stream",
     "text": [
      "Done with file /data/dharp/compounds/datasets//modifiers/df_6.pkl in 71 secs and current size is 47.04% of the original dataset\n",
      "\n",
      "Started with file /data/dharp/compounds/datasets//modifiers/df_89.pkl\n",
      "\n"
     ]
    },
    {
     "name": "stderr",
     "output_type": "stream",
     "text": [
      " 12%|█████                                     | 14/115 [01:12<05:23,  3.20s/it]"
     ]
    },
    {
     "name": "stdout",
     "output_type": "stream",
     "text": [
      "Done with file /data/dharp/compounds/datasets//modifiers/df_55.pkl in 74 secs and current size is 45.05% of the original dataset\n",
      "\n",
      "Started with file /data/dharp/compounds/datasets//modifiers/df_78.pkl\n",
      "\n"
     ]
    },
    {
     "name": "stderr",
     "output_type": "stream",
     "text": [
      " 13%|█████▍                                    | 15/115 [01:15<05:29,  3.29s/it]"
     ]
    },
    {
     "name": "stdout",
     "output_type": "stream",
     "text": [
      "Done with file /data/dharp/compounds/datasets//modifiers/df_56.pkl in 78 secs and current size is 45.25% of the original dataset\n",
      "\n",
      "Started with file /data/dharp/compounds/datasets//modifiers/df_8.pkl\n",
      "\n"
     ]
    },
    {
     "name": "stderr",
     "output_type": "stream",
     "text": [
      " 14%|█████▊                                    | 16/115 [01:19<05:44,  3.48s/it]"
     ]
    },
    {
     "name": "stdout",
     "output_type": "stream",
     "text": [
      "Done with file /data/dharp/compounds/datasets//modifiers/df_98.pkl in 62 secs and current size is 54.05% of the original dataset\n",
      "\n",
      "Started with file /data/dharp/compounds/datasets//modifiers/df_24.pkl\n",
      "\n"
     ]
    },
    {
     "name": "stderr",
     "output_type": "stream",
     "text": [
      " 15%|██████▏                                   | 17/115 [01:42<15:17,  9.36s/it]"
     ]
    },
    {
     "name": "stdout",
     "output_type": "stream",
     "text": [
      "Done with file /data/dharp/compounds/datasets//modifiers/df_26.pkl in 38 secs and current size is 53.34% of the original dataset\n",
      "\n",
      "Started with file /data/dharp/compounds/datasets//modifiers/df_13.pkl\n",
      "\n"
     ]
    },
    {
     "name": "stderr",
     "output_type": "stream",
     "text": [
      " 16%|██████▌                                   | 18/115 [01:46<12:19,  7.63s/it]"
     ]
    },
    {
     "name": "stdout",
     "output_type": "stream",
     "text": [
      "Done with file /data/dharp/compounds/datasets//modifiers/df_82.pkl in 54 secs and current size is 46.13% of the original dataset\n",
      "\n",
      "Started with file /data/dharp/compounds/datasets//modifiers/df_23.pkl\n",
      "\n"
     ]
    },
    {
     "name": "stderr",
     "output_type": "stream",
     "text": [
      " 17%|██████▉                                   | 19/115 [01:48<09:52,  6.17s/it]"
     ]
    },
    {
     "name": "stdout",
     "output_type": "stream",
     "text": [
      "Done with file /data/dharp/compounds/datasets//modifiers/df_89.pkl in 51 secs and current size is 51.48% of the original dataset\n",
      "\n",
      "Started with file /data/dharp/compounds/datasets//modifiers/df_73.pkl\n",
      "\n"
     ]
    },
    {
     "name": "stderr",
     "output_type": "stream",
     "text": [
      " 17%|███████▎                                  | 20/115 [02:04<14:08,  8.93s/it]"
     ]
    },
    {
     "name": "stdout",
     "output_type": "stream",
     "text": [
      "Done with file /data/dharp/compounds/datasets//modifiers/df_47.pkl in 73 secs and current size is 47.56% of the original dataset\n",
      "\n",
      "Started with file /data/dharp/compounds/datasets//modifiers/df_77.pkl\n",
      "\n"
     ]
    },
    {
     "name": "stderr",
     "output_type": "stream",
     "text": [
      " 18%|███████▋                                  | 21/115 [02:15<15:08,  9.66s/it]"
     ]
    },
    {
     "name": "stdout",
     "output_type": "stream",
     "text": [
      "Done with file /data/dharp/compounds/datasets//modifiers/df_24.pkl in 43 secs and current size is 50.9% of the original dataset\n",
      "\n",
      "Started with file /data/dharp/compounds/datasets//modifiers/df_80.pkl\n",
      "\n"
     ]
    },
    {
     "name": "stderr",
     "output_type": "stream",
     "text": [
      " 19%|████████                                  | 22/115 [02:26<15:26,  9.96s/it]"
     ]
    },
    {
     "name": "stdout",
     "output_type": "stream",
     "text": [
      "Done with file /data/dharp/compounds/datasets//modifiers/df_113.pkl in 153 secs and current size is 49.51% of the original dataset\n",
      "\n",
      "Started with file /data/dharp/compounds/datasets//modifiers/df_17.pkl\n",
      "\n"
     ]
    },
    {
     "name": "stderr",
     "output_type": "stream",
     "text": [
      " 20%|████████▍                                 | 23/115 [02:35<15:01,  9.80s/it]"
     ]
    },
    {
     "name": "stdout",
     "output_type": "stream",
     "text": [
      "Done with file /data/dharp/compounds/datasets//modifiers/df_73.pkl in 43 secs and current size is 49.78% of the original dataset\n",
      "\n",
      "Started with file /data/dharp/compounds/datasets//modifiers/df_110.pkl\n",
      "\n"
     ]
    },
    {
     "name": "stderr",
     "output_type": "stream",
     "text": [
      " 21%|████████▊                                 | 24/115 [02:48<16:08, 10.65s/it]"
     ]
    },
    {
     "name": "stdout",
     "output_type": "stream",
     "text": [
      "Done with file /data/dharp/compounds/datasets//modifiers/df_111.pkl in 170 secs and current size is 51.0% of the original dataset\n",
      "\n",
      "Started with file /data/dharp/compounds/datasets//modifiers/df_36.pkl\n",
      "\n"
     ]
    },
    {
     "name": "stderr",
     "output_type": "stream",
     "text": [
      " 22%|█████████▏                                | 25/115 [02:53<13:35,  9.06s/it]"
     ]
    },
    {
     "name": "stdout",
     "output_type": "stream",
     "text": [
      "Done with file /data/dharp/compounds/datasets//modifiers/df_8.pkl in 416 secs and current size is 42.75% of the original dataset\n",
      "\n",
      "Started with file /data/dharp/compounds/datasets//modifiers/df_101.pkl\n",
      "\n"
     ]
    },
    {
     "name": "stderr",
     "output_type": "stream",
     "text": [
      " 23%|████████▊                              | 26/115 [08:20<2:34:56, 104.45s/it]"
     ]
    },
    {
     "name": "stdout",
     "output_type": "stream",
     "text": [
      "Done with file /data/dharp/compounds/datasets//modifiers/df_13.pkl in 447 secs and current size is 45.83% of the original dataset\n",
      "\n",
      "Started with file /data/dharp/compounds/datasets//modifiers/df_11.pkl\n",
      "\n"
     ]
    },
    {
     "name": "stderr",
     "output_type": "stream",
     "text": [
      " 23%|█████████▍                              | 27/115 [09:14<2:10:40, 89.10s/it]"
     ]
    }
   ],
   "source": [
    "results=[]\n",
    "n_proc = 50\n",
    "pool = Pool(n_proc)\n",
    "for result in tqdm.tqdm(pool.imap_unordered(mem_reducer, pkl_files), total=len(pkl_files)):\n",
    "    \n",
    "    results.append(result)\n",
    "pool.close()\n",
    "pool.join()    "
   ]
  },
  {
   "cell_type": "code",
   "execution_count": 6,
   "metadata": {},
   "outputs": [],
   "source": [
    "    dfs=results.get()\n",
    "    combined_df=pd.concat(dfs,ignore_index=True,sort=True)\n",
    "    \n",
    "    \n",
    "    df_reduced=combined_df.groupby(['modifier','context','year'],observed=True)['count'].sum().to_frame().reset_index()\n",
    "    "
   ]
  },
  {
   "cell_type": "code",
   "execution_count": 7,
   "metadata": {},
   "outputs": [
    {
     "name": "stdout",
     "output_type": "stream",
     "text": [
      "<class 'pandas.core.frame.DataFrame'>\n",
      "RangeIndex: 837260093 entries, 0 to 837260092\n",
      "Data columns (total 4 columns):\n",
      " #   Column    Dtype   \n",
      "---  ------    -----   \n",
      " 0   modifier  category\n",
      " 1   context   category\n",
      " 2   year      uint64  \n",
      " 3   count     int64   \n",
      "dtypes: category(2), int64(1), uint64(1)\n",
      "memory usage: 18.7 GB\n"
     ]
    }
   ],
   "source": [
    "df_reduced.info()"
   ]
  },
  {
   "cell_type": "code",
   "execution_count": 8,
   "metadata": {},
   "outputs": [
    {
     "data": {
      "text/html": [
       "<div>\n",
       "<style scoped>\n",
       "    .dataframe tbody tr th:only-of-type {\n",
       "        vertical-align: middle;\n",
       "    }\n",
       "\n",
       "    .dataframe tbody tr th {\n",
       "        vertical-align: top;\n",
       "    }\n",
       "\n",
       "    .dataframe thead th {\n",
       "        text-align: right;\n",
       "    }\n",
       "</style>\n",
       "<table border=\"1\" class=\"dataframe\">\n",
       "  <thead>\n",
       "    <tr style=\"text-align: right;\">\n",
       "      <th></th>\n",
       "      <th>modifier</th>\n",
       "      <th>context</th>\n",
       "      <th>year</th>\n",
       "      <th>count</th>\n",
       "    </tr>\n",
       "  </thead>\n",
       "  <tbody>\n",
       "    <tr>\n",
       "      <th>0</th>\n",
       "      <td>a_NOUN</td>\n",
       "      <td>=_NOUN</td>\n",
       "      <td>1805</td>\n",
       "      <td>1</td>\n",
       "    </tr>\n",
       "    <tr>\n",
       "      <th>1</th>\n",
       "      <td>a_NOUN</td>\n",
       "      <td>=_NOUN</td>\n",
       "      <td>1807</td>\n",
       "      <td>3</td>\n",
       "    </tr>\n",
       "    <tr>\n",
       "      <th>2</th>\n",
       "      <td>a_NOUN</td>\n",
       "      <td>=_NOUN</td>\n",
       "      <td>1810</td>\n",
       "      <td>2</td>\n",
       "    </tr>\n",
       "    <tr>\n",
       "      <th>3</th>\n",
       "      <td>a_NOUN</td>\n",
       "      <td>=_NOUN</td>\n",
       "      <td>1813</td>\n",
       "      <td>1</td>\n",
       "    </tr>\n",
       "    <tr>\n",
       "      <th>4</th>\n",
       "      <td>a_NOUN</td>\n",
       "      <td>=_NOUN</td>\n",
       "      <td>1815</td>\n",
       "      <td>9</td>\n",
       "    </tr>\n",
       "    <tr>\n",
       "      <th>...</th>\n",
       "      <td>...</td>\n",
       "      <td>...</td>\n",
       "      <td>...</td>\n",
       "      <td>...</td>\n",
       "    </tr>\n",
       "    <tr>\n",
       "      <th>837260088</th>\n",
       "      <td>zitza_PROPN</td>\n",
       "      <td>far_ADV</td>\n",
       "      <td>1972</td>\n",
       "      <td>1</td>\n",
       "    </tr>\n",
       "    <tr>\n",
       "      <th>837260089</th>\n",
       "      <td>zitza_PROPN</td>\n",
       "      <td>far_ADV</td>\n",
       "      <td>1980</td>\n",
       "      <td>2</td>\n",
       "    </tr>\n",
       "    <tr>\n",
       "      <th>837260090</th>\n",
       "      <td>zitza_PROPN</td>\n",
       "      <td>far_ADV</td>\n",
       "      <td>1986</td>\n",
       "      <td>2</td>\n",
       "    </tr>\n",
       "    <tr>\n",
       "      <th>837260091</th>\n",
       "      <td>zitza_PROPN</td>\n",
       "      <td>far_ADV</td>\n",
       "      <td>2006</td>\n",
       "      <td>1</td>\n",
       "    </tr>\n",
       "    <tr>\n",
       "      <th>837260092</th>\n",
       "      <td>zitza_PROPN</td>\n",
       "      <td>far_ADV</td>\n",
       "      <td>2009</td>\n",
       "      <td>1</td>\n",
       "    </tr>\n",
       "  </tbody>\n",
       "</table>\n",
       "<p>837260093 rows × 4 columns</p>\n",
       "</div>"
      ],
      "text/plain": [
       "              modifier  context  year  count\n",
       "0               a_NOUN   =_NOUN  1805      1\n",
       "1               a_NOUN   =_NOUN  1807      3\n",
       "2               a_NOUN   =_NOUN  1810      2\n",
       "3               a_NOUN   =_NOUN  1813      1\n",
       "4               a_NOUN   =_NOUN  1815      9\n",
       "...                ...      ...   ...    ...\n",
       "837260088  zitza_PROPN  far_ADV  1972      1\n",
       "837260089  zitza_PROPN  far_ADV  1980      2\n",
       "837260090  zitza_PROPN  far_ADV  1986      2\n",
       "837260091  zitza_PROPN  far_ADV  2006      1\n",
       "837260092  zitza_PROPN  far_ADV  2009      1\n",
       "\n",
       "[837260093 rows x 4 columns]"
      ]
     },
     "execution_count": 8,
     "metadata": {},
     "output_type": "execute_result"
    }
   ],
   "source": [
    "df_reduced"
   ]
  },
  {
   "cell_type": "code",
   "execution_count": 24,
   "metadata": {},
   "outputs": [
    {
     "name": "stdout",
     "output_type": "stream",
     "text": [
      "CPU times: user 5 µs, sys: 1e+03 ns, total: 6 µs\n",
      "Wall time: 14.3 µs\n"
     ]
    }
   ],
   "source": [
    "%time\n",
    "df_normal=trial_df.groupby(['modifier','head','context','year'])['count'].sum().to_frame().reset_index()"
   ]
  },
  {
   "cell_type": "code",
   "execution_count": 15,
   "metadata": {},
   "outputs": [
    {
     "data": {
      "text/html": [
       "<div>\n",
       "<style scoped>\n",
       "    .dataframe tbody tr th:only-of-type {\n",
       "        vertical-align: middle;\n",
       "    }\n",
       "\n",
       "    .dataframe tbody tr th {\n",
       "        vertical-align: top;\n",
       "    }\n",
       "\n",
       "    .dataframe thead th {\n",
       "        text-align: right;\n",
       "    }\n",
       "</style>\n",
       "<table border=\"1\" class=\"dataframe\">\n",
       "  <thead>\n",
       "    <tr style=\"text-align: right;\">\n",
       "      <th></th>\n",
       "      <th>context</th>\n",
       "      <th>count</th>\n",
       "      <th>modifier</th>\n",
       "      <th>year</th>\n",
       "    </tr>\n",
       "  </thead>\n",
       "  <tbody>\n",
       "    <tr>\n",
       "      <th>0</th>\n",
       "      <td>=_NOUN</td>\n",
       "      <td>1</td>\n",
       "      <td>a_NOUN</td>\n",
       "      <td>1805</td>\n",
       "    </tr>\n",
       "    <tr>\n",
       "      <th>1</th>\n",
       "      <td>=_NOUN</td>\n",
       "      <td>7</td>\n",
       "      <td>a_NOUN</td>\n",
       "      <td>1879</td>\n",
       "    </tr>\n",
       "    <tr>\n",
       "      <th>2</th>\n",
       "      <td>=_NOUN</td>\n",
       "      <td>1</td>\n",
       "      <td>a_NOUN</td>\n",
       "      <td>1884</td>\n",
       "    </tr>\n",
       "    <tr>\n",
       "      <th>3</th>\n",
       "      <td>=_NOUN</td>\n",
       "      <td>1</td>\n",
       "      <td>a_NOUN</td>\n",
       "      <td>1887</td>\n",
       "    </tr>\n",
       "    <tr>\n",
       "      <th>4</th>\n",
       "      <td>=_NOUN</td>\n",
       "      <td>2</td>\n",
       "      <td>a_NOUN</td>\n",
       "      <td>1893</td>\n",
       "    </tr>\n",
       "    <tr>\n",
       "      <th>...</th>\n",
       "      <td>...</td>\n",
       "      <td>...</td>\n",
       "      <td>...</td>\n",
       "      <td>...</td>\n",
       "    </tr>\n",
       "    <tr>\n",
       "      <th>515273351</th>\n",
       "      <td>stock_NOUN</td>\n",
       "      <td>2</td>\n",
       "      <td>zyx_PROPN</td>\n",
       "      <td>2012</td>\n",
       "    </tr>\n",
       "    <tr>\n",
       "      <th>515273352</th>\n",
       "      <td>stock_NOUN</td>\n",
       "      <td>2</td>\n",
       "      <td>zyx_PROPN</td>\n",
       "      <td>2013</td>\n",
       "    </tr>\n",
       "    <tr>\n",
       "      <th>515273353</th>\n",
       "      <td>stock_NOUN</td>\n",
       "      <td>3</td>\n",
       "      <td>zyx_PROPN</td>\n",
       "      <td>2014</td>\n",
       "    </tr>\n",
       "    <tr>\n",
       "      <th>515273354</th>\n",
       "      <td>stock_NOUN</td>\n",
       "      <td>2</td>\n",
       "      <td>zyx_PROPN</td>\n",
       "      <td>2015</td>\n",
       "    </tr>\n",
       "    <tr>\n",
       "      <th>515273355</th>\n",
       "      <td>stock_NOUN</td>\n",
       "      <td>4</td>\n",
       "      <td>zyx_PROPN</td>\n",
       "      <td>2016</td>\n",
       "    </tr>\n",
       "  </tbody>\n",
       "</table>\n",
       "<p>515273356 rows × 4 columns</p>\n",
       "</div>"
      ],
      "text/plain": [
       "              context  count   modifier  year\n",
       "0              =_NOUN      1     a_NOUN  1805\n",
       "1              =_NOUN      7     a_NOUN  1879\n",
       "2              =_NOUN      1     a_NOUN  1884\n",
       "3              =_NOUN      1     a_NOUN  1887\n",
       "4              =_NOUN      2     a_NOUN  1893\n",
       "...               ...    ...        ...   ...\n",
       "515273351  stock_NOUN      2  zyx_PROPN  2012\n",
       "515273352  stock_NOUN      2  zyx_PROPN  2013\n",
       "515273353  stock_NOUN      3  zyx_PROPN  2014\n",
       "515273354  stock_NOUN      2  zyx_PROPN  2015\n",
       "515273355  stock_NOUN      4  zyx_PROPN  2016\n",
       "\n",
       "[515273356 rows x 4 columns]"
      ]
     },
     "execution_count": 15,
     "metadata": {},
     "output_type": "execute_result"
    }
   ],
   "source": [
    "combined_df"
   ]
  },
  {
   "cell_type": "code",
   "execution_count": 16,
   "metadata": {},
   "outputs": [
    {
     "data": {
      "text/plain": [
       "0.6549246998131221"
      ]
     },
     "execution_count": 16,
     "metadata": {},
     "output_type": "execute_result"
    }
   ],
   "source": [
    "337465248/515273356"
   ]
  },
  {
   "cell_type": "code",
   "execution_count": 18,
   "metadata": {},
   "outputs": [],
   "source": [
    "def summer(df):\n",
    "    return db['count'].sum()"
   ]
  },
  {
   "cell_type": "code",
   "execution_count": 29,
   "metadata": {},
   "outputs": [
    {
     "data": {
      "application/vnd.jupyter.widget-view+json": {
       "model_id": "2b6274314543489e834ad71fdf19ca17",
       "version_major": 2,
       "version_minor": 0
      },
      "text/plain": [
       "VBox(children=(HBox(children=(IntProgress(value=0, description='0.00%', max=124958), Label(value='0 / 124958')…"
      ]
     },
     "metadata": {},
     "output_type": "display_data"
    },
    {
     "ename": "EOFError",
     "evalue": "Ran out of input",
     "output_type": "error",
     "traceback": [
      "\u001b[0;31m---------------------------------------------------------------------------\u001b[0m",
      "\u001b[0;31mEOFError\u001b[0m                                  Traceback (most recent call last)",
      "Input \u001b[0;32mIn [29]\u001b[0m, in \u001b[0;36m<cell line: 1>\u001b[0;34m()\u001b[0m\n\u001b[0;32m----> 1\u001b[0m df_parallel\u001b[38;5;241m=\u001b[39m\u001b[43mtrial_df\u001b[49m\u001b[38;5;241;43m.\u001b[39;49m\u001b[43mgroupby\u001b[49m\u001b[43m(\u001b[49m\u001b[43m[\u001b[49m\u001b[38;5;124;43m'\u001b[39;49m\u001b[38;5;124;43mmodifier\u001b[39;49m\u001b[38;5;124;43m'\u001b[39;49m\u001b[43m,\u001b[49m\u001b[38;5;124;43m'\u001b[39;49m\u001b[38;5;124;43mhead\u001b[39;49m\u001b[38;5;124;43m'\u001b[39;49m\u001b[43m,\u001b[49m\u001b[38;5;124;43m'\u001b[39;49m\u001b[38;5;124;43mcontext\u001b[39;49m\u001b[38;5;124;43m'\u001b[39;49m\u001b[43m,\u001b[49m\u001b[38;5;124;43m'\u001b[39;49m\u001b[38;5;124;43myear\u001b[39;49m\u001b[38;5;124;43m'\u001b[39;49m\u001b[43m]\u001b[49m\u001b[43m)\u001b[49m\u001b[38;5;241;43m.\u001b[39;49m\u001b[43mparallel_apply\u001b[49m\u001b[43m(\u001b[49m\u001b[43msummer\u001b[49m\u001b[43m)\u001b[49m\n",
      "File \u001b[0;32m/data/dharp/packages/miniconda3/lib/python3.9/site-packages/pandarallel/core.py:324\u001b[0m, in \u001b[0;36mparallelize_with_memory_file_system.<locals>.closure\u001b[0;34m(data, user_defined_function, *user_defined_function_args, **user_defined_function_kwargs)\u001b[0m\n\u001b[1;32m    321\u001b[0m             progress_bars\u001b[38;5;241m.\u001b[39mset_error(worker_index)\n\u001b[1;32m    322\u001b[0m             progress_bars\u001b[38;5;241m.\u001b[39mupdate(progresses)\n\u001b[0;32m--> 324\u001b[0m     \u001b[38;5;28;01mreturn\u001b[39;00m \u001b[43mwrapped_reduce_function\u001b[49m\u001b[43m(\u001b[49m\n\u001b[1;32m    325\u001b[0m \u001b[43m        \u001b[49m\u001b[43m(\u001b[49m\u001b[43mPath\u001b[49m\u001b[43m(\u001b[49m\u001b[43moutput_file\u001b[49m\u001b[38;5;241;43m.\u001b[39;49m\u001b[43mname\u001b[49m\u001b[43m)\u001b[49m\u001b[43m \u001b[49m\u001b[38;5;28;43;01mfor\u001b[39;49;00m\u001b[43m \u001b[49m\u001b[43moutput_file\u001b[49m\u001b[43m \u001b[49m\u001b[38;5;129;43;01min\u001b[39;49;00m\u001b[43m \u001b[49m\u001b[43moutput_files\u001b[49m\u001b[43m)\u001b[49m\u001b[43m,\u001b[49m\n\u001b[1;32m    326\u001b[0m \u001b[43m        \u001b[49m\u001b[43mreduce_extra\u001b[49m\u001b[43m,\u001b[49m\n\u001b[1;32m    327\u001b[0m \u001b[43m    \u001b[49m\u001b[43m)\u001b[49m\n\u001b[1;32m    329\u001b[0m \u001b[38;5;28;01mfinally\u001b[39;00m:\n\u001b[1;32m    330\u001b[0m     \u001b[38;5;28;01mfor\u001b[39;00m output_file \u001b[38;5;129;01min\u001b[39;00m output_files:\n\u001b[1;32m    331\u001b[0m         \u001b[38;5;66;03m# When pandarallel stop supporting Python 3.7 and older, replace this\u001b[39;00m\n\u001b[1;32m    332\u001b[0m         \u001b[38;5;66;03m# try/except clause by:\u001b[39;00m\n\u001b[1;32m    333\u001b[0m         \u001b[38;5;66;03m# Path(output_file.name).unlink(missing_ok=True)\u001b[39;00m\n",
      "File \u001b[0;32m/data/dharp/packages/miniconda3/lib/python3.9/site-packages/pandarallel/core.py:199\u001b[0m, in \u001b[0;36mwrap_reduce_function_for_file_system.<locals>.closure\u001b[0;34m(output_file_paths, extra)\u001b[0m\n\u001b[1;32m    192\u001b[0m     \u001b[38;5;28;01mreturn\u001b[39;00m data\n\u001b[1;32m    194\u001b[0m dfs \u001b[38;5;241m=\u001b[39m (\n\u001b[1;32m    195\u001b[0m     get_dataframe_and_delete_file(output_file_path)\n\u001b[1;32m    196\u001b[0m     \u001b[38;5;28;01mfor\u001b[39;00m output_file_path \u001b[38;5;129;01min\u001b[39;00m output_file_paths\n\u001b[1;32m    197\u001b[0m )\n\u001b[0;32m--> 199\u001b[0m \u001b[38;5;28;01mreturn\u001b[39;00m \u001b[43mreduce_function\u001b[49m\u001b[43m(\u001b[49m\u001b[43mdfs\u001b[49m\u001b[43m,\u001b[49m\u001b[43m \u001b[49m\u001b[43mextra\u001b[49m\u001b[43m)\u001b[49m\n",
      "File \u001b[0;32m/data/dharp/packages/miniconda3/lib/python3.9/site-packages/pandarallel/data_types/dataframe_groupby.py:71\u001b[0m, in \u001b[0;36mDataFrameGroupBy.Apply.reduce\u001b[0;34m(datas, extra)\u001b[0m\n\u001b[1;32m     68\u001b[0m df_groupby: PandasDataFrameGroupBy \u001b[38;5;241m=\u001b[39m extra[\u001b[38;5;124m\"\u001b[39m\u001b[38;5;124mdf_groupby\u001b[39m\u001b[38;5;124m\"\u001b[39m]\n\u001b[1;32m     70\u001b[0m results \u001b[38;5;241m=\u001b[39m itertools\u001b[38;5;241m.\u001b[39mchain\u001b[38;5;241m.\u001b[39mfrom_iterable(datas)\n\u001b[0;32m---> 71\u001b[0m keys, values, mutated \u001b[38;5;241m=\u001b[39m \u001b[38;5;28;43mzip\u001b[39;49m\u001b[43m(\u001b[49m\u001b[38;5;241;43m*\u001b[39;49m\u001b[43mresults\u001b[49m\u001b[43m)\u001b[49m\n\u001b[1;32m     73\u001b[0m keys \u001b[38;5;241m=\u001b[39m cast(List[\u001b[38;5;28mint\u001b[39m], keys)\n\u001b[1;32m     74\u001b[0m values \u001b[38;5;241m=\u001b[39m cast(List[pd\u001b[38;5;241m.\u001b[39mDataFrame], values)\n",
      "File \u001b[0;32m/data/dharp/packages/miniconda3/lib/python3.9/site-packages/pandarallel/core.py:195\u001b[0m, in \u001b[0;36m<genexpr>\u001b[0;34m(.0)\u001b[0m\n\u001b[1;32m    191\u001b[0m     file_path\u001b[38;5;241m.\u001b[39munlink()\n\u001b[1;32m    192\u001b[0m     \u001b[38;5;28;01mreturn\u001b[39;00m data\n\u001b[1;32m    194\u001b[0m dfs \u001b[38;5;241m=\u001b[39m (\n\u001b[0;32m--> 195\u001b[0m     \u001b[43mget_dataframe_and_delete_file\u001b[49m\u001b[43m(\u001b[49m\u001b[43moutput_file_path\u001b[49m\u001b[43m)\u001b[49m\n\u001b[1;32m    196\u001b[0m     \u001b[38;5;28;01mfor\u001b[39;00m output_file_path \u001b[38;5;129;01min\u001b[39;00m output_file_paths\n\u001b[1;32m    197\u001b[0m )\n\u001b[1;32m    199\u001b[0m \u001b[38;5;28;01mreturn\u001b[39;00m reduce_function(dfs, extra)\n",
      "File \u001b[0;32m/data/dharp/packages/miniconda3/lib/python3.9/site-packages/pandarallel/core.py:189\u001b[0m, in \u001b[0;36mwrap_reduce_function_for_file_system.<locals>.closure.<locals>.get_dataframe_and_delete_file\u001b[0;34m(file_path)\u001b[0m\n\u001b[1;32m    187\u001b[0m \u001b[38;5;28;01mdef\u001b[39;00m \u001b[38;5;21mget_dataframe_and_delete_file\u001b[39m(file_path: Path) \u001b[38;5;241m-\u001b[39m\u001b[38;5;241m>\u001b[39m Any:\n\u001b[1;32m    188\u001b[0m     \u001b[38;5;28;01mwith\u001b[39;00m file_path\u001b[38;5;241m.\u001b[39mopen(\u001b[38;5;124m\"\u001b[39m\u001b[38;5;124mrb\u001b[39m\u001b[38;5;124m\"\u001b[39m) \u001b[38;5;28;01mas\u001b[39;00m file_descriptor:\n\u001b[0;32m--> 189\u001b[0m         data \u001b[38;5;241m=\u001b[39m \u001b[43mpickle\u001b[49m\u001b[38;5;241;43m.\u001b[39;49m\u001b[43mload\u001b[49m\u001b[43m(\u001b[49m\u001b[43mfile_descriptor\u001b[49m\u001b[43m)\u001b[49m\n\u001b[1;32m    191\u001b[0m     file_path\u001b[38;5;241m.\u001b[39munlink()\n\u001b[1;32m    192\u001b[0m     \u001b[38;5;28;01mreturn\u001b[39;00m data\n",
      "\u001b[0;31mEOFError\u001b[0m: Ran out of input"
     ]
    }
   ],
   "source": [
    "df_parallel=trial_df.groupby(['modifier','head','context','year']).parallel_apply(summer)"
   ]
  }
 ],
 "metadata": {
  "kernelspec": {
   "display_name": "Python 3 (ipykernel)",
   "language": "python",
   "name": "python3"
  },
  "language_info": {
   "codemirror_mode": {
    "name": "ipython",
    "version": 3
   },
   "file_extension": ".py",
   "mimetype": "text/x-python",
   "name": "python",
   "nbconvert_exporter": "python",
   "pygments_lexer": "ipython3",
   "version": "3.9.13"
  }
 },
 "nbformat": 4,
 "nbformat_minor": 4
}
