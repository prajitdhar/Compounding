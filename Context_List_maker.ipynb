{
 "cells": [
  {
   "cell_type": "raw",
   "id": "62227189-f435-4122-987b-57f283449c2f",
   "metadata": {},
   "source": [
    "import pandas as pd\n",
    "import argparse\n",
    "import glob, os\n",
    "import seaborn as sns"
   ]
  },
  {
   "cell_type": "code",
   "execution_count": 2,
   "id": "e4158cb2-7fb8-47de-b71d-59c25ee66652",
   "metadata": {},
   "outputs": [],
   "source": [
    "def year_binner(year,val=10):\n",
    "    return year - year%val"
   ]
  },
  {
   "cell_type": "code",
   "execution_count": 19,
   "id": "88619f8f-0641-4852-97b3-1680866af69e",
   "metadata": {},
   "outputs": [],
   "source": [
    "all_context_files=[]\n",
    "contextlen=50_000\n",
    "time_freq=0\n",
    "from_path='/data/dharp/compounds/datasets/contexts/no_ner'\n",
    "to_path='/data/dharp/compounds/datasets/contexts/no_ner'\n",
    "for filename in glob.glob(from_path+'*csv'):\n",
    "    all_context_files.append(filename)"
   ]
  },
  {
   "cell_type": "code",
   "execution_count": 4,
   "id": "f6741ab0-c44b-40dc-8ff2-ac0f1005172d",
   "metadata": {},
   "outputs": [],
   "source": [
    "context_dfs=[]\n",
    "for f in all_context_files:\n",
    "    df = pd.read_csv(f,sep=\"\\t\")\n",
    "    context_dfs.append(df)"
   ]
  },
  {
   "cell_type": "code",
   "execution_count": 5,
   "id": "9f3e3bb0-5eb3-464f-abaf-5e33bbaa47a2",
   "metadata": {},
   "outputs": [
    {
     "name": "stdout",
     "output_type": "stream",
     "text": [
      "<class 'pandas.core.frame.DataFrame'>\n",
      "RangeIndex: 322282832 entries, 0 to 322282831\n",
      "Data columns (total 4 columns):\n",
      " #   Column  Dtype \n",
      "---  ------  ----- \n",
      " 0   word    object\n",
      " 1   pos     object\n",
      " 2   year    int64 \n",
      " 3   count   int64 \n",
      "dtypes: int64(2), object(2)\n",
      "memory usage: 9.6+ GB\n"
     ]
    },
    {
     "data": {
      "text/html": [
       "<div>\n",
       "<style scoped>\n",
       "    .dataframe tbody tr th:only-of-type {\n",
       "        vertical-align: middle;\n",
       "    }\n",
       "\n",
       "    .dataframe tbody tr th {\n",
       "        vertical-align: top;\n",
       "    }\n",
       "\n",
       "    .dataframe thead th {\n",
       "        text-align: right;\n",
       "    }\n",
       "</style>\n",
       "<table border=\"1\" class=\"dataframe\">\n",
       "  <thead>\n",
       "    <tr style=\"text-align: right;\">\n",
       "      <th></th>\n",
       "      <th>word</th>\n",
       "      <th>pos</th>\n",
       "      <th>year</th>\n",
       "      <th>count</th>\n",
       "    </tr>\n",
       "  </thead>\n",
       "  <tbody>\n",
       "    <tr>\n",
       "      <th>0</th>\n",
       "      <td>\"</td>\n",
       "      <td>NOUN</td>\n",
       "      <td>1883</td>\n",
       "      <td>3</td>\n",
       "    </tr>\n",
       "    <tr>\n",
       "      <th>1</th>\n",
       "      <td>\"</td>\n",
       "      <td>NOUN</td>\n",
       "      <td>1884</td>\n",
       "      <td>1</td>\n",
       "    </tr>\n",
       "    <tr>\n",
       "      <th>2</th>\n",
       "      <td>\"</td>\n",
       "      <td>NOUN</td>\n",
       "      <td>1885</td>\n",
       "      <td>1</td>\n",
       "    </tr>\n",
       "    <tr>\n",
       "      <th>3</th>\n",
       "      <td>\"</td>\n",
       "      <td>NOUN</td>\n",
       "      <td>1886</td>\n",
       "      <td>1</td>\n",
       "    </tr>\n",
       "    <tr>\n",
       "      <th>4</th>\n",
       "      <td>\"</td>\n",
       "      <td>NOUN</td>\n",
       "      <td>1888</td>\n",
       "      <td>1</td>\n",
       "    </tr>\n",
       "    <tr>\n",
       "      <th>...</th>\n",
       "      <td>...</td>\n",
       "      <td>...</td>\n",
       "      <td>...</td>\n",
       "      <td>...</td>\n",
       "    </tr>\n",
       "    <tr>\n",
       "      <th>322282827</th>\n",
       "      <td></td>\n",
       "      <td>NOUN</td>\n",
       "      <td>2004</td>\n",
       "      <td>23</td>\n",
       "    </tr>\n",
       "    <tr>\n",
       "      <th>322282828</th>\n",
       "      <td></td>\n",
       "      <td>NOUN</td>\n",
       "      <td>2005</td>\n",
       "      <td>29</td>\n",
       "    </tr>\n",
       "    <tr>\n",
       "      <th>322282829</th>\n",
       "      <td></td>\n",
       "      <td>NOUN</td>\n",
       "      <td>2006</td>\n",
       "      <td>20</td>\n",
       "    </tr>\n",
       "    <tr>\n",
       "      <th>322282830</th>\n",
       "      <td></td>\n",
       "      <td>NOUN</td>\n",
       "      <td>2007</td>\n",
       "      <td>8</td>\n",
       "    </tr>\n",
       "    <tr>\n",
       "      <th>322282831</th>\n",
       "      <td></td>\n",
       "      <td>NOUN</td>\n",
       "      <td>2008</td>\n",
       "      <td>5</td>\n",
       "    </tr>\n",
       "  </tbody>\n",
       "</table>\n",
       "<p>322282832 rows × 4 columns</p>\n",
       "</div>"
      ],
      "text/plain": [
       "          word   pos  year  count\n",
       "0            \"  NOUN  1883      3\n",
       "1            \"  NOUN  1884      1\n",
       "2            \"  NOUN  1885      1\n",
       "3            \"  NOUN  1886      1\n",
       "4            \"  NOUN  1888      1\n",
       "...        ...   ...   ...    ...\n",
       "322282827      NOUN  2004     23\n",
       "322282828      NOUN  2005     29\n",
       "322282829      NOUN  2006     20\n",
       "322282830      NOUN  2007      8\n",
       "322282831      NOUN  2008      5\n",
       "\n",
       "[322282832 rows x 4 columns]"
      ]
     },
     "execution_count": 5,
     "metadata": {},
     "output_type": "execute_result"
    }
   ],
   "source": [
    "context_df=pd.concat(context_dfs,ignore_index=True)\n",
    "context_df.info()\n",
    "context_df"
   ]
  },
  {
   "cell_type": "code",
   "execution_count": 14,
   "id": "e1dd7aca-457e-40dd-9222-83b3941dda84",
   "metadata": {},
   "outputs": [
    {
     "data": {
      "text/plain": [
       "NOUN    0.743066\n",
       "ADJ     0.142027\n",
       "VERB    0.086661\n",
       "ADV     0.028246\n",
       "Name: pos, dtype: float64"
      ]
     },
     "execution_count": 14,
     "metadata": {},
     "output_type": "execute_result"
    }
   ],
   "source": [
    "context_df.pos.value_counts(normalize=True)"
   ]
  },
  {
   "cell_type": "code",
   "execution_count": 6,
   "id": "d240b454-bcdf-4a5e-820b-55a5256c60e0",
   "metadata": {},
   "outputs": [],
   "source": [
    "selection_df=context_df.groupby(['word','pos'])['count'].sum()"
   ]
  },
  {
   "cell_type": "code",
   "execution_count": 15,
   "id": "ea92452e-b983-4d09-84d6-86c62b8b0f59",
   "metadata": {},
   "outputs": [
    {
     "data": {
      "text/plain": [
       "NOUN    0.72018\n",
       "ADJ     0.15950\n",
       "VERB    0.09196\n",
       "ADV     0.02836\n",
       "Name: pos, dtype: float64"
      ]
     },
     "execution_count": 15,
     "metadata": {},
     "output_type": "execute_result"
    }
   ],
   "source": [
    "final_choice_df=selection_df.sort_values(ascending=False).head(50_000).to_frame()\n",
    "final_choice_df.reset_index(inplace=True)\n",
    "final_choice_df.pos.value_counts(normalize=True)"
   ]
  },
  {
   "cell_type": "code",
   "execution_count": 22,
   "id": "13df873b-3a43-4d35-8d32-b5118bba6f0b",
   "metadata": {},
   "outputs": [],
   "source": [
    "final_choice_df['word_pos']=final_choice_df.word+\"_\"+final_choice_df.pos\n",
    "final_choice_df.word_pos.to_csv(f'{to_path}_{time_freq}_{contextlen}.txt',index=False,sep=\"\\t\",header=False)"
   ]
  },
  {
   "cell_type": "code",
   "execution_count": 31,
   "id": "5721f6a2-676f-4db3-884e-ddcc14e99da7",
   "metadata": {},
   "outputs": [
    {
     "data": {
      "text/html": [
       "<div>\n",
       "<style scoped>\n",
       "    .dataframe tbody tr th:only-of-type {\n",
       "        vertical-align: middle;\n",
       "    }\n",
       "\n",
       "    .dataframe tbody tr th {\n",
       "        vertical-align: top;\n",
       "    }\n",
       "\n",
       "    .dataframe thead th {\n",
       "        text-align: right;\n",
       "    }\n",
       "</style>\n",
       "<table border=\"1\" class=\"dataframe\">\n",
       "  <thead>\n",
       "    <tr style=\"text-align: right;\">\n",
       "      <th></th>\n",
       "      <th>year</th>\n",
       "      <th>count</th>\n",
       "      <th>perc_count</th>\n",
       "      <th>decade</th>\n",
       "    </tr>\n",
       "  </thead>\n",
       "  <tbody>\n",
       "    <tr>\n",
       "      <th>0</th>\n",
       "      <td>1505</td>\n",
       "      <td>6163</td>\n",
       "      <td>0.000004</td>\n",
       "      <td>1500</td>\n",
       "    </tr>\n",
       "    <tr>\n",
       "      <th>1</th>\n",
       "      <td>1507</td>\n",
       "      <td>11206</td>\n",
       "      <td>0.000007</td>\n",
       "      <td>1500</td>\n",
       "    </tr>\n",
       "    <tr>\n",
       "      <th>2</th>\n",
       "      <td>1515</td>\n",
       "      <td>102942</td>\n",
       "      <td>0.000064</td>\n",
       "      <td>1510</td>\n",
       "    </tr>\n",
       "    <tr>\n",
       "      <th>3</th>\n",
       "      <td>1520</td>\n",
       "      <td>17273</td>\n",
       "      <td>0.000011</td>\n",
       "      <td>1520</td>\n",
       "    </tr>\n",
       "    <tr>\n",
       "      <th>4</th>\n",
       "      <td>1524</td>\n",
       "      <td>84882</td>\n",
       "      <td>0.000053</td>\n",
       "      <td>1520</td>\n",
       "    </tr>\n",
       "    <tr>\n",
       "      <th>...</th>\n",
       "      <td>...</td>\n",
       "      <td>...</td>\n",
       "      <td>...</td>\n",
       "      <td>...</td>\n",
       "    </tr>\n",
       "    <tr>\n",
       "      <th>420</th>\n",
       "      <td>2004</td>\n",
       "      <td>4681134168</td>\n",
       "      <td>2.918487</td>\n",
       "      <td>2000</td>\n",
       "    </tr>\n",
       "    <tr>\n",
       "      <th>421</th>\n",
       "      <td>2005</td>\n",
       "      <td>4516973528</td>\n",
       "      <td>2.816140</td>\n",
       "      <td>2000</td>\n",
       "    </tr>\n",
       "    <tr>\n",
       "      <th>422</th>\n",
       "      <td>2006</td>\n",
       "      <td>4868528617</td>\n",
       "      <td>3.035320</td>\n",
       "      <td>2000</td>\n",
       "    </tr>\n",
       "    <tr>\n",
       "      <th>423</th>\n",
       "      <td>2007</td>\n",
       "      <td>5214723969</td>\n",
       "      <td>3.251158</td>\n",
       "      <td>2000</td>\n",
       "    </tr>\n",
       "    <tr>\n",
       "      <th>424</th>\n",
       "      <td>2008</td>\n",
       "      <td>6608599160</td>\n",
       "      <td>4.120179</td>\n",
       "      <td>2000</td>\n",
       "    </tr>\n",
       "  </tbody>\n",
       "</table>\n",
       "<p>425 rows × 4 columns</p>\n",
       "</div>"
      ],
      "text/plain": [
       "     year       count  perc_count  decade\n",
       "0    1505        6163    0.000004    1500\n",
       "1    1507       11206    0.000007    1500\n",
       "2    1515      102942    0.000064    1510\n",
       "3    1520       17273    0.000011    1520\n",
       "4    1524       84882    0.000053    1520\n",
       "..    ...         ...         ...     ...\n",
       "420  2004  4681134168    2.918487    2000\n",
       "421  2005  4516973528    2.816140    2000\n",
       "422  2006  4868528617    3.035320    2000\n",
       "423  2007  5214723969    3.251158    2000\n",
       "424  2008  6608599160    4.120179    2000\n",
       "\n",
       "[425 rows x 4 columns]"
      ]
     },
     "execution_count": 31,
     "metadata": {},
     "output_type": "execute_result"
    }
   ],
   "source": [
    "years=context_df.groupby(['year'])['count'].sum().to_frame()\n",
    "years.reset_index(inplace=True)\n",
    "years['perc_count']=years['count']/years['count'].sum()*100\n",
    "years['decade']=year_binner(years['year'])\n",
    "years"
   ]
  },
  {
   "cell_type": "code",
   "execution_count": 29,
   "id": "0a0fc11a-dadd-48c3-b117-e80a10719da1",
   "metadata": {},
   "outputs": [
    {
     "data": {
      "text/plain": [
       "25.72734453696924"
      ]
     },
     "execution_count": 29,
     "metadata": {},
     "output_type": "execute_result"
    }
   ],
   "source": [
    "years.loc[years.year>=2000]['perc_count'].sum()"
   ]
  },
  {
   "cell_type": "code",
   "execution_count": 43,
   "id": "7b1b9e6d-576d-47c5-b3de-92094ad0eb6a",
   "metadata": {},
   "outputs": [
    {
     "data": {
      "image/png": "[encoded data removed]",
      "text/plain": [
       "<Figure size 432x288 with 1 Axes>"
      ]
     },
     "metadata": {
      "needs_background": "light"
     },
     "output_type": "display_data"
    }
   ],
   "source": [
    "g=sns.lineplot(data=years.loc[years.year>=1800], x=\"year\", y=\"perc_count\")\n",
    "#g.set_yscale(\"log\")"
   ]
  },
  {
   "cell_type": "code",
   "execution_count": 44,
   "id": "300895d9-927b-486c-b73c-da3cf026bde9",
   "metadata": {},
   "outputs": [
    {
     "data": {
      "image/png": "[encoded data removed]",
      "text/plain": [
       "<Figure size 432x288 with 1 Axes>"
      ]
     },
     "metadata": {
      "needs_background": "light"
     },
     "output_type": "display_data"
    }
   ],
   "source": [
    "g=sns.lineplot(data=years.loc[years.year>=1800], x=\"decade\", y=\"perc_count\")\n",
    "#g.set_yscale(\"log\")"
   ]
  }
 ],
 "metadata": {
  "kernelspec": {
   "display_name": "Python 3 (ipykernel)",
   "language": "python",
   "name": "python3"
  },
  "language_info": {
   "codemirror_mode": {
    "name": "ipython",
    "version": 3
   },
   "file_extension": ".py",
   "mimetype": "text/x-python",
   "name": "python",
   "nbconvert_exporter": "python",
   "pygments_lexer": "ipython3",
   "version": "3.9.7"
  }
 },
 "nbformat": 4,
 "nbformat_minor": 5
}
