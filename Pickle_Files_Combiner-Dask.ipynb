{
 "cells": [
  {
   "cell_type": "code",
   "execution_count": 1,
   "metadata": {},
   "outputs": [],
   "source": [
    "import random\n",
    "import pandas as pd\n",
    "import glob\n",
    "import os\n",
    "import numpy as np\n",
    "import pickle as pkl\n",
    "import time\n",
    "import multiprocessing as mp\n",
    "from multiprocessing import Pool\n",
    "import re\n",
    "import argparse\n",
    "import tqdm"
   ]
  },
  {
   "cell_type": "code",
   "execution_count": 2,
   "metadata": {},
   "outputs": [],
   "source": [
    "parser = argparse.ArgumentParser(description='Program to combine pickle data into one file for all settings')\n",
    "\n",
    "parser.add_argument('--setting', type=str,\n",
    "                    help='comp:Compounds mod:Modifiers head:Heads phr:Phrases const:Constituent')\n",
    "parser.add_argument('--spath', type=str,\n",
    "                    help='directory where to save output')\n",
    "\n",
    "args = parser.parse_args(\"--setting const --spath /data/dharp/compounds/datasets/\".split())\n",
    "\n",
    "\n",
    "\n",
    "if args.setting==\"comp\":\n",
    "    pkl_files=glob.glob(f'{args.spath}/compounds/*pkl')\n",
    "    modifiers=pd.read_pickle(f'{args.spath}/contexts/modifiers.pkl')\n",
    "    heads=pd.read_pickle(f'{args.spath}/contexts/heads.pkl')\n",
    "    \n",
    "elif args.setting==\"mod\":\n",
    "    pkl_files=glob.glob(f'{args.spath}/modifiers/*pkl')\n",
    "    modifiers=pd.read_pickle(f'{args.spath}/contexts/modifiers.pkl')\n",
    "    \n",
    "elif args.setting==\"head\":\n",
    "    pkl_files=glob.glob(f'{args.spath}/heads/*pkl')\n",
    "    heads=pd.read_pickle(f'{args.spath}/contexts/heads.pkl')\n",
    "\n",
    "    \n",
    "elif args.setting==\"phr\":\n",
    "    pkl_files=glob.glob(f'{args.spath}/phrases/*pkl')\n",
    "    \n",
    "elif args.setting==\"const\":\n",
    "    pkl_files=glob.glob(f'{args.spath}/words/*pkl')\n",
    "    constituents=pd.read_pickle(f'{args.spath}/contexts/constituents.pkl')\n",
    "\n",
    "    \n",
    "random.shuffle(pkl_files)\n",
    "\n",
    "\n",
    "contexts=pd.read_pickle(f'{args.spath}/contexts/contexts_top50k.pkl')\n",
    "\n",
    "\n",
    "\n",
    "div_lsts=np.array_split(pkl_files, 15)"
   ]
  },
  {
   "cell_type": "code",
   "execution_count": 3,
   "metadata": {},
   "outputs": [
    {
     "data": {
      "text/plain": [
       "1128053"
      ]
     },
     "execution_count": 3,
     "metadata": {},
     "output_type": "execute_result"
    }
   ],
   "source": [
    "len(constituents)"
   ]
  },
  {
   "cell_type": "code",
   "execution_count": 4,
   "metadata": {},
   "outputs": [
    {
     "data": {
      "text/plain": [
       "8"
      ]
     },
     "execution_count": 4,
     "metadata": {},
     "output_type": "execute_result"
    }
   ],
   "source": [
    "len(div_lsts[0])"
   ]
  },
  {
   "cell_type": "code",
   "execution_count": 5,
   "metadata": {},
   "outputs": [],
   "source": [
    "def mem_reducer(pkl_file):\n",
    "    print(f'\\nStarted with file {pkl_file}\\n')\n",
    "    cur_time=time.time()\n",
    "    \n",
    "    df=pd.read_pickle(pkl_file)\n",
    "    orig_shape=df.shape[0]\n",
    "    df[\"year\"] = pd.to_numeric(df[\"year\"], downcast=\"unsigned\")\n",
    "    df=df.loc[df['year']>=1800]\n",
    "    df.context=pd.Categorical(df.context,categories=contexts)\n",
    "\n",
    "    if args.setting==\"comp\":\n",
    "        df.modifier=pd.Categorical(df.modifier,categories=modifiers)\n",
    "        df['head']=pd.Categorical(df['head'],categories=heads)\n",
    "        df.dropna(inplace=True)\n",
    "        df=df.groupby(['modifier','head','context','year'],observed=True)['count'].sum().to_frame().reset_index()\n",
    "        \n",
    "    elif args.setting==\"mod\":\n",
    "        df.modifier=pd.Categorical(df.modifier,categories=modifiers)\n",
    "        df.dropna(inplace=True)\n",
    "        df=df.groupby(['modifier','context','year'],observed=True)['count'].sum().to_frame().reset_index()\n",
    "        \n",
    "    elif args.setting==\"head\":\n",
    "        df['head']=pd.Categorical(df['head'],categories=heads)\n",
    "        df.dropna(inplace=True)\n",
    "        df=df.groupby(['head','context','year'],observed=True)['count'].sum().to_frame().reset_index()\n",
    "        \n",
    "    elif args.setting==\"const\":\n",
    "        df['word']=pd.Categorical(df['word'],categories=heads)\n",
    "        df.dropna(inplace=True)\n",
    "        df=df.groupby(['word','context','year'],observed=True)['count'].sum().to_frame().reset_index()\n",
    "\n",
    "    #print(df.shape[0],((orig_shape-df.shape[0])/orig_shape*100))\n",
    "    print(f'Done with file {pkl_file} in {round(time.time()-cur_time)} secs and current size is {round(df.shape[0]/orig_shape*100,2)}% of the original dataset')\n",
    "    return df"
   ]
  },
  {
   "cell_type": "code",
   "execution_count": 11,
   "metadata": {},
   "outputs": [],
   "source": [
    "def batch_processor(cur_list):\n",
    "    \n",
    "    dfs=[]\n",
    "    n_proc = min(50,mp.cpu_count()-1)\n",
    "    pool = Pool(n_proc)\n",
    "    for result in tqdm.tqdm(pool.imap_unordered(mem_reducer, cur_list), total=len(cur_list)):\n",
    "        dfs.append(result)\n",
    "    pool.close()\n",
    "    pool.join()  \n",
    "    \n",
    "    combined_df=pd.concat(dfs,ignore_index=True,sort=True)\n",
    "    \n",
    "    if args.setting==\"comp\":\n",
    "        df_reduced=combined_df.groupby(['modifier','head','context','year'],observed=True)['count'].sum().to_frame().reset_index()\n",
    "    \n",
    "    elif args.setting==\"mod\":\n",
    "        df_reduced=combined_df.groupby(['modifier','context','year'],observed=True)['count'].sum().to_frame().reset_index()\n",
    "\n",
    "    elif args.setting==\"head\":\n",
    "        df_reduced=combined_df.groupby(['head','context','year'],observed=True)['count'].sum().to_frame().reset_index()\n",
    "        \n",
    "    elif args.setting==\"const\":\n",
    "        df_reduced=combined_df.groupby(['word','context','year'],observed=True)['count'].sum().to_frame().reset_index()\n",
    "    return df_reduced"
   ]
  },
  {
   "cell_type": "code",
   "execution_count": null,
   "metadata": {},
   "outputs": [
    {
     "name": "stdout",
     "output_type": "stream",
     "text": [
      "Batch 1\n"
     ]
    },
    {
     "name": "stderr",
     "output_type": "stream",
     "text": [
      "  0%|                                                                                                                                                                               | 0/8 [00:00<?, ?it/s]"
     ]
    },
    {
     "name": "stdout",
     "output_type": "stream",
     "text": [
      "\n",
      "Started with file /data/dharp/compounds/datasets//words/df_15.pkl\n",
      "\n",
      "Started with file /data/dharp/compounds/datasets//words/df_24.pkl\n",
      "\n",
      "Started with file /data/dharp/compounds/datasets//words/df_30.pkl\n",
      "\n",
      "Started with file /data/dharp/compounds/datasets//words/df_29.pkl\n",
      "\n",
      "Started with file /data/dharp/compounds/datasets//words/df_79.pkl\n",
      "\n",
      "Started with file /data/dharp/compounds/datasets//words/df_58.pkl\n",
      "\n",
      "Started with file /data/dharp/compounds/datasets//words/df_60.pkl\n",
      "\n",
      "\n",
      "\n",
      "\n",
      "\n",
      "\n",
      "\n",
      "Started with file /data/dharp/compounds/datasets//words/df_22.pkl\n",
      "\n",
      "\n"
     ]
    }
   ],
   "source": [
    "all_df_files=[]\n",
    "for i,cur_list in enumerate(div_lsts[:1]):\n",
    "    print(f'Batch {i+1}')\n",
    "    cur_time=time.time()\n",
    "    cur_df=batch_processor(cur_list)\n",
    "    all_df_files.append(cur_df)\n",
    "    print(f'Time taken for batch {i+1} = {time.time()-cur_time} secs')"
   ]
  },
  {
   "cell_type": "code",
   "execution_count": 7,
   "metadata": {},
   "outputs": [],
   "source": [
    "combined_df=pd.concat(all_df_files,ignore_index=True,sort=True)\n"
   ]
  },
  {
   "cell_type": "code",
   "execution_count": 8,
   "metadata": {},
   "outputs": [
    {
     "name": "stdout",
     "output_type": "stream",
     "text": [
      "<class 'pandas.core.frame.DataFrame'>\n",
      "RangeIndex: 2475574335 entries, 0 to 2475574334\n",
      "Data columns (total 4 columns):\n",
      " #   Column   Dtype   \n",
      "---  ------   -----   \n",
      " 0   context  category\n",
      " 1   count    int64   \n",
      " 2   head     category\n",
      " 3   year     uint64  \n",
      "dtypes: category(2), int64(1), uint64(1)\n",
      "memory usage: 55.4 GB\n"
     ]
    }
   ],
   "source": [
    "combined_df.info()"
   ]
  },
  {
   "cell_type": "code",
   "execution_count": 9,
   "metadata": {},
   "outputs": [
    {
     "data": {
      "text/html": [
       "<div>\n",
       "<style scoped>\n",
       "    .dataframe tbody tr th:only-of-type {\n",
       "        vertical-align: middle;\n",
       "    }\n",
       "\n",
       "    .dataframe tbody tr th {\n",
       "        vertical-align: top;\n",
       "    }\n",
       "\n",
       "    .dataframe thead th {\n",
       "        text-align: right;\n",
       "    }\n",
       "</style>\n",
       "<table border=\"1\" class=\"dataframe\">\n",
       "  <thead>\n",
       "    <tr style=\"text-align: right;\">\n",
       "      <th></th>\n",
       "      <th>context</th>\n",
       "      <th>count</th>\n",
       "      <th>head</th>\n",
       "      <th>year</th>\n",
       "    </tr>\n",
       "  </thead>\n",
       "  <tbody>\n",
       "    <tr>\n",
       "      <th>0</th>\n",
       "      <td>a_NOUN</td>\n",
       "      <td>6</td>\n",
       "      <td>a_NOUN</td>\n",
       "      <td>1808</td>\n",
       "    </tr>\n",
       "    <tr>\n",
       "      <th>1</th>\n",
       "      <td>a_NOUN</td>\n",
       "      <td>1</td>\n",
       "      <td>a_NOUN</td>\n",
       "      <td>1810</td>\n",
       "    </tr>\n",
       "    <tr>\n",
       "      <th>2</th>\n",
       "      <td>a_NOUN</td>\n",
       "      <td>1</td>\n",
       "      <td>a_NOUN</td>\n",
       "      <td>1814</td>\n",
       "    </tr>\n",
       "    <tr>\n",
       "      <th>3</th>\n",
       "      <td>a_NOUN</td>\n",
       "      <td>2</td>\n",
       "      <td>a_NOUN</td>\n",
       "      <td>1815</td>\n",
       "    </tr>\n",
       "    <tr>\n",
       "      <th>4</th>\n",
       "      <td>a_NOUN</td>\n",
       "      <td>1</td>\n",
       "      <td>a_NOUN</td>\n",
       "      <td>1816</td>\n",
       "    </tr>\n",
       "    <tr>\n",
       "      <th>...</th>\n",
       "      <td>...</td>\n",
       "      <td>...</td>\n",
       "      <td>...</td>\n",
       "      <td>...</td>\n",
       "    </tr>\n",
       "    <tr>\n",
       "      <th>2475574330</th>\n",
       "      <td>manuel_PROPN</td>\n",
       "      <td>7</td>\n",
       "      <td>zymelman_PROPN</td>\n",
       "      <td>2008</td>\n",
       "    </tr>\n",
       "    <tr>\n",
       "      <th>2475574331</th>\n",
       "      <td>manuel_PROPN</td>\n",
       "      <td>1</td>\n",
       "      <td>zymelman_PROPN</td>\n",
       "      <td>2009</td>\n",
       "    </tr>\n",
       "    <tr>\n",
       "      <th>2475574332</th>\n",
       "      <td>manuel_PROPN</td>\n",
       "      <td>2</td>\n",
       "      <td>zymelman_PROPN</td>\n",
       "      <td>2010</td>\n",
       "    </tr>\n",
       "    <tr>\n",
       "      <th>2475574333</th>\n",
       "      <td>manuel_PROPN</td>\n",
       "      <td>3</td>\n",
       "      <td>zymelman_PROPN</td>\n",
       "      <td>2011</td>\n",
       "    </tr>\n",
       "    <tr>\n",
       "      <th>2475574334</th>\n",
       "      <td>manuel_PROPN</td>\n",
       "      <td>5</td>\n",
       "      <td>zymelman_PROPN</td>\n",
       "      <td>2014</td>\n",
       "    </tr>\n",
       "  </tbody>\n",
       "</table>\n",
       "<p>2475574335 rows × 4 columns</p>\n",
       "</div>"
      ],
      "text/plain": [
       "                 context  count            head  year\n",
       "0                 a_NOUN      6          a_NOUN  1808\n",
       "1                 a_NOUN      1          a_NOUN  1810\n",
       "2                 a_NOUN      1          a_NOUN  1814\n",
       "3                 a_NOUN      2          a_NOUN  1815\n",
       "4                 a_NOUN      1          a_NOUN  1816\n",
       "...                  ...    ...             ...   ...\n",
       "2475574330  manuel_PROPN      7  zymelman_PROPN  2008\n",
       "2475574331  manuel_PROPN      1  zymelman_PROPN  2009\n",
       "2475574332  manuel_PROPN      2  zymelman_PROPN  2010\n",
       "2475574333  manuel_PROPN      3  zymelman_PROPN  2011\n",
       "2475574334  manuel_PROPN      5  zymelman_PROPN  2014\n",
       "\n",
       "[2475574335 rows x 4 columns]"
      ]
     },
     "execution_count": 9,
     "metadata": {},
     "output_type": "execute_result"
    }
   ],
   "source": [
    "combined_df"
   ]
  },
  {
   "cell_type": "code",
   "execution_count": 13,
   "metadata": {},
   "outputs": [
    {
     "data": {
      "text/plain": [
       "0.6214182289945255"
      ]
     },
     "execution_count": 13,
     "metadata": {},
     "output_type": "execute_result"
    }
   ],
   "source": [
    "1538367019/2475574335"
   ]
  },
  {
   "cell_type": "code",
   "execution_count": 10,
   "metadata": {},
   "outputs": [],
   "source": [
    "    if args.setting==\"comp\":\n",
    "        df_reduced=combined_df.groupby(['modifier','head','context','year'],observed=True)['count'].sum().to_frame().reset_index()\n",
    "    \n",
    "    elif args.setting==\"mod\":\n",
    "        df_reduced=combined_df.groupby(['modifier','context','year'],observed=True)['count'].sum().to_frame().reset_index()\n",
    "\n",
    "    elif args.setting==\"head\":\n",
    "        df_reduced=combined_df.groupby(['head','context','year'],observed=True)['count'].sum().to_frame().reset_index()"
   ]
  },
  {
   "cell_type": "code",
   "execution_count": 11,
   "metadata": {},
   "outputs": [
    {
     "name": "stdout",
     "output_type": "stream",
     "text": [
      "<class 'pandas.core.frame.DataFrame'>\n",
      "RangeIndex: 1538367019 entries, 0 to 1538367018\n",
      "Data columns (total 4 columns):\n",
      " #   Column   Dtype   \n",
      "---  ------   -----   \n",
      " 0   head     category\n",
      " 1   context  category\n",
      " 2   year     uint64  \n",
      " 3   count    int64   \n",
      "dtypes: category(2), int64(1), uint64(1)\n",
      "memory usage: 34.4 GB\n"
     ]
    }
   ],
   "source": [
    "df_reduced.info()"
   ]
  },
  {
   "cell_type": "code",
   "execution_count": 14,
   "metadata": {},
   "outputs": [],
   "source": [
    "df_reduced.to_pickle('/data/dharp/compounds/datasets/heads/heads_1.pkl')"
   ]
  }
 ],
 "metadata": {
  "kernelspec": {
   "display_name": "Python 3 (ipykernel)",
   "language": "python",
   "name": "python3"
  },
  "language_info": {
   "codemirror_mode": {
    "name": "ipython",
    "version": 3
   },
   "file_extension": ".py",
   "mimetype": "text/x-python",
   "name": "python",
   "nbconvert_exporter": "python",
   "pygments_lexer": "ipython3",
   "version": "3.9.13"
  }
 },
 "nbformat": 4,
 "nbformat_minor": 4
}
