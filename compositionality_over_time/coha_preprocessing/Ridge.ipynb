{
 "cells": [
  {
   "cell_type": "code",
   "execution_count": null,
   "metadata": {},
   "outputs": [],
   "source": [
    "library(tidyverse)\n",
    "library(caret)\n",
    "library(glmnet)\n",
    "library(dplyr)\n",
    "#library(psych) \n",
    "library(lme4)\n",
    "library(e1071)\n",
    "library(corrplot)\n",
    "library(xtable)\n",
    "options(warn=-1)"
   ]
  },
  {
   "cell_type": "code",
   "execution_count": null,
   "metadata": {},
   "outputs": [],
   "source": [
    "seed_list<-c(1001,1111,1221,1331,1441,1551,1661,1771,1881,1991)\n",
    "cut_off<-c(10,20,50,100)\n",
    "time_off<-c(10,0,20,50,100)\n",
    "lambda <- 10^seq(-3, 3, length = 100)\n",
    "context<-c('CompoundAware','CompoundAgnostic')\n",
    "df_total <- matrix(ncol=8,nrow = length(context)*length(seed_list)*length(cut_off)*length(time_off))\n"
   ]
  },
  {
   "cell_type": "code",
   "execution_count": null,
   "metadata": {},
   "outputs": [],
   "source": [
    "k<-1\n",
    "for (c in context) {\n",
    "for (s in seed_list) {\n",
    "    print(s)\n",
    "    for (i in time_off) {\n",
    "        for (j in cut_off)  {\n",
    "            set.seed(s)\n",
    "            seeds <- vector(mode = \"list\", length = 11)\n",
    "            for(z in 1:10) seeds[[z]] <- sample.int(n=1000, 54)\n",
    "            #for the last model\n",
    "            seeds[[11]]<-sample.int(1000, 1)\n",
    "            path<-paste0(\"./coha_compounds/features_\",c,\"_\",i,\"_\",j,\"_300.pkl\")\n",
    "            #print(path)\n",
    "            df<-read.csv(path,sep = '\\t')\n",
    "            df<-df[ , colSums(is.na(df)) == 0]\n",
    "            ridge <- train(\n",
    "              compound_mean ~. -modifier -head -modifier_mean -modifier_std -head_mean -head_std -compound_std, \n",
    "                data = df, method = \"glmnet\",na.action = na.pass,\n",
    "                trControl = trainControl(\"cv\", number = 10,search=\"grid\",seeds=seeds),\n",
    "                tuneGrid = expand.grid(alpha = 0, lambda = lambda)\n",
    "            )\n",
    "\n",
    "            elastic <- train(\n",
    "              compound_mean ~. -modifier -head -modifier_mean -modifier_std -head_mean -head_std -compound_std,\n",
    "                data = df, method = \"glmnet\",na.action = na.pass,\n",
    "              trControl = trainControl(\"cv\", number = 10,search=\"grid\",seeds=seeds),\n",
    "              tuneLength = 10\n",
    "              )\n",
    "\n",
    "            lasso <- train(\n",
    "              compound_mean ~. -modifier -head -modifier_mean -modifier_std -head_mean -head_std -compound_std,\n",
    "                data = df, method = \"glmnet\",na.action = na.pass,\n",
    "                trControl = trainControl(\"cv\", number = 10,search=\"grid\",seeds=seeds),\n",
    "              tuneGrid = expand.grid(alpha = 1, lambda = lambda)\n",
    "              )\n",
    "\n",
    "            #print(round(getTrainPerf(ridge)[2],3))\n",
    "            df_total[k,] <- c(c,s,i,j,as.numeric(getTrainPerf(elastic)[2]),as.numeric(getTrainPerf(lasso)[2]),as.numeric(getTrainPerf(ridge)[2]),nrow(df))\n",
    "            k<-k+1\n",
    "    \n",
    "        }\n",
    "    }\n",
    "}\n",
    "}"
   ]
  },
  {
   "cell_type": "code",
   "execution_count": null,
   "metadata": {},
   "outputs": [],
   "source": [
    "new_df_total <- df_total\n",
    "df_total"
   ]
  },
  {
   "cell_type": "code",
   "execution_count": null,
   "metadata": {},
   "outputs": [],
   "source": [
    "colnames(new_df_total)<-c('context','seed','time','cutoff','ridge','elastic','lasso','size')\n",
    "new_df_total<-as.data.frame(new_df_total)\n",
    "new_df_total$ridge<-as.numeric(as.character(new_df_total$ridge))\n",
    "new_df_total$elastic<-as.numeric(as.character(new_df_total$elastic))\n",
    "new_df_total$lasso<-as.numeric(as.character(new_df_total$lasso))\n",
    "new_df_total$size<-as.numeric(as.character(new_df_total$size))\n",
    "\n",
    "temp0<-new_df_total  %>% filter(time==0) %>% group_by(context,time,cutoff) %>% \n",
    "summarise(mean_rsquared=round(mean(ridge,na.rm=TRUE),3),sd_rsquared=round(sd(ridge,na.rm=TRUE),3),size=mean(size)) %>% \n",
    "arrange(desc(mean_rsquared),.by_group = T)\n",
    "\n",
    "temp0"
   ]
  },
  {
   "cell_type": "code",
   "execution_count": null,
   "metadata": {},
   "outputs": [],
   "source": [
    "temp10<-new_df_total  %>% filter(time==10) %>% group_by(context,time,cutoff) %>% \n",
    "summarise(mean_rsquared=round(mean(ridge,na.rm=TRUE),3),sd_rsquared=round(sd(ridge,na.rm=TRUE),3),size=mean(size)) %>% \n",
    "arrange(desc(time),.by_group = T)\n",
    "\n",
    "temp10"
   ]
  },
  {
   "cell_type": "code",
   "execution_count": null,
   "metadata": {},
   "outputs": [],
   "source": [
    "temp20<-new_df_total  %>% filter(time==20) %>% group_by(context,time,cutoff) %>% \n",
    "summarise(mean_rsquared=round(mean(ridge,na.rm=TRUE),3),sd_rsquared=round(sd(ridge,na.rm=TRUE),3),size=mean(size)) %>% \n",
    "arrange(desc(time),.by_group = T)\n",
    "\n",
    "temp20"
   ]
  },
  {
   "cell_type": "code",
   "execution_count": null,
   "metadata": {},
   "outputs": [],
   "source": [
    "temp50<-new_df_total  %>% filter(time==50) %>% group_by(context,time,cutoff) %>% \n",
    "summarise(mean_rsquared=round(mean(ridge,na.rm=TRUE),3),sd_rsquared=round(sd(ridge,na.rm=TRUE),3),size=mean(size)) %>% \n",
    "arrange(desc(time),.by_group = T)\n",
    "\n",
    "temp50"
   ]
  },
  {
   "cell_type": "code",
   "execution_count": null,
   "metadata": {},
   "outputs": [],
   "source": [
    "temp100<-new_df_total  %>% filter(time==100) %>% group_by(context,time,cutoff) %>% \n",
    "summarise(mean_rsquared=round(mean(ridge,na.rm=TRUE),3),sd_rsquared=round(sd(ridge,na.rm=TRUE),3),size=mean(size)) %>% \n",
    "arrange(desc(time),.by_group = T)\n",
    "\n",
    "temp100"
   ]
  },
  {
   "cell_type": "code",
   "execution_count": null,
   "metadata": {},
   "outputs": [],
   "source": [
    "temp_all <- rbind(temp0, temp10, temp20, temp50, temp100)\n",
    "temp_all$time <- as.numeric(as.character(temp_all$time))\n",
    "temp_all$cutoff <- as.numeric(as.character(temp_all$cutoff))\n",
    "temp_all <- temp_all[with(temp_all, order(context, time, cutoff)), ]\n",
    "temp_all"
   ]
  },
  {
   "cell_type": "code",
   "execution_count": null,
   "metadata": {},
   "outputs": [],
   "source": [
    "print(xtable(temp_all, caption= \"Regression\", \n",
    "             align=\"llSSSSS\", \n",
    "             digits=c(1,1,0,0,2,2,0), \n",
    "             label=\"tab:regression-results\"),\n",
    "             display=\"dsddffd\")"
   ]
  },
  {
   "cell_type": "code",
   "execution_count": null,
   "metadata": {},
   "outputs": [],
   "source": [
    "models <- list(ridge = ridge, lasso = lasso, elastic = elastic)\n",
    "resamples(models) %>% summary( metric = \"RMSE\")"
   ]
  },
  {
   "cell_type": "code",
   "execution_count": null,
   "metadata": {},
   "outputs": [],
   "source": [
    "            path<-paste0(\"./coha_compounds/features_CompoundAware\",\"_\",0,\"_\",20,\"_300.pkl\")\n",
    "            print(path)\n",
    "            df<-read.csv(path,sep = '\\t')\n",
    "            df<-df[ , colSums(is.na(df)) == 0]\n",
    "            ridge <- train(\n",
    "              compound_mean ~. -modifier -head -modifier_mean -modifier_std -head_mean -head_std -compound_std, \n",
    "                data = df, method = \"glmnet\",na.action = na.pass,\n",
    "                trControl = trainControl(\"cv\", number = 10,search=\"grid\",seeds=seeds),\n",
    "                tuneGrid = expand.grid(alpha = 0, lambda = lambda)\n",
    "            )"
   ]
  },
  {
   "cell_type": "code",
   "execution_count": null,
   "metadata": {},
   "outputs": [],
   "source": [
    "varImp(ridge)"
   ]
  },
  {
   "cell_type": "code",
   "execution_count": null,
   "metadata": {},
   "outputs": [],
   "source": [
    "            path<-paste0(\"./coha_compounds/features_CompoundAgnostic\",\"_\",0,\"_\",20,\"_300.pkl\")\n",
    "            print(path)\n",
    "            df<-read.csv(path,sep = '\\t')\n",
    "            df<-df[ , colSums(is.na(df)) == 0]\n",
    "            ridge <- train(\n",
    "              compound_mean ~. -modifier -head -modifier_mean -modifier_std -head_mean -head_std -compound_std, \n",
    "                data = df, method = \"glmnet\",na.action = na.pass,\n",
    "                trControl = trainControl(\"cv\", number = 10,search=\"grid\",seeds=seeds),\n",
    "                tuneGrid = expand.grid(alpha = 0, lambda = lambda)\n",
    "            )"
   ]
  },
  {
   "cell_type": "code",
   "execution_count": null,
   "metadata": {},
   "outputs": [],
   "source": [
    "varImp(ridge)"
   ]
  },
  {
   "cell_type": "code",
   "execution_count": null,
   "metadata": {},
   "outputs": [],
   "source": [
    "summary(lm(compound_mean~ppmi,data=df))"
   ]
  },
  {
   "cell_type": "code",
   "execution_count": null,
   "metadata": {},
   "outputs": [],
   "source": [
    "summary(lm(compound_mean~mod_prod,data=df))"
   ]
  },
  {
   "cell_type": "code",
   "execution_count": null,
   "metadata": {},
   "outputs": [],
   "source": [
    "summary(lm(compound_mean~sim_with_head,data=df))"
   ]
  },
  {
   "cell_type": "code",
   "execution_count": null,
   "metadata": {},
   "outputs": [],
   "source": [
    "summary(lm(compound_mean~. -modifier -head -modifier_mean -modifier_std -head_mean -head_std -compound_std ,data=df))"
   ]
  },
  {
   "cell_type": "code",
   "execution_count": null,
   "metadata": {},
   "outputs": [],
   "source": [
    "path<-paste0(\"./coha_compounds/features_CompoundAgnostic\",\"_\",0,\"_\",10,\"_300.pkl\")\n",
    "df<-read.csv(path,sep = '\\t')\n",
    "df<-df[ , colSums(is.na(df)) == 0]\n",
    "\n",
    "corr <- df[, !names(df) %in% c(\"compound_mean\", \"modifier\", \"head\", \"modifier_mean\", \"modifier_std\", \"head_mean\", \"head_std\", \"compound_std\")]\n",
    "corr <- cor(corr, corr)\n",
    "corr"
   ]
  },
  {
   "cell_type": "code",
   "execution_count": null,
   "metadata": {},
   "outputs": [],
   "source": [
    "corrplot(corr, method = \"color\", type = \"upper\", addCoef.col = \"black\", tl.col = \"black\", cl.ratio = 0.3, cl.align = \"r\",\n",
    "        diag = FALSE)"
   ]
  },
  {
   "cell_type": "code",
   "execution_count": null,
   "metadata": {},
   "outputs": [],
   "source": [
    "path<-paste0(\"./coha_compounds/features_CompoundAware\",\"_\",0,\"_\",10,\"_300.pkl\")\n",
    "df<-read.csv(path,sep = '\\t')\n",
    "df<-df[ , colSums(is.na(df)) == 0]\n",
    "\n",
    "corr <- df[, !names(df) %in% c(\"compound_mean\", \"modifier\", \"head\", \"modifier_mean\", \"modifier_std\", \"head_mean\", \"head_std\", \"compound_std\")]\n",
    "corr <- cor(corr, corr)\n",
    "corr"
   ]
  },
  {
   "cell_type": "code",
   "execution_count": null,
   "metadata": {},
   "outputs": [],
   "source": [
    "corrplot(corr, method = \"color\", type = \"upper\", addCoef.col = \"black\", tl.col = \"black\", cl.ratio = 0.3, cl.align = \"r\",\n",
    "        diag = FALSE)"
   ]
  }
 ],
 "metadata": {
  "kernelspec": {
   "display_name": "R",
   "language": "R",
   "name": "ir"
  },
  "language_info": {
   "codemirror_mode": "r",
   "file_extension": ".r",
   "mimetype": "text/x-r-source",
   "name": "R",
   "pygments_lexer": "r",
   "version": "4.1.3"
  }
 },
 "nbformat": 4,
 "nbformat_minor": 4
}
