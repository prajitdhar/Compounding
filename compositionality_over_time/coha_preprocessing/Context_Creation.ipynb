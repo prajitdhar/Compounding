{
 "cells": [
  {
   "cell_type": "code",
   "execution_count": null,
   "id": "be8541fd-de13-4156-bdcd-d2c8fb0170bd",
   "metadata": {},
   "outputs": [],
   "source": [
    "%matplotlib inline"
   ]
  },
  {
   "cell_type": "code",
   "execution_count": null,
   "id": "55f8a876-038a-42e1-a736-cf9aaffb5fc4",
   "metadata": {},
   "outputs": [],
   "source": [
    "import pandas as pd\n",
    "import numpy as np\n",
    "import matplotlib.pyplot as plt\n",
    "import seaborn as sns\n",
    "import pickle"
   ]
  },
  {
   "cell_type": "code",
   "execution_count": null,
   "id": "0a1406f1-7ccc-43d6-a000-9a5af53ad5ee",
   "metadata": {},
   "outputs": [],
   "source": [
    "def year_binner(year,val=10):\n",
    "    return year - year%val"
   ]
  },
  {
   "cell_type": "code",
   "execution_count": null,
   "id": "a3b02785-3d44-4c12-bf94-697c5c838b99",
   "metadata": {},
   "outputs": [],
   "source": [
    "keep_string=r\"^.+_(PROPN|NOUN|ADJ|VERB||NUM|ADV)$\""
   ]
  },
  {
   "cell_type": "code",
   "execution_count": null,
   "id": "cf14f0ad-c7bb-471e-89b4-56bd2cb55da6",
   "metadata": {},
   "outputs": [],
   "source": [
    "phrases=pd.read_pickle('/home/users0/pageljs/dh/repos/Compounding/datasets/phrases.pkl')"
   ]
  },
  {
   "cell_type": "code",
   "execution_count": null,
   "id": "ca4676e2-8419-45f3-bc6a-844851a8ccf7",
   "metadata": {},
   "outputs": [],
   "source": [
    "context_df=phrases.groupby(['context','year'])['count'].sum().to_frame().reset_index()\n",
    "context_df=context_df.loc[~context_df.context.str.contains('^@_')]\n",
    "context_df=context_df.loc[context_df.context.str.match(keep_string)]\n",
    "context_df.context=context_df.context.str.replace(r'.+_NUM','NUM',regex=True)\n",
    "context_df[\"year\"] = pd.to_numeric(context_df[\"year\"], downcast=\"unsigned\")\n",
    "context_df=context_df.groupby(['context','year'])['count'].sum().to_frame().reset_index()\n",
    "context_df"
   ]
  },
  {
   "cell_type": "raw",
   "id": "f9a433b8-6e94-4812-b4cf-20e6d87061be",
   "metadata": {},
   "source": [
    "context_df.loc[context_df.context.str.contains(\"^[a-zA-Z0-9-]+_.+$\")]"
   ]
  },
  {
   "cell_type": "code",
   "execution_count": null,
   "id": "6e38e959-f6c3-483c-be57-2c596f36d658",
   "metadata": {},
   "outputs": [],
   "source": [
    "context_df['decade']=year_binner(context_df['year'].values,10)\n",
    "decade_df=context_df.groupby(['decade'])['count'].sum().to_frame().reset_index()\n",
    "decade_df.set_index('decade',inplace=True)\n",
    "decade_df['count_per']=decade_df['count']/decade_df['count'].sum()*100\n",
    "decade_df"
   ]
  },
  {
   "cell_type": "code",
   "execution_count": null,
   "id": "34ceaf53-3ddd-40c2-80e6-3fc63c3bad45",
   "metadata": {},
   "outputs": [],
   "source": [
    "plt.figure(figsize = (20,8))\n",
    "ax = sns.barplot(x=decade_df.index, y=\"count_per\", data=decade_df)\n",
    "_=ax.set_xticklabels(ax.get_xticklabels(),rotation = 45)"
   ]
  },
  {
   "cell_type": "code",
   "execution_count": null,
   "id": "a093b307-38bc-488e-9a80-a0f0f9edf186",
   "metadata": {},
   "outputs": [],
   "source": [
    "year_counts_df=context_df.groupby(['year'])['count'].sum().to_frame().reset_index()\n",
    "year_counts_df['count_per']=year_counts_df['count']/year_counts_df['count'].sum()*100\n",
    "year_counts_df"
   ]
  },
  {
   "cell_type": "code",
   "execution_count": null,
   "id": "c4949645-9444-49de-80c7-f3d66c0552b0",
   "metadata": {},
   "outputs": [],
   "source": [
    "plt.figure(figsize = (20,15))\n",
    "ax = sns.barplot(x='year', y=\"count_per\", data=year_counts_df)\n",
    "_=ax.set_xticklabels(ax.get_xticklabels(),rotation = 45)\n",
    "n = 5  # Keeps every 5th label\n",
    "_=[l.set_visible(False) for (i,l) in enumerate(ax.xaxis.get_ticklabels()) if i % n != 0]"
   ]
  },
  {
   "cell_type": "code",
   "execution_count": null,
   "id": "8534dc64-0bac-4b88-8b25-1e2d236da98c",
   "metadata": {},
   "outputs": [],
   "source": [
    "presence_df=context_df.groupby(['context','decade']).size().to_frame().reset_index().context.value_counts().to_frame()\n",
    "total_list=presence_df.loc[presence_df.context==20].index.to_list()\n",
    "len(total_list)"
   ]
  },
  {
   "cell_type": "code",
   "execution_count": null,
   "id": "8a5e68a7-76c6-4e64-9728-c1f7ccc85e78",
   "metadata": {},
   "outputs": [],
   "source": [
    "content_words_df=context_df.groupby(['context'])['count'].sum().to_frame().reset_index()\n",
    "content_words_df"
   ]
  },
  {
   "cell_type": "code",
   "execution_count": null,
   "id": "225819f9-43c7-4a3d-8eb8-6328e0fde9f1",
   "metadata": {},
   "outputs": [],
   "source": [
    "context_top_50k=content_words_df.sort_values(by='count',ascending=False).head(50_000)['context'].to_list()\n",
    "len(context_top_50k)"
   ]
  },
  {
   "cell_type": "code",
   "execution_count": null,
   "id": "7f725717-07c5-418a-a7ea-3958f9b504da",
   "metadata": {},
   "outputs": [],
   "source": [
    "len(set(context_top_50k).union(total_list))"
   ]
  },
  {
   "cell_type": "code",
   "execution_count": null,
   "id": "046593d8-abb2-465f-9ffb-e7bf65e9967d",
   "metadata": {},
   "outputs": [],
   "source": [
    "with open('/home/users0/pageljs/dh/repos/Compounding/context.pkl', 'wb') as f:\n",
    "    pickle.dump(context_top_50k, f)"
   ]
  },
  {
   "cell_type": "code",
   "execution_count": null,
   "id": "0ef0d4bb-6f39-4529-b6f1-4474c02d303b",
   "metadata": {},
   "outputs": [],
   "source": [
    "plot_df=context_df.loc[context_df.context.isin(context_top_50k)].groupby(['year'])['count'].sum().to_frame().reset_index()\n",
    "plot_df=plot_df.set_index('year')/year_counts_df.set_index('year')*100\n",
    "plot_df"
   ]
  },
  {
   "cell_type": "code",
   "execution_count": null,
   "id": "7ddfbfd9-669e-4d71-84dc-8cd062728bf1",
   "metadata": {},
   "outputs": [],
   "source": [
    "plt.figure(figsize = (20,15))\n",
    "ax = sns.barplot(x=plot_df.index, y=\"count\", data=plot_df)\n",
    "_=ax.set_xticklabels(ax.get_xticklabels(),rotation = 45)\n",
    "n = 5  # Keeps every 5th label\n",
    "_=[l.set_visible(False) for (i,l) in enumerate(ax.xaxis.get_ticklabels()) if i % n != 0]"
   ]
  },
  {
   "cell_type": "code",
   "execution_count": null,
   "id": "329ceaca-0a18-415d-8397-ccae87931b35",
   "metadata": {},
   "outputs": [],
   "source": [
    "plot_df=context_df.loc[context_df.context.isin(context_top_50k)]['year'].value_counts().to_frame()\n",
    "plot_df=plot_df/context_df['year'].value_counts().to_frame()*100\n",
    "plot_df.columns=['types_per']\n",
    "plot_df"
   ]
  },
  {
   "cell_type": "code",
   "execution_count": null,
   "id": "00c8fd50-5841-40af-aeae-4db30631f4ce",
   "metadata": {},
   "outputs": [],
   "source": [
    "plt.figure(figsize = (20,15))\n",
    "ax = sns.barplot(x=plot_df.index, y=\"types_per\", data=plot_df)\n",
    "_=ax.set_xticklabels(ax.get_xticklabels(),rotation = 45)\n",
    "n = 5 \n",
    "_=[lab.set_visible(False) for (i,lab) in enumerate(ax.xaxis.get_ticklabels()) if i % n != 0]"
   ]
  },
  {
   "cell_type": "code",
   "execution_count": null,
   "id": "4daad9f1-13f3-4abe-b225-b4d12945e586",
   "metadata": {},
   "outputs": [],
   "source": [
    "context_df.loc[context_df.context.isin(context_top_50k)]['year'].value_counts().to_frame()"
   ]
  }
 ],
 "metadata": {
  "kernelspec": {
   "display_name": "Python 3 (ipykernel)",
   "language": "python",
   "name": "python3"
  },
  "language_info": {
   "codemirror_mode": {
    "name": "ipython",
    "version": 3
   },
   "file_extension": ".py",
   "mimetype": "text/x-python",
   "name": "python",
   "nbconvert_exporter": "python",
   "pygments_lexer": "ipython3",
   "version": "3.10.4"
  }
 },
 "nbformat": 4,
 "nbformat_minor": 5
}
