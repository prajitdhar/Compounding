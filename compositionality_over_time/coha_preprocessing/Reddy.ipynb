{
 "cells": [
  {
   "cell_type": "code",
   "execution_count": null,
   "metadata": {},
   "outputs": [],
   "source": [
    "import pandas as pd\n",
    "import seaborn as sns\n",
    "import numpy as np\n",
    "%matplotlib inline\n",
    "sns.set(style=\"whitegrid\")\n",
    "#sns.set(rc={'figure.figsize':(10,10)})\n",
    "import matplotlib\n",
    "#matplotlib.use('agg')\n",
    "#matplotlib.style.use('ggplot')\n",
    "import pickle as pkl\n",
    "from matplotlib import pyplot as plt\n",
    "from scipy.stats.stats import pearsonr\n",
    "import spacy\n",
    "nlp = spacy.load('en_core_web_sm')\n",
    "lemmatizer = nlp.Defaults.create_lemmatizer()\n",
    "from sklearn.model_selection import cross_val_score,GridSearchCV\n",
    "from sklearn.linear_model import LinearRegression,Ridge,Lasso"
   ]
  },
  {
   "cell_type": "code",
   "execution_count": null,
   "metadata": {},
   "outputs": [],
   "source": [
    "def lemma_maker(x, y):\n",
    "    #print(lemmatizer(x,y)[0])\n",
    "    return lemmatizer(x,y)[0]"
   ]
  },
  {
   "cell_type": "code",
   "execution_count": null,
   "metadata": {},
   "outputs": [],
   "source": [
    "features_decades = pd.read_csv(\"./coha_compounds/CompoundAware_DecadeAware.csv\", sep = \"\\t\")\n",
    "features_decades.set_index([\"modifier\", \"head\"], inplace = True)\n",
    "features_decades"
   ]
  },
  {
   "cell_type": "code",
   "execution_count": null,
   "metadata": {},
   "outputs": [],
   "source": [
    "reddy11_study=pd.read_csv(\"./ijcnlp_compositionality_data/MeanAndDeviations.clean.txt\",sep=\"\\t\")\n",
    "#print(reddy11_study.columns)\n",
    "reddy11_study.columns=['compound','to_divide']\n",
    "reddy11_study['modifier_mean'],reddy11_study['modifier_std'],reddy11_study['head_mean'],reddy11_study['head_std'],reddy11_study['compound_mean'],reddy11_study['compound_std'],_=reddy11_study.to_divide.str.split(\" \",7).str\n",
    "reddy11_study['modifier'],reddy11_study['head']=reddy11_study['compound'].str.split(\" \",2).str\n",
    "reddy11_study.modifier=reddy11_study.modifier.str[:-2]\n",
    "reddy11_study['head']=reddy11_study['head'].str[:-2]\n",
    "reddy11_study.drop(['compound','to_divide'],axis=1,inplace=True)\n",
    "reddy11_study['modifier']=np.vectorize(lemma_maker)(reddy11_study['modifier'],'noun')\n",
    "reddy11_study['head']=np.vectorize(lemma_maker)(reddy11_study['head'],'noun')\n",
    "reddy11_study['modifier']=reddy11_study['modifier']+\"_noun\"\n",
    "reddy11_study['head']=reddy11_study['head']+\"_noun\"\n",
    "reddy11_study=reddy11_study.apply(pd.to_numeric, errors='ignore')\n",
    "#reddy11_study.set_index(['modifier','head'],inplace=True)\n",
    "reddy11_study"
   ]
  },
  {
   "cell_type": "code",
   "execution_count": null,
   "metadata": {},
   "outputs": [],
   "source": [
    "merge_df=reddy11_study.merge(features_decades.reset_index(),on=['modifier','head'],how='inner')\n",
    "merge_df.set_index([\"modifier\", \"head\"], inplace = True)\n",
    "merge_df"
   ]
  },
  {
   "cell_type": "code",
   "execution_count": null,
   "metadata": {},
   "outputs": [],
   "source": [
    "merge_df.to_csv('reddy_CompoundAware_DecadeAware.csv',sep='\\t')"
   ]
  }
 ],
 "metadata": {
  "kernelspec": {
   "display_name": "Python 3 (ipykernel)",
   "language": "python",
   "name": "python3"
  },
  "language_info": {
   "codemirror_mode": {
    "name": "ipython",
    "version": 3
   },
   "file_extension": ".py",
   "mimetype": "text/x-python",
   "name": "python",
   "nbconvert_exporter": "python",
   "pygments_lexer": "ipython3",
   "version": "3.10.4"
  }
 },
 "nbformat": 4,
 "nbformat_minor": 4
}
