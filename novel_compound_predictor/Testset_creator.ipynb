{
 "cells": [
  {
   "cell_type": "code",
   "execution_count": 1,
   "metadata": {},
   "outputs": [],
   "source": [
    "import numpy as np\n",
    "import pandas as pd\n",
    "import pickle as pkl\n",
    "pd.set_option('display.float_format', lambda x: '%.3f' % x)\n",
    "pd.options.mode.chained_assignment = None\n",
    "import random\n",
    "np.random.seed(1991)\n",
    "from multiprocessing import Pool\n",
    "seed_list=list(range(1,1000,100))\n",
    "import numba\n",
    "import glob"
   ]
  },
  {
   "cell_type": "code",
   "execution_count": 2,
   "metadata": {},
   "outputs": [],
   "source": [
    "@numba.jit(nopython=True)\n",
    "def year_binner(year,val=10):\n",
    "    return year - year%val\n",
    "\n",
    "\n",
    "@numba.jit(nopython=True)\n",
    "def decremover(dc):\n",
    "\n",
    "    new_constituents=[]\n",
    "    for constituent,decades in dc.items():\n",
    "        if len(decades)==1:\n",
    "            if 2000 in decades:\n",
    "                new_constituents.append(constituent)\n",
    "    return(new_constituents)"
   ]
  },
  {
   "cell_type": "code",
   "execution_count": 3,
   "metadata": {},
   "outputs": [],
   "source": [
    "modifier_list=[]\n",
    "with open('/data/dharp/compounds/datasets/modifier_list.txt','r') as f:\n",
    "        modifier_list=f.read().split(\"\\n\")\n",
    "modifier_list=modifier_list[:-1]"
   ]
  },
  {
   "cell_type": "code",
   "execution_count": 4,
   "metadata": {},
   "outputs": [
    {
     "data": {
      "text/plain": [
       "['rostow',\n",
       " 'schroeder',\n",
       " 'taintor',\n",
       " 'taussig',\n",
       " 'wartofsky',\n",
       " 'winnicott',\n",
       " '6ha',\n",
       " 'gasset',\n",
       " 'jst',\n",
       " 'friedenberg']"
      ]
     },
     "execution_count": 4,
     "metadata": {},
     "output_type": "execute_result"
    }
   ],
   "source": [
    "head_list=[]\n",
    "with open('/data/dharp/compounds/datasets/head_list.txt','r') as f:\n",
    "        head_list=f.read().split(\"\\n\")\n",
    "head_list=head_list[:-1]\n",
    "head_list[-10:]"
   ]
  },
  {
   "cell_type": "code",
   "execution_count": 5,
   "metadata": {},
   "outputs": [],
   "source": [
    "    comp_list = [pd.read_pickle(filename) for filename in glob.glob('/data/dharp/compounds/datasets/compounds/*.pkl')]        \n",
    "\n",
    "    compounds=pd.concat(comp_list)"
   ]
  },
  {
   "cell_type": "code",
   "execution_count": 6,
   "metadata": {},
   "outputs": [
    {
     "data": {
      "text/html": [
       "<div>\n",
       "<style scoped>\n",
       "    .dataframe tbody tr th:only-of-type {\n",
       "        vertical-align: middle;\n",
       "    }\n",
       "\n",
       "    .dataframe tbody tr th {\n",
       "        vertical-align: top;\n",
       "    }\n",
       "\n",
       "    .dataframe thead th {\n",
       "        text-align: right;\n",
       "    }\n",
       "</style>\n",
       "<table border=\"1\" class=\"dataframe\">\n",
       "  <thead>\n",
       "    <tr style=\"text-align: right;\">\n",
       "      <th></th>\n",
       "      <th>modifier</th>\n",
       "      <th>head</th>\n",
       "      <th>time</th>\n",
       "      <th>count</th>\n",
       "    </tr>\n",
       "  </thead>\n",
       "  <tbody>\n",
       "    <tr>\n",
       "      <th>0</th>\n",
       "      <td>#</td>\n",
       "      <td>#</td>\n",
       "      <td>1810</td>\n",
       "      <td>1</td>\n",
       "    </tr>\n",
       "    <tr>\n",
       "      <th>1</th>\n",
       "      <td>#</td>\n",
       "      <td>#</td>\n",
       "      <td>1850</td>\n",
       "      <td>1</td>\n",
       "    </tr>\n",
       "    <tr>\n",
       "      <th>2</th>\n",
       "      <td>#</td>\n",
       "      <td>#</td>\n",
       "      <td>1880</td>\n",
       "      <td>1</td>\n",
       "    </tr>\n",
       "    <tr>\n",
       "      <th>3</th>\n",
       "      <td>#</td>\n",
       "      <td>#</td>\n",
       "      <td>1910</td>\n",
       "      <td>1</td>\n",
       "    </tr>\n",
       "    <tr>\n",
       "      <th>4</th>\n",
       "      <td>#</td>\n",
       "      <td>#</td>\n",
       "      <td>1950</td>\n",
       "      <td>1</td>\n",
       "    </tr>\n",
       "    <tr>\n",
       "      <th>...</th>\n",
       "      <td>...</td>\n",
       "      <td>...</td>\n",
       "      <td>...</td>\n",
       "      <td>...</td>\n",
       "    </tr>\n",
       "    <tr>\n",
       "      <th>13088292</th>\n",
       "      <td>♦</td>\n",
       "      <td>research</td>\n",
       "      <td>1980</td>\n",
       "      <td>32</td>\n",
       "    </tr>\n",
       "    <tr>\n",
       "      <th>13088293</th>\n",
       "      <td>♦</td>\n",
       "      <td>research</td>\n",
       "      <td>1990</td>\n",
       "      <td>8</td>\n",
       "    </tr>\n",
       "    <tr>\n",
       "      <th>13088294</th>\n",
       "      <td>♦</td>\n",
       "      <td>research</td>\n",
       "      <td>2000</td>\n",
       "      <td>1</td>\n",
       "    </tr>\n",
       "    <tr>\n",
       "      <th>13088295</th>\n",
       "      <td>♦</td>\n",
       "      <td>tip</td>\n",
       "      <td>1990</td>\n",
       "      <td>23</td>\n",
       "    </tr>\n",
       "    <tr>\n",
       "      <th>13088296</th>\n",
       "      <td>♦</td>\n",
       "      <td>tip</td>\n",
       "      <td>2000</td>\n",
       "      <td>82</td>\n",
       "    </tr>\n",
       "  </tbody>\n",
       "</table>\n",
       "<p>9280387 rows × 4 columns</p>\n",
       "</div>"
      ],
      "text/plain": [
       "         modifier      head  time  count\n",
       "0               #         #  1810      1\n",
       "1               #         #  1850      1\n",
       "2               #         #  1880      1\n",
       "3               #         #  1910      1\n",
       "4               #         #  1950      1\n",
       "...           ...       ...   ...    ...\n",
       "13088292        ♦  research  1980     32\n",
       "13088293        ♦  research  1990      8\n",
       "13088294        ♦  research  2000      1\n",
       "13088295        ♦       tip  1990     23\n",
       "13088296        ♦       tip  2000     82\n",
       "\n",
       "[9280387 rows x 4 columns]"
      ]
     },
     "execution_count": 6,
     "metadata": {},
     "output_type": "execute_result"
    }
   ],
   "source": [
    "compounds.year=compounds.year.astype(\"int32\")\n",
    "compounds['time']=year_binner(compounds['year'].values,10)\n",
    "compounds=compounds.groupby(['modifier','head','time'])['count'].sum().to_frame()\n",
    "compounds.reset_index(inplace=True)\n",
    "compounds.modifier=compounds.modifier.replace(r'_(NOUN|PROPN)$', r'', regex=True)\n",
    "compounds['head']=compounds['head'].replace(r'_(NOUN|PROPN)$', r'', regex=True)\n",
    "compounds=compounds.loc[compounds.modifier.isin(modifier_list)&compounds['head'].isin(head_list)]\n",
    "compounds"
   ]
  },
  {
   "cell_type": "code",
   "execution_count": 7,
   "metadata": {},
   "outputs": [
    {
     "data": {
      "text/plain": [
       "12572"
      ]
     },
     "metadata": {},
     "output_type": "display_data"
    }
   ],
   "source": [
    "novel_compounds=compounds.loc[compounds.groupby(['modifier','head'])['time'].transform('count').eq(1)]\n",
    "novel_compounds_2000=novel_compounds.loc[novel_compounds.time==2000]\n",
    "novel_compounds_2000_list=list(zip(novel_compounds_2000['modifier'].tolist(),novel_compounds_2000['head'].tolist()))\n",
    "display(len(novel_compounds_2000_list))"
   ]
  },
  {
   "cell_type": "code",
   "execution_count": 8,
   "metadata": {},
   "outputs": [
    {
     "data": {
      "text/plain": [
       "count    12572.000\n",
       "mean       201.720\n",
       "std       2145.420\n",
       "min         40.000\n",
       "25%         63.000\n",
       "50%        105.000\n",
       "75%        189.000\n",
       "max     235711.000\n",
       "Name: count, dtype: float64"
      ]
     },
     "execution_count": 8,
     "metadata": {},
     "output_type": "execute_result"
    }
   ],
   "source": [
    "novel_compounds_2000['count'].describe()"
   ]
  },
  {
   "cell_type": "markdown",
   "metadata": {},
   "source": [
    "heads=pd.read_csv(\"/data/dharp/compounds/datasets/v2_aware/heads_reduced.csv\",sep=\"\\t\",header=None)\n",
    "heads"
   ]
  },
  {
   "cell_type": "markdown",
   "metadata": {},
   "source": [
    "modifiers=pd.read_csv(\"/data/dharp/compounds/datasets/v2_aware/modifiers_reduced.csv\",sep=\"\\t\",header=None)\n",
    "modifiers"
   ]
  },
  {
   "cell_type": "markdown",
   "metadata": {},
   "source": [
    "modifiers[1].value_counts()"
   ]
  },
  {
   "cell_type": "markdown",
   "metadata": {},
   "source": [
    "novel_compounds_2000.drop(['time','count'],axis=1).merge(modifiers.loc[modifiers[1]==1970],left_on=['modifier'],right_on=0,how='left')"
   ]
  },
  {
   "cell_type": "code",
   "execution_count": 9,
   "metadata": {},
   "outputs": [
    {
     "data": {
      "text/plain": [
       "4685"
      ]
     },
     "metadata": {},
     "output_type": "display_data"
    },
    {
     "data": {
      "text/plain": [
       "[('aids', 'alert'),\n",
       " ('aids', 'american'),\n",
       " ('aids', 'bibliography'),\n",
       " ('aids', 'blood'),\n",
       " ('aids', 'sample'),\n",
       " ('air', 'breakdown'),\n",
       " ('air', 'bump'),\n",
       " ('air', 'dispersion'),\n",
       " ('air', 'shipment'),\n",
       " ('air', 'emissions'),\n",
       " ('air', 'tables'),\n",
       " ('aircraft', 'attitude'),\n",
       " ('aircraft', 'axis'),\n",
       " ('aircraft', 'body'),\n",
       " ('aircraft', 'campaign'),\n",
       " ('aircraft', 'correlation'),\n",
       " ('aircraft', 'dc'),\n",
       " ('aircraft', 'environment'),\n",
       " ('aircraft', 'mission'),\n",
       " ('aircraft', 'motion')]"
      ]
     },
     "execution_count": 9,
     "metadata": {},
     "output_type": "execute_result"
    }
   ],
   "source": [
    "maske_list=novel_compounds.loc[novel_compounds.time==1990]\n",
    "maske_list=list(zip(maske_list['modifier'].tolist(),maske_list['head'].tolist()))\n",
    "display(len(maske_list))\n",
    "maske_list[110:130]"
   ]
  },
  {
   "cell_type": "code",
   "execution_count": 10,
   "metadata": {},
   "outputs": [
    {
     "data": {
      "text/plain": [
       "61474"
      ]
     },
     "metadata": {},
     "output_type": "display_data"
    },
    {
     "data": {
      "text/plain": [
       "[('presbyterian', 'woman'),\n",
       " ('learner', 'discourse'),\n",
       " ('man', 'relations'),\n",
       " ('public', 'competition'),\n",
       " ('iff', 'k'),\n",
       " ('american', 'flea'),\n",
       " ('columbia', 'first'),\n",
       " ('terry', 'college'),\n",
       " ('tour', 'lady'),\n",
       " ('rama', 'stories')]"
      ]
     },
     "execution_count": 10,
     "metadata": {},
     "output_type": "execute_result"
    }
   ],
   "source": [
    "novel_compounds_new=compounds.loc[compounds.groupby(['modifier','head'])['time'].transform('count').eq(2)]\n",
    "novel_compounds_1990=novel_compounds_new.loc[novel_compounds_new.time.isin([1990,2000])]\n",
    "novel_compounds_1990_list=list(zip(novel_compounds_1990['modifier'].tolist(),novel_compounds_1990['head'].tolist()))\n",
    "novel_compounds_1990_list=list(set(novel_compounds_1990_list))\n",
    "display(len(novel_compounds_1990_list))\n",
    "novel_compounds_1990_list[:10]"
   ]
  },
  {
   "cell_type": "code",
   "execution_count": 11,
   "metadata": {},
   "outputs": [
    {
     "data": {
      "text/plain": [
       "883875"
      ]
     },
     "metadata": {},
     "output_type": "display_data"
    },
    {
     "data": {
      "text/plain": [
       "[('m.', 'tests'),\n",
       " ('party', 'desire'),\n",
       " ('site', 'hotel'),\n",
       " ('mr.', 'luce'),\n",
       " ('national', 'free'),\n",
       " ('slit', 'a'),\n",
       " ('fact', 'rome'),\n",
       " ('value', 'b.'),\n",
       " ('household', 'audio'),\n",
       " ('adult', 'tick')]"
      ]
     },
     "execution_count": 11,
     "metadata": {},
     "output_type": "execute_result"
    }
   ],
   "source": [
    "total_compounds=compounds.query('1950 <= time <= 1989').copy()\n",
    "total_compounds_list=list(zip(total_compounds['modifier'].tolist(),total_compounds['head'].tolist()))\n",
    "total_compounds_list=list(set(total_compounds_list))\n",
    "display(len(total_compounds_list))\n",
    "total_compounds_list[:10]"
   ]
  },
  {
   "cell_type": "code",
   "execution_count": 12,
   "metadata": {},
   "outputs": [
    {
     "data": {
      "text/plain": [
       "878149"
      ]
     },
     "metadata": {},
     "output_type": "display_data"
    },
    {
     "data": {
      "text/plain": [
       "[('m.', 'tests'),\n",
       " ('party', 'desire'),\n",
       " ('site', 'hotel'),\n",
       " ('mr.', 'luce'),\n",
       " ('national', 'free'),\n",
       " ('slit', 'a'),\n",
       " ('fact', 'rome'),\n",
       " ('value', 'b.'),\n",
       " ('household', 'audio'),\n",
       " ('fertilizer', 'relative')]"
      ]
     },
     "execution_count": 12,
     "metadata": {},
     "output_type": "execute_result"
    }
   ],
   "source": [
    "total_compounds_list=list(set(total_compounds_list).difference(novel_compounds_1990_list))\n",
    "display(len(total_compounds_list))\n",
    "total_compounds_list[:10]"
   ]
  },
  {
   "cell_type": "code",
   "execution_count": 13,
   "metadata": {},
   "outputs": [],
   "source": [
    "compound_list=novel_compounds_1990_list+novel_compounds_2000_list+total_compounds_list"
   ]
  },
  {
   "cell_type": "code",
   "execution_count": 14,
   "metadata": {},
   "outputs": [
    {
     "data": {
      "text/plain": [
       "0"
      ]
     },
     "execution_count": 14,
     "metadata": {},
     "output_type": "execute_result"
    }
   ],
   "source": [
    "len(set(total_compounds_list).intersection(novel_compounds_2000_list))"
   ]
  },
  {
   "cell_type": "code",
   "execution_count": 15,
   "metadata": {},
   "outputs": [
    {
     "data": {
      "text/plain": [
       "0"
      ]
     },
     "execution_count": 15,
     "metadata": {},
     "output_type": "execute_result"
    }
   ],
   "source": [
    "len(set(novel_compounds_2000_list).intersection(novel_compounds_1990_list))"
   ]
  },
  {
   "cell_type": "code",
   "execution_count": 16,
   "metadata": {},
   "outputs": [
    {
     "data": {
      "text/plain": [
       "0"
      ]
     },
     "execution_count": 16,
     "metadata": {},
     "output_type": "execute_result"
    }
   ],
   "source": [
    "len(set(total_compounds_list).intersection(novel_compounds_1990_list))"
   ]
  },
  {
   "cell_type": "code",
   "execution_count": 17,
   "metadata": {},
   "outputs": [],
   "source": [
    "combined_list=[x+' '+y for x,y in novel_compounds_2000_list]"
   ]
  },
  {
   "cell_type": "code",
   "execution_count": 18,
   "metadata": {},
   "outputs": [],
   "source": [
    "with open('/data/dharp/compounds/datasets/compound_trainset.txt','w') as f:\n",
    "    for head,mod in total_compounds_list:\n",
    "        f.write(f'{head} {mod}\\n')\n",
    "\n",
    "#pkl.dump(total_compounds_list,open('compound_trainset.pkl','wb'))"
   ]
  },
  {
   "cell_type": "code",
   "execution_count": 19,
   "metadata": {},
   "outputs": [],
   "source": [
    "with open('/data/dharp/compounds/datasets/compound_validset.txt','w') as f:\n",
    "    for head,mod in novel_compounds_1990_list:\n",
    "        f.write(f'{head} {mod}\\n')\n",
    "\n",
    "\n",
    "#pkl.dump(novel_compounds_1990_list,open('compound_validset.pkl','wb'))"
   ]
  },
  {
   "cell_type": "code",
   "execution_count": 20,
   "metadata": {},
   "outputs": [],
   "source": [
    "with open('/data/dharp/compounds/datasets/compound_testset.txt','w') as f:\n",
    "    for head,mod in novel_compounds_2000_list:\n",
    "        f.write(f'{head} {mod}\\n')\n",
    "\n",
    "\n",
    "#pkl.dump(novel_compounds_2000_list,open('compound_testset.pkl','wb'))"
   ]
  },
  {
   "cell_type": "code",
   "execution_count": 21,
   "metadata": {},
   "outputs": [
    {
     "data": {
      "text/plain": [
       "['• reliability',\n",
       " '• safety',\n",
       " '• shadow',\n",
       " '• shape',\n",
       " '• shop',\n",
       " '• switzerland',\n",
       " '• transportation',\n",
       " '• type',\n",
       " '• water',\n",
       " '™ grade']"
      ]
     },
     "execution_count": 21,
     "metadata": {},
     "output_type": "execute_result"
    }
   ],
   "source": [
    "combined_list[-10:]"
   ]
  },
  {
   "cell_type": "code",
   "execution_count": 22,
   "metadata": {},
   "outputs": [
    {
     "data": {
      "text/plain": [
       "[['#', 'husky'],\n",
       " ['#', 'nat'],\n",
       " ['#', 'new'],\n",
       " ['#', 'region'],\n",
       " ['#', 'text'],\n",
       " ['%', 'advance'],\n",
       " ['%', 'cluster'],\n",
       " ['%', 'household'],\n",
       " ['%', 'lifetime'],\n",
       " ['%', 'purchase']]"
      ]
     },
     "execution_count": 22,
     "metadata": {},
     "output_type": "execute_result"
    }
   ],
   "source": [
    "returned_list=[x.split(' ') for x in combined_list]\n",
    "returned_list[:10]"
   ]
  },
  {
   "cell_type": "markdown",
   "metadata": {},
   "source": [
    "## Creation of Negative Classes - CorruptHead and CorruptModifier\n"
   ]
  },
  {
   "cell_type": "code",
   "execution_count": 25,
   "metadata": {},
   "outputs": [],
   "source": [
    "def corrupt_dataset_creator(choice):\n",
    "    random.seed(choice)\n",
    "    corrupt_modifier_list=[]\n",
    "    corrupt_head_list=[]\n",
    "    for cur_num,(modifier,head) in enumerate(returned_list):\n",
    "    # CorruptHead , Modifier is same\n",
    "        #print(cur_num)\n",
    "\n",
    "        while True:\n",
    "            temp_corrupt_head=random.choice(head_list)\n",
    "            if (modifier,temp_corrupt_head) not in compound_list:\n",
    "                corrupt_head_list.append((modifier,temp_corrupt_head))\n",
    "                break\n",
    "    # CorruptModifier , Head is same\n",
    "        while True:\n",
    "            temp_corrupt_modifier=random.choice(modifier_list)\n",
    "            if (temp_corrupt_modifier,head) not in compound_list:\n",
    "                corrupt_modifier_list.append((temp_corrupt_modifier,head))\n",
    "                break\n",
    "    return corrupt_head_list,corrupt_modifier_list"
   ]
  },
  {
   "cell_type": "code",
   "execution_count": 26,
   "metadata": {},
   "outputs": [],
   "source": [
    "pool = Pool(10)\n",
    "test_results=pool.map(corrupt_dataset_creator,seed_list)"
   ]
  },
  {
   "cell_type": "code",
   "execution_count": 37,
   "metadata": {},
   "outputs": [
    {
     "name": "stdout",
     "output_type": "stream",
     "text": [
      "1\n",
      "2\n",
      "3\n",
      "4\n",
      "5\n",
      "6\n",
      "7\n",
      "8\n",
      "9\n",
      "10\n"
     ]
    }
   ],
   "source": [
    "for num,(corrupt_heads,corrupt_modifiers) in enumerate(test_results):\n",
    "    print(num+1)\n",
    "    pkl.dump( corrupt_heads, open( '/data/dharp/compounds/datasets/corrupt_heads_'+str(num+1)+'.pkl', \"wb\" ) )\n",
    "    \n",
    "    pkl.dump( corrupt_modifiers, open( '/data/dharp/compounds/datasets/corrupt_modifiers_'+str(num+1)+'.pkl', \"wb\" ) )"
   ]
  },
  {
   "cell_type": "code",
   "execution_count": 36,
   "metadata": {},
   "outputs": [
    {
     "data": {
      "text/plain": [
       "[['affective', 'functions'],\n",
       " ['affective', 'intelligence'],\n",
       " ['afferent', 'target'],\n",
       " ['afghan', 'jihad'],\n",
       " ['africa', 'gain'],\n",
       " ['africa', 'war'],\n",
       " ['african', 'arena'],\n",
       " ['african', 'cinema'],\n",
       " ['african', 'exports'],\n",
       " ['african', 'farmers'],\n",
       " ['african', 'farms'],\n",
       " ['african', 'film'],\n",
       " ['african', 'imagination'],\n",
       " ['african', 'intelligentsia'],\n",
       " ['african', 'livestock'],\n",
       " ['african', 'logic'],\n",
       " ['african', 'medicines'],\n",
       " ['african', 'poverty'],\n",
       " ['african', 'self'],\n",
       " ['african', 'studio']]"
      ]
     },
     "execution_count": 36,
     "metadata": {},
     "output_type": "execute_result"
    }
   ],
   "source": [
    "returned_list[300:320]"
   ]
  },
  {
   "cell_type": "code",
   "execution_count": 35,
   "metadata": {},
   "outputs": [
    {
     "data": {
      "text/plain": [
       "[('affective', 'forwarding'),\n",
       " ('affective', 'phc'),\n",
       " ('afferent', 'imperfection'),\n",
       " ('afghan', 'diversion'),\n",
       " ('africa', 'darkness'),\n",
       " ('africa', 'gram'),\n",
       " ('african', 'volcanism'),\n",
       " ('african', 'man'),\n",
       " ('african', 'kibbutz'),\n",
       " ('african', 'mould'),\n",
       " ('african', 'steroid'),\n",
       " ('african', 'tensor'),\n",
       " ('african', 'henderson'),\n",
       " ('african', 'snap'),\n",
       " ('african', 'rus'),\n",
       " ('african', 'toxicity'),\n",
       " ('african', 'bedivere'),\n",
       " ('african', 'rappaccini'),\n",
       " ('african', 'refuge'),\n",
       " ('african', 'alstyne')]"
      ]
     },
     "execution_count": 35,
     "metadata": {},
     "output_type": "execute_result"
    }
   ],
   "source": [
    "test_results[0][0][300:320]"
   ]
  },
  {
   "cell_type": "code",
   "execution_count": 34,
   "metadata": {},
   "outputs": [
    {
     "data": {
      "text/plain": [
       "[('eucharistic', 'functions'),\n",
       " ('rot', 'intelligence'),\n",
       " ('patrick', 'target'),\n",
       " ('polylinker', 'jihad'),\n",
       " ('leaf', 'gain'),\n",
       " ('phil', 'war'),\n",
       " ('arcuate', 'arena'),\n",
       " ('anymouse', 'cinema'),\n",
       " ('ovarian', 'exports'),\n",
       " ('marmota', 'farmers'),\n",
       " ('rectus', 'farms'),\n",
       " ('pink', 'film'),\n",
       " ('proportionality', 'imagination'),\n",
       " ('cusip', 'intelligentsia'),\n",
       " ('riemann', 'livestock'),\n",
       " ('stigma', 'logic'),\n",
       " ('pinocytosis', 'medicines'),\n",
       " ('f8', 'poverty'),\n",
       " ('ecologic', 'self'),\n",
       " ('manor', 'studio')]"
      ]
     },
     "execution_count": 34,
     "metadata": {},
     "output_type": "execute_result"
    }
   ],
   "source": [
    "test_results[0][1][300:320]"
   ]
  },
  {
   "cell_type": "code",
   "execution_count": 29,
   "metadata": {},
   "outputs": [
    {
     "data": {
      "text/plain": [
       "[('#', 'rs'),\n",
       " ('#', 'jsm'),\n",
       " ('#', 'wastage'),\n",
       " ('#', 'melatonin'),\n",
       " ('#', 'vargas'),\n",
       " ('%', 'timber'),\n",
       " ('%', 'santos'),\n",
       " ('%', 'garfield'),\n",
       " ('%', 'therapist'),\n",
       " ('%', 'ogg'),\n",
       " ('*', 'daishi'),\n",
       " ('+', 'charities'),\n",
       " ('+', 'barons'),\n",
       " ('-', 'harvester'),\n",
       " ('-', 'mammogram'),\n",
       " ('-', 'procession'),\n",
       " ('-', 'horsemen'),\n",
       " ('-', 'somatosensory'),\n",
       " ('-', 'real'),\n",
       " ('-', 'hemp')]"
      ]
     },
     "execution_count": 29,
     "metadata": {},
     "output_type": "execute_result"
    }
   ],
   "source": [
    "test_results[1][0][:20]"
   ]
  }
 ],
 "metadata": {
  "kernelspec": {
   "display_name": "Python 3 (ipykernel)",
   "language": "python",
   "name": "python3"
  },
  "language_info": {
   "codemirror_mode": {
    "name": "ipython",
    "version": 3
   },
   "file_extension": ".py",
   "mimetype": "text/x-python",
   "name": "python",
   "nbconvert_exporter": "python",
   "pygments_lexer": "ipython3",
   "version": "3.9.7"
  }
 },
 "nbformat": 4,
 "nbformat_minor": 4
}
