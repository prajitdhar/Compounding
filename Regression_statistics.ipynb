{
 "cells": [
  {
   "cell_type": "code",
   "execution_count": 1,
   "id": "e6eabdb7-41c8-4352-8ac9-07c9af6b9390",
   "metadata": {},
   "outputs": [
    {
     "name": "stderr",
     "output_type": "stream",
     "text": [
      "Loading required package: tidyverse\n",
      "\n",
      "── \u001b[1mAttaching packages\u001b[22m ─────────────────────────────────────────────────────────────────────────────────────────────────────────────────────────────────────────────────────────────────── tidyverse 1.3.1 ──\n",
      "\n",
      "\u001b[32m✔\u001b[39m \u001b[34mggplot2\u001b[39m 3.3.6     \u001b[32m✔\u001b[39m \u001b[34mpurrr  \u001b[39m 0.3.4\n",
      "\u001b[32m✔\u001b[39m \u001b[34mtibble \u001b[39m 3.2.1     \u001b[32m✔\u001b[39m \u001b[34mdplyr  \u001b[39m 1.0.9\n",
      "\u001b[32m✔\u001b[39m \u001b[34mtidyr  \u001b[39m 1.2.0     \u001b[32m✔\u001b[39m \u001b[34mstringr\u001b[39m 1.4.0\n",
      "\u001b[32m✔\u001b[39m \u001b[34mreadr  \u001b[39m 2.1.2     \u001b[32m✔\u001b[39m \u001b[34mforcats\u001b[39m 0.5.1\n",
      "\n",
      "Warning message:\n",
      "“package ‘tibble’ was built under R version 4.2.3”\n",
      "── \u001b[1mConflicts\u001b[22m ────────────────────────────────────────────────────────────────────────────────────────────────────────────────────────────────────────────────────────────────────── tidyverse_conflicts() ──\n",
      "\u001b[31m✖\u001b[39m \u001b[34mdplyr\u001b[39m::\u001b[32mfilter()\u001b[39m masks \u001b[34mstats\u001b[39m::filter()\n",
      "\u001b[31m✖\u001b[39m \u001b[34mdplyr\u001b[39m::\u001b[32mlag()\u001b[39m    masks \u001b[34mstats\u001b[39m::lag()\n",
      "\n",
      "Warning message:\n",
      "“package ‘GGally’ was built under R version 4.2.3”\n",
      "Registered S3 method overwritten by 'GGally':\n",
      "  method from   \n",
      "  +.gg   ggplot2\n",
      "\n"
     ]
    }
   ],
   "source": [
    "require(tidyverse)\n",
    "library(dplyr)\n",
    "library(ggplot2)\n",
    "#library(psych) \n",
    "library(GGally)\n",
    "options(warn=-1)\n",
    "options(scipen=999)\n",
    "#library(crosstable)"
   ]
  },
  {
   "cell_type": "code",
   "execution_count": 242,
   "id": "dde1eeb4-3e08-445f-85f7-666eb8848e6c",
   "metadata": {},
   "outputs": [],
   "source": [
    "path <- \"~/\"\n",
    "\n",
    "varimp_10_files_list  <- path %>% \n",
    "  \n",
    "  # get csvs full paths. (?i) is for case insentitive\n",
    "  list.files(pattern = \"varimp_10_.*Aware.*\\\\.csv$\", full.names = TRUE)\n",
    "\n",
    "varimp_10_files_agnostic_list  <- path %>% \n",
    "  \n",
    "  # get csvs full paths. (?i) is for case insentitive\n",
    "  list.files(pattern = \"varimp_10000_.*Agnostic.*\\\\.csv$\", full.names = TRUE)"
   ]
  },
  {
   "cell_type": "code",
   "execution_count": 243,
   "id": "8f2a6d73-d603-4821-9715-0477aecb73d7",
   "metadata": {},
   "outputs": [
    {
     "data": {
      "text/html": [
       "<style>\n",
       ".list-inline {list-style: none; margin:0; padding: 0}\n",
       ".list-inline>li {display: inline-block}\n",
       ".list-inline>li:not(:last-child)::after {content: \"\\00b7\"; padding: 0 .5ex}\n",
       "</style>\n",
       "<ol class=list-inline><li>6530</li><li>891</li></ol>\n"
      ],
      "text/latex": [
       "\\begin{enumerate*}\n",
       "\\item 6530\n",
       "\\item 891\n",
       "\\end{enumerate*}\n"
      ],
      "text/markdown": [
       "1. 6530\n",
       "2. 891\n",
       "\n",
       "\n"
      ],
      "text/plain": [
       "[1] 6530  891"
      ]
     },
     "metadata": {},
     "output_type": "display_data"
    }
   ],
   "source": [
    "varimp_10_df<-Reduce(bind_rows,lapply(varimp_10_files_list,read.csv))\n",
    "\n",
    "varimp_10_df %>% dim()\n",
    "\n",
    "varimp_10_agnostic_df <-Reduce(bind_rows,lapply(varimp_10_files_agnostic_list,read.csv))"
   ]
  },
  {
   "cell_type": "code",
   "execution_count": 244,
   "id": "f715106b-796b-4668-9f74-db4d6769dd0f",
   "metadata": {},
   "outputs": [],
   "source": [
    "varimp_10_df[is.na(varimp_10_df)] <- 0\n",
    "statistics_varimp_df<-varimp_10_df %>% select(-features) %>% group_by(corpus,tag,ppmi,setting,impute,dataset,y,pattern,timespan,cutoff) %>% \n",
    "summarise_all(mean)"
   ]
  },
  {
   "cell_type": "code",
   "execution_count": 245,
   "id": "16bb36a2-44aa-4009-9ee1-f5c8f357f8ef",
   "metadata": {},
   "outputs": [],
   "source": [
    "varimp_10_agnostic_df[is.na(varimp_10_agnostic_df)] <- 0\n",
    "statistics_varimp_agnostic_df<-varimp_10_agnostic_df %>% select(-features) %>% group_by(corpus,tag,ppmi,setting,impute,dataset,y,pattern,timespan,cutoff) %>% \n",
    "summarise_all(mean)"
   ]
  },
  {
   "cell_type": "code",
   "execution_count": 246,
   "id": "bf475c14-7b04-472b-9d68-7a6da7b838bf",
   "metadata": {},
   "outputs": [
    {
     "data": {
      "text/html": [
       "<table class=\"dataframe\">\n",
       "<caption>A data.frame: 6 × 891</caption>\n",
       "<thead>\n",
       "\t<tr><th></th><th scope=col>corpus</th><th scope=col>tag</th><th scope=col>ppmi</th><th scope=col>setting</th><th scope=col>timespan</th><th scope=col>cutoff</th><th scope=col>impute</th><th scope=col>dataset</th><th scope=col>pattern</th><th scope=col>features</th><th scope=col>⋯</th><th scope=col>change_mod.1930</th><th scope=col>change_mod.1940</th><th scope=col>change_mod.1950</th><th scope=col>change_mod.1960</th><th scope=col>change_mod.1970</th><th scope=col>change_mod.1980</th><th scope=col>change_mod.1990</th><th scope=col>change_mod.2000</th><th scope=col>change_mod.2010</th><th scope=col>perc_type_comp.1820</th></tr>\n",
       "\t<tr><th></th><th scope=col>&lt;chr&gt;</th><th scope=col>&lt;chr&gt;</th><th scope=col>&lt;chr&gt;</th><th scope=col>&lt;chr&gt;</th><th scope=col>&lt;int&gt;</th><th scope=col>&lt;int&gt;</th><th scope=col>&lt;chr&gt;</th><th scope=col>&lt;chr&gt;</th><th scope=col>&lt;chr&gt;</th><th scope=col>&lt;chr&gt;</th><th scope=col>⋯</th><th scope=col>&lt;dbl&gt;</th><th scope=col>&lt;dbl&gt;</th><th scope=col>&lt;dbl&gt;</th><th scope=col>&lt;dbl&gt;</th><th scope=col>&lt;dbl&gt;</th><th scope=col>&lt;dbl&gt;</th><th scope=col>&lt;dbl&gt;</th><th scope=col>&lt;dbl&gt;</th><th scope=col>&lt;dbl&gt;</th><th scope=col>&lt;dbl&gt;</th></tr>\n",
       "</thead>\n",
       "<tbody>\n",
       "\t<tr><th scope=row>1</th><td>google</td><td>Tagged</td><td>PPMI</td><td>Aware</td><td>10</td><td>0</td><td>med</td><td>cordeiro100</td><td>all</td><td>all</td><td>⋯</td><td> 0.000000</td><td> 0.00000</td><td> 0.00000</td><td> 0.00000</td><td> 0.00000</td><td> 0.00000</td><td> 14.77273</td><td> 0.00000</td><td> 0.00000</td><td>0</td></tr>\n",
       "\t<tr><th scope=row>2</th><td>google</td><td>Tagged</td><td>PPMI</td><td>Aware</td><td>10</td><td>0</td><td>med</td><td>cordeiro100</td><td>all</td><td>all</td><td>⋯</td><td> 0.000000</td><td> 0.00000</td><td> 0.00000</td><td> 0.00000</td><td> 0.00000</td><td> 0.00000</td><td> 93.00320</td><td> 0.00000</td><td> 0.00000</td><td>0</td></tr>\n",
       "\t<tr><th scope=row>3</th><td>google</td><td>Tagged</td><td>PPMI</td><td>Aware</td><td>10</td><td>0</td><td>med</td><td>cordeiro100</td><td>all</td><td>all</td><td>⋯</td><td>79.830848</td><td>62.62395</td><td>46.04158</td><td>29.66102</td><td>58.72853</td><td>68.85367</td><td>100.00000</td><td>50.70656</td><td>29.09666</td><td>0</td></tr>\n",
       "\t<tr><th scope=row>4</th><td>google</td><td>Tagged</td><td>PPMI</td><td>Aware</td><td>10</td><td>0</td><td>med</td><td>cordeiro100</td><td>all</td><td>all</td><td>⋯</td><td> 5.112749</td><td> 0.00000</td><td> 0.00000</td><td> 0.00000</td><td> 0.00000</td><td> 0.00000</td><td>100.00000</td><td> 0.00000</td><td> 0.00000</td><td>0</td></tr>\n",
       "\t<tr><th scope=row>5</th><td>google</td><td>Tagged</td><td>PPMI</td><td>Aware</td><td>10</td><td>0</td><td>med</td><td>cordeiro100</td><td>all</td><td>all</td><td>⋯</td><td> 0.000000</td><td> 0.00000</td><td> 0.00000</td><td> 0.00000</td><td> 0.00000</td><td> 0.00000</td><td> 95.74509</td><td> 0.00000</td><td> 0.00000</td><td>0</td></tr>\n",
       "\t<tr><th scope=row>6</th><td>google</td><td>Tagged</td><td>PPMI</td><td>Aware</td><td>10</td><td>0</td><td>med</td><td>cordeiro100</td><td>all</td><td>all</td><td>⋯</td><td>71.890608</td><td>56.66156</td><td>35.32124</td><td>18.84848</td><td>50.66796</td><td>66.65282</td><td>100.00000</td><td>43.00520</td><td>24.55832</td><td>0</td></tr>\n",
       "</tbody>\n",
       "</table>\n"
      ],
      "text/latex": [
       "A data.frame: 6 × 891\n",
       "\\begin{tabular}{r|lllllllllllllllllllll}\n",
       "  & corpus & tag & ppmi & setting & timespan & cutoff & impute & dataset & pattern & features & ⋯ & change\\_mod.1930 & change\\_mod.1940 & change\\_mod.1950 & change\\_mod.1960 & change\\_mod.1970 & change\\_mod.1980 & change\\_mod.1990 & change\\_mod.2000 & change\\_mod.2010 & perc\\_type\\_comp.1820\\\\\n",
       "  & <chr> & <chr> & <chr> & <chr> & <int> & <int> & <chr> & <chr> & <chr> & <chr> & ⋯ & <dbl> & <dbl> & <dbl> & <dbl> & <dbl> & <dbl> & <dbl> & <dbl> & <dbl> & <dbl>\\\\\n",
       "\\hline\n",
       "\t1 & google & Tagged & PPMI & Aware & 10 & 0 & med & cordeiro100 & all & all & ⋯ &  0.000000 &  0.00000 &  0.00000 &  0.00000 &  0.00000 &  0.00000 &  14.77273 &  0.00000 &  0.00000 & 0\\\\\n",
       "\t2 & google & Tagged & PPMI & Aware & 10 & 0 & med & cordeiro100 & all & all & ⋯ &  0.000000 &  0.00000 &  0.00000 &  0.00000 &  0.00000 &  0.00000 &  93.00320 &  0.00000 &  0.00000 & 0\\\\\n",
       "\t3 & google & Tagged & PPMI & Aware & 10 & 0 & med & cordeiro100 & all & all & ⋯ & 79.830848 & 62.62395 & 46.04158 & 29.66102 & 58.72853 & 68.85367 & 100.00000 & 50.70656 & 29.09666 & 0\\\\\n",
       "\t4 & google & Tagged & PPMI & Aware & 10 & 0 & med & cordeiro100 & all & all & ⋯ &  5.112749 &  0.00000 &  0.00000 &  0.00000 &  0.00000 &  0.00000 & 100.00000 &  0.00000 &  0.00000 & 0\\\\\n",
       "\t5 & google & Tagged & PPMI & Aware & 10 & 0 & med & cordeiro100 & all & all & ⋯ &  0.000000 &  0.00000 &  0.00000 &  0.00000 &  0.00000 &  0.00000 &  95.74509 &  0.00000 &  0.00000 & 0\\\\\n",
       "\t6 & google & Tagged & PPMI & Aware & 10 & 0 & med & cordeiro100 & all & all & ⋯ & 71.890608 & 56.66156 & 35.32124 & 18.84848 & 50.66796 & 66.65282 & 100.00000 & 43.00520 & 24.55832 & 0\\\\\n",
       "\\end{tabular}\n"
      ],
      "text/markdown": [
       "\n",
       "A data.frame: 6 × 891\n",
       "\n",
       "| <!--/--> | corpus &lt;chr&gt; | tag &lt;chr&gt; | ppmi &lt;chr&gt; | setting &lt;chr&gt; | timespan &lt;int&gt; | cutoff &lt;int&gt; | impute &lt;chr&gt; | dataset &lt;chr&gt; | pattern &lt;chr&gt; | features &lt;chr&gt; | ⋯ ⋯ | change_mod.1930 &lt;dbl&gt; | change_mod.1940 &lt;dbl&gt; | change_mod.1950 &lt;dbl&gt; | change_mod.1960 &lt;dbl&gt; | change_mod.1970 &lt;dbl&gt; | change_mod.1980 &lt;dbl&gt; | change_mod.1990 &lt;dbl&gt; | change_mod.2000 &lt;dbl&gt; | change_mod.2010 &lt;dbl&gt; | perc_type_comp.1820 &lt;dbl&gt; |\n",
       "|---|---|---|---|---|---|---|---|---|---|---|---|---|---|---|---|---|---|---|---|---|---|\n",
       "| 1 | google | Tagged | PPMI | Aware | 10 | 0 | med | cordeiro100 | all | all | ⋯ |  0.000000 |  0.00000 |  0.00000 |  0.00000 |  0.00000 |  0.00000 |  14.77273 |  0.00000 |  0.00000 | 0 |\n",
       "| 2 | google | Tagged | PPMI | Aware | 10 | 0 | med | cordeiro100 | all | all | ⋯ |  0.000000 |  0.00000 |  0.00000 |  0.00000 |  0.00000 |  0.00000 |  93.00320 |  0.00000 |  0.00000 | 0 |\n",
       "| 3 | google | Tagged | PPMI | Aware | 10 | 0 | med | cordeiro100 | all | all | ⋯ | 79.830848 | 62.62395 | 46.04158 | 29.66102 | 58.72853 | 68.85367 | 100.00000 | 50.70656 | 29.09666 | 0 |\n",
       "| 4 | google | Tagged | PPMI | Aware | 10 | 0 | med | cordeiro100 | all | all | ⋯ |  5.112749 |  0.00000 |  0.00000 |  0.00000 |  0.00000 |  0.00000 | 100.00000 |  0.00000 |  0.00000 | 0 |\n",
       "| 5 | google | Tagged | PPMI | Aware | 10 | 0 | med | cordeiro100 | all | all | ⋯ |  0.000000 |  0.00000 |  0.00000 |  0.00000 |  0.00000 |  0.00000 |  95.74509 |  0.00000 |  0.00000 | 0 |\n",
       "| 6 | google | Tagged | PPMI | Aware | 10 | 0 | med | cordeiro100 | all | all | ⋯ | 71.890608 | 56.66156 | 35.32124 | 18.84848 | 50.66796 | 66.65282 | 100.00000 | 43.00520 | 24.55832 | 0 |\n",
       "\n"
      ],
      "text/plain": [
       "  corpus tag    ppmi setting timespan cutoff impute dataset     pattern\n",
       "1 google Tagged PPMI Aware   10       0      med    cordeiro100 all    \n",
       "2 google Tagged PPMI Aware   10       0      med    cordeiro100 all    \n",
       "3 google Tagged PPMI Aware   10       0      med    cordeiro100 all    \n",
       "4 google Tagged PPMI Aware   10       0      med    cordeiro100 all    \n",
       "5 google Tagged PPMI Aware   10       0      med    cordeiro100 all    \n",
       "6 google Tagged PPMI Aware   10       0      med    cordeiro100 all    \n",
       "  features ⋯ change_mod.1930 change_mod.1940 change_mod.1950 change_mod.1960\n",
       "1 all      ⋯  0.000000        0.00000         0.00000         0.00000       \n",
       "2 all      ⋯  0.000000        0.00000         0.00000         0.00000       \n",
       "3 all      ⋯ 79.830848       62.62395        46.04158        29.66102       \n",
       "4 all      ⋯  5.112749        0.00000         0.00000         0.00000       \n",
       "5 all      ⋯  0.000000        0.00000         0.00000         0.00000       \n",
       "6 all      ⋯ 71.890608       56.66156        35.32124        18.84848       \n",
       "  change_mod.1970 change_mod.1980 change_mod.1990 change_mod.2000\n",
       "1  0.00000         0.00000         14.77273        0.00000       \n",
       "2  0.00000         0.00000         93.00320        0.00000       \n",
       "3 58.72853        68.85367        100.00000       50.70656       \n",
       "4  0.00000         0.00000        100.00000        0.00000       \n",
       "5  0.00000         0.00000         95.74509        0.00000       \n",
       "6 50.66796        66.65282        100.00000       43.00520       \n",
       "  change_mod.2010 perc_type_comp.1820\n",
       "1  0.00000        0                  \n",
       "2  0.00000        0                  \n",
       "3 29.09666        0                  \n",
       "4  0.00000        0                  \n",
       "5  0.00000        0                  \n",
       "6 24.55832        0                  "
      ]
     },
     "metadata": {},
     "output_type": "display_data"
    }
   ],
   "source": [
    "varimp_10_df %>% head()"
   ]
  },
  {
   "cell_type": "code",
   "execution_count": 247,
   "id": "bbfbec96-99b4-450a-bcc7-216d6f1a17af",
   "metadata": {},
   "outputs": [],
   "source": [
    "statistics_varimp_pivoted_df<-statistics_varimp_df %>% select(!c(n,seed,ml_algo)) %>%\n",
    "  pivot_longer(!c('corpus','tag','ppmi','setting','timespan','cutoff','impute','dataset','pattern','y'), names_to = \"feature_time\", values_to = \"value\")\n",
    "\n",
    "statistics_varimp_agnostic_pivoted_df<-statistics_varimp_agnostic_df %>% select(!c(n,seed,ml_algo)) %>%\n",
    "  pivot_longer(!c('corpus','tag','ppmi','setting','timespan','cutoff','impute','dataset','pattern','y'), names_to = \"feature_time\", values_to = \"value\")\n"
   ]
  },
  {
   "cell_type": "code",
   "execution_count": 248,
   "id": "440a2195-07ff-4f79-b820-e4565e4dabde",
   "metadata": {},
   "outputs": [],
   "source": [
    "statistics_varimp_pivoted_df<-statistics_varimp_pivoted_df %>% separate(col=feature_time,into=c('feature', 'time'), sep='\\\\.',remove=FALSE)\n",
    "\n",
    "statistics_varimp_agnostic_pivoted_df<-statistics_varimp_agnostic_pivoted_df %>% separate(col=feature_time,into=c('feature', 'time'), sep='\\\\.',remove=FALSE)\n"
   ]
  },
  {
   "cell_type": "code",
   "execution_count": 249,
   "id": "593d0c12-6c91-4c22-9148-3d4cd045510a",
   "metadata": {},
   "outputs": [],
   "source": [
    "cordeiro_cols<-c('arith_mean_sim.','beta.','geom_mean_sim.','sim_cpf_0.','sim_cpf_100.','sim_cpf_25.','sim_cpf_50.','sim_cpf_75.','sim_cpf_beta.')\n",
    "cosine_sim_cols<-c(\"sim_bw_constituents.\",'sim_with_head.','sim_with_modifier.')\n",
    "\n",
    "with_setting_cols<-c(\"sim_bw_settings_comp.\",\"sim_bw_settings_head.\",\"sim_bw_settings_modifier.\",'perc_token_modifier.','perc_type_modifier.','perc_token_head.','perc_type_head.','perc_token_comp.','perc_type_comp.')\n",
    "info_theory_cols<-c(\"local_mi.\",\"log_ratio.\",\"ppmi.\")\n",
    "freq_cols<-c(\"comp_freq.\",\"comp_tf.\",\"head_freq.\",\"head_tf.\",\"log_comp_freq.\",\"log_head_freq.\",\"log_head_freq_new.\",\"log_mod_freq.\",\"log_mod_freq_new.\",\"mod_freq.\",\"mod_tf.\")\n",
    "prod_cols<-c(\"head_family_size.\",\"head_family_size_new.\",\"head_prod.\",\"mod_family_size.\",\"mod_family_size_new.\",\"mod_prod.\")\n",
    "change_cols<-c('change_comp.','change_mod.','change_head.')"
   ]
  },
  {
   "cell_type": "code",
   "execution_count": 250,
   "id": "e52cf66e-f83f-4da9-a53d-499037d84813",
   "metadata": {},
   "outputs": [
    {
     "data": {
      "text/html": [
       "<table class=\"dataframe\">\n",
       "<caption>A grouped_df: 6 × 15</caption>\n",
       "<thead>\n",
       "\t<tr><th scope=col>corpus</th><th scope=col>tag</th><th scope=col>ppmi</th><th scope=col>setting</th><th scope=col>impute</th><th scope=col>dataset</th><th scope=col>y</th><th scope=col>pattern</th><th scope=col>timespan</th><th scope=col>cutoff</th><th scope=col>feature_time</th><th scope=col>feature</th><th scope=col>time</th><th scope=col>value</th><th scope=col>feature_class</th></tr>\n",
       "\t<tr><th scope=col>&lt;chr&gt;</th><th scope=col>&lt;chr&gt;</th><th scope=col>&lt;chr&gt;</th><th scope=col>&lt;chr&gt;</th><th scope=col>&lt;chr&gt;</th><th scope=col>&lt;chr&gt;</th><th scope=col>&lt;chr&gt;</th><th scope=col>&lt;chr&gt;</th><th scope=col>&lt;int&gt;</th><th scope=col>&lt;int&gt;</th><th scope=col>&lt;chr&gt;</th><th scope=col>&lt;chr&gt;</th><th scope=col>&lt;chr&gt;</th><th scope=col>&lt;dbl&gt;</th><th scope=col>&lt;chr&gt;</th></tr>\n",
       "</thead>\n",
       "<tbody>\n",
       "\t<tr><td>google</td><td>Tagged</td><td>PPMI</td><td>Aware</td><td>med</td><td>cordeiro100</td><td>compound</td><td>all</td><td>10</td><td>0</td><td>arith_mean_sim.1820</td><td>arith_mean_sim.</td><td>1820</td><td>3.852587</td><td>cordeiro</td></tr>\n",
       "\t<tr><td>google</td><td>Tagged</td><td>PPMI</td><td>Aware</td><td>med</td><td>cordeiro100</td><td>compound</td><td>all</td><td>10</td><td>0</td><td>arith_mean_sim.1830</td><td>arith_mean_sim.</td><td>1830</td><td>3.924156</td><td>cordeiro</td></tr>\n",
       "\t<tr><td>google</td><td>Tagged</td><td>PPMI</td><td>Aware</td><td>med</td><td>cordeiro100</td><td>compound</td><td>all</td><td>10</td><td>0</td><td>arith_mean_sim.1840</td><td>arith_mean_sim.</td><td>1840</td><td>4.152527</td><td>cordeiro</td></tr>\n",
       "\t<tr><td>google</td><td>Tagged</td><td>PPMI</td><td>Aware</td><td>med</td><td>cordeiro100</td><td>compound</td><td>all</td><td>10</td><td>0</td><td>arith_mean_sim.1850</td><td>arith_mean_sim.</td><td>1850</td><td>1.556127</td><td>cordeiro</td></tr>\n",
       "\t<tr><td>google</td><td>Tagged</td><td>PPMI</td><td>Aware</td><td>med</td><td>cordeiro100</td><td>compound</td><td>all</td><td>10</td><td>0</td><td>arith_mean_sim.1860</td><td>arith_mean_sim.</td><td>1860</td><td>3.820314</td><td>cordeiro</td></tr>\n",
       "\t<tr><td>google</td><td>Tagged</td><td>PPMI</td><td>Aware</td><td>med</td><td>cordeiro100</td><td>compound</td><td>all</td><td>10</td><td>0</td><td>arith_mean_sim.1870</td><td>arith_mean_sim.</td><td>1870</td><td>1.478967</td><td>cordeiro</td></tr>\n",
       "</tbody>\n",
       "</table>\n"
      ],
      "text/latex": [
       "A grouped\\_df: 6 × 15\n",
       "\\begin{tabular}{lllllllllllllll}\n",
       " corpus & tag & ppmi & setting & impute & dataset & y & pattern & timespan & cutoff & feature\\_time & feature & time & value & feature\\_class\\\\\n",
       " <chr> & <chr> & <chr> & <chr> & <chr> & <chr> & <chr> & <chr> & <int> & <int> & <chr> & <chr> & <chr> & <dbl> & <chr>\\\\\n",
       "\\hline\n",
       "\t google & Tagged & PPMI & Aware & med & cordeiro100 & compound & all & 10 & 0 & arith\\_mean\\_sim.1820 & arith\\_mean\\_sim. & 1820 & 3.852587 & cordeiro\\\\\n",
       "\t google & Tagged & PPMI & Aware & med & cordeiro100 & compound & all & 10 & 0 & arith\\_mean\\_sim.1830 & arith\\_mean\\_sim. & 1830 & 3.924156 & cordeiro\\\\\n",
       "\t google & Tagged & PPMI & Aware & med & cordeiro100 & compound & all & 10 & 0 & arith\\_mean\\_sim.1840 & arith\\_mean\\_sim. & 1840 & 4.152527 & cordeiro\\\\\n",
       "\t google & Tagged & PPMI & Aware & med & cordeiro100 & compound & all & 10 & 0 & arith\\_mean\\_sim.1850 & arith\\_mean\\_sim. & 1850 & 1.556127 & cordeiro\\\\\n",
       "\t google & Tagged & PPMI & Aware & med & cordeiro100 & compound & all & 10 & 0 & arith\\_mean\\_sim.1860 & arith\\_mean\\_sim. & 1860 & 3.820314 & cordeiro\\\\\n",
       "\t google & Tagged & PPMI & Aware & med & cordeiro100 & compound & all & 10 & 0 & arith\\_mean\\_sim.1870 & arith\\_mean\\_sim. & 1870 & 1.478967 & cordeiro\\\\\n",
       "\\end{tabular}\n"
      ],
      "text/markdown": [
       "\n",
       "A grouped_df: 6 × 15\n",
       "\n",
       "| corpus &lt;chr&gt; | tag &lt;chr&gt; | ppmi &lt;chr&gt; | setting &lt;chr&gt; | impute &lt;chr&gt; | dataset &lt;chr&gt; | y &lt;chr&gt; | pattern &lt;chr&gt; | timespan &lt;int&gt; | cutoff &lt;int&gt; | feature_time &lt;chr&gt; | feature &lt;chr&gt; | time &lt;chr&gt; | value &lt;dbl&gt; | feature_class &lt;chr&gt; |\n",
       "|---|---|---|---|---|---|---|---|---|---|---|---|---|---|---|\n",
       "| google | Tagged | PPMI | Aware | med | cordeiro100 | compound | all | 10 | 0 | arith_mean_sim.1820 | arith_mean_sim. | 1820 | 3.852587 | cordeiro |\n",
       "| google | Tagged | PPMI | Aware | med | cordeiro100 | compound | all | 10 | 0 | arith_mean_sim.1830 | arith_mean_sim. | 1830 | 3.924156 | cordeiro |\n",
       "| google | Tagged | PPMI | Aware | med | cordeiro100 | compound | all | 10 | 0 | arith_mean_sim.1840 | arith_mean_sim. | 1840 | 4.152527 | cordeiro |\n",
       "| google | Tagged | PPMI | Aware | med | cordeiro100 | compound | all | 10 | 0 | arith_mean_sim.1850 | arith_mean_sim. | 1850 | 1.556127 | cordeiro |\n",
       "| google | Tagged | PPMI | Aware | med | cordeiro100 | compound | all | 10 | 0 | arith_mean_sim.1860 | arith_mean_sim. | 1860 | 3.820314 | cordeiro |\n",
       "| google | Tagged | PPMI | Aware | med | cordeiro100 | compound | all | 10 | 0 | arith_mean_sim.1870 | arith_mean_sim. | 1870 | 1.478967 | cordeiro |\n",
       "\n"
      ],
      "text/plain": [
       "  corpus tag    ppmi setting impute dataset     y        pattern timespan\n",
       "1 google Tagged PPMI Aware   med    cordeiro100 compound all     10      \n",
       "2 google Tagged PPMI Aware   med    cordeiro100 compound all     10      \n",
       "3 google Tagged PPMI Aware   med    cordeiro100 compound all     10      \n",
       "4 google Tagged PPMI Aware   med    cordeiro100 compound all     10      \n",
       "5 google Tagged PPMI Aware   med    cordeiro100 compound all     10      \n",
       "6 google Tagged PPMI Aware   med    cordeiro100 compound all     10      \n",
       "  cutoff feature_time        feature         time value    feature_class\n",
       "1 0      arith_mean_sim.1820 arith_mean_sim. 1820 3.852587 cordeiro     \n",
       "2 0      arith_mean_sim.1830 arith_mean_sim. 1830 3.924156 cordeiro     \n",
       "3 0      arith_mean_sim.1840 arith_mean_sim. 1840 4.152527 cordeiro     \n",
       "4 0      arith_mean_sim.1850 arith_mean_sim. 1850 1.556127 cordeiro     \n",
       "5 0      arith_mean_sim.1860 arith_mean_sim. 1860 3.820314 cordeiro     \n",
       "6 0      arith_mean_sim.1870 arith_mean_sim. 1870 1.478967 cordeiro     "
      ]
     },
     "metadata": {},
     "output_type": "display_data"
    },
    {
     "data": {
      "text/html": [
       "<table class=\"dataframe\">\n",
       "<caption>A grouped_df: 6 × 15</caption>\n",
       "<thead>\n",
       "\t<tr><th scope=col>corpus</th><th scope=col>tag</th><th scope=col>ppmi</th><th scope=col>setting</th><th scope=col>impute</th><th scope=col>dataset</th><th scope=col>y</th><th scope=col>pattern</th><th scope=col>timespan</th><th scope=col>cutoff</th><th scope=col>feature_time</th><th scope=col>feature</th><th scope=col>time</th><th scope=col>value</th><th scope=col>feature_class</th></tr>\n",
       "\t<tr><th scope=col>&lt;chr&gt;</th><th scope=col>&lt;chr&gt;</th><th scope=col>&lt;chr&gt;</th><th scope=col>&lt;chr&gt;</th><th scope=col>&lt;chr&gt;</th><th scope=col>&lt;chr&gt;</th><th scope=col>&lt;chr&gt;</th><th scope=col>&lt;chr&gt;</th><th scope=col>&lt;int&gt;</th><th scope=col>&lt;int&gt;</th><th scope=col>&lt;chr&gt;</th><th scope=col>&lt;chr&gt;</th><th scope=col>&lt;chr&gt;</th><th scope=col>&lt;dbl&gt;</th><th scope=col>&lt;chr&gt;</th></tr>\n",
       "</thead>\n",
       "<tbody>\n",
       "\t<tr><td>google</td><td>Tagged</td><td>PPMI</td><td>Agnostic</td><td>med</td><td>cordeiro100</td><td>compound</td><td>all</td><td>10000</td><td>0</td><td>arith_mean_sim.0  </td><td>arith_mean_sim.  </td><td>0</td><td> 0.0000000</td><td>cordeiro</td></tr>\n",
       "\t<tr><td>google</td><td>Tagged</td><td>PPMI</td><td>Agnostic</td><td>med</td><td>cordeiro100</td><td>compound</td><td>all</td><td>10000</td><td>0</td><td>beta.0            </td><td>beta.            </td><td>0</td><td> 2.0000866</td><td>cordeiro</td></tr>\n",
       "\t<tr><td>google</td><td>Tagged</td><td>PPMI</td><td>Agnostic</td><td>med</td><td>cordeiro100</td><td>compound</td><td>all</td><td>10000</td><td>0</td><td>comp_freq.0       </td><td>comp_freq.       </td><td>0</td><td> 4.0010389</td><td>freq    </td></tr>\n",
       "\t<tr><td>google</td><td>Tagged</td><td>PPMI</td><td>Agnostic</td><td>med</td><td>cordeiro100</td><td>compound</td><td>all</td><td>10000</td><td>0</td><td>comp_tf.0         </td><td>comp_tf.         </td><td>0</td><td> 4.3238234</td><td>freq    </td></tr>\n",
       "\t<tr><td>google</td><td>Tagged</td><td>PPMI</td><td>Agnostic</td><td>med</td><td>cordeiro100</td><td>compound</td><td>all</td><td>10000</td><td>0</td><td>geom_mean_sim.0   </td><td>geom_mean_sim.   </td><td>0</td><td>20.2762614</td><td>cordeiro</td></tr>\n",
       "\t<tr><td>google</td><td>Tagged</td><td>PPMI</td><td>Agnostic</td><td>med</td><td>cordeiro100</td><td>compound</td><td>all</td><td>10000</td><td>0</td><td>head_family_size.0</td><td>head_family_size.</td><td>0</td><td> 0.5671029</td><td>prod    </td></tr>\n",
       "</tbody>\n",
       "</table>\n"
      ],
      "text/latex": [
       "A grouped\\_df: 6 × 15\n",
       "\\begin{tabular}{lllllllllllllll}\n",
       " corpus & tag & ppmi & setting & impute & dataset & y & pattern & timespan & cutoff & feature\\_time & feature & time & value & feature\\_class\\\\\n",
       " <chr> & <chr> & <chr> & <chr> & <chr> & <chr> & <chr> & <chr> & <int> & <int> & <chr> & <chr> & <chr> & <dbl> & <chr>\\\\\n",
       "\\hline\n",
       "\t google & Tagged & PPMI & Agnostic & med & cordeiro100 & compound & all & 10000 & 0 & arith\\_mean\\_sim.0   & arith\\_mean\\_sim.   & 0 &  0.0000000 & cordeiro\\\\\n",
       "\t google & Tagged & PPMI & Agnostic & med & cordeiro100 & compound & all & 10000 & 0 & beta.0             & beta.             & 0 &  2.0000866 & cordeiro\\\\\n",
       "\t google & Tagged & PPMI & Agnostic & med & cordeiro100 & compound & all & 10000 & 0 & comp\\_freq.0        & comp\\_freq.        & 0 &  4.0010389 & freq    \\\\\n",
       "\t google & Tagged & PPMI & Agnostic & med & cordeiro100 & compound & all & 10000 & 0 & comp\\_tf.0          & comp\\_tf.          & 0 &  4.3238234 & freq    \\\\\n",
       "\t google & Tagged & PPMI & Agnostic & med & cordeiro100 & compound & all & 10000 & 0 & geom\\_mean\\_sim.0    & geom\\_mean\\_sim.    & 0 & 20.2762614 & cordeiro\\\\\n",
       "\t google & Tagged & PPMI & Agnostic & med & cordeiro100 & compound & all & 10000 & 0 & head\\_family\\_size.0 & head\\_family\\_size. & 0 &  0.5671029 & prod    \\\\\n",
       "\\end{tabular}\n"
      ],
      "text/markdown": [
       "\n",
       "A grouped_df: 6 × 15\n",
       "\n",
       "| corpus &lt;chr&gt; | tag &lt;chr&gt; | ppmi &lt;chr&gt; | setting &lt;chr&gt; | impute &lt;chr&gt; | dataset &lt;chr&gt; | y &lt;chr&gt; | pattern &lt;chr&gt; | timespan &lt;int&gt; | cutoff &lt;int&gt; | feature_time &lt;chr&gt; | feature &lt;chr&gt; | time &lt;chr&gt; | value &lt;dbl&gt; | feature_class &lt;chr&gt; |\n",
       "|---|---|---|---|---|---|---|---|---|---|---|---|---|---|---|\n",
       "| google | Tagged | PPMI | Agnostic | med | cordeiro100 | compound | all | 10000 | 0 | arith_mean_sim.0   | arith_mean_sim.   | 0 |  0.0000000 | cordeiro |\n",
       "| google | Tagged | PPMI | Agnostic | med | cordeiro100 | compound | all | 10000 | 0 | beta.0             | beta.             | 0 |  2.0000866 | cordeiro |\n",
       "| google | Tagged | PPMI | Agnostic | med | cordeiro100 | compound | all | 10000 | 0 | comp_freq.0        | comp_freq.        | 0 |  4.0010389 | freq     |\n",
       "| google | Tagged | PPMI | Agnostic | med | cordeiro100 | compound | all | 10000 | 0 | comp_tf.0          | comp_tf.          | 0 |  4.3238234 | freq     |\n",
       "| google | Tagged | PPMI | Agnostic | med | cordeiro100 | compound | all | 10000 | 0 | geom_mean_sim.0    | geom_mean_sim.    | 0 | 20.2762614 | cordeiro |\n",
       "| google | Tagged | PPMI | Agnostic | med | cordeiro100 | compound | all | 10000 | 0 | head_family_size.0 | head_family_size. | 0 |  0.5671029 | prod     |\n",
       "\n"
      ],
      "text/plain": [
       "  corpus tag    ppmi setting  impute dataset     y        pattern timespan\n",
       "1 google Tagged PPMI Agnostic med    cordeiro100 compound all     10000   \n",
       "2 google Tagged PPMI Agnostic med    cordeiro100 compound all     10000   \n",
       "3 google Tagged PPMI Agnostic med    cordeiro100 compound all     10000   \n",
       "4 google Tagged PPMI Agnostic med    cordeiro100 compound all     10000   \n",
       "5 google Tagged PPMI Agnostic med    cordeiro100 compound all     10000   \n",
       "6 google Tagged PPMI Agnostic med    cordeiro100 compound all     10000   \n",
       "  cutoff feature_time       feature           time value      feature_class\n",
       "1 0      arith_mean_sim.0   arith_mean_sim.   0     0.0000000 cordeiro     \n",
       "2 0      beta.0             beta.             0     2.0000866 cordeiro     \n",
       "3 0      comp_freq.0        comp_freq.        0     4.0010389 freq         \n",
       "4 0      comp_tf.0          comp_tf.          0     4.3238234 freq         \n",
       "5 0      geom_mean_sim.0    geom_mean_sim.    0    20.2762614 cordeiro     \n",
       "6 0      head_family_size.0 head_family_size. 0     0.5671029 prod         "
      ]
     },
     "metadata": {},
     "output_type": "display_data"
    }
   ],
   "source": [
    "statistics_varimp_pivoted_df$feature<-paste0(statistics_varimp_pivoted_df$feature,\".\")\n",
    "statistics_varimp_pivoted_df$feature_class<-\"\"\n",
    "statistics_varimp_pivoted_df$feature_class[statistics_varimp_pivoted_df$feature %in%  cordeiro_cols] <- \"cordeiro\"\n",
    "statistics_varimp_pivoted_df$feature_class[statistics_varimp_pivoted_df$feature %in%  cosine_sim_cols] <- \"cosine_sim\"\n",
    "statistics_varimp_pivoted_df$feature_class[statistics_varimp_pivoted_df$feature %in%  with_setting_cols] <- \"with_setting\"\n",
    "statistics_varimp_pivoted_df$feature_class[statistics_varimp_pivoted_df$feature %in%  info_theory_cols] <- \"info_theory\"\n",
    "statistics_varimp_pivoted_df$feature_class[statistics_varimp_pivoted_df$feature %in%  freq_cols] <- \"freq\"\n",
    "statistics_varimp_pivoted_df$feature_class[statistics_varimp_pivoted_df$feature %in%  prod_cols] <- \"prod\"\n",
    "statistics_varimp_pivoted_df$feature_class[statistics_varimp_pivoted_df$feature %in%  change_cols] <- \"temp_change\"\n",
    "head(statistics_varimp_pivoted_df)\n",
    "\n",
    "\n",
    "statistics_varimp_agnostic_pivoted_df$feature<-paste0(statistics_varimp_agnostic_pivoted_df$feature,\".\")\n",
    "statistics_varimp_agnostic_pivoted_df$feature_class<-\"\"\n",
    "statistics_varimp_agnostic_pivoted_df$feature_class[statistics_varimp_agnostic_pivoted_df$feature %in%  cordeiro_cols] <- \"cordeiro\"\n",
    "statistics_varimp_agnostic_pivoted_df$feature_class[statistics_varimp_agnostic_pivoted_df$feature %in%  cosine_sim_cols] <- \"cosine_sim\"\n",
    "statistics_varimp_agnostic_pivoted_df$feature_class[statistics_varimp_agnostic_pivoted_df$feature %in%  with_setting_cols] <- \"with_setting\"\n",
    "statistics_varimp_agnostic_pivoted_df$feature_class[statistics_varimp_agnostic_pivoted_df$feature %in%  info_theory_cols] <- \"info_theory\"\n",
    "statistics_varimp_agnostic_pivoted_df$feature_class[statistics_varimp_agnostic_pivoted_df$feature %in%  freq_cols] <- \"freq\"\n",
    "statistics_varimp_agnostic_pivoted_df$feature_class[statistics_varimp_agnostic_pivoted_df$feature %in%  prod_cols] <- \"prod\"\n",
    "statistics_varimp_agnostic_pivoted_df$feature_class[statistics_varimp_agnostic_pivoted_df$feature %in%  change_cols] <- \"temp_change\"\n",
    "head(statistics_varimp_agnostic_pivoted_df)"
   ]
  },
  {
   "cell_type": "code",
   "execution_count": 251,
   "id": "c1ac828b-47b4-4d5a-aa86-c44bcc72a6f5",
   "metadata": {},
   "outputs": [
    {
     "name": "stderr",
     "output_type": "stream",
     "text": [
      "\u001b[1m\u001b[22m`summarise()` has grouped output by 'feature_class'. You can override using the `.groups` argument.\n"
     ]
    },
    {
     "data": {
      "text/html": [
       "<table class=\"dataframe\">\n",
       "<caption>A grouped_df: 21 × 4</caption>\n",
       "<thead>\n",
       "\t<tr><th scope=col>feature_class</th><th scope=col>y</th><th scope=col>mean(value)</th><th scope=col>sd(value)</th></tr>\n",
       "\t<tr><th scope=col>&lt;chr&gt;</th><th scope=col>&lt;chr&gt;</th><th scope=col>&lt;dbl&gt;</th><th scope=col>&lt;dbl&gt;</th></tr>\n",
       "</thead>\n",
       "<tbody>\n",
       "\t<tr><td>cordeiro    </td><td>compound</td><td> 4.830422</td><td> 8.503546</td></tr>\n",
       "\t<tr><td>cordeiro    </td><td>head    </td><td> 8.781895</td><td>13.357776</td></tr>\n",
       "\t<tr><td>cordeiro    </td><td>modifier</td><td> 4.802837</td><td> 8.337442</td></tr>\n",
       "\t<tr><td>cosine_sim  </td><td>compound</td><td> 6.882673</td><td>11.543825</td></tr>\n",
       "\t<tr><td>cosine_sim  </td><td>head    </td><td>10.275590</td><td>14.872938</td></tr>\n",
       "\t<tr><td>cosine_sim  </td><td>modifier</td><td> 5.342621</td><td> 8.556180</td></tr>\n",
       "\t<tr><td>freq        </td><td>compound</td><td> 5.025244</td><td> 9.677095</td></tr>\n",
       "\t<tr><td>freq        </td><td>head    </td><td> 6.203547</td><td> 9.923924</td></tr>\n",
       "\t<tr><td>freq        </td><td>modifier</td><td> 5.550674</td><td>10.498190</td></tr>\n",
       "\t<tr><td>info_theory </td><td>compound</td><td> 3.590154</td><td> 5.758422</td></tr>\n",
       "\t<tr><td>info_theory </td><td>head    </td><td> 4.026861</td><td> 5.465764</td></tr>\n",
       "\t<tr><td>info_theory </td><td>modifier</td><td> 4.066506</td><td> 6.375587</td></tr>\n",
       "\t<tr><td>prod        </td><td>compound</td><td> 3.640458</td><td> 5.762832</td></tr>\n",
       "\t<tr><td>prod        </td><td>head    </td><td> 6.429033</td><td> 9.459407</td></tr>\n",
       "\t<tr><td>prod        </td><td>modifier</td><td> 4.448948</td><td> 7.557398</td></tr>\n",
       "\t<tr><td>temp_change </td><td>compound</td><td>12.319747</td><td>18.905367</td></tr>\n",
       "\t<tr><td>temp_change </td><td>head    </td><td>13.442481</td><td>17.046474</td></tr>\n",
       "\t<tr><td>temp_change </td><td>modifier</td><td>11.251406</td><td>17.946605</td></tr>\n",
       "\t<tr><td>with_setting</td><td>compound</td><td> 5.175551</td><td> 9.133280</td></tr>\n",
       "\t<tr><td>with_setting</td><td>head    </td><td> 6.699987</td><td> 9.574901</td></tr>\n",
       "\t<tr><td>with_setting</td><td>modifier</td><td> 5.340060</td><td> 9.414074</td></tr>\n",
       "</tbody>\n",
       "</table>\n"
      ],
      "text/latex": [
       "A grouped\\_df: 21 × 4\n",
       "\\begin{tabular}{llll}\n",
       " feature\\_class & y & mean(value) & sd(value)\\\\\n",
       " <chr> & <chr> & <dbl> & <dbl>\\\\\n",
       "\\hline\n",
       "\t cordeiro     & compound &  4.830422 &  8.503546\\\\\n",
       "\t cordeiro     & head     &  8.781895 & 13.357776\\\\\n",
       "\t cordeiro     & modifier &  4.802837 &  8.337442\\\\\n",
       "\t cosine\\_sim   & compound &  6.882673 & 11.543825\\\\\n",
       "\t cosine\\_sim   & head     & 10.275590 & 14.872938\\\\\n",
       "\t cosine\\_sim   & modifier &  5.342621 &  8.556180\\\\\n",
       "\t freq         & compound &  5.025244 &  9.677095\\\\\n",
       "\t freq         & head     &  6.203547 &  9.923924\\\\\n",
       "\t freq         & modifier &  5.550674 & 10.498190\\\\\n",
       "\t info\\_theory  & compound &  3.590154 &  5.758422\\\\\n",
       "\t info\\_theory  & head     &  4.026861 &  5.465764\\\\\n",
       "\t info\\_theory  & modifier &  4.066506 &  6.375587\\\\\n",
       "\t prod         & compound &  3.640458 &  5.762832\\\\\n",
       "\t prod         & head     &  6.429033 &  9.459407\\\\\n",
       "\t prod         & modifier &  4.448948 &  7.557398\\\\\n",
       "\t temp\\_change  & compound & 12.319747 & 18.905367\\\\\n",
       "\t temp\\_change  & head     & 13.442481 & 17.046474\\\\\n",
       "\t temp\\_change  & modifier & 11.251406 & 17.946605\\\\\n",
       "\t with\\_setting & compound &  5.175551 &  9.133280\\\\\n",
       "\t with\\_setting & head     &  6.699987 &  9.574901\\\\\n",
       "\t with\\_setting & modifier &  5.340060 &  9.414074\\\\\n",
       "\\end{tabular}\n"
      ],
      "text/markdown": [
       "\n",
       "A grouped_df: 21 × 4\n",
       "\n",
       "| feature_class &lt;chr&gt; | y &lt;chr&gt; | mean(value) &lt;dbl&gt; | sd(value) &lt;dbl&gt; |\n",
       "|---|---|---|---|\n",
       "| cordeiro     | compound |  4.830422 |  8.503546 |\n",
       "| cordeiro     | head     |  8.781895 | 13.357776 |\n",
       "| cordeiro     | modifier |  4.802837 |  8.337442 |\n",
       "| cosine_sim   | compound |  6.882673 | 11.543825 |\n",
       "| cosine_sim   | head     | 10.275590 | 14.872938 |\n",
       "| cosine_sim   | modifier |  5.342621 |  8.556180 |\n",
       "| freq         | compound |  5.025244 |  9.677095 |\n",
       "| freq         | head     |  6.203547 |  9.923924 |\n",
       "| freq         | modifier |  5.550674 | 10.498190 |\n",
       "| info_theory  | compound |  3.590154 |  5.758422 |\n",
       "| info_theory  | head     |  4.026861 |  5.465764 |\n",
       "| info_theory  | modifier |  4.066506 |  6.375587 |\n",
       "| prod         | compound |  3.640458 |  5.762832 |\n",
       "| prod         | head     |  6.429033 |  9.459407 |\n",
       "| prod         | modifier |  4.448948 |  7.557398 |\n",
       "| temp_change  | compound | 12.319747 | 18.905367 |\n",
       "| temp_change  | head     | 13.442481 | 17.046474 |\n",
       "| temp_change  | modifier | 11.251406 | 17.946605 |\n",
       "| with_setting | compound |  5.175551 |  9.133280 |\n",
       "| with_setting | head     |  6.699987 |  9.574901 |\n",
       "| with_setting | modifier |  5.340060 |  9.414074 |\n",
       "\n"
      ],
      "text/plain": [
       "   feature_class y        mean(value) sd(value)\n",
       "1  cordeiro      compound  4.830422    8.503546\n",
       "2  cordeiro      head      8.781895   13.357776\n",
       "3  cordeiro      modifier  4.802837    8.337442\n",
       "4  cosine_sim    compound  6.882673   11.543825\n",
       "5  cosine_sim    head     10.275590   14.872938\n",
       "6  cosine_sim    modifier  5.342621    8.556180\n",
       "7  freq          compound  5.025244    9.677095\n",
       "8  freq          head      6.203547    9.923924\n",
       "9  freq          modifier  5.550674   10.498190\n",
       "10 info_theory   compound  3.590154    5.758422\n",
       "11 info_theory   head      4.026861    5.465764\n",
       "12 info_theory   modifier  4.066506    6.375587\n",
       "13 prod          compound  3.640458    5.762832\n",
       "14 prod          head      6.429033    9.459407\n",
       "15 prod          modifier  4.448948    7.557398\n",
       "16 temp_change   compound 12.319747   18.905367\n",
       "17 temp_change   head     13.442481   17.046474\n",
       "18 temp_change   modifier 11.251406   17.946605\n",
       "19 with_setting  compound  5.175551    9.133280\n",
       "20 with_setting  head      6.699987    9.574901\n",
       "21 with_setting  modifier  5.340060    9.414074"
      ]
     },
     "metadata": {},
     "output_type": "display_data"
    }
   ],
   "source": [
    "a_df<-statistics_varimp_pivoted_df %>% filter(dataset==\"reddy\") %>% group_by(feature_class,y) %>% summarize(mean(value), sd(value))\n",
    "a_df"
   ]
  },
  {
   "cell_type": "code",
   "execution_count": 252,
   "id": "9a7d649e-2c7d-4aa9-a4bc-6aada6f637d6",
   "metadata": {},
   "outputs": [
    {
     "name": "stderr",
     "output_type": "stream",
     "text": [
      "\u001b[1m\u001b[22m`summarise()` has grouped output by 'feature_class'. You can override using the `.groups` argument.\n"
     ]
    },
    {
     "data": {
      "text/html": [
       "<table class=\"dataframe\">\n",
       "<caption>A grouped_df: 15 × 4</caption>\n",
       "<thead>\n",
       "\t<tr><th scope=col>feature_class</th><th scope=col>y</th><th scope=col>mean(value)</th><th scope=col>sd(value)</th></tr>\n",
       "\t<tr><th scope=col>&lt;chr&gt;</th><th scope=col>&lt;chr&gt;</th><th scope=col>&lt;dbl&gt;</th><th scope=col>&lt;dbl&gt;</th></tr>\n",
       "</thead>\n",
       "<tbody>\n",
       "\t<tr><td>cordeiro   </td><td>compound</td><td>12.696976</td><td>19.87928</td></tr>\n",
       "\t<tr><td>cordeiro   </td><td>head    </td><td>23.028799</td><td>24.22933</td></tr>\n",
       "\t<tr><td>cordeiro   </td><td>modifier</td><td>16.308505</td><td>22.34786</td></tr>\n",
       "\t<tr><td>cosine_sim </td><td>compound</td><td>27.335130</td><td>29.51536</td></tr>\n",
       "\t<tr><td>cosine_sim </td><td>head    </td><td>37.344333</td><td>28.10347</td></tr>\n",
       "\t<tr><td>cosine_sim </td><td>modifier</td><td>22.178832</td><td>25.40301</td></tr>\n",
       "\t<tr><td>freq       </td><td>compound</td><td>17.243495</td><td>27.11514</td></tr>\n",
       "\t<tr><td>freq       </td><td>head    </td><td>18.521557</td><td>20.02373</td></tr>\n",
       "\t<tr><td>freq       </td><td>modifier</td><td>22.916049</td><td>26.19106</td></tr>\n",
       "\t<tr><td>info_theory</td><td>compound</td><td>10.629687</td><td>13.25807</td></tr>\n",
       "\t<tr><td>info_theory</td><td>head    </td><td>15.443626</td><td>18.02165</td></tr>\n",
       "\t<tr><td>info_theory</td><td>modifier</td><td>12.661595</td><td>14.88154</td></tr>\n",
       "\t<tr><td>prod       </td><td>compound</td><td> 7.786228</td><td>11.18626</td></tr>\n",
       "\t<tr><td>prod       </td><td>head    </td><td>16.672502</td><td>18.29578</td></tr>\n",
       "\t<tr><td>prod       </td><td>modifier</td><td>14.385601</td><td>19.27928</td></tr>\n",
       "</tbody>\n",
       "</table>\n"
      ],
      "text/latex": [
       "A grouped\\_df: 15 × 4\n",
       "\\begin{tabular}{llll}\n",
       " feature\\_class & y & mean(value) & sd(value)\\\\\n",
       " <chr> & <chr> & <dbl> & <dbl>\\\\\n",
       "\\hline\n",
       "\t cordeiro    & compound & 12.696976 & 19.87928\\\\\n",
       "\t cordeiro    & head     & 23.028799 & 24.22933\\\\\n",
       "\t cordeiro    & modifier & 16.308505 & 22.34786\\\\\n",
       "\t cosine\\_sim  & compound & 27.335130 & 29.51536\\\\\n",
       "\t cosine\\_sim  & head     & 37.344333 & 28.10347\\\\\n",
       "\t cosine\\_sim  & modifier & 22.178832 & 25.40301\\\\\n",
       "\t freq        & compound & 17.243495 & 27.11514\\\\\n",
       "\t freq        & head     & 18.521557 & 20.02373\\\\\n",
       "\t freq        & modifier & 22.916049 & 26.19106\\\\\n",
       "\t info\\_theory & compound & 10.629687 & 13.25807\\\\\n",
       "\t info\\_theory & head     & 15.443626 & 18.02165\\\\\n",
       "\t info\\_theory & modifier & 12.661595 & 14.88154\\\\\n",
       "\t prod        & compound &  7.786228 & 11.18626\\\\\n",
       "\t prod        & head     & 16.672502 & 18.29578\\\\\n",
       "\t prod        & modifier & 14.385601 & 19.27928\\\\\n",
       "\\end{tabular}\n"
      ],
      "text/markdown": [
       "\n",
       "A grouped_df: 15 × 4\n",
       "\n",
       "| feature_class &lt;chr&gt; | y &lt;chr&gt; | mean(value) &lt;dbl&gt; | sd(value) &lt;dbl&gt; |\n",
       "|---|---|---|---|\n",
       "| cordeiro    | compound | 12.696976 | 19.87928 |\n",
       "| cordeiro    | head     | 23.028799 | 24.22933 |\n",
       "| cordeiro    | modifier | 16.308505 | 22.34786 |\n",
       "| cosine_sim  | compound | 27.335130 | 29.51536 |\n",
       "| cosine_sim  | head     | 37.344333 | 28.10347 |\n",
       "| cosine_sim  | modifier | 22.178832 | 25.40301 |\n",
       "| freq        | compound | 17.243495 | 27.11514 |\n",
       "| freq        | head     | 18.521557 | 20.02373 |\n",
       "| freq        | modifier | 22.916049 | 26.19106 |\n",
       "| info_theory | compound | 10.629687 | 13.25807 |\n",
       "| info_theory | head     | 15.443626 | 18.02165 |\n",
       "| info_theory | modifier | 12.661595 | 14.88154 |\n",
       "| prod        | compound |  7.786228 | 11.18626 |\n",
       "| prod        | head     | 16.672502 | 18.29578 |\n",
       "| prod        | modifier | 14.385601 | 19.27928 |\n",
       "\n"
      ],
      "text/plain": [
       "   feature_class y        mean(value) sd(value)\n",
       "1  cordeiro      compound 12.696976   19.87928 \n",
       "2  cordeiro      head     23.028799   24.22933 \n",
       "3  cordeiro      modifier 16.308505   22.34786 \n",
       "4  cosine_sim    compound 27.335130   29.51536 \n",
       "5  cosine_sim    head     37.344333   28.10347 \n",
       "6  cosine_sim    modifier 22.178832   25.40301 \n",
       "7  freq          compound 17.243495   27.11514 \n",
       "8  freq          head     18.521557   20.02373 \n",
       "9  freq          modifier 22.916049   26.19106 \n",
       "10 info_theory   compound 10.629687   13.25807 \n",
       "11 info_theory   head     15.443626   18.02165 \n",
       "12 info_theory   modifier 12.661595   14.88154 \n",
       "13 prod          compound  7.786228   11.18626 \n",
       "14 prod          head     16.672502   18.29578 \n",
       "15 prod          modifier 14.385601   19.27928 "
      ]
     },
     "metadata": {},
     "output_type": "display_data"
    }
   ],
   "source": [
    "b_df<-statistics_varimp_agnostic_pivoted_df %>% filter(dataset==\"reddy\") %>% group_by(feature_class,y) %>% summarize(mean(value), sd(value))\n",
    "b_df"
   ]
  },
  {
   "cell_type": "code",
   "execution_count": 253,
   "id": "99ae35c0-ff62-42fa-a826-8d1b24fbb2a5",
   "metadata": {},
   "outputs": [
    {
     "data": {
      "text/html": [
       "<table class=\"dataframe\">\n",
       "<caption>A tibble: 44 × 2</caption>\n",
       "<thead>\n",
       "\t<tr><th scope=col>feature</th><th scope=col>mv</th></tr>\n",
       "\t<tr><th scope=col>&lt;chr&gt;</th><th scope=col>&lt;dbl&gt;</th></tr>\n",
       "</thead>\n",
       "<tbody>\n",
       "\t<tr><td>change_comp.             </td><td>14.047249</td></tr>\n",
       "\t<tr><td>change_mod.              </td><td>13.965230</td></tr>\n",
       "\t<tr><td>sim_with_head.           </td><td>11.791528</td></tr>\n",
       "\t<tr><td>geom_mean_sim.           </td><td>10.970118</td></tr>\n",
       "\t<tr><td>change_head.             </td><td>10.661369</td></tr>\n",
       "\t<tr><td>arith_mean_sim.          </td><td>10.342648</td></tr>\n",
       "\t<tr><td>perc_token_head.         </td><td> 9.355718</td></tr>\n",
       "\t<tr><td>sim_bw_settings_comp.    </td><td> 8.984321</td></tr>\n",
       "\t<tr><td>perc_type_comp.          </td><td> 8.674851</td></tr>\n",
       "\t<tr><td>perc_token_comp.         </td><td> 8.510436</td></tr>\n",
       "\t<tr><td>sim_bw_constituents.     </td><td> 8.499324</td></tr>\n",
       "\t<tr><td>sim_bw_settings_head.    </td><td> 8.468095</td></tr>\n",
       "\t<tr><td>comp_tf.                 </td><td> 7.773864</td></tr>\n",
       "\t<tr><td>log_comp_freq.           </td><td> 7.690157</td></tr>\n",
       "\t<tr><td>perc_type_head.          </td><td> 7.598280</td></tr>\n",
       "\t<tr><td>sim_with_modifier.       </td><td> 7.460503</td></tr>\n",
       "\t<tr><td>sim_cpf_0.               </td><td> 7.226383</td></tr>\n",
       "\t<tr><td>beta.                    </td><td> 7.107953</td></tr>\n",
       "\t<tr><td>sim_bw_settings_modifier.</td><td> 6.803710</td></tr>\n",
       "\t<tr><td>sim_cpf_beta.            </td><td> 6.673145</td></tr>\n",
       "\t<tr><td>sim_cpf_100.             </td><td> 6.407939</td></tr>\n",
       "\t<tr><td>mod_prod.                </td><td> 6.378782</td></tr>\n",
       "\t<tr><td>sim_cpf_75.              </td><td> 6.184279</td></tr>\n",
       "\t<tr><td>mod_freq.                </td><td> 5.976159</td></tr>\n",
       "\t<tr><td>log_mod_freq.            </td><td> 5.956209</td></tr>\n",
       "\t<tr><td>sim_cpf_50.              </td><td> 5.933323</td></tr>\n",
       "\t<tr><td>head_family_size.        </td><td> 5.915641</td></tr>\n",
       "\t<tr><td>log_mod_freq_new.        </td><td> 5.874692</td></tr>\n",
       "\t<tr><td>mod_tf.                  </td><td> 5.865642</td></tr>\n",
       "\t<tr><td>head_family_size_new.    </td><td> 5.779563</td></tr>\n",
       "\t<tr><td>head_tf.                 </td><td> 5.722187</td></tr>\n",
       "\t<tr><td>log_head_freq.           </td><td> 5.631390</td></tr>\n",
       "\t<tr><td>log_head_freq_new.       </td><td> 5.620999</td></tr>\n",
       "\t<tr><td>mod_family_size.         </td><td> 5.608405</td></tr>\n",
       "\t<tr><td>sim_cpf_25.              </td><td> 5.542267</td></tr>\n",
       "\t<tr><td>mod_family_size_new.     </td><td> 5.479865</td></tr>\n",
       "\t<tr><td>perc_token_modifier.     </td><td> 5.093383</td></tr>\n",
       "\t<tr><td>perc_type_modifier.      </td><td> 4.858393</td></tr>\n",
       "\t<tr><td>head_freq.               </td><td> 4.817872</td></tr>\n",
       "\t<tr><td>log_ratio.               </td><td> 4.804628</td></tr>\n",
       "\t<tr><td>ppmi.                    </td><td> 4.719792</td></tr>\n",
       "\t<tr><td>comp_freq.               </td><td> 4.557515</td></tr>\n",
       "\t<tr><td>head_prod.               </td><td> 4.465291</td></tr>\n",
       "\t<tr><td>local_mi.                </td><td> 4.403371</td></tr>\n",
       "</tbody>\n",
       "</table>\n"
      ],
      "text/latex": [
       "A tibble: 44 × 2\n",
       "\\begin{tabular}{ll}\n",
       " feature & mv\\\\\n",
       " <chr> & <dbl>\\\\\n",
       "\\hline\n",
       "\t change\\_comp.              & 14.047249\\\\\n",
       "\t change\\_mod.               & 13.965230\\\\\n",
       "\t sim\\_with\\_head.            & 11.791528\\\\\n",
       "\t geom\\_mean\\_sim.            & 10.970118\\\\\n",
       "\t change\\_head.              & 10.661369\\\\\n",
       "\t arith\\_mean\\_sim.           & 10.342648\\\\\n",
       "\t perc\\_token\\_head.          &  9.355718\\\\\n",
       "\t sim\\_bw\\_settings\\_comp.     &  8.984321\\\\\n",
       "\t perc\\_type\\_comp.           &  8.674851\\\\\n",
       "\t perc\\_token\\_comp.          &  8.510436\\\\\n",
       "\t sim\\_bw\\_constituents.      &  8.499324\\\\\n",
       "\t sim\\_bw\\_settings\\_head.     &  8.468095\\\\\n",
       "\t comp\\_tf.                  &  7.773864\\\\\n",
       "\t log\\_comp\\_freq.            &  7.690157\\\\\n",
       "\t perc\\_type\\_head.           &  7.598280\\\\\n",
       "\t sim\\_with\\_modifier.        &  7.460503\\\\\n",
       "\t sim\\_cpf\\_0.                &  7.226383\\\\\n",
       "\t beta.                     &  7.107953\\\\\n",
       "\t sim\\_bw\\_settings\\_modifier. &  6.803710\\\\\n",
       "\t sim\\_cpf\\_beta.             &  6.673145\\\\\n",
       "\t sim\\_cpf\\_100.              &  6.407939\\\\\n",
       "\t mod\\_prod.                 &  6.378782\\\\\n",
       "\t sim\\_cpf\\_75.               &  6.184279\\\\\n",
       "\t mod\\_freq.                 &  5.976159\\\\\n",
       "\t log\\_mod\\_freq.             &  5.956209\\\\\n",
       "\t sim\\_cpf\\_50.               &  5.933323\\\\\n",
       "\t head\\_family\\_size.         &  5.915641\\\\\n",
       "\t log\\_mod\\_freq\\_new.         &  5.874692\\\\\n",
       "\t mod\\_tf.                   &  5.865642\\\\\n",
       "\t head\\_family\\_size\\_new.     &  5.779563\\\\\n",
       "\t head\\_tf.                  &  5.722187\\\\\n",
       "\t log\\_head\\_freq.            &  5.631390\\\\\n",
       "\t log\\_head\\_freq\\_new.        &  5.620999\\\\\n",
       "\t mod\\_family\\_size.          &  5.608405\\\\\n",
       "\t sim\\_cpf\\_25.               &  5.542267\\\\\n",
       "\t mod\\_family\\_size\\_new.      &  5.479865\\\\\n",
       "\t perc\\_token\\_modifier.      &  5.093383\\\\\n",
       "\t perc\\_type\\_modifier.       &  4.858393\\\\\n",
       "\t head\\_freq.                &  4.817872\\\\\n",
       "\t log\\_ratio.                &  4.804628\\\\\n",
       "\t ppmi.                     &  4.719792\\\\\n",
       "\t comp\\_freq.                &  4.557515\\\\\n",
       "\t head\\_prod.                &  4.465291\\\\\n",
       "\t local\\_mi.                 &  4.403371\\\\\n",
       "\\end{tabular}\n"
      ],
      "text/markdown": [
       "\n",
       "A tibble: 44 × 2\n",
       "\n",
       "| feature &lt;chr&gt; | mv &lt;dbl&gt; |\n",
       "|---|---|\n",
       "| change_comp.              | 14.047249 |\n",
       "| change_mod.               | 13.965230 |\n",
       "| sim_with_head.            | 11.791528 |\n",
       "| geom_mean_sim.            | 10.970118 |\n",
       "| change_head.              | 10.661369 |\n",
       "| arith_mean_sim.           | 10.342648 |\n",
       "| perc_token_head.          |  9.355718 |\n",
       "| sim_bw_settings_comp.     |  8.984321 |\n",
       "| perc_type_comp.           |  8.674851 |\n",
       "| perc_token_comp.          |  8.510436 |\n",
       "| sim_bw_constituents.      |  8.499324 |\n",
       "| sim_bw_settings_head.     |  8.468095 |\n",
       "| comp_tf.                  |  7.773864 |\n",
       "| log_comp_freq.            |  7.690157 |\n",
       "| perc_type_head.           |  7.598280 |\n",
       "| sim_with_modifier.        |  7.460503 |\n",
       "| sim_cpf_0.                |  7.226383 |\n",
       "| beta.                     |  7.107953 |\n",
       "| sim_bw_settings_modifier. |  6.803710 |\n",
       "| sim_cpf_beta.             |  6.673145 |\n",
       "| sim_cpf_100.              |  6.407939 |\n",
       "| mod_prod.                 |  6.378782 |\n",
       "| sim_cpf_75.               |  6.184279 |\n",
       "| mod_freq.                 |  5.976159 |\n",
       "| log_mod_freq.             |  5.956209 |\n",
       "| sim_cpf_50.               |  5.933323 |\n",
       "| head_family_size.         |  5.915641 |\n",
       "| log_mod_freq_new.         |  5.874692 |\n",
       "| mod_tf.                   |  5.865642 |\n",
       "| head_family_size_new.     |  5.779563 |\n",
       "| head_tf.                  |  5.722187 |\n",
       "| log_head_freq.            |  5.631390 |\n",
       "| log_head_freq_new.        |  5.620999 |\n",
       "| mod_family_size.          |  5.608405 |\n",
       "| sim_cpf_25.               |  5.542267 |\n",
       "| mod_family_size_new.      |  5.479865 |\n",
       "| perc_token_modifier.      |  5.093383 |\n",
       "| perc_type_modifier.       |  4.858393 |\n",
       "| head_freq.                |  4.817872 |\n",
       "| log_ratio.                |  4.804628 |\n",
       "| ppmi.                     |  4.719792 |\n",
       "| comp_freq.                |  4.557515 |\n",
       "| head_prod.                |  4.465291 |\n",
       "| local_mi.                 |  4.403371 |\n",
       "\n"
      ],
      "text/plain": [
       "   feature                   mv       \n",
       "1  change_comp.              14.047249\n",
       "2  change_mod.               13.965230\n",
       "3  sim_with_head.            11.791528\n",
       "4  geom_mean_sim.            10.970118\n",
       "5  change_head.              10.661369\n",
       "6  arith_mean_sim.           10.342648\n",
       "7  perc_token_head.           9.355718\n",
       "8  sim_bw_settings_comp.      8.984321\n",
       "9  perc_type_comp.            8.674851\n",
       "10 perc_token_comp.           8.510436\n",
       "11 sim_bw_constituents.       8.499324\n",
       "12 sim_bw_settings_head.      8.468095\n",
       "13 comp_tf.                   7.773864\n",
       "14 log_comp_freq.             7.690157\n",
       "15 perc_type_head.            7.598280\n",
       "16 sim_with_modifier.         7.460503\n",
       "17 sim_cpf_0.                 7.226383\n",
       "18 beta.                      7.107953\n",
       "19 sim_bw_settings_modifier.  6.803710\n",
       "20 sim_cpf_beta.              6.673145\n",
       "21 sim_cpf_100.               6.407939\n",
       "22 mod_prod.                  6.378782\n",
       "23 sim_cpf_75.                6.184279\n",
       "24 mod_freq.                  5.976159\n",
       "25 log_mod_freq.              5.956209\n",
       "26 sim_cpf_50.                5.933323\n",
       "27 head_family_size.          5.915641\n",
       "28 log_mod_freq_new.          5.874692\n",
       "29 mod_tf.                    5.865642\n",
       "30 head_family_size_new.      5.779563\n",
       "31 head_tf.                   5.722187\n",
       "32 log_head_freq.             5.631390\n",
       "33 log_head_freq_new.         5.620999\n",
       "34 mod_family_size.           5.608405\n",
       "35 sim_cpf_25.                5.542267\n",
       "36 mod_family_size_new.       5.479865\n",
       "37 perc_token_modifier.       5.093383\n",
       "38 perc_type_modifier.        4.858393\n",
       "39 head_freq.                 4.817872\n",
       "40 log_ratio.                 4.804628\n",
       "41 ppmi.                      4.719792\n",
       "42 comp_freq.                 4.557515\n",
       "43 head_prod.                 4.465291\n",
       "44 local_mi.                  4.403371"
      ]
     },
     "metadata": {},
     "output_type": "display_data"
    }
   ],
   "source": [
    "statistics_varimp_pivoted_df %>% group_by(feature) %>% summarize(mv=mean(value))  %>% arrange(desc(mv))\n"
   ]
  },
  {
   "cell_type": "code",
   "execution_count": 240,
   "id": "81a497e6-ac4d-4e89-91c9-0466e7d5e90b",
   "metadata": {},
   "outputs": [
    {
     "data": {
      "text/html": [
       "<table class=\"dataframe\">\n",
       "<caption>A tibble: 877 × 2</caption>\n",
       "<thead>\n",
       "\t<tr><th scope=col>feature_time</th><th scope=col>mv</th></tr>\n",
       "\t<tr><th scope=col>&lt;chr&gt;</th><th scope=col>&lt;dbl&gt;</th></tr>\n",
       "</thead>\n",
       "<tbody>\n",
       "\t<tr><td>sim_with_head.1990 </td><td>25.00155</td></tr>\n",
       "\t<tr><td>sim_with_head.1980 </td><td>24.17151</td></tr>\n",
       "\t<tr><td>sim_with_head.2000 </td><td>23.55492</td></tr>\n",
       "\t<tr><td>geom_mean_sim.2010 </td><td>23.40766</td></tr>\n",
       "\t<tr><td>geom_mean_sim.1990 </td><td>22.81329</td></tr>\n",
       "\t<tr><td>geom_mean_sim.2000 </td><td>22.80009</td></tr>\n",
       "\t<tr><td>arith_mean_sim.1990</td><td>21.31502</td></tr>\n",
       "\t<tr><td>sim_with_head.2010 </td><td>21.23885</td></tr>\n",
       "\t<tr><td>geom_mean_sim.1980 </td><td>20.54563</td></tr>\n",
       "\t<tr><td>sim_with_head.1970 </td><td>20.24657</td></tr>\n",
       "\t<tr><td>sim_with_head.1960 </td><td>19.03721</td></tr>\n",
       "\t<tr><td>arith_mean_sim.1980</td><td>18.89232</td></tr>\n",
       "\t<tr><td>arith_mean_sim.2000</td><td>18.80658</td></tr>\n",
       "\t<tr><td>change_comp.1850   </td><td>18.76613</td></tr>\n",
       "\t<tr><td>change_mod.2010    </td><td>18.70794</td></tr>\n",
       "\t<tr><td>change_comp.1900   </td><td>17.95542</td></tr>\n",
       "\t<tr><td>change_head.2010   </td><td>17.85422</td></tr>\n",
       "\t<tr><td>change_mod.1980    </td><td>17.73656</td></tr>\n",
       "\t<tr><td>change_mod.1840    </td><td>17.56192</td></tr>\n",
       "\t<tr><td>comp_tf.2010       </td><td>17.51967</td></tr>\n",
       "\t<tr><td>geom_mean_sim.1970 </td><td>17.25648</td></tr>\n",
       "\t<tr><td>change_mod.1970    </td><td>17.15749</td></tr>\n",
       "\t<tr><td>change_comp.1880   </td><td>17.03089</td></tr>\n",
       "\t<tr><td>change_mod.1900    </td><td>16.86949</td></tr>\n",
       "\t<tr><td>arith_mean_sim.2010</td><td>16.77580</td></tr>\n",
       "\t<tr><td>change_mod.1830    </td><td>16.66841</td></tr>\n",
       "\t<tr><td>arith_mean_sim.1960</td><td>16.65750</td></tr>\n",
       "\t<tr><td>change_comp.1920   </td><td>16.32361</td></tr>\n",
       "\t<tr><td>log_comp_freq.2010 </td><td>16.18763</td></tr>\n",
       "\t<tr><td>change_comp.2010   </td><td>15.98816</td></tr>\n",
       "\t<tr><td>⋮</td><td>⋮</td></tr>\n",
       "\t<tr><td>log_mod_freq_new.1910   </td><td>3.840449</td></tr>\n",
       "\t<tr><td>head_prod.1880          </td><td>3.831660</td></tr>\n",
       "\t<tr><td>mod_tf.1910             </td><td>3.823299</td></tr>\n",
       "\t<tr><td>local_mi.1880           </td><td>3.813432</td></tr>\n",
       "\t<tr><td>log_ratio.1950          </td><td>3.782804</td></tr>\n",
       "\t<tr><td>head_freq.1890          </td><td>3.779486</td></tr>\n",
       "\t<tr><td>log_ratio.1880          </td><td>3.765279</td></tr>\n",
       "\t<tr><td>head_prod.1930          </td><td>3.760885</td></tr>\n",
       "\t<tr><td>comp_freq.1890          </td><td>3.733987</td></tr>\n",
       "\t<tr><td>ppmi.1970               </td><td>3.726261</td></tr>\n",
       "\t<tr><td>perc_token_modifier.1930</td><td>3.725496</td></tr>\n",
       "\t<tr><td>local_mi.1950           </td><td>3.724025</td></tr>\n",
       "\t<tr><td>head_prod.1920          </td><td>3.700509</td></tr>\n",
       "\t<tr><td>head_prod.1910          </td><td>3.685398</td></tr>\n",
       "\t<tr><td>perc_token_modifier.1960</td><td>3.668075</td></tr>\n",
       "\t<tr><td>comp_freq.1940          </td><td>3.659016</td></tr>\n",
       "\t<tr><td>local_mi.1940           </td><td>3.577010</td></tr>\n",
       "\t<tr><td>local_mi.1890           </td><td>3.552044</td></tr>\n",
       "\t<tr><td>log_ratio.1910          </td><td>3.551366</td></tr>\n",
       "\t<tr><td>log_ratio.1930          </td><td>3.523321</td></tr>\n",
       "\t<tr><td>head_prod.1900          </td><td>3.496528</td></tr>\n",
       "\t<tr><td>ppmi.1980               </td><td>3.488848</td></tr>\n",
       "\t<tr><td>comp_freq.1930          </td><td>3.479568</td></tr>\n",
       "\t<tr><td>local_mi.1910           </td><td>3.466587</td></tr>\n",
       "\t<tr><td>log_ratio.1890          </td><td>3.451238</td></tr>\n",
       "\t<tr><td>local_mi.1920           </td><td>3.394763</td></tr>\n",
       "\t<tr><td>comp_freq.1910          </td><td>3.328452</td></tr>\n",
       "\t<tr><td>local_mi.1930           </td><td>3.302700</td></tr>\n",
       "\t<tr><td>comp_freq.1920          </td><td>3.239737</td></tr>\n",
       "\t<tr><td>head_prod.1890          </td><td>3.099540</td></tr>\n",
       "</tbody>\n",
       "</table>\n"
      ],
      "text/latex": [
       "A tibble: 877 × 2\n",
       "\\begin{tabular}{ll}\n",
       " feature\\_time & mv\\\\\n",
       " <chr> & <dbl>\\\\\n",
       "\\hline\n",
       "\t sim\\_with\\_head.1990  & 25.00155\\\\\n",
       "\t sim\\_with\\_head.1980  & 24.17151\\\\\n",
       "\t sim\\_with\\_head.2000  & 23.55492\\\\\n",
       "\t geom\\_mean\\_sim.2010  & 23.40766\\\\\n",
       "\t geom\\_mean\\_sim.1990  & 22.81329\\\\\n",
       "\t geom\\_mean\\_sim.2000  & 22.80009\\\\\n",
       "\t arith\\_mean\\_sim.1990 & 21.31502\\\\\n",
       "\t sim\\_with\\_head.2010  & 21.23885\\\\\n",
       "\t geom\\_mean\\_sim.1980  & 20.54563\\\\\n",
       "\t sim\\_with\\_head.1970  & 20.24657\\\\\n",
       "\t sim\\_with\\_head.1960  & 19.03721\\\\\n",
       "\t arith\\_mean\\_sim.1980 & 18.89232\\\\\n",
       "\t arith\\_mean\\_sim.2000 & 18.80658\\\\\n",
       "\t change\\_comp.1850    & 18.76613\\\\\n",
       "\t change\\_mod.2010     & 18.70794\\\\\n",
       "\t change\\_comp.1900    & 17.95542\\\\\n",
       "\t change\\_head.2010    & 17.85422\\\\\n",
       "\t change\\_mod.1980     & 17.73656\\\\\n",
       "\t change\\_mod.1840     & 17.56192\\\\\n",
       "\t comp\\_tf.2010        & 17.51967\\\\\n",
       "\t geom\\_mean\\_sim.1970  & 17.25648\\\\\n",
       "\t change\\_mod.1970     & 17.15749\\\\\n",
       "\t change\\_comp.1880    & 17.03089\\\\\n",
       "\t change\\_mod.1900     & 16.86949\\\\\n",
       "\t arith\\_mean\\_sim.2010 & 16.77580\\\\\n",
       "\t change\\_mod.1830     & 16.66841\\\\\n",
       "\t arith\\_mean\\_sim.1960 & 16.65750\\\\\n",
       "\t change\\_comp.1920    & 16.32361\\\\\n",
       "\t log\\_comp\\_freq.2010  & 16.18763\\\\\n",
       "\t change\\_comp.2010    & 15.98816\\\\\n",
       "\t ⋮ & ⋮\\\\\n",
       "\t log\\_mod\\_freq\\_new.1910    & 3.840449\\\\\n",
       "\t head\\_prod.1880           & 3.831660\\\\\n",
       "\t mod\\_tf.1910              & 3.823299\\\\\n",
       "\t local\\_mi.1880            & 3.813432\\\\\n",
       "\t log\\_ratio.1950           & 3.782804\\\\\n",
       "\t head\\_freq.1890           & 3.779486\\\\\n",
       "\t log\\_ratio.1880           & 3.765279\\\\\n",
       "\t head\\_prod.1930           & 3.760885\\\\\n",
       "\t comp\\_freq.1890           & 3.733987\\\\\n",
       "\t ppmi.1970                & 3.726261\\\\\n",
       "\t perc\\_token\\_modifier.1930 & 3.725496\\\\\n",
       "\t local\\_mi.1950            & 3.724025\\\\\n",
       "\t head\\_prod.1920           & 3.700509\\\\\n",
       "\t head\\_prod.1910           & 3.685398\\\\\n",
       "\t perc\\_token\\_modifier.1960 & 3.668075\\\\\n",
       "\t comp\\_freq.1940           & 3.659016\\\\\n",
       "\t local\\_mi.1940            & 3.577010\\\\\n",
       "\t local\\_mi.1890            & 3.552044\\\\\n",
       "\t log\\_ratio.1910           & 3.551366\\\\\n",
       "\t log\\_ratio.1930           & 3.523321\\\\\n",
       "\t head\\_prod.1900           & 3.496528\\\\\n",
       "\t ppmi.1980                & 3.488848\\\\\n",
       "\t comp\\_freq.1930           & 3.479568\\\\\n",
       "\t local\\_mi.1910            & 3.466587\\\\\n",
       "\t log\\_ratio.1890           & 3.451238\\\\\n",
       "\t local\\_mi.1920            & 3.394763\\\\\n",
       "\t comp\\_freq.1910           & 3.328452\\\\\n",
       "\t local\\_mi.1930            & 3.302700\\\\\n",
       "\t comp\\_freq.1920           & 3.239737\\\\\n",
       "\t head\\_prod.1890           & 3.099540\\\\\n",
       "\\end{tabular}\n"
      ],
      "text/markdown": [
       "\n",
       "A tibble: 877 × 2\n",
       "\n",
       "| feature_time &lt;chr&gt; | mv &lt;dbl&gt; |\n",
       "|---|---|\n",
       "| sim_with_head.1990  | 25.00155 |\n",
       "| sim_with_head.1980  | 24.17151 |\n",
       "| sim_with_head.2000  | 23.55492 |\n",
       "| geom_mean_sim.2010  | 23.40766 |\n",
       "| geom_mean_sim.1990  | 22.81329 |\n",
       "| geom_mean_sim.2000  | 22.80009 |\n",
       "| arith_mean_sim.1990 | 21.31502 |\n",
       "| sim_with_head.2010  | 21.23885 |\n",
       "| geom_mean_sim.1980  | 20.54563 |\n",
       "| sim_with_head.1970  | 20.24657 |\n",
       "| sim_with_head.1960  | 19.03721 |\n",
       "| arith_mean_sim.1980 | 18.89232 |\n",
       "| arith_mean_sim.2000 | 18.80658 |\n",
       "| change_comp.1850    | 18.76613 |\n",
       "| change_mod.2010     | 18.70794 |\n",
       "| change_comp.1900    | 17.95542 |\n",
       "| change_head.2010    | 17.85422 |\n",
       "| change_mod.1980     | 17.73656 |\n",
       "| change_mod.1840     | 17.56192 |\n",
       "| comp_tf.2010        | 17.51967 |\n",
       "| geom_mean_sim.1970  | 17.25648 |\n",
       "| change_mod.1970     | 17.15749 |\n",
       "| change_comp.1880    | 17.03089 |\n",
       "| change_mod.1900     | 16.86949 |\n",
       "| arith_mean_sim.2010 | 16.77580 |\n",
       "| change_mod.1830     | 16.66841 |\n",
       "| arith_mean_sim.1960 | 16.65750 |\n",
       "| change_comp.1920    | 16.32361 |\n",
       "| log_comp_freq.2010  | 16.18763 |\n",
       "| change_comp.2010    | 15.98816 |\n",
       "| ⋮ | ⋮ |\n",
       "| log_mod_freq_new.1910    | 3.840449 |\n",
       "| head_prod.1880           | 3.831660 |\n",
       "| mod_tf.1910              | 3.823299 |\n",
       "| local_mi.1880            | 3.813432 |\n",
       "| log_ratio.1950           | 3.782804 |\n",
       "| head_freq.1890           | 3.779486 |\n",
       "| log_ratio.1880           | 3.765279 |\n",
       "| head_prod.1930           | 3.760885 |\n",
       "| comp_freq.1890           | 3.733987 |\n",
       "| ppmi.1970                | 3.726261 |\n",
       "| perc_token_modifier.1930 | 3.725496 |\n",
       "| local_mi.1950            | 3.724025 |\n",
       "| head_prod.1920           | 3.700509 |\n",
       "| head_prod.1910           | 3.685398 |\n",
       "| perc_token_modifier.1960 | 3.668075 |\n",
       "| comp_freq.1940           | 3.659016 |\n",
       "| local_mi.1940            | 3.577010 |\n",
       "| local_mi.1890            | 3.552044 |\n",
       "| log_ratio.1910           | 3.551366 |\n",
       "| log_ratio.1930           | 3.523321 |\n",
       "| head_prod.1900           | 3.496528 |\n",
       "| ppmi.1980                | 3.488848 |\n",
       "| comp_freq.1930           | 3.479568 |\n",
       "| local_mi.1910            | 3.466587 |\n",
       "| log_ratio.1890           | 3.451238 |\n",
       "| local_mi.1920            | 3.394763 |\n",
       "| comp_freq.1910           | 3.328452 |\n",
       "| local_mi.1930            | 3.302700 |\n",
       "| comp_freq.1920           | 3.239737 |\n",
       "| head_prod.1890           | 3.099540 |\n",
       "\n"
      ],
      "text/plain": [
       "    feature_time             mv      \n",
       "1   sim_with_head.1990       25.00155\n",
       "2   sim_with_head.1980       24.17151\n",
       "3   sim_with_head.2000       23.55492\n",
       "4   geom_mean_sim.2010       23.40766\n",
       "5   geom_mean_sim.1990       22.81329\n",
       "6   geom_mean_sim.2000       22.80009\n",
       "7   arith_mean_sim.1990      21.31502\n",
       "8   sim_with_head.2010       21.23885\n",
       "9   geom_mean_sim.1980       20.54563\n",
       "10  sim_with_head.1970       20.24657\n",
       "11  sim_with_head.1960       19.03721\n",
       "12  arith_mean_sim.1980      18.89232\n",
       "13  arith_mean_sim.2000      18.80658\n",
       "14  change_comp.1850         18.76613\n",
       "15  change_mod.2010          18.70794\n",
       "16  change_comp.1900         17.95542\n",
       "17  change_head.2010         17.85422\n",
       "18  change_mod.1980          17.73656\n",
       "19  change_mod.1840          17.56192\n",
       "20  comp_tf.2010             17.51967\n",
       "21  geom_mean_sim.1970       17.25648\n",
       "22  change_mod.1970          17.15749\n",
       "23  change_comp.1880         17.03089\n",
       "24  change_mod.1900          16.86949\n",
       "25  arith_mean_sim.2010      16.77580\n",
       "26  change_mod.1830          16.66841\n",
       "27  arith_mean_sim.1960      16.65750\n",
       "28  change_comp.1920         16.32361\n",
       "29  log_comp_freq.2010       16.18763\n",
       "30  change_comp.2010         15.98816\n",
       "⋮   ⋮                        ⋮       \n",
       "848 log_mod_freq_new.1910    3.840449\n",
       "849 head_prod.1880           3.831660\n",
       "850 mod_tf.1910              3.823299\n",
       "851 local_mi.1880            3.813432\n",
       "852 log_ratio.1950           3.782804\n",
       "853 head_freq.1890           3.779486\n",
       "854 log_ratio.1880           3.765279\n",
       "855 head_prod.1930           3.760885\n",
       "856 comp_freq.1890           3.733987\n",
       "857 ppmi.1970                3.726261\n",
       "858 perc_token_modifier.1930 3.725496\n",
       "859 local_mi.1950            3.724025\n",
       "860 head_prod.1920           3.700509\n",
       "861 head_prod.1910           3.685398\n",
       "862 perc_token_modifier.1960 3.668075\n",
       "863 comp_freq.1940           3.659016\n",
       "864 local_mi.1940            3.577010\n",
       "865 local_mi.1890            3.552044\n",
       "866 log_ratio.1910           3.551366\n",
       "867 log_ratio.1930           3.523321\n",
       "868 head_prod.1900           3.496528\n",
       "869 ppmi.1980                3.488848\n",
       "870 comp_freq.1930           3.479568\n",
       "871 local_mi.1910            3.466587\n",
       "872 log_ratio.1890           3.451238\n",
       "873 local_mi.1920            3.394763\n",
       "874 comp_freq.1910           3.328452\n",
       "875 local_mi.1930            3.302700\n",
       "876 comp_freq.1920           3.239737\n",
       "877 head_prod.1890           3.099540"
      ]
     },
     "metadata": {},
     "output_type": "display_data"
    }
   ],
   "source": [
    "statistics_varimp_pivoted_df %>% group_by(feature_time) %>% summarize(mv=mean(value))  %>% arrange(desc(mv))\n"
   ]
  },
  {
   "cell_type": "code",
   "execution_count": 212,
   "id": "31dea9da-0449-4947-a014-38a3a2149b68",
   "metadata": {},
   "outputs": [
    {
     "data": {
      "text/html": [
       "<table class=\"dataframe\">\n",
       "<caption>A tibble: 20 × 2</caption>\n",
       "<thead>\n",
       "\t<tr><th scope=col>time</th><th scope=col>mv</th></tr>\n",
       "\t<tr><th scope=col>&lt;chr&gt;</th><th scope=col>&lt;dbl&gt;</th></tr>\n",
       "</thead>\n",
       "<tbody>\n",
       "\t<tr><td>2010</td><td>10.252309</td></tr>\n",
       "\t<tr><td>2000</td><td> 9.383194</td></tr>\n",
       "\t<tr><td>1990</td><td> 8.938697</td></tr>\n",
       "\t<tr><td>1980</td><td> 8.295696</td></tr>\n",
       "\t<tr><td>1970</td><td> 7.677133</td></tr>\n",
       "\t<tr><td>1830</td><td> 7.541966</td></tr>\n",
       "\t<tr><td>1960</td><td> 7.454655</td></tr>\n",
       "\t<tr><td>1820</td><td> 7.331479</td></tr>\n",
       "\t<tr><td>1840</td><td> 7.253404</td></tr>\n",
       "\t<tr><td>1950</td><td> 6.958629</td></tr>\n",
       "\t<tr><td>1940</td><td> 6.667193</td></tr>\n",
       "\t<tr><td>1900</td><td> 6.654914</td></tr>\n",
       "\t<tr><td>1850</td><td> 6.647972</td></tr>\n",
       "\t<tr><td>1890</td><td> 6.323267</td></tr>\n",
       "\t<tr><td>1930</td><td> 6.256439</td></tr>\n",
       "\t<tr><td>1860</td><td> 6.233207</td></tr>\n",
       "\t<tr><td>1880</td><td> 6.096701</td></tr>\n",
       "\t<tr><td>1920</td><td> 6.080570</td></tr>\n",
       "\t<tr><td>1870</td><td> 6.078922</td></tr>\n",
       "\t<tr><td>1910</td><td> 5.754598</td></tr>\n",
       "</tbody>\n",
       "</table>\n"
      ],
      "text/latex": [
       "A tibble: 20 × 2\n",
       "\\begin{tabular}{ll}\n",
       " time & mv\\\\\n",
       " <chr> & <dbl>\\\\\n",
       "\\hline\n",
       "\t 2010 & 10.252309\\\\\n",
       "\t 2000 &  9.383194\\\\\n",
       "\t 1990 &  8.938697\\\\\n",
       "\t 1980 &  8.295696\\\\\n",
       "\t 1970 &  7.677133\\\\\n",
       "\t 1830 &  7.541966\\\\\n",
       "\t 1960 &  7.454655\\\\\n",
       "\t 1820 &  7.331479\\\\\n",
       "\t 1840 &  7.253404\\\\\n",
       "\t 1950 &  6.958629\\\\\n",
       "\t 1940 &  6.667193\\\\\n",
       "\t 1900 &  6.654914\\\\\n",
       "\t 1850 &  6.647972\\\\\n",
       "\t 1890 &  6.323267\\\\\n",
       "\t 1930 &  6.256439\\\\\n",
       "\t 1860 &  6.233207\\\\\n",
       "\t 1880 &  6.096701\\\\\n",
       "\t 1920 &  6.080570\\\\\n",
       "\t 1870 &  6.078922\\\\\n",
       "\t 1910 &  5.754598\\\\\n",
       "\\end{tabular}\n"
      ],
      "text/markdown": [
       "\n",
       "A tibble: 20 × 2\n",
       "\n",
       "| time &lt;chr&gt; | mv &lt;dbl&gt; |\n",
       "|---|---|\n",
       "| 2010 | 10.252309 |\n",
       "| 2000 |  9.383194 |\n",
       "| 1990 |  8.938697 |\n",
       "| 1980 |  8.295696 |\n",
       "| 1970 |  7.677133 |\n",
       "| 1830 |  7.541966 |\n",
       "| 1960 |  7.454655 |\n",
       "| 1820 |  7.331479 |\n",
       "| 1840 |  7.253404 |\n",
       "| 1950 |  6.958629 |\n",
       "| 1940 |  6.667193 |\n",
       "| 1900 |  6.654914 |\n",
       "| 1850 |  6.647972 |\n",
       "| 1890 |  6.323267 |\n",
       "| 1930 |  6.256439 |\n",
       "| 1860 |  6.233207 |\n",
       "| 1880 |  6.096701 |\n",
       "| 1920 |  6.080570 |\n",
       "| 1870 |  6.078922 |\n",
       "| 1910 |  5.754598 |\n",
       "\n"
      ],
      "text/plain": [
       "   time mv       \n",
       "1  2010 10.252309\n",
       "2  2000  9.383194\n",
       "3  1990  8.938697\n",
       "4  1980  8.295696\n",
       "5  1970  7.677133\n",
       "6  1830  7.541966\n",
       "7  1960  7.454655\n",
       "8  1820  7.331479\n",
       "9  1840  7.253404\n",
       "10 1950  6.958629\n",
       "11 1940  6.667193\n",
       "12 1900  6.654914\n",
       "13 1850  6.647972\n",
       "14 1890  6.323267\n",
       "15 1930  6.256439\n",
       "16 1860  6.233207\n",
       "17 1880  6.096701\n",
       "18 1920  6.080570\n",
       "19 1870  6.078922\n",
       "20 1910  5.754598"
      ]
     },
     "metadata": {},
     "output_type": "display_data"
    }
   ],
   "source": [
    "statistics_varimp_pivoted_df %>% group_by(time) %>% summarize(mv=mean(value))  %>% arrange(desc(mv))\n"
   ]
  },
  {
   "cell_type": "code",
   "execution_count": 232,
   "id": "816cf703-80af-423b-9b78-b49b120b6e54",
   "metadata": {},
   "outputs": [],
   "source": [
    "# in one pipeline:\n",
    "rsquared_files_list  <- path %>% \n",
    "  \n",
    "  # get csvs full paths. (?i) is for case insentitive\n",
    "  list.files(pattern = \"rsquared_.*\\\\.csv$\", full.names = TRUE)\n"
   ]
  },
  {
   "cell_type": "code",
   "execution_count": 233,
   "id": "dbaca624-c558-40f3-9920-32a4ba014965",
   "metadata": {},
   "outputs": [],
   "source": [
    "rsquared_df<-Reduce(rbind,lapply(rsquared_files_list,read.csv))"
   ]
  },
  {
   "cell_type": "code",
   "execution_count": 234,
   "id": "fed0a0ca-4acc-42fc-9157-d9e0ccba0034",
   "metadata": {},
   "outputs": [
    {
     "data": {
      "text/html": [
       "<style>\n",
       ".list-inline {list-style: none; margin:0; padding: 0}\n",
       ".list-inline>li {display: inline-block}\n",
       ".list-inline>li:not(:last-child)::after {content: \"\\00b7\"; padding: 0 .5ex}\n",
       "</style>\n",
       "<ol class=list-inline><li>71150</li><li>18</li></ol>\n"
      ],
      "text/latex": [
       "\\begin{enumerate*}\n",
       "\\item 71150\n",
       "\\item 18\n",
       "\\end{enumerate*}\n"
      ],
      "text/markdown": [
       "1. 71150\n",
       "2. 18\n",
       "\n",
       "\n"
      ],
      "text/plain": [
       "[1] 71150    18"
      ]
     },
     "metadata": {},
     "output_type": "display_data"
    }
   ],
   "source": [
    "rsquared_df %>% dim()"
   ]
  },
  {
   "cell_type": "code",
   "execution_count": 235,
   "id": "303b57dc-1850-450e-8f41-62ebc61d1b0a",
   "metadata": {},
   "outputs": [
    {
     "data": {
      "text/html": [
       "<style>\n",
       ".list-inline {list-style: none; margin:0; padding: 0}\n",
       ".list-inline>li {display: inline-block}\n",
       ".list-inline>li:not(:last-child)::after {content: \"\\00b7\"; padding: 0 .5ex}\n",
       "</style>\n",
       "<ol class=list-inline><li>57370</li><li>18</li></ol>\n"
      ],
      "text/latex": [
       "\\begin{enumerate*}\n",
       "\\item 57370\n",
       "\\item 18\n",
       "\\end{enumerate*}\n"
      ],
      "text/markdown": [
       "1. 57370\n",
       "2. 18\n",
       "\n",
       "\n"
      ],
      "text/plain": [
       "[1] 57370    18"
      ]
     },
     "metadata": {},
     "output_type": "display_data"
    }
   ],
   "source": [
    "rsquared_df<- rsquared_df %>% filter(!(pattern==\"all\" & tag==\"Tagged\"))\n",
    "rsquared_df %>% dim()"
   ]
  },
  {
   "cell_type": "code",
   "execution_count": 236,
   "id": "1501d95c-06cb-4621-87b7-387335c58476",
   "metadata": {},
   "outputs": [],
   "source": [
    "rsquared_df$cutoff<-as.factor(rsquared_df$cutoff)\n"
   ]
  },
  {
   "cell_type": "code",
   "execution_count": 237,
   "id": "26300a02-3da2-4b1b-b5f0-483e060ad7a3",
   "metadata": {},
   "outputs": [
    {
     "name": "stderr",
     "output_type": "stream",
     "text": [
      "\u001b[1m\u001b[22m`summarise()` has grouped output by 'corpus', 'tag', 'ppmi', 'setting', 'impute', 'dataset', 'y', 'pattern', 'timespan'. You can override using the `.groups` argument.\n"
     ]
    },
    {
     "data": {
      "text/html": [
       "<table class=\"dataframe\">\n",
       "<caption>A grouped_df: 10 × 16</caption>\n",
       "<thead>\n",
       "\t<tr><th scope=col>corpus</th><th scope=col>tag</th><th scope=col>ppmi</th><th scope=col>setting</th><th scope=col>impute</th><th scope=col>dataset</th><th scope=col>y</th><th scope=col>pattern</th><th scope=col>timespan</th><th scope=col>cutoff</th><th scope=col>n</th><th scope=col>meanRsquared</th><th scope=col>sdRsquared</th><th scope=col>meanCorr</th><th scope=col>sdCorr</th><th scope=col>mean_feat</th></tr>\n",
       "\t<tr><th scope=col>&lt;chr&gt;</th><th scope=col>&lt;chr&gt;</th><th scope=col>&lt;chr&gt;</th><th scope=col>&lt;chr&gt;</th><th scope=col>&lt;chr&gt;</th><th scope=col>&lt;chr&gt;</th><th scope=col>&lt;chr&gt;</th><th scope=col>&lt;chr&gt;</th><th scope=col>&lt;int&gt;</th><th scope=col>&lt;fct&gt;</th><th scope=col>&lt;dbl&gt;</th><th scope=col>&lt;dbl&gt;</th><th scope=col>&lt;dbl&gt;</th><th scope=col>&lt;dbl&gt;</th><th scope=col>&lt;dbl&gt;</th><th scope=col>&lt;dbl&gt;</th></tr>\n",
       "</thead>\n",
       "<tbody>\n",
       "\t<tr><td>google</td><td>UnTagged</td><td>RAW </td><td>Agnostic</td><td>na </td><td>reddy</td><td>compound</td><td>all</td><td> 10</td><td>100 </td><td>90</td><td>0.6994867</td><td>0.02309277</td><td>0.7985843</td><td>0.02721404</td><td> 26</td></tr>\n",
       "\t<tr><td>google</td><td>Tagged  </td><td>RAW </td><td>Aware   </td><td>na </td><td>reddy</td><td>compound</td><td>nn </td><td> 10</td><td>100 </td><td>90</td><td>0.5876954</td><td>0.07395973</td><td>0.7574474</td><td>0.08067438</td><td>164</td></tr>\n",
       "\t<tr><td>google</td><td>UnTagged</td><td>RAW </td><td>Agnostic</td><td>med</td><td>reddy</td><td>compound</td><td>all</td><td> 20</td><td>500 </td><td>90</td><td>0.6476684</td><td>0.02201945</td><td>0.7546467</td><td>0.03051108</td><td> 20</td></tr>\n",
       "\t<tr><td>google</td><td>UnTagged</td><td>RAW </td><td>Agnostic</td><td>na </td><td>reddy</td><td>compound</td><td>all</td><td> 20</td><td>500 </td><td>90</td><td>0.6348172</td><td>0.02792787</td><td>0.7502408</td><td>0.03882578</td><td> 26</td></tr>\n",
       "\t<tr><td>google</td><td>Tagged  </td><td>PPMI</td><td>Aware   </td><td>med</td><td>reddy</td><td>compound</td><td>an </td><td> 50</td><td>0   </td><td>90</td><td>0.6281572</td><td>0.02090080</td><td>0.7487922</td><td>0.02574987</td><td> 33</td></tr>\n",
       "\t<tr><td>google</td><td>Tagged  </td><td>RAW </td><td>Aware   </td><td>na </td><td>reddy</td><td>compound</td><td>nn </td><td> 10</td><td>50  </td><td>90</td><td>0.5663117</td><td>0.03694719</td><td>0.7482954</td><td>0.06589498</td><td>114</td></tr>\n",
       "\t<tr><td>google</td><td>UnTagged</td><td>RAW </td><td>Aware   </td><td>med</td><td>reddy</td><td>compound</td><td>all</td><td>100</td><td>500 </td><td>90</td><td>0.6031964</td><td>0.01686978</td><td>0.7462862</td><td>0.03253911</td><td> 21</td></tr>\n",
       "\t<tr><td>google</td><td>UnTagged</td><td>RAW </td><td>Agnostic</td><td>med</td><td>reddy</td><td>compound</td><td>all</td><td> 20</td><td>1000</td><td>90</td><td>0.6559819</td><td>0.01451446</td><td>0.7457163</td><td>0.02909761</td><td> 34</td></tr>\n",
       "\t<tr><td>google</td><td>Tagged  </td><td>PPMI</td><td>Aware   </td><td>na </td><td>reddy</td><td>compound</td><td>an </td><td> 50</td><td>0   </td><td>90</td><td>0.6114104</td><td>0.02257642</td><td>0.7429472</td><td>0.02251480</td><td> 40</td></tr>\n",
       "\t<tr><td>google</td><td>Tagged  </td><td>PPMI</td><td>Aware   </td><td>na </td><td>reddy</td><td>compound</td><td>an </td><td> 50</td><td>100 </td><td>90</td><td>0.5802801</td><td>0.02392908</td><td>0.7428669</td><td>0.02396339</td><td> 14</td></tr>\n",
       "</tbody>\n",
       "</table>\n"
      ],
      "text/latex": [
       "A grouped\\_df: 10 × 16\n",
       "\\begin{tabular}{llllllllllllllll}\n",
       " corpus & tag & ppmi & setting & impute & dataset & y & pattern & timespan & cutoff & n & meanRsquared & sdRsquared & meanCorr & sdCorr & mean\\_feat\\\\\n",
       " <chr> & <chr> & <chr> & <chr> & <chr> & <chr> & <chr> & <chr> & <int> & <fct> & <dbl> & <dbl> & <dbl> & <dbl> & <dbl> & <dbl>\\\\\n",
       "\\hline\n",
       "\t google & UnTagged & RAW  & Agnostic & na  & reddy & compound & all &  10 & 100  & 90 & 0.6994867 & 0.02309277 & 0.7985843 & 0.02721404 &  26\\\\\n",
       "\t google & Tagged   & RAW  & Aware    & na  & reddy & compound & nn  &  10 & 100  & 90 & 0.5876954 & 0.07395973 & 0.7574474 & 0.08067438 & 164\\\\\n",
       "\t google & UnTagged & RAW  & Agnostic & med & reddy & compound & all &  20 & 500  & 90 & 0.6476684 & 0.02201945 & 0.7546467 & 0.03051108 &  20\\\\\n",
       "\t google & UnTagged & RAW  & Agnostic & na  & reddy & compound & all &  20 & 500  & 90 & 0.6348172 & 0.02792787 & 0.7502408 & 0.03882578 &  26\\\\\n",
       "\t google & Tagged   & PPMI & Aware    & med & reddy & compound & an  &  50 & 0    & 90 & 0.6281572 & 0.02090080 & 0.7487922 & 0.02574987 &  33\\\\\n",
       "\t google & Tagged   & RAW  & Aware    & na  & reddy & compound & nn  &  10 & 50   & 90 & 0.5663117 & 0.03694719 & 0.7482954 & 0.06589498 & 114\\\\\n",
       "\t google & UnTagged & RAW  & Aware    & med & reddy & compound & all & 100 & 500  & 90 & 0.6031964 & 0.01686978 & 0.7462862 & 0.03253911 &  21\\\\\n",
       "\t google & UnTagged & RAW  & Agnostic & med & reddy & compound & all &  20 & 1000 & 90 & 0.6559819 & 0.01451446 & 0.7457163 & 0.02909761 &  34\\\\\n",
       "\t google & Tagged   & PPMI & Aware    & na  & reddy & compound & an  &  50 & 0    & 90 & 0.6114104 & 0.02257642 & 0.7429472 & 0.02251480 &  40\\\\\n",
       "\t google & Tagged   & PPMI & Aware    & na  & reddy & compound & an  &  50 & 100  & 90 & 0.5802801 & 0.02392908 & 0.7428669 & 0.02396339 &  14\\\\\n",
       "\\end{tabular}\n"
      ],
      "text/markdown": [
       "\n",
       "A grouped_df: 10 × 16\n",
       "\n",
       "| corpus &lt;chr&gt; | tag &lt;chr&gt; | ppmi &lt;chr&gt; | setting &lt;chr&gt; | impute &lt;chr&gt; | dataset &lt;chr&gt; | y &lt;chr&gt; | pattern &lt;chr&gt; | timespan &lt;int&gt; | cutoff &lt;fct&gt; | n &lt;dbl&gt; | meanRsquared &lt;dbl&gt; | sdRsquared &lt;dbl&gt; | meanCorr &lt;dbl&gt; | sdCorr &lt;dbl&gt; | mean_feat &lt;dbl&gt; |\n",
       "|---|---|---|---|---|---|---|---|---|---|---|---|---|---|---|---|\n",
       "| google | UnTagged | RAW  | Agnostic | na  | reddy | compound | all |  10 | 100  | 90 | 0.6994867 | 0.02309277 | 0.7985843 | 0.02721404 |  26 |\n",
       "| google | Tagged   | RAW  | Aware    | na  | reddy | compound | nn  |  10 | 100  | 90 | 0.5876954 | 0.07395973 | 0.7574474 | 0.08067438 | 164 |\n",
       "| google | UnTagged | RAW  | Agnostic | med | reddy | compound | all |  20 | 500  | 90 | 0.6476684 | 0.02201945 | 0.7546467 | 0.03051108 |  20 |\n",
       "| google | UnTagged | RAW  | Agnostic | na  | reddy | compound | all |  20 | 500  | 90 | 0.6348172 | 0.02792787 | 0.7502408 | 0.03882578 |  26 |\n",
       "| google | Tagged   | PPMI | Aware    | med | reddy | compound | an  |  50 | 0    | 90 | 0.6281572 | 0.02090080 | 0.7487922 | 0.02574987 |  33 |\n",
       "| google | Tagged   | RAW  | Aware    | na  | reddy | compound | nn  |  10 | 50   | 90 | 0.5663117 | 0.03694719 | 0.7482954 | 0.06589498 | 114 |\n",
       "| google | UnTagged | RAW  | Aware    | med | reddy | compound | all | 100 | 500  | 90 | 0.6031964 | 0.01686978 | 0.7462862 | 0.03253911 |  21 |\n",
       "| google | UnTagged | RAW  | Agnostic | med | reddy | compound | all |  20 | 1000 | 90 | 0.6559819 | 0.01451446 | 0.7457163 | 0.02909761 |  34 |\n",
       "| google | Tagged   | PPMI | Aware    | na  | reddy | compound | an  |  50 | 0    | 90 | 0.6114104 | 0.02257642 | 0.7429472 | 0.02251480 |  40 |\n",
       "| google | Tagged   | PPMI | Aware    | na  | reddy | compound | an  |  50 | 100  | 90 | 0.5802801 | 0.02392908 | 0.7428669 | 0.02396339 |  14 |\n",
       "\n"
      ],
      "text/plain": [
       "   corpus tag      ppmi setting  impute dataset y        pattern timespan\n",
       "1  google UnTagged RAW  Agnostic na     reddy   compound all      10     \n",
       "2  google Tagged   RAW  Aware    na     reddy   compound nn       10     \n",
       "3  google UnTagged RAW  Agnostic med    reddy   compound all      20     \n",
       "4  google UnTagged RAW  Agnostic na     reddy   compound all      20     \n",
       "5  google Tagged   PPMI Aware    med    reddy   compound an       50     \n",
       "6  google Tagged   RAW  Aware    na     reddy   compound nn       10     \n",
       "7  google UnTagged RAW  Aware    med    reddy   compound all     100     \n",
       "8  google UnTagged RAW  Agnostic med    reddy   compound all      20     \n",
       "9  google Tagged   PPMI Aware    na     reddy   compound an       50     \n",
       "10 google Tagged   PPMI Aware    na     reddy   compound an       50     \n",
       "   cutoff n  meanRsquared sdRsquared meanCorr  sdCorr     mean_feat\n",
       "1  100    90 0.6994867    0.02309277 0.7985843 0.02721404  26      \n",
       "2  100    90 0.5876954    0.07395973 0.7574474 0.08067438 164      \n",
       "3  500    90 0.6476684    0.02201945 0.7546467 0.03051108  20      \n",
       "4  500    90 0.6348172    0.02792787 0.7502408 0.03882578  26      \n",
       "5  0      90 0.6281572    0.02090080 0.7487922 0.02574987  33      \n",
       "6  50     90 0.5663117    0.03694719 0.7482954 0.06589498 114      \n",
       "7  500    90 0.6031964    0.01686978 0.7462862 0.03253911  21      \n",
       "8  1000   90 0.6559819    0.01451446 0.7457163 0.02909761  34      \n",
       "9  0      90 0.6114104    0.02257642 0.7429472 0.02251480  40      \n",
       "10 100    90 0.5802801    0.02392908 0.7428669 0.02396339  14      "
      ]
     },
     "metadata": {},
     "output_type": "display_data"
    }
   ],
   "source": [
    "statistics<-rsquared_df %>% group_by(corpus,tag,ppmi,setting,impute,dataset,y,pattern,timespan,cutoff) %>% \n",
    "summarise(n=mean(n),meanRsquared=mean(TrainRsquared),sdRsquared=sd(TrainRsquared),meanCorr=mean(TrainSpearman),sdCorr=sd(TrainSpearman),mean_feat=round(mean(npred),0))\n",
    "\n",
    "statistics   %>% filter(y==\"compound\") %>% arrange(desc(meanCorr)) %>% head(10)"
   ]
  },
  {
   "cell_type": "code",
   "execution_count": 238,
   "id": "2fe554e9-bcdd-414b-b38e-af8b6342a688",
   "metadata": {},
   "outputs": [
    {
     "data": {
      "text/html": [
       "<table class=\"dataframe\">\n",
       "<caption>A grouped_df: 10 × 16</caption>\n",
       "<thead>\n",
       "\t<tr><th scope=col>corpus</th><th scope=col>tag</th><th scope=col>ppmi</th><th scope=col>setting</th><th scope=col>impute</th><th scope=col>dataset</th><th scope=col>y</th><th scope=col>pattern</th><th scope=col>timespan</th><th scope=col>cutoff</th><th scope=col>n</th><th scope=col>meanRsquared</th><th scope=col>sdRsquared</th><th scope=col>meanCorr</th><th scope=col>sdCorr</th><th scope=col>mean_feat</th></tr>\n",
       "\t<tr><th scope=col>&lt;chr&gt;</th><th scope=col>&lt;chr&gt;</th><th scope=col>&lt;chr&gt;</th><th scope=col>&lt;chr&gt;</th><th scope=col>&lt;chr&gt;</th><th scope=col>&lt;chr&gt;</th><th scope=col>&lt;chr&gt;</th><th scope=col>&lt;chr&gt;</th><th scope=col>&lt;int&gt;</th><th scope=col>&lt;fct&gt;</th><th scope=col>&lt;dbl&gt;</th><th scope=col>&lt;dbl&gt;</th><th scope=col>&lt;dbl&gt;</th><th scope=col>&lt;dbl&gt;</th><th scope=col>&lt;dbl&gt;</th><th scope=col>&lt;dbl&gt;</th></tr>\n",
       "</thead>\n",
       "<tbody>\n",
       "\t<tr><td>google</td><td>Tagged  </td><td>PPMI</td><td>Aware   </td><td>med</td><td>reddy</td><td>head</td><td>an </td><td>10000</td><td>0  </td><td>90</td><td>0.5732368</td><td>0.02289994</td><td>0.7758014</td><td>0.01190246</td><td> 13</td></tr>\n",
       "\t<tr><td>google</td><td>UnTagged</td><td>PPMI</td><td>Aware   </td><td>med</td><td>reddy</td><td>head</td><td>all</td><td>  100</td><td>0  </td><td>90</td><td>0.6001502</td><td>0.02995168</td><td>0.7719670</td><td>0.03313741</td><td> 45</td></tr>\n",
       "\t<tr><td>google</td><td>UnTagged</td><td>PPMI</td><td>Aware   </td><td>med</td><td>reddy</td><td>head</td><td>all</td><td>   50</td><td>50 </td><td>90</td><td>0.5937248</td><td>0.03700083</td><td>0.7672359</td><td>0.01913476</td><td>104</td></tr>\n",
       "\t<tr><td>google</td><td>UnTagged</td><td>PPMI</td><td>Agnostic</td><td>med</td><td>reddy</td><td>head</td><td>all</td><td>10000</td><td>0  </td><td>90</td><td>0.5903843</td><td>0.02515917</td><td>0.7624793</td><td>0.02158783</td><td> 26</td></tr>\n",
       "\t<tr><td>google</td><td>UnTagged</td><td>PPMI</td><td>Agnostic</td><td>na </td><td>reddy</td><td>head</td><td>all</td><td>10000</td><td>0  </td><td>90</td><td>0.6128205</td><td>0.02426373</td><td>0.7601899</td><td>0.02311325</td><td> 24</td></tr>\n",
       "\t<tr><td>google</td><td>UnTagged</td><td>PPMI</td><td>Agnostic</td><td>na </td><td>reddy</td><td>head</td><td>all</td><td>  100</td><td>50 </td><td>90</td><td>0.5729635</td><td>0.03568949</td><td>0.7549458</td><td>0.02374211</td><td> 50</td></tr>\n",
       "\t<tr><td>google</td><td>UnTagged</td><td>PPMI</td><td>Aware   </td><td>med</td><td>reddy</td><td>head</td><td>all</td><td>   50</td><td>100</td><td>90</td><td>0.5655250</td><td>0.03211646</td><td>0.7545801</td><td>0.02455740</td><td>119</td></tr>\n",
       "\t<tr><td>google</td><td>Tagged  </td><td>PPMI</td><td>Aware   </td><td>na </td><td>reddy</td><td>head</td><td>an </td><td>10000</td><td>0  </td><td>90</td><td>0.5432218</td><td>0.02493974</td><td>0.7503143</td><td>0.02161263</td><td> 29</td></tr>\n",
       "\t<tr><td>google</td><td>UnTagged</td><td>PPMI</td><td>Agnostic</td><td>na </td><td>reddy</td><td>head</td><td>all</td><td>  100</td><td>10 </td><td>90</td><td>0.5596220</td><td>0.03724866</td><td>0.7492804</td><td>0.02538759</td><td> 49</td></tr>\n",
       "\t<tr><td>google</td><td>UnTagged</td><td>PPMI</td><td>Agnostic</td><td>med</td><td>reddy</td><td>head</td><td>all</td><td>   20</td><td>0  </td><td>90</td><td>0.5297198</td><td>0.03675663</td><td>0.7486378</td><td>0.02078469</td><td> 50</td></tr>\n",
       "</tbody>\n",
       "</table>\n"
      ],
      "text/latex": [
       "A grouped\\_df: 10 × 16\n",
       "\\begin{tabular}{llllllllllllllll}\n",
       " corpus & tag & ppmi & setting & impute & dataset & y & pattern & timespan & cutoff & n & meanRsquared & sdRsquared & meanCorr & sdCorr & mean\\_feat\\\\\n",
       " <chr> & <chr> & <chr> & <chr> & <chr> & <chr> & <chr> & <chr> & <int> & <fct> & <dbl> & <dbl> & <dbl> & <dbl> & <dbl> & <dbl>\\\\\n",
       "\\hline\n",
       "\t google & Tagged   & PPMI & Aware    & med & reddy & head & an  & 10000 & 0   & 90 & 0.5732368 & 0.02289994 & 0.7758014 & 0.01190246 &  13\\\\\n",
       "\t google & UnTagged & PPMI & Aware    & med & reddy & head & all &   100 & 0   & 90 & 0.6001502 & 0.02995168 & 0.7719670 & 0.03313741 &  45\\\\\n",
       "\t google & UnTagged & PPMI & Aware    & med & reddy & head & all &    50 & 50  & 90 & 0.5937248 & 0.03700083 & 0.7672359 & 0.01913476 & 104\\\\\n",
       "\t google & UnTagged & PPMI & Agnostic & med & reddy & head & all & 10000 & 0   & 90 & 0.5903843 & 0.02515917 & 0.7624793 & 0.02158783 &  26\\\\\n",
       "\t google & UnTagged & PPMI & Agnostic & na  & reddy & head & all & 10000 & 0   & 90 & 0.6128205 & 0.02426373 & 0.7601899 & 0.02311325 &  24\\\\\n",
       "\t google & UnTagged & PPMI & Agnostic & na  & reddy & head & all &   100 & 50  & 90 & 0.5729635 & 0.03568949 & 0.7549458 & 0.02374211 &  50\\\\\n",
       "\t google & UnTagged & PPMI & Aware    & med & reddy & head & all &    50 & 100 & 90 & 0.5655250 & 0.03211646 & 0.7545801 & 0.02455740 & 119\\\\\n",
       "\t google & Tagged   & PPMI & Aware    & na  & reddy & head & an  & 10000 & 0   & 90 & 0.5432218 & 0.02493974 & 0.7503143 & 0.02161263 &  29\\\\\n",
       "\t google & UnTagged & PPMI & Agnostic & na  & reddy & head & all &   100 & 10  & 90 & 0.5596220 & 0.03724866 & 0.7492804 & 0.02538759 &  49\\\\\n",
       "\t google & UnTagged & PPMI & Agnostic & med & reddy & head & all &    20 & 0   & 90 & 0.5297198 & 0.03675663 & 0.7486378 & 0.02078469 &  50\\\\\n",
       "\\end{tabular}\n"
      ],
      "text/markdown": [
       "\n",
       "A grouped_df: 10 × 16\n",
       "\n",
       "| corpus &lt;chr&gt; | tag &lt;chr&gt; | ppmi &lt;chr&gt; | setting &lt;chr&gt; | impute &lt;chr&gt; | dataset &lt;chr&gt; | y &lt;chr&gt; | pattern &lt;chr&gt; | timespan &lt;int&gt; | cutoff &lt;fct&gt; | n &lt;dbl&gt; | meanRsquared &lt;dbl&gt; | sdRsquared &lt;dbl&gt; | meanCorr &lt;dbl&gt; | sdCorr &lt;dbl&gt; | mean_feat &lt;dbl&gt; |\n",
       "|---|---|---|---|---|---|---|---|---|---|---|---|---|---|---|---|\n",
       "| google | Tagged   | PPMI | Aware    | med | reddy | head | an  | 10000 | 0   | 90 | 0.5732368 | 0.02289994 | 0.7758014 | 0.01190246 |  13 |\n",
       "| google | UnTagged | PPMI | Aware    | med | reddy | head | all |   100 | 0   | 90 | 0.6001502 | 0.02995168 | 0.7719670 | 0.03313741 |  45 |\n",
       "| google | UnTagged | PPMI | Aware    | med | reddy | head | all |    50 | 50  | 90 | 0.5937248 | 0.03700083 | 0.7672359 | 0.01913476 | 104 |\n",
       "| google | UnTagged | PPMI | Agnostic | med | reddy | head | all | 10000 | 0   | 90 | 0.5903843 | 0.02515917 | 0.7624793 | 0.02158783 |  26 |\n",
       "| google | UnTagged | PPMI | Agnostic | na  | reddy | head | all | 10000 | 0   | 90 | 0.6128205 | 0.02426373 | 0.7601899 | 0.02311325 |  24 |\n",
       "| google | UnTagged | PPMI | Agnostic | na  | reddy | head | all |   100 | 50  | 90 | 0.5729635 | 0.03568949 | 0.7549458 | 0.02374211 |  50 |\n",
       "| google | UnTagged | PPMI | Aware    | med | reddy | head | all |    50 | 100 | 90 | 0.5655250 | 0.03211646 | 0.7545801 | 0.02455740 | 119 |\n",
       "| google | Tagged   | PPMI | Aware    | na  | reddy | head | an  | 10000 | 0   | 90 | 0.5432218 | 0.02493974 | 0.7503143 | 0.02161263 |  29 |\n",
       "| google | UnTagged | PPMI | Agnostic | na  | reddy | head | all |   100 | 10  | 90 | 0.5596220 | 0.03724866 | 0.7492804 | 0.02538759 |  49 |\n",
       "| google | UnTagged | PPMI | Agnostic | med | reddy | head | all |    20 | 0   | 90 | 0.5297198 | 0.03675663 | 0.7486378 | 0.02078469 |  50 |\n",
       "\n"
      ],
      "text/plain": [
       "   corpus tag      ppmi setting  impute dataset y    pattern timespan cutoff n \n",
       "1  google Tagged   PPMI Aware    med    reddy   head an      10000    0      90\n",
       "2  google UnTagged PPMI Aware    med    reddy   head all       100    0      90\n",
       "3  google UnTagged PPMI Aware    med    reddy   head all        50    50     90\n",
       "4  google UnTagged PPMI Agnostic med    reddy   head all     10000    0      90\n",
       "5  google UnTagged PPMI Agnostic na     reddy   head all     10000    0      90\n",
       "6  google UnTagged PPMI Agnostic na     reddy   head all       100    50     90\n",
       "7  google UnTagged PPMI Aware    med    reddy   head all        50    100    90\n",
       "8  google Tagged   PPMI Aware    na     reddy   head an      10000    0      90\n",
       "9  google UnTagged PPMI Agnostic na     reddy   head all       100    10     90\n",
       "10 google UnTagged PPMI Agnostic med    reddy   head all        20    0      90\n",
       "   meanRsquared sdRsquared meanCorr  sdCorr     mean_feat\n",
       "1  0.5732368    0.02289994 0.7758014 0.01190246  13      \n",
       "2  0.6001502    0.02995168 0.7719670 0.03313741  45      \n",
       "3  0.5937248    0.03700083 0.7672359 0.01913476 104      \n",
       "4  0.5903843    0.02515917 0.7624793 0.02158783  26      \n",
       "5  0.6128205    0.02426373 0.7601899 0.02311325  24      \n",
       "6  0.5729635    0.03568949 0.7549458 0.02374211  50      \n",
       "7  0.5655250    0.03211646 0.7545801 0.02455740 119      \n",
       "8  0.5432218    0.02493974 0.7503143 0.02161263  29      \n",
       "9  0.5596220    0.03724866 0.7492804 0.02538759  49      \n",
       "10 0.5297198    0.03675663 0.7486378 0.02078469  50      "
      ]
     },
     "metadata": {},
     "output_type": "display_data"
    }
   ],
   "source": [
    "statistics  %>% filter(y ==\"head\") %>% arrange(desc(meanCorr)) %>% head(10)\n",
    "\n"
   ]
  },
  {
   "cell_type": "code",
   "execution_count": 187,
   "id": "caaa58e4-0946-4b6b-a5ee-c495311e8b06",
   "metadata": {},
   "outputs": [
    {
     "data": {
      "text/html": [
       "<table class=\"dataframe\">\n",
       "<caption>A grouped_df: 10 × 16</caption>\n",
       "<thead>\n",
       "\t<tr><th scope=col>corpus</th><th scope=col>tag</th><th scope=col>ppmi</th><th scope=col>setting</th><th scope=col>impute</th><th scope=col>dataset</th><th scope=col>y</th><th scope=col>pattern</th><th scope=col>timespan</th><th scope=col>cutoff</th><th scope=col>n</th><th scope=col>meanRsquared</th><th scope=col>sdRsquared</th><th scope=col>meanCorr</th><th scope=col>sdCorr</th><th scope=col>mean_feat</th></tr>\n",
       "\t<tr><th scope=col>&lt;chr&gt;</th><th scope=col>&lt;chr&gt;</th><th scope=col>&lt;chr&gt;</th><th scope=col>&lt;chr&gt;</th><th scope=col>&lt;chr&gt;</th><th scope=col>&lt;chr&gt;</th><th scope=col>&lt;chr&gt;</th><th scope=col>&lt;chr&gt;</th><th scope=col>&lt;int&gt;</th><th scope=col>&lt;fct&gt;</th><th scope=col>&lt;dbl&gt;</th><th scope=col>&lt;dbl&gt;</th><th scope=col>&lt;dbl&gt;</th><th scope=col>&lt;dbl&gt;</th><th scope=col>&lt;dbl&gt;</th><th scope=col>&lt;dbl&gt;</th></tr>\n",
       "</thead>\n",
       "<tbody>\n",
       "\t<tr><td>google</td><td>Tagged  </td><td>PPMI</td><td>Aware</td><td>med</td><td>reddy      </td><td>modifier</td><td>an </td><td>   50</td><td>100 </td><td> 90</td><td>0.4095427</td><td>0.02739888</td><td>0.7024101</td><td>0.09967617</td><td>50</td></tr>\n",
       "\t<tr><td>google</td><td>Tagged  </td><td>PPMI</td><td>Aware</td><td>med</td><td>reddy      </td><td>modifier</td><td>nn </td><td>   50</td><td>50  </td><td> 90</td><td>0.4072014</td><td>0.02400354</td><td>0.6846651</td><td>0.09634595</td><td>32</td></tr>\n",
       "\t<tr><td>google</td><td>Tagged  </td><td>PPMI</td><td>Aware</td><td>med</td><td>reddy      </td><td>modifier</td><td>an </td><td>   50</td><td>50  </td><td> 90</td><td>0.4129793</td><td>0.02588792</td><td>0.6824167</td><td>0.09494256</td><td>36</td></tr>\n",
       "\t<tr><td>google</td><td>Tagged  </td><td>PPMI</td><td>Aware</td><td>med</td><td>reddy      </td><td>modifier</td><td>an </td><td>   20</td><td>1000</td><td> 90</td><td>0.4132974</td><td>0.03206963</td><td>0.6818004</td><td>0.09571514</td><td> 7</td></tr>\n",
       "\t<tr><td>google</td><td>Tagged  </td><td>PPMI</td><td>Aware</td><td>med</td><td>reddy      </td><td>modifier</td><td>nn </td><td>   50</td><td>100 </td><td> 90</td><td>0.4053036</td><td>0.02531780</td><td>0.6813678</td><td>0.09638545</td><td>52</td></tr>\n",
       "\t<tr><td>google</td><td>Tagged  </td><td>PPMI</td><td>Aware</td><td>med</td><td>reddy      </td><td>modifier</td><td>nn </td><td>   20</td><td>1000</td><td> 90</td><td>0.4059057</td><td>0.02953564</td><td>0.6791162</td><td>0.09779073</td><td> 6</td></tr>\n",
       "\t<tr><td>google</td><td>Tagged  </td><td>PPMI</td><td>Aware</td><td>na </td><td>reddy      </td><td>modifier</td><td>nn </td><td>   20</td><td>1000</td><td> 90</td><td>0.4125160</td><td>0.04005246</td><td>0.6715336</td><td>0.09970891</td><td>93</td></tr>\n",
       "\t<tr><td>google</td><td>Tagged  </td><td>PPMI</td><td>Aware</td><td>na </td><td>reddy      </td><td>modifier</td><td>an </td><td>   20</td><td>1000</td><td> 90</td><td>0.4136445</td><td>0.03129876</td><td>0.6701365</td><td>0.09754639</td><td>51</td></tr>\n",
       "\t<tr><td>google</td><td>UnTagged</td><td>PPMI</td><td>Aware</td><td>na </td><td>cordeiro100</td><td>modifier</td><td>all</td><td>10000</td><td>0   </td><td>100</td><td>0.4667158</td><td>0.03044212</td><td>0.6653134</td><td>0.02953336</td><td>32</td></tr>\n",
       "\t<tr><td>google</td><td>UnTagged</td><td>PPMI</td><td>Aware</td><td>med</td><td>cordeiro90 </td><td>modifier</td><td>all</td><td>10000</td><td>0   </td><td> 90</td><td>0.4325122</td><td>0.03188828</td><td>0.6649503</td><td>0.04494762</td><td>35</td></tr>\n",
       "</tbody>\n",
       "</table>\n"
      ],
      "text/latex": [
       "A grouped\\_df: 10 × 16\n",
       "\\begin{tabular}{llllllllllllllll}\n",
       " corpus & tag & ppmi & setting & impute & dataset & y & pattern & timespan & cutoff & n & meanRsquared & sdRsquared & meanCorr & sdCorr & mean\\_feat\\\\\n",
       " <chr> & <chr> & <chr> & <chr> & <chr> & <chr> & <chr> & <chr> & <int> & <fct> & <dbl> & <dbl> & <dbl> & <dbl> & <dbl> & <dbl>\\\\\n",
       "\\hline\n",
       "\t google & Tagged   & PPMI & Aware & med & reddy       & modifier & an  &    50 & 100  &  90 & 0.4095427 & 0.02739888 & 0.7024101 & 0.09967617 & 50\\\\\n",
       "\t google & Tagged   & PPMI & Aware & med & reddy       & modifier & nn  &    50 & 50   &  90 & 0.4072014 & 0.02400354 & 0.6846651 & 0.09634595 & 32\\\\\n",
       "\t google & Tagged   & PPMI & Aware & med & reddy       & modifier & an  &    50 & 50   &  90 & 0.4129793 & 0.02588792 & 0.6824167 & 0.09494256 & 36\\\\\n",
       "\t google & Tagged   & PPMI & Aware & med & reddy       & modifier & an  &    20 & 1000 &  90 & 0.4132974 & 0.03206963 & 0.6818004 & 0.09571514 &  7\\\\\n",
       "\t google & Tagged   & PPMI & Aware & med & reddy       & modifier & nn  &    50 & 100  &  90 & 0.4053036 & 0.02531780 & 0.6813678 & 0.09638545 & 52\\\\\n",
       "\t google & Tagged   & PPMI & Aware & med & reddy       & modifier & nn  &    20 & 1000 &  90 & 0.4059057 & 0.02953564 & 0.6791162 & 0.09779073 &  6\\\\\n",
       "\t google & Tagged   & PPMI & Aware & na  & reddy       & modifier & nn  &    20 & 1000 &  90 & 0.4125160 & 0.04005246 & 0.6715336 & 0.09970891 & 93\\\\\n",
       "\t google & Tagged   & PPMI & Aware & na  & reddy       & modifier & an  &    20 & 1000 &  90 & 0.4136445 & 0.03129876 & 0.6701365 & 0.09754639 & 51\\\\\n",
       "\t google & UnTagged & PPMI & Aware & na  & cordeiro100 & modifier & all & 10000 & 0    & 100 & 0.4667158 & 0.03044212 & 0.6653134 & 0.02953336 & 32\\\\\n",
       "\t google & UnTagged & PPMI & Aware & med & cordeiro90  & modifier & all & 10000 & 0    &  90 & 0.4325122 & 0.03188828 & 0.6649503 & 0.04494762 & 35\\\\\n",
       "\\end{tabular}\n"
      ],
      "text/markdown": [
       "\n",
       "A grouped_df: 10 × 16\n",
       "\n",
       "| corpus &lt;chr&gt; | tag &lt;chr&gt; | ppmi &lt;chr&gt; | setting &lt;chr&gt; | impute &lt;chr&gt; | dataset &lt;chr&gt; | y &lt;chr&gt; | pattern &lt;chr&gt; | timespan &lt;int&gt; | cutoff &lt;fct&gt; | n &lt;dbl&gt; | meanRsquared &lt;dbl&gt; | sdRsquared &lt;dbl&gt; | meanCorr &lt;dbl&gt; | sdCorr &lt;dbl&gt; | mean_feat &lt;dbl&gt; |\n",
       "|---|---|---|---|---|---|---|---|---|---|---|---|---|---|---|---|\n",
       "| google | Tagged   | PPMI | Aware | med | reddy       | modifier | an  |    50 | 100  |  90 | 0.4095427 | 0.02739888 | 0.7024101 | 0.09967617 | 50 |\n",
       "| google | Tagged   | PPMI | Aware | med | reddy       | modifier | nn  |    50 | 50   |  90 | 0.4072014 | 0.02400354 | 0.6846651 | 0.09634595 | 32 |\n",
       "| google | Tagged   | PPMI | Aware | med | reddy       | modifier | an  |    50 | 50   |  90 | 0.4129793 | 0.02588792 | 0.6824167 | 0.09494256 | 36 |\n",
       "| google | Tagged   | PPMI | Aware | med | reddy       | modifier | an  |    20 | 1000 |  90 | 0.4132974 | 0.03206963 | 0.6818004 | 0.09571514 |  7 |\n",
       "| google | Tagged   | PPMI | Aware | med | reddy       | modifier | nn  |    50 | 100  |  90 | 0.4053036 | 0.02531780 | 0.6813678 | 0.09638545 | 52 |\n",
       "| google | Tagged   | PPMI | Aware | med | reddy       | modifier | nn  |    20 | 1000 |  90 | 0.4059057 | 0.02953564 | 0.6791162 | 0.09779073 |  6 |\n",
       "| google | Tagged   | PPMI | Aware | na  | reddy       | modifier | nn  |    20 | 1000 |  90 | 0.4125160 | 0.04005246 | 0.6715336 | 0.09970891 | 93 |\n",
       "| google | Tagged   | PPMI | Aware | na  | reddy       | modifier | an  |    20 | 1000 |  90 | 0.4136445 | 0.03129876 | 0.6701365 | 0.09754639 | 51 |\n",
       "| google | UnTagged | PPMI | Aware | na  | cordeiro100 | modifier | all | 10000 | 0    | 100 | 0.4667158 | 0.03044212 | 0.6653134 | 0.02953336 | 32 |\n",
       "| google | UnTagged | PPMI | Aware | med | cordeiro90  | modifier | all | 10000 | 0    |  90 | 0.4325122 | 0.03188828 | 0.6649503 | 0.04494762 | 35 |\n",
       "\n"
      ],
      "text/plain": [
       "   corpus tag      ppmi setting impute dataset     y        pattern timespan\n",
       "1  google Tagged   PPMI Aware   med    reddy       modifier an         50   \n",
       "2  google Tagged   PPMI Aware   med    reddy       modifier nn         50   \n",
       "3  google Tagged   PPMI Aware   med    reddy       modifier an         50   \n",
       "4  google Tagged   PPMI Aware   med    reddy       modifier an         20   \n",
       "5  google Tagged   PPMI Aware   med    reddy       modifier nn         50   \n",
       "6  google Tagged   PPMI Aware   med    reddy       modifier nn         20   \n",
       "7  google Tagged   PPMI Aware   na     reddy       modifier nn         20   \n",
       "8  google Tagged   PPMI Aware   na     reddy       modifier an         20   \n",
       "9  google UnTagged PPMI Aware   na     cordeiro100 modifier all     10000   \n",
       "10 google UnTagged PPMI Aware   med    cordeiro90  modifier all     10000   \n",
       "   cutoff n   meanRsquared sdRsquared meanCorr  sdCorr     mean_feat\n",
       "1  100     90 0.4095427    0.02739888 0.7024101 0.09967617 50       \n",
       "2  50      90 0.4072014    0.02400354 0.6846651 0.09634595 32       \n",
       "3  50      90 0.4129793    0.02588792 0.6824167 0.09494256 36       \n",
       "4  1000    90 0.4132974    0.03206963 0.6818004 0.09571514  7       \n",
       "5  100     90 0.4053036    0.02531780 0.6813678 0.09638545 52       \n",
       "6  1000    90 0.4059057    0.02953564 0.6791162 0.09779073  6       \n",
       "7  1000    90 0.4125160    0.04005246 0.6715336 0.09970891 93       \n",
       "8  1000    90 0.4136445    0.03129876 0.6701365 0.09754639 51       \n",
       "9  0      100 0.4667158    0.03044212 0.6653134 0.02953336 32       \n",
       "10 0       90 0.4325122    0.03188828 0.6649503 0.04494762 35       "
      ]
     },
     "metadata": {},
     "output_type": "display_data"
    }
   ],
   "source": [
    "statistics  %>% filter(y ==\"modifier\" ) %>% arrange(desc(meanCorr)) %>% head(10)"
   ]
  },
  {
   "cell_type": "code",
   "execution_count": 188,
   "id": "579149c9-19f6-4f6b-84d0-317b916510ca",
   "metadata": {},
   "outputs": [
    {
     "data": {
      "text/plain": [
       "              Df   Sum Sq Mean Sq F value               Pr(>F)    \n",
       "y              2   951017  475508   34.93 0.000000000000000842 ***\n",
       "Residuals   5648 76897075   13615                                 \n",
       "---\n",
       "Signif. codes:  0 ‘***’ 0.001 ‘**’ 0.01 ‘*’ 0.05 ‘.’ 0.1 ‘ ’ 1"
      ]
     },
     "metadata": {},
     "output_type": "display_data"
    }
   ],
   "source": [
    "summary(aov(mean_feat~y, data = statistics))"
   ]
  },
  {
   "cell_type": "code",
   "execution_count": 189,
   "id": "3e597f91-5e1e-4fc4-a125-9a15eaf6accd",
   "metadata": {},
   "outputs": [
    {
     "data": {
      "text/plain": [
       "              Df Sum Sq Mean Sq F value              Pr(>F)    \n",
       "tag            1   3.12  3.1198   264.9 <0.0000000000000002 ***\n",
       "Residuals   5649  66.53  0.0118                                \n",
       "---\n",
       "Signif. codes:  0 ‘***’ 0.001 ‘**’ 0.01 ‘*’ 0.05 ‘.’ 0.1 ‘ ’ 1"
      ]
     },
     "metadata": {},
     "output_type": "display_data"
    }
   ],
   "source": [
    "summary(aov(meanCorr~tag, data = statistics))"
   ]
  },
  {
   "cell_type": "code",
   "execution_count": 190,
   "id": "9ce9e5db-cccd-47ea-bf03-8de2160266dc",
   "metadata": {},
   "outputs": [
    {
     "data": {
      "text/plain": [
       "              Df Sum Sq Mean Sq F value Pr(>F)\n",
       "ppmi           1   0.02 0.01694   1.374  0.241\n",
       "Residuals   5649  69.63 0.01233               "
      ]
     },
     "metadata": {},
     "output_type": "display_data"
    }
   ],
   "source": [
    "summary(aov(meanCorr~ppmi, data = statistics))"
   ]
  },
  {
   "cell_type": "code",
   "execution_count": 191,
   "id": "14734c0e-0b85-400e-b563-8dfddbf70e61",
   "metadata": {},
   "outputs": [
    {
     "data": {
      "text/plain": [
       "              Df Sum Sq Mean Sq F value Pr(>F)\n",
       "setting        1   0.03 0.02668   2.165  0.141\n",
       "Residuals   5649  69.62 0.01232               "
      ]
     },
     "metadata": {},
     "output_type": "display_data"
    }
   ],
   "source": [
    "summary(aov(meanCorr~setting, data = statistics))"
   ]
  },
  {
   "cell_type": "code",
   "execution_count": 192,
   "id": "eca7f0b2-76b1-40e7-8139-3b853099b58f",
   "metadata": {},
   "outputs": [
    {
     "data": {
      "text/plain": [
       "              Df Sum Sq Mean Sq F value Pr(>F)  \n",
       "timespan       1   0.04 0.03653   2.965 0.0852 .\n",
       "Residuals   5649  69.61 0.01232                 \n",
       "---\n",
       "Signif. codes:  0 ‘***’ 0.001 ‘**’ 0.01 ‘*’ 0.05 ‘.’ 0.1 ‘ ’ 1"
      ]
     },
     "metadata": {},
     "output_type": "display_data"
    }
   ],
   "source": [
    "summary(aov(meanCorr~timespan, data = statistics))"
   ]
  },
  {
   "cell_type": "code",
   "execution_count": 193,
   "id": "16f1a318-52aa-4783-b238-8bdb0782d8a9",
   "metadata": {},
   "outputs": [
    {
     "data": {
      "text/plain": [
       "              Df Sum Sq Mean Sq F value     Pr(>F)    \n",
       "cutoff         5   0.40 0.08028   6.544 0.00000445 ***\n",
       "Residuals   5645  69.25 0.01227                       \n",
       "---\n",
       "Signif. codes:  0 ‘***’ 0.001 ‘**’ 0.01 ‘*’ 0.05 ‘.’ 0.1 ‘ ’ 1"
      ]
     },
     "metadata": {},
     "output_type": "display_data"
    }
   ],
   "source": [
    "summary(aov(meanCorr~cutoff, data = statistics))"
   ]
  },
  {
   "cell_type": "code",
   "execution_count": 194,
   "id": "e9d54314-5bb1-42c3-9e83-373f0722e56e",
   "metadata": {},
   "outputs": [
    {
     "data": {
      "text/plain": [
       "                  Df Sum Sq Mean Sq F value     Pr(>F)    \n",
       "timespan           1   0.04 0.03653   2.988   0.083931 .  \n",
       "cutoff             5   0.39 0.07865   6.433 0.00000573 ***\n",
       "timespan:cutoff    5   0.28 0.05501   4.499   0.000428 ***\n",
       "Residuals       5639  68.94 0.01223                       \n",
       "---\n",
       "Signif. codes:  0 ‘***’ 0.001 ‘**’ 0.01 ‘*’ 0.05 ‘.’ 0.1 ‘ ’ 1"
      ]
     },
     "metadata": {},
     "output_type": "display_data"
    }
   ],
   "source": [
    "summary(aov(meanCorr~timespan*cutoff, data = statistics))"
   ]
  },
  {
   "cell_type": "code",
   "execution_count": 195,
   "id": "ee47da5f-56b4-4317-a7c7-4febba95a391",
   "metadata": {},
   "outputs": [
    {
     "data": {
      "image/png": "[encoded data removed]",
      "text/plain": [
       "plot without title"
      ]
     },
     "metadata": {
      "image/png": {
       "height": 420,
       "width": 420
      }
     },
     "output_type": "display_data"
    }
   ],
   "source": [
    "statistics %>% ggplot(aes(x=meanRsquared,y=y,fill=impute)) + facet_grid(corpus~dataset) +geom_bar(stat='identity',position = \"dodge\")  + \n",
    "coord_flip()"
   ]
  },
  {
   "cell_type": "code",
   "execution_count": 196,
   "id": "6b8609fa-db1b-4cd4-9191-ab39a49c2c90",
   "metadata": {},
   "outputs": [
    {
     "data": {
      "image/png": "[encoded data removed]",
      "text/plain": [
       "plot without title"
      ]
     },
     "metadata": {
      "image/png": {
       "height": 420,
       "width": 420
      }
     },
     "output_type": "display_data"
    }
   ],
   "source": [
    "statistics %>%  ggplot(aes(x=meanRsquared,y=y,fill=tag)) + facet_grid(~dataset) +geom_bar(stat='identity',position = \"dodge\")  + \n",
    "coord_flip()"
   ]
  },
  {
   "cell_type": "code",
   "execution_count": 197,
   "id": "f21524e3-40ed-4e4c-a2ac-8cb79d5c28eb",
   "metadata": {},
   "outputs": [
    {
     "data": {
      "image/png": "[encoded data removed]",
      "text/plain": [
       "plot without title"
      ]
     },
     "metadata": {
      "image/png": {
       "height": 420,
       "width": 420
      }
     },
     "output_type": "display_data"
    }
   ],
   "source": [
    "statistics %>% filter(tag==\"Tagged\") %>% ggplot(aes(x=meanRsquared,y=y,fill=pattern)) + facet_grid(~dataset) +geom_bar(stat='identity',position = \"dodge\")  + \n",
    "coord_flip()"
   ]
  },
  {
   "cell_type": "code",
   "execution_count": 198,
   "id": "67bebf8c-185e-4e08-8518-8916009eb44a",
   "metadata": {},
   "outputs": [
    {
     "data": {
      "image/png": "[encoded data removed]",
      "text/plain": [
       "plot without title"
      ]
     },
     "metadata": {
      "image/png": {
       "height": 420,
       "width": 420
      }
     },
     "output_type": "display_data"
    }
   ],
   "source": [
    "statistics %>% ggplot(aes(x=meanRsquared,y=y,fill=as.factor(setting))) + facet_grid(~dataset) +geom_bar(stat='identity',position = \"dodge\")  + \n",
    "coord_flip()"
   ]
  },
  {
   "cell_type": "code",
   "execution_count": 199,
   "id": "0a7ac87d-3c01-475d-a715-f7607853fb7b",
   "metadata": {},
   "outputs": [
    {
     "data": {
      "image/png": "[encoded data removed]",
      "text/plain": [
       "plot without title"
      ]
     },
     "metadata": {
      "image/png": {
       "height": 420,
       "width": 420
      }
     },
     "output_type": "display_data"
    }
   ],
   "source": [
    "statistics %>% ggplot(aes(x=meanRsquared,y=y,fill=ppmi)) + facet_grid(corpus~dataset) +geom_bar(stat='identity',position = \"dodge\")  + \n",
    "coord_flip()"
   ]
  },
  {
   "cell_type": "code",
   "execution_count": 200,
   "id": "2b266613-c00f-4c5d-9238-09231198379a",
   "metadata": {},
   "outputs": [
    {
     "data": {
      "image/png": "[encoded data removed]",
      "text/plain": [
       "plot without title"
      ]
     },
     "metadata": {
      "image/png": {
       "height": 420,
       "width": 420
      }
     },
     "output_type": "display_data"
    }
   ],
   "source": [
    "statistics %>% ggplot(aes(x=meanRsquared,y=y,fill=as.factor(timespan))) + facet_grid(~dataset) +geom_bar(stat='identity',position = \"dodge\")  + \n",
    "coord_flip()"
   ]
  },
  {
   "cell_type": "code",
   "execution_count": 201,
   "id": "24157daa-c0cc-44ab-a22e-14e4c8cd8541",
   "metadata": {},
   "outputs": [
    {
     "data": {
      "text/html": [
       "<table class=\"dataframe\">\n",
       "<caption>A grouped_df: 0 × 15</caption>\n",
       "<thead>\n",
       "\t<tr><th scope=col>corpus</th><th scope=col>tag</th><th scope=col>ppmi</th><th scope=col>setting</th><th scope=col>impute</th><th scope=col>dataset</th><th scope=col>y</th><th scope=col>pattern</th><th scope=col>timespan</th><th scope=col>cutoff</th><th scope=col>feature_time</th><th scope=col>feature</th><th scope=col>time</th><th scope=col>value</th><th scope=col>feature_class</th></tr>\n",
       "\t<tr><th scope=col>&lt;chr&gt;</th><th scope=col>&lt;chr&gt;</th><th scope=col>&lt;chr&gt;</th><th scope=col>&lt;chr&gt;</th><th scope=col>&lt;chr&gt;</th><th scope=col>&lt;chr&gt;</th><th scope=col>&lt;chr&gt;</th><th scope=col>&lt;chr&gt;</th><th scope=col>&lt;int&gt;</th><th scope=col>&lt;int&gt;</th><th scope=col>&lt;chr&gt;</th><th scope=col>&lt;chr&gt;</th><th scope=col>&lt;chr&gt;</th><th scope=col>&lt;dbl&gt;</th><th scope=col>&lt;chr&gt;</th></tr>\n",
       "</thead>\n",
       "<tbody>\n",
       "</tbody>\n",
       "</table>\n"
      ],
      "text/latex": [
       "A grouped\\_df: 0 × 15\n",
       "\\begin{tabular}{lllllllllllllll}\n",
       " corpus & tag & ppmi & setting & impute & dataset & y & pattern & timespan & cutoff & feature\\_time & feature & time & value & feature\\_class\\\\\n",
       " <chr> & <chr> & <chr> & <chr> & <chr> & <chr> & <chr> & <chr> & <int> & <int> & <chr> & <chr> & <chr> & <dbl> & <chr>\\\\\n",
       "\\hline\n",
       "\\end{tabular}\n"
      ],
      "text/markdown": [
       "\n",
       "A grouped_df: 0 × 15\n",
       "\n",
       "| corpus &lt;chr&gt; | tag &lt;chr&gt; | ppmi &lt;chr&gt; | setting &lt;chr&gt; | impute &lt;chr&gt; | dataset &lt;chr&gt; | y &lt;chr&gt; | pattern &lt;chr&gt; | timespan &lt;int&gt; | cutoff &lt;int&gt; | feature_time &lt;chr&gt; | feature &lt;chr&gt; | time &lt;chr&gt; | value &lt;dbl&gt; | feature_class &lt;chr&gt; |\n",
       "|---|---|---|---|---|---|---|---|---|---|---|---|---|---|---|\n",
       "\n"
      ],
      "text/plain": [
       "     corpus tag ppmi setting impute dataset y pattern timespan cutoff\n",
       "     feature_time feature time value feature_class"
      ]
     },
     "metadata": {},
     "output_type": "display_data"
    }
   ],
   "source": [
    "statistics_varimp_pivoted_df %>% filter(tag==\"UnTagged\" & ppmi==\"RAW\" & setting==\"Agnostic\" & impute==\"na\" & dataset==\"reddy\") #& compound"
   ]
  },
  {
   "cell_type": "code",
   "execution_count": null,
   "id": "ff206671-73bb-4b4b-8e2b-e0d8b08a38d8",
   "metadata": {},
   "outputs": [],
   "source": []
  }
 ],
 "metadata": {
  "kernelspec": {
   "display_name": "R",
   "language": "R",
   "name": "ir"
  },
  "language_info": {
   "codemirror_mode": "r",
   "file_extension": ".r",
   "mimetype": "text/x-r-source",
   "name": "R",
   "pygments_lexer": "r",
   "version": "4.2.0"
  }
 },
 "nbformat": 4,
 "nbformat_minor": 5
}
