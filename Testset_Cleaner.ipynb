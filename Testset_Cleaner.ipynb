{
 "cells": [
  {
   "cell_type": "code",
   "execution_count": 1,
   "id": "6648d309-3085-41ba-a8ba-908fac7e0ac5",
   "metadata": {
    "tags": []
   },
   "outputs": [],
   "source": [
    "import pandas as pd"
   ]
  },
  {
   "cell_type": "code",
   "execution_count": 10,
   "id": "cd7ceaac-89d7-4f24-bdbe-a9738bac6aa5",
   "metadata": {
    "tags": []
   },
   "outputs": [],
   "source": [
    "dec_list=[1820,1830,1840,1850,1860,1870,1880,1890,1900,1910,1920,1930,1940,1950,1960,1970,1980,1990,2000,2010]\n",
    "\n",
    "dec_list=[[1820,1830],[1840,1850],[1860,1870],[1880,1890],[1900,1910],[1920,1930],[1940,1950],[1960,1970],[1980,1990],[2000,2010]]\n",
    "\n",
    "dec_list=[[1820,1830,1840],[1850,1860,1870,1880,1890],[1900,1910,1920,1930,1940],[1950,1960,1970,1980,1990],[2000,2010]]\n",
    "\n",
    "dec_list=[[1820,1830,1840,1850,1860,1870,1880,1890],[1900,1910,1920,1930,1940,1950,1960,1970,1980,1990],[2000,2010]]\n"
   ]
  },
  {
   "cell_type": "code",
   "execution_count": 19,
   "id": "43a0ba89-cd17-4ff8-bfb1-2215393321ae",
   "metadata": {
    "tags": []
   },
   "outputs": [],
   "source": [
    "an_compounds=[\"fine line\",\"sacred cow\",\"shrinking violet\",\"smoking gun\",\"cutting edge\",\"sitting duck\"]"
   ]
  },
  {
   "cell_type": "code",
   "execution_count": 46,
   "id": "1e01fd34-9da8-4445-aa20-dcfdac80a9a4",
   "metadata": {
    "tags": []
   },
   "outputs": [
    {
     "name": "stderr",
     "output_type": "stream",
     "text": [
      "/tmp/ipykernel_18694/2950696905.py:1: ParserWarning: Falling back to the 'python' engine because the 'c' engine does not support regex separators (separators > 1 char and different from '\\s+' are interpreted as regex); you can avoid this warning by specifying engine='python'.\n",
      "  reddy_df=pd.read_csv('data/MeanAndDeviations.clean.txt',sep='\\s',skiprows=1,header=None)\n"
     ]
    }
   ],
   "source": [
    "reddy_df=pd.read_csv('data/MeanAndDeviations.clean.txt',sep='\\s',skiprows=1,header=None)\n",
    "reddy_df.columns=['modifier','head','avgModifier','stdevModifier','avgHead','stdevHead','compositionality','stdevHeadModifier','mean1_mean2']\n",
    "reddy_df['modifier']=reddy_df['modifier'].str.split('-',expand=True)[0]\n",
    "reddy_df['head']=reddy_df['head'].str.split('-',expand=True)[0]\n",
    "reddy_df['is_adj']=False\n",
    "reddy_df['compound']=reddy_df['modifier']+\"_\"+reddy_df['head']\n",
    "reddy_df.loc[reddy_df.compound.isin(an_compounds),\"is_adj\"]=True\n",
    "reddy_df.drop(['mean1_mean2'],axis=1).to_csv('data/reddy_90.txt',sep='\\t',index=False)"
   ]
  },
  {
   "cell_type": "code",
   "execution_count": 47,
   "id": "22af186a-76f8-4a85-a916-31d60555100a",
   "metadata": {
    "tags": []
   },
   "outputs": [],
   "source": [
    "compounds90_df=pd.read_csv('data/compounds90.txt',sep='\\t')\n",
    "col_name=compounds90_df.columns.tolist()\n",
    "col_name[0]='compound'\n",
    "col_name[5]='head'\n",
    "col_name[6]='modifier'\n",
    "compounds90_df.columns=col_name\n",
    "compounds90_df['is_adj']=False\n",
    "compounds90_df.loc[compounds90_df.compound_lemmapos.str.contains('ADJ',regex=False),'is_adj']=True\n",
    "compounds90_df.drop(['compound_surface','compound_lemmapos','nAnnot','equivalents'],axis=1).to_csv('data/cordeiro_90.txt',sep='\\t',index=False)"
   ]
  },
  {
   "cell_type": "code",
   "execution_count": 54,
   "id": "b1da07e6-9eeb-4813-a02b-866c0ef4240a",
   "metadata": {
    "tags": []
   },
   "outputs": [],
   "source": [
    "compounds_ext_df=pd.read_csv('data/compounds_ext.txt',sep='\\t')\n",
    "col_name=compounds_ext_df.columns.tolist()\n",
    "col_name[0]='compound'\n",
    "col_name[5]='head'\n",
    "col_name[6]='modifier'\n",
    "compounds_ext_df.columns=col_name\n",
    "compounds_ext_df['is_adj']=False\n",
    "compounds_ext_df.loc[compounds_ext_df.compound_lemmapos.str.contains('ADJ',regex=False),'is_adj']=True\n",
    "compounds_ext_df['head']=compounds_ext_df['head'].str.lower()\n",
    "compounds_ext_df['modifier']=compounds_ext_df['modifier'].str.lower()\n",
    "compounds_ext_df.drop(['compound_surface','compound_lemmapos','nAnnot','equivalents'],axis=1).to_csv('data/cordeiro_100.txt',sep='\\t',index=False)"
   ]
  },
  {
   "cell_type": "code",
   "execution_count": 70,
   "id": "4dbfb83a-0d20-44d1-881b-4a0460e0ea0c",
   "metadata": {
    "tags": []
   },
   "outputs": [],
   "source": [
    "compounds_farahmand_df=pd.read_csv('data/fahramand_ratings.csv',sep=',',header=None)\n",
    "compounds_farahmand_df['total']=compounds_farahmand_df[[1,2,3,4]].sum(axis=1)\n",
    "compounds_farahmand_df['compound']=compounds_farahmand_df[0].str.replace(' ','_')\n",
    "compounds_farahmand_df[['modifier','head']]=compounds_farahmand_df[0].str.split(' ',expand=True)\n",
    "compounds_farahmand_df['transparent']=True\n",
    "compounds_farahmand_df.loc[compounds_farahmand_df['total']>=2,'transparent']=False\n",
    "compounds_farahmand_df.drop([0,1,2,3,4,'total'],axis=1).to_csv('data/farahmand_1000.txt',sep='\\t',index=False)"
   ]
  }
 ],
 "metadata": {
  "kernelspec": {
   "display_name": "Python 3 (ipykernel)",
   "language": "python",
   "name": "python3"
  },
  "language_info": {
   "codemirror_mode": {
    "name": "ipython",
    "version": 3
   },
   "file_extension": ".py",
   "mimetype": "text/x-python",
   "name": "python",
   "nbconvert_exporter": "python",
   "pygments_lexer": "ipython3",
   "version": "3.9.16"
  }
 },
 "nbformat": 4,
 "nbformat_minor": 5
}
