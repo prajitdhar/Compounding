{
 "cells": [
  {
   "cell_type": "code",
   "execution_count": 87,
   "id": "34b0256b-2315-4b14-9f97-aa43e3dd8da3",
   "metadata": {},
   "outputs": [],
   "source": [
    "import pandas as pd\n",
    "import numpy as np\n",
    "from sklearn.decomposition import PCA,TruncatedSVD,NMF\n",
    "from sklearn.preprocessing import Normalizer\n",
    "import argparse\n",
    "import time\n",
    "import pickle as pkl\n",
    "import dask.array as da\n",
    "import dask"
   ]
  },
  {
   "cell_type": "code",
   "execution_count": 78,
   "id": "1db55581-2f11-4601-89e0-58f6779b5aa9",
   "metadata": {},
   "outputs": [],
   "source": [
    "def year_binner(year,val=10):\n",
    "    return year - year%val"
   ]
  },
  {
   "cell_type": "code",
   "execution_count": 88,
   "id": "8d64941b-391b-4bea-ae76-8f6a212f3cf5",
   "metadata": {},
   "outputs": [],
   "source": [
    "def dim_reduction(df,rows):\n",
    "    df_svd = TruncatedSVD(n_components=300, n_iter=10, random_state=1991)\n",
    "    print(f'Explained variance ratio {(df_svd.fit(df).explained_variance_ratio_.sum()):2.3f}')\n",
    "    #df_list=df_svd.fit(df).explained_variance_ratio_\n",
    "    df_reduced = df_svd.fit_transform(df)\n",
    "    df_reduced = Normalizer(copy=False).fit_transform(df_reduced)\n",
    "    df_reduced=pd.DataFrame(df_reduced,index=rows)\n",
    "    #df_reduced.reset_index(inplace=True)\n",
    "\n",
    "    df_reduced.index = pd.MultiIndex.from_tuples(df_reduced.index, names=['common', 'time'])\n",
    "    return df_reduced"
   ]
  },
  {
   "cell_type": "code",
   "execution_count": 80,
   "id": "4bed395c-72d7-49c2-b556-4c23c52b0928",
   "metadata": {},
   "outputs": [
    {
     "name": "stdout",
     "output_type": "stream",
     "text": [
      "CompoundCentric Model\n",
      "Loading the constituent and compound vector datasets\n"
     ]
    },
    {
     "name": "stderr",
     "output_type": "stream",
     "text": [
      "/data/dharp/packages/miniconda3/envs/spacied/lib/python3.9/site-packages/IPython/core/interactiveshell.py:3169: DtypeWarning: Columns (4) have mixed types.Specify dtype option on import or set low_memory=False.\n",
      "  has_raised = await self.run_ast_nodes(code_ast.body, cell_name,\n"
     ]
    },
    {
     "data": {
      "text/plain": [
       "common             context      time\n",
       "#_NOUN #_NOUN      date_VERB    1980     1989.0\n",
       "                                1990     1999.0\n",
       "                                2000    20045.0\n",
       "                                2010    14091.0\n",
       "#_NOUN cent_NOUN   hour_NOUN    1860     1869.0\n",
       "                                         ...   \n",
       "◦_NOUN c._PROPN    however_ADV  2010    20145.0\n",
       "◦_NOUN c_NOUN      rise_VERB    2000    14041.0\n",
       "                                2010    20145.0\n",
       "◦_NOUN field_NOUN  view_NOUN    2000    14035.0\n",
       "                                2010    18128.0\n",
       "Name: count, Length: 2097957, dtype: float64"
      ]
     },
     "execution_count": 80,
     "metadata": {},
     "output_type": "execute_result"
    }
   ],
   "source": [
    "    print(\"CompoundCentric Model\")\n",
    "    print(\"Loading the constituent and compound vector datasets\")\n",
    "\n",
    "\n",
    "    compounds=pd.read_csv(\"/data/dharp/compounds/datasets/v3_aware/compounds.csv\",sep=\"\\t\")\n",
    "\n",
    "    compounds.year=compounds.year.astype(\"int32\")\n",
    "    compounds['count']=compounds.year.astype(\"float64\")\n",
    "    compounds=compounds.loc[compounds.year>=1800]\n",
    "    compounds=compounds.loc[compounds['count']<1_000_000]\n",
    "    \n",
    "    compounds['common']=compounds['modifier']+\" \"+compounds['head']\n",
    "\n",
    "        #head_list_reduced=compounds['head'].unique().tolist()\n",
    "        #modifier_list_reduced=compounds['modifier'].unique().tolist()\n",
    "\n",
    "\n",
    "\n",
    "\n",
    "    compounds['time']=year_binner(compounds['year'].values,10)\n",
    "    compounds=compounds.groupby(['common','context','time'])['count'].sum()\n",
    "    compounds"
   ]
  },
  {
   "cell_type": "code",
   "execution_count": 81,
   "id": "cbfc8496-d940-4544-a151-7217ff369e3a",
   "metadata": {},
   "outputs": [
    {
     "data": {
      "text/plain": [
       "common  context      time\n",
       "\"_m     year_NOUN    1890      1894.0\n",
       "                     1900      1909.0\n",
       "                     1920      1922.0\n",
       "                     1940      5841.0\n",
       "                     1950     19558.0\n",
       "                               ...   \n",
       "♦_m     dredge_NOUN  1900     13330.0\n",
       "                     2000      2007.0\n",
       "        email_NOUN   2000     14042.0\n",
       "❯_m     step_NOUN    2000     58232.0\n",
       "                     2010    590274.0\n",
       "Name: count, Length: 2619407, dtype: float64"
      ]
     },
     "execution_count": 81,
     "metadata": {},
     "output_type": "execute_result"
    }
   ],
   "source": [
    "    modifiers=pd.read_csv(\"/data/dharp/compounds/datasets/v3_aware/modifiers.csv\",sep=\"\\t\")\n",
    "\n",
    "    modifiers.year=modifiers.year.astype(\"int32\")\n",
    "    modifiers['count']=modifiers.year.astype(\"float64\")\n",
    "    modifiers=modifiers.loc[modifiers.year>=1800]\n",
    "    modifiers=modifiers.loc[modifiers['count']<1_000_000]\n",
    "    modifiers.columns=['common','context','year','count']\n",
    "    modifiers['common']=modifiers['common'].str.replace(r'_(NOUN|PROPN|ADJ)$', r'_m', regex=True)\n",
    "    \n",
    "    modifiers['time']=year_binner(modifiers['year'].values,10)\n",
    "    modifiers=modifiers.groupby(['common','context','time'])['count'].sum()\n",
    "    modifiers"
   ]
  },
  {
   "cell_type": "code",
   "execution_count": 82,
   "id": "24e0c296-42be-47b3-ae1e-a5af8e54ff40",
   "metadata": {},
   "outputs": [
    {
     "data": {
      "text/plain": [
       "common  context     time\n",
       "#_h     #_NOUN      1830     9173.0\n",
       "                    1840     3690.0\n",
       "                    1850    12983.0\n",
       "                    1860     7458.0\n",
       "                    1870     7494.0\n",
       "                             ...   \n",
       "♦_h     unit_NOUN   1920     1927.0\n",
       "                    1930     5813.0\n",
       "                    1940    15548.0\n",
       "一_h     add_VERB    1990    11979.0\n",
       "        value_NOUN  1990    11979.0\n",
       "Name: count, Length: 2570019, dtype: float64"
      ]
     },
     "execution_count": 82,
     "metadata": {},
     "output_type": "execute_result"
    }
   ],
   "source": [
    "    heads=pd.read_csv(\"/data/dharp/compounds/datasets/v3_aware/heads.csv\",sep=\"\\t\")\n",
    "\n",
    "    heads.year=heads.year.astype(\"int32\")\n",
    "    heads['count']=heads.year.astype(\"float64\")\n",
    "    heads=heads.loc[heads.year>=1800]\n",
    "    heads=heads.loc[heads['count']<1_000_000]\n",
    "    heads.columns=['common','context','year','count']\n",
    "    heads['common']=heads['common'].str.replace(r'_(NOUN|PROPN|ADJ)$', r'_h', regex=True)\n",
    "    \n",
    "    heads['time']=year_binner(heads['year'].values,10)\n",
    "    heads=heads.groupby(['common','context','time'])['count'].sum()\n",
    "    heads"
   ]
  },
  {
   "cell_type": "code",
   "execution_count": 83,
   "id": "a9cd8110-cf9e-4070-863c-6360addce3ad",
   "metadata": {},
   "outputs": [],
   "source": [
    "df=pd.concat([heads,modifiers,compounds], sort=True)"
   ]
  },
  {
   "cell_type": "code",
   "execution_count": 84,
   "id": "8b48dc79-a885-4d43-9c0e-1d406e583f86",
   "metadata": {},
   "outputs": [
    {
     "data": {
      "text/plain": [
       "pandas.core.series.Series"
      ]
     },
     "execution_count": 84,
     "metadata": {},
     "output_type": "execute_result"
    }
   ],
   "source": [
    "type(df)"
   ]
  },
  {
   "cell_type": "code",
   "execution_count": 85,
   "id": "a3cc2b22-f7d1-4359-ac49-d26ba8793879",
   "metadata": {},
   "outputs": [],
   "source": [
    "dtype = pd.SparseDtype(float, fill_value=0)\n",
    "df=df.astype(dtype)"
   ]
  },
  {
   "cell_type": "code",
   "execution_count": 86,
   "id": "e33e9403-c673-47c7-9478-bacc0b517ce2",
   "metadata": {},
   "outputs": [
    {
     "data": {
      "text/plain": [
       "pandas.core.series.Series"
      ]
     },
     "execution_count": 86,
     "metadata": {},
     "output_type": "execute_result"
    }
   ],
   "source": [
    "type(df)"
   ]
  },
  {
   "cell_type": "code",
   "execution_count": 89,
   "id": "e4b09f23-20b8-4bd2-bd2e-52253f09c415",
   "metadata": {},
   "outputs": [
    {
     "name": "stderr",
     "output_type": "stream",
     "text": [
      "IOStream.flush timed out\n"
     ]
    }
   ],
   "source": [
    "df, rows, _ = df.sparse.to_coo(row_levels=['common','time'],column_levels=['context'],sort_labels=False)"
   ]
  },
  {
   "cell_type": "code",
   "execution_count": 90,
   "id": "ab4844a3-b7c2-4c47-b628-3904e3ae47b9",
   "metadata": {},
   "outputs": [
    {
     "name": "stdout",
     "output_type": "stream",
     "text": [
      "Running SVD\n",
      "Explained variance ratio 0.781\n"
     ]
    }
   ],
   "source": [
    "print('Running SVD')   \n",
    "df_reduced=dim_reduction(df,rows)"
   ]
  },
  {
   "cell_type": "code",
   "execution_count": 92,
   "id": "f1d614e5-ee0a-4d8e-adc4-6224a66dd144",
   "metadata": {},
   "outputs": [
    {
     "name": "stderr",
     "output_type": "stream",
     "text": [
      "/data/dharp/packages/miniconda3/envs/spacied/lib/python3.9/site-packages/pandas/core/frame.py:3191: SettingWithCopyWarning: \n",
      "A value is trying to be set on a copy of a slice from a DataFrame.\n",
      "Try using .loc[row_indexer,col_indexer] = value instead\n",
      "\n",
      "See the caveats in the documentation: https://pandas.pydata.org/pandas-docs/stable/user_guide/indexing.html#returning-a-view-versus-a-copy\n",
      "  self[k1] = value[k2]\n"
     ]
    },
    {
     "data": {
      "text/html": [
       "<div>\n",
       "<style scoped>\n",
       "    .dataframe tbody tr th:only-of-type {\n",
       "        vertical-align: middle;\n",
       "    }\n",
       "\n",
       "    .dataframe tbody tr th {\n",
       "        vertical-align: top;\n",
       "    }\n",
       "\n",
       "    .dataframe thead th {\n",
       "        text-align: right;\n",
       "    }\n",
       "</style>\n",
       "<table border=\"1\" class=\"dataframe\">\n",
       "  <thead>\n",
       "    <tr style=\"text-align: right;\">\n",
       "      <th></th>\n",
       "      <th>common</th>\n",
       "      <th>time</th>\n",
       "      <th>0</th>\n",
       "      <th>1</th>\n",
       "      <th>2</th>\n",
       "      <th>3</th>\n",
       "      <th>4</th>\n",
       "      <th>5</th>\n",
       "      <th>6</th>\n",
       "      <th>7</th>\n",
       "      <th>...</th>\n",
       "      <th>292</th>\n",
       "      <th>293</th>\n",
       "      <th>294</th>\n",
       "      <th>295</th>\n",
       "      <th>296</th>\n",
       "      <th>297</th>\n",
       "      <th>298</th>\n",
       "      <th>299</th>\n",
       "      <th>modifier</th>\n",
       "      <th>head</th>\n",
       "    </tr>\n",
       "  </thead>\n",
       "  <tbody>\n",
       "    <tr>\n",
       "      <th>0</th>\n",
       "      <td>#_NOUN cent_NOUN</td>\n",
       "      <td>1860</td>\n",
       "      <td>0.094566</td>\n",
       "      <td>-0.052127</td>\n",
       "      <td>0.286609</td>\n",
       "      <td>-0.122367</td>\n",
       "      <td>-0.068207</td>\n",
       "      <td>0.062645</td>\n",
       "      <td>0.127152</td>\n",
       "      <td>-0.134290</td>\n",
       "      <td>...</td>\n",
       "      <td>-0.002582</td>\n",
       "      <td>-0.010485</td>\n",
       "      <td>-0.013443</td>\n",
       "      <td>0.020738</td>\n",
       "      <td>0.001167</td>\n",
       "      <td>0.007712</td>\n",
       "      <td>-0.001959</td>\n",
       "      <td>0.001110</td>\n",
       "      <td>#_NOUN</td>\n",
       "      <td>cent_NOUN</td>\n",
       "    </tr>\n",
       "    <tr>\n",
       "      <th>1</th>\n",
       "      <td>#_NOUN cent_NOUN</td>\n",
       "      <td>1900</td>\n",
       "      <td>0.101859</td>\n",
       "      <td>-0.052361</td>\n",
       "      <td>0.281479</td>\n",
       "      <td>-0.125681</td>\n",
       "      <td>-0.069403</td>\n",
       "      <td>0.064050</td>\n",
       "      <td>0.128603</td>\n",
       "      <td>-0.126002</td>\n",
       "      <td>...</td>\n",
       "      <td>-0.000953</td>\n",
       "      <td>-0.012016</td>\n",
       "      <td>-0.013635</td>\n",
       "      <td>0.022357</td>\n",
       "      <td>0.004108</td>\n",
       "      <td>0.008506</td>\n",
       "      <td>-0.003962</td>\n",
       "      <td>0.000574</td>\n",
       "      <td>#_NOUN</td>\n",
       "      <td>cent_NOUN</td>\n",
       "    </tr>\n",
       "    <tr>\n",
       "      <th>2</th>\n",
       "      <td>#_NOUN cent_NOUN</td>\n",
       "      <td>1910</td>\n",
       "      <td>0.105959</td>\n",
       "      <td>-0.052084</td>\n",
       "      <td>0.275655</td>\n",
       "      <td>-0.126883</td>\n",
       "      <td>-0.069636</td>\n",
       "      <td>0.064469</td>\n",
       "      <td>0.128516</td>\n",
       "      <td>-0.119329</td>\n",
       "      <td>...</td>\n",
       "      <td>0.000160</td>\n",
       "      <td>-0.012954</td>\n",
       "      <td>-0.013652</td>\n",
       "      <td>0.023270</td>\n",
       "      <td>0.006069</td>\n",
       "      <td>0.008974</td>\n",
       "      <td>-0.005289</td>\n",
       "      <td>0.000205</td>\n",
       "      <td>#_NOUN</td>\n",
       "      <td>cent_NOUN</td>\n",
       "    </tr>\n",
       "    <tr>\n",
       "      <th>3</th>\n",
       "      <td>#_NOUN cent_NOUN</td>\n",
       "      <td>1920</td>\n",
       "      <td>0.112453</td>\n",
       "      <td>-0.050240</td>\n",
       "      <td>0.256327</td>\n",
       "      <td>-0.126514</td>\n",
       "      <td>-0.068497</td>\n",
       "      <td>0.063863</td>\n",
       "      <td>0.125279</td>\n",
       "      <td>-0.101845</td>\n",
       "      <td>...</td>\n",
       "      <td>0.002601</td>\n",
       "      <td>-0.014708</td>\n",
       "      <td>-0.013364</td>\n",
       "      <td>0.024721</td>\n",
       "      <td>0.010232</td>\n",
       "      <td>0.009788</td>\n",
       "      <td>-0.008077</td>\n",
       "      <td>-0.000610</td>\n",
       "      <td>#_NOUN</td>\n",
       "      <td>cent_NOUN</td>\n",
       "    </tr>\n",
       "    <tr>\n",
       "      <th>4</th>\n",
       "      <td>#_NOUN cent_NOUN</td>\n",
       "      <td>1930</td>\n",
       "      <td>0.094541</td>\n",
       "      <td>-0.052125</td>\n",
       "      <td>0.286618</td>\n",
       "      <td>-0.122354</td>\n",
       "      <td>-0.068202</td>\n",
       "      <td>0.062639</td>\n",
       "      <td>0.127145</td>\n",
       "      <td>-0.134312</td>\n",
       "      <td>...</td>\n",
       "      <td>-0.002587</td>\n",
       "      <td>-0.010480</td>\n",
       "      <td>-0.013442</td>\n",
       "      <td>0.020733</td>\n",
       "      <td>0.001158</td>\n",
       "      <td>0.007709</td>\n",
       "      <td>-0.001953</td>\n",
       "      <td>0.001112</td>\n",
       "      <td>#_NOUN</td>\n",
       "      <td>cent_NOUN</td>\n",
       "    </tr>\n",
       "    <tr>\n",
       "      <th>...</th>\n",
       "      <td>...</td>\n",
       "      <td>...</td>\n",
       "      <td>...</td>\n",
       "      <td>...</td>\n",
       "      <td>...</td>\n",
       "      <td>...</td>\n",
       "      <td>...</td>\n",
       "      <td>...</td>\n",
       "      <td>...</td>\n",
       "      <td>...</td>\n",
       "      <td>...</td>\n",
       "      <td>...</td>\n",
       "      <td>...</td>\n",
       "      <td>...</td>\n",
       "      <td>...</td>\n",
       "      <td>...</td>\n",
       "      <td>...</td>\n",
       "      <td>...</td>\n",
       "      <td>...</td>\n",
       "      <td>...</td>\n",
       "      <td>...</td>\n",
       "    </tr>\n",
       "    <tr>\n",
       "      <th>946464</th>\n",
       "      <td>◦_NOUN c._PROPN</td>\n",
       "      <td>2010</td>\n",
       "      <td>0.047717</td>\n",
       "      <td>0.032979</td>\n",
       "      <td>0.020162</td>\n",
       "      <td>0.020614</td>\n",
       "      <td>0.160696</td>\n",
       "      <td>0.048546</td>\n",
       "      <td>0.052705</td>\n",
       "      <td>0.256397</td>\n",
       "      <td>...</td>\n",
       "      <td>-0.053334</td>\n",
       "      <td>-0.001947</td>\n",
       "      <td>-0.006811</td>\n",
       "      <td>-0.032499</td>\n",
       "      <td>0.027492</td>\n",
       "      <td>0.028426</td>\n",
       "      <td>-0.018280</td>\n",
       "      <td>-0.001175</td>\n",
       "      <td>◦_NOUN</td>\n",
       "      <td>c._PROPN</td>\n",
       "    </tr>\n",
       "    <tr>\n",
       "      <th>946465</th>\n",
       "      <td>◦_NOUN c_NOUN</td>\n",
       "      <td>2000</td>\n",
       "      <td>0.036595</td>\n",
       "      <td>0.004921</td>\n",
       "      <td>0.029418</td>\n",
       "      <td>0.043014</td>\n",
       "      <td>0.033974</td>\n",
       "      <td>0.019600</td>\n",
       "      <td>-0.002898</td>\n",
       "      <td>0.117485</td>\n",
       "      <td>...</td>\n",
       "      <td>-0.011691</td>\n",
       "      <td>-0.106389</td>\n",
       "      <td>0.174744</td>\n",
       "      <td>-0.004846</td>\n",
       "      <td>-0.079863</td>\n",
       "      <td>0.041529</td>\n",
       "      <td>0.018362</td>\n",
       "      <td>-0.095796</td>\n",
       "      <td>◦_NOUN</td>\n",
       "      <td>c_NOUN</td>\n",
       "    </tr>\n",
       "    <tr>\n",
       "      <th>946466</th>\n",
       "      <td>◦_NOUN c_NOUN</td>\n",
       "      <td>2010</td>\n",
       "      <td>0.036595</td>\n",
       "      <td>0.004921</td>\n",
       "      <td>0.029418</td>\n",
       "      <td>0.043014</td>\n",
       "      <td>0.033974</td>\n",
       "      <td>0.019600</td>\n",
       "      <td>-0.002898</td>\n",
       "      <td>0.117485</td>\n",
       "      <td>...</td>\n",
       "      <td>-0.011691</td>\n",
       "      <td>-0.106389</td>\n",
       "      <td>0.174744</td>\n",
       "      <td>-0.004846</td>\n",
       "      <td>-0.079863</td>\n",
       "      <td>0.041529</td>\n",
       "      <td>0.018362</td>\n",
       "      <td>-0.095796</td>\n",
       "      <td>◦_NOUN</td>\n",
       "      <td>c_NOUN</td>\n",
       "    </tr>\n",
       "    <tr>\n",
       "      <th>946467</th>\n",
       "      <td>◦_NOUN field_NOUN</td>\n",
       "      <td>2000</td>\n",
       "      <td>0.026877</td>\n",
       "      <td>-0.010657</td>\n",
       "      <td>0.002220</td>\n",
       "      <td>0.019800</td>\n",
       "      <td>0.069524</td>\n",
       "      <td>0.015960</td>\n",
       "      <td>-0.007309</td>\n",
       "      <td>0.019861</td>\n",
       "      <td>...</td>\n",
       "      <td>0.084099</td>\n",
       "      <td>-0.048537</td>\n",
       "      <td>0.013446</td>\n",
       "      <td>-0.075868</td>\n",
       "      <td>-0.059511</td>\n",
       "      <td>0.019224</td>\n",
       "      <td>-0.045717</td>\n",
       "      <td>-0.040587</td>\n",
       "      <td>◦_NOUN</td>\n",
       "      <td>field_NOUN</td>\n",
       "    </tr>\n",
       "    <tr>\n",
       "      <th>946468</th>\n",
       "      <td>◦_NOUN field_NOUN</td>\n",
       "      <td>2010</td>\n",
       "      <td>0.026877</td>\n",
       "      <td>-0.010657</td>\n",
       "      <td>0.002220</td>\n",
       "      <td>0.019800</td>\n",
       "      <td>0.069524</td>\n",
       "      <td>0.015960</td>\n",
       "      <td>-0.007309</td>\n",
       "      <td>0.019861</td>\n",
       "      <td>...</td>\n",
       "      <td>0.084099</td>\n",
       "      <td>-0.048537</td>\n",
       "      <td>0.013446</td>\n",
       "      <td>-0.075868</td>\n",
       "      <td>-0.059511</td>\n",
       "      <td>0.019224</td>\n",
       "      <td>-0.045717</td>\n",
       "      <td>-0.040587</td>\n",
       "      <td>◦_NOUN</td>\n",
       "      <td>field_NOUN</td>\n",
       "    </tr>\n",
       "  </tbody>\n",
       "</table>\n",
       "<p>946469 rows × 304 columns</p>\n",
       "</div>"
      ],
      "text/plain": [
       "                   common  time         0         1         2         3  \\\n",
       "0        #_NOUN cent_NOUN  1860  0.094566 -0.052127  0.286609 -0.122367   \n",
       "1        #_NOUN cent_NOUN  1900  0.101859 -0.052361  0.281479 -0.125681   \n",
       "2        #_NOUN cent_NOUN  1910  0.105959 -0.052084  0.275655 -0.126883   \n",
       "3        #_NOUN cent_NOUN  1920  0.112453 -0.050240  0.256327 -0.126514   \n",
       "4        #_NOUN cent_NOUN  1930  0.094541 -0.052125  0.286618 -0.122354   \n",
       "...                   ...   ...       ...       ...       ...       ...   \n",
       "946464    ◦_NOUN c._PROPN  2010  0.047717  0.032979  0.020162  0.020614   \n",
       "946465      ◦_NOUN c_NOUN  2000  0.036595  0.004921  0.029418  0.043014   \n",
       "946466      ◦_NOUN c_NOUN  2010  0.036595  0.004921  0.029418  0.043014   \n",
       "946467  ◦_NOUN field_NOUN  2000  0.026877 -0.010657  0.002220  0.019800   \n",
       "946468  ◦_NOUN field_NOUN  2010  0.026877 -0.010657  0.002220  0.019800   \n",
       "\n",
       "               4         5         6         7  ...       292       293  \\\n",
       "0      -0.068207  0.062645  0.127152 -0.134290  ... -0.002582 -0.010485   \n",
       "1      -0.069403  0.064050  0.128603 -0.126002  ... -0.000953 -0.012016   \n",
       "2      -0.069636  0.064469  0.128516 -0.119329  ...  0.000160 -0.012954   \n",
       "3      -0.068497  0.063863  0.125279 -0.101845  ...  0.002601 -0.014708   \n",
       "4      -0.068202  0.062639  0.127145 -0.134312  ... -0.002587 -0.010480   \n",
       "...          ...       ...       ...       ...  ...       ...       ...   \n",
       "946464  0.160696  0.048546  0.052705  0.256397  ... -0.053334 -0.001947   \n",
       "946465  0.033974  0.019600 -0.002898  0.117485  ... -0.011691 -0.106389   \n",
       "946466  0.033974  0.019600 -0.002898  0.117485  ... -0.011691 -0.106389   \n",
       "946467  0.069524  0.015960 -0.007309  0.019861  ...  0.084099 -0.048537   \n",
       "946468  0.069524  0.015960 -0.007309  0.019861  ...  0.084099 -0.048537   \n",
       "\n",
       "             294       295       296       297       298       299  modifier  \\\n",
       "0      -0.013443  0.020738  0.001167  0.007712 -0.001959  0.001110    #_NOUN   \n",
       "1      -0.013635  0.022357  0.004108  0.008506 -0.003962  0.000574    #_NOUN   \n",
       "2      -0.013652  0.023270  0.006069  0.008974 -0.005289  0.000205    #_NOUN   \n",
       "3      -0.013364  0.024721  0.010232  0.009788 -0.008077 -0.000610    #_NOUN   \n",
       "4      -0.013442  0.020733  0.001158  0.007709 -0.001953  0.001112    #_NOUN   \n",
       "...          ...       ...       ...       ...       ...       ...       ...   \n",
       "946464 -0.006811 -0.032499  0.027492  0.028426 -0.018280 -0.001175    ◦_NOUN   \n",
       "946465  0.174744 -0.004846 -0.079863  0.041529  0.018362 -0.095796    ◦_NOUN   \n",
       "946466  0.174744 -0.004846 -0.079863  0.041529  0.018362 -0.095796    ◦_NOUN   \n",
       "946467  0.013446 -0.075868 -0.059511  0.019224 -0.045717 -0.040587    ◦_NOUN   \n",
       "946468  0.013446 -0.075868 -0.059511  0.019224 -0.045717 -0.040587    ◦_NOUN   \n",
       "\n",
       "              head  \n",
       "0        cent_NOUN  \n",
       "1        cent_NOUN  \n",
       "2        cent_NOUN  \n",
       "3        cent_NOUN  \n",
       "4        cent_NOUN  \n",
       "...            ...  \n",
       "946464    c._PROPN  \n",
       "946465      c_NOUN  \n",
       "946466      c_NOUN  \n",
       "946467  field_NOUN  \n",
       "946468  field_NOUN  \n",
       "\n",
       "[946469 rows x 304 columns]"
      ]
     },
     "execution_count": 92,
     "metadata": {},
     "output_type": "execute_result"
    }
   ],
   "source": [
    "compounds_reduced=df_reduced.loc[df_reduced.index.get_level_values(0).str.contains(r'\\w \\w')]\n",
    "compounds_reduced.reset_index(inplace=True)\n",
    "    #print(compounds_reduced.head())\n",
    "compounds_reduced[['modifier','head']]=compounds_reduced['common'].str.split(' ', n=1,expand=True).copy()\n",
    "compounds_reduced"
   ]
  },
  {
   "cell_type": "code",
   "execution_count": 94,
   "id": "6fe1a303-49dd-4df7-a0e0-c028180bb0b8",
   "metadata": {},
   "outputs": [
    {
     "name": "stderr",
     "output_type": "stream",
     "text": [
      "/tmp/ipykernel_82301/3313262680.py:3: SettingWithCopyWarning: \n",
      "A value is trying to be set on a copy of a slice from a DataFrame.\n",
      "Try using .loc[row_indexer,col_indexer] = value instead\n",
      "\n",
      "See the caveats in the documentation: https://pandas.pydata.org/pandas-docs/stable/user_guide/indexing.html#returning-a-view-versus-a-copy\n",
      "  heads_reduced['head']=heads_reduced['common'].str.replace(r'_h$', r'_NOUN', regex=True)\n",
      "/tmp/ipykernel_82301/3313262680.py:8: SettingWithCopyWarning: \n",
      "A value is trying to be set on a copy of a slice from a DataFrame.\n",
      "Try using .loc[row_indexer,col_indexer] = value instead\n",
      "\n",
      "See the caveats in the documentation: https://pandas.pydata.org/pandas-docs/stable/user_guide/indexing.html#returning-a-view-versus-a-copy\n",
      "  modifiers_reduced['modifier']=modifiers_reduced['common'].str.replace(r'_m$', r'_NOUN', regex=True)\n"
     ]
    }
   ],
   "source": [
    "    heads_reduced=df_reduced.loc[df_reduced.index.get_level_values(0).str.endswith(r'_h')]\n",
    "    heads_reduced.reset_index(inplace=True)\n",
    "    heads_reduced['head']=heads_reduced['common'].str.replace(r'_h$', r'_NOUN', regex=True)\n",
    "    heads_reduced.drop(['common'],axis=1,inplace=True)\n",
    "\n",
    "    modifiers_reduced=df_reduced.loc[df_reduced.index.get_level_values(0).str.endswith(r'_m')]\n",
    "    modifiers_reduced.reset_index(inplace=True)   \n",
    "    modifiers_reduced['modifier']=modifiers_reduced['common'].str.replace(r'_m$', r'_NOUN', regex=True)\n",
    "    modifiers_reduced.drop(['common'],axis=1,inplace=True)"
   ]
  },
  {
   "cell_type": "code",
   "execution_count": 96,
   "id": "63e21c7f-1fa9-4448-a8ea-baea49555174",
   "metadata": {},
   "outputs": [],
   "source": [
    "        compounds_reduced.set_index(['modifier','head','time'],inplace=True)\n",
    "        heads_reduced.set_index(['head','time'],inplace=True)\n",
    "        modifiers_reduced.set_index(['modifier','time'],inplace=True)"
   ]
  },
  {
   "cell_type": "code",
   "execution_count": 104,
   "id": "3a64a1b2-d8c7-40ed-9d62-405710ff1073",
   "metadata": {},
   "outputs": [
    {
     "ename": "KeyError",
     "evalue": "\"['common'] not found in axis\"",
     "output_type": "error",
     "traceback": [
      "\u001b[0;31m---------------------------------------------------------------------------\u001b[0m",
      "\u001b[0;31mKeyError\u001b[0m                                  Traceback (most recent call last)",
      "\u001b[0;32m/tmp/ipykernel_82301/4264258045.py\u001b[0m in \u001b[0;36m<module>\u001b[0;34m\u001b[0m\n\u001b[1;32m      1\u001b[0m \u001b[0mcompounds_reduced\u001b[0m\u001b[0;34m.\u001b[0m\u001b[0mdrop\u001b[0m\u001b[0;34m(\u001b[0m\u001b[0;34m'common'\u001b[0m\u001b[0;34m,\u001b[0m\u001b[0maxis\u001b[0m\u001b[0;34m=\u001b[0m\u001b[0;36m1\u001b[0m\u001b[0;34m)\u001b[0m\u001b[0;34m.\u001b[0m\u001b[0mto_csv\u001b[0m\u001b[0;34m(\u001b[0m\u001b[0;34m\"/data/dharp/compounds/datasets/v3_aware/compounds_reduced.csv\"\u001b[0m\u001b[0;34m,\u001b[0m\u001b[0msep\u001b[0m\u001b[0;34m=\u001b[0m\u001b[0;34m\"\\t\"\u001b[0m\u001b[0;34m,\u001b[0m\u001b[0mheader\u001b[0m\u001b[0;34m=\u001b[0m\u001b[0;32mFalse\u001b[0m\u001b[0;34m)\u001b[0m\u001b[0;34m\u001b[0m\u001b[0;34m\u001b[0m\u001b[0m\n\u001b[0;32m----> 2\u001b[0;31m \u001b[0mmodifiers_reduced\u001b[0m\u001b[0;34m.\u001b[0m\u001b[0mdrop\u001b[0m\u001b[0;34m(\u001b[0m\u001b[0;34m'common'\u001b[0m\u001b[0;34m,\u001b[0m\u001b[0maxis\u001b[0m\u001b[0;34m=\u001b[0m\u001b[0;36m1\u001b[0m\u001b[0;34m)\u001b[0m\u001b[0;34m.\u001b[0m\u001b[0mto_csv\u001b[0m\u001b[0;34m(\u001b[0m\u001b[0;34m\"/data/dharp/compounds/datasets/v3_aware/modifiers_reduced.csv\"\u001b[0m\u001b[0;34m,\u001b[0m\u001b[0msep\u001b[0m\u001b[0;34m=\u001b[0m\u001b[0;34m\"\\t\"\u001b[0m\u001b[0;34m,\u001b[0m\u001b[0mheader\u001b[0m\u001b[0;34m=\u001b[0m\u001b[0;32mFalse\u001b[0m\u001b[0;34m)\u001b[0m\u001b[0;34m\u001b[0m\u001b[0;34m\u001b[0m\u001b[0m\n\u001b[0m\u001b[1;32m      3\u001b[0m \u001b[0mheads_reduced\u001b[0m\u001b[0;34m.\u001b[0m\u001b[0mdrop\u001b[0m\u001b[0;34m(\u001b[0m\u001b[0;34m'common'\u001b[0m\u001b[0;34m,\u001b[0m\u001b[0maxis\u001b[0m\u001b[0;34m=\u001b[0m\u001b[0;36m1\u001b[0m\u001b[0;34m)\u001b[0m\u001b[0;34m.\u001b[0m\u001b[0mto_csv\u001b[0m\u001b[0;34m(\u001b[0m\u001b[0;34m\"/data/dharp/compounds/datasets/v3_aware/heads_reduced.csv\"\u001b[0m\u001b[0;34m,\u001b[0m\u001b[0msep\u001b[0m\u001b[0;34m=\u001b[0m\u001b[0;34m\"\\t\"\u001b[0m\u001b[0;34m,\u001b[0m\u001b[0mheader\u001b[0m\u001b[0;34m=\u001b[0m\u001b[0;32mFalse\u001b[0m\u001b[0;34m)\u001b[0m\u001b[0;34m\u001b[0m\u001b[0;34m\u001b[0m\u001b[0m\n",
      "\u001b[0;32m/data/dharp/packages/miniconda3/envs/spacied/lib/python3.9/site-packages/pandas/core/frame.py\u001b[0m in \u001b[0;36mdrop\u001b[0;34m(self, labels, axis, index, columns, level, inplace, errors)\u001b[0m\n\u001b[1;32m   4306\u001b[0m                 \u001b[0mweight\u001b[0m  \u001b[0;36m1.0\u001b[0m     \u001b[0;36m0.8\u001b[0m\u001b[0;34m\u001b[0m\u001b[0;34m\u001b[0m\u001b[0m\n\u001b[1;32m   4307\u001b[0m         \"\"\"\n\u001b[0;32m-> 4308\u001b[0;31m         return super().drop(\n\u001b[0m\u001b[1;32m   4309\u001b[0m             \u001b[0mlabels\u001b[0m\u001b[0;34m=\u001b[0m\u001b[0mlabels\u001b[0m\u001b[0;34m,\u001b[0m\u001b[0;34m\u001b[0m\u001b[0;34m\u001b[0m\u001b[0m\n\u001b[1;32m   4310\u001b[0m             \u001b[0maxis\u001b[0m\u001b[0;34m=\u001b[0m\u001b[0maxis\u001b[0m\u001b[0;34m,\u001b[0m\u001b[0;34m\u001b[0m\u001b[0;34m\u001b[0m\u001b[0m\n",
      "\u001b[0;32m/data/dharp/packages/miniconda3/envs/spacied/lib/python3.9/site-packages/pandas/core/generic.py\u001b[0m in \u001b[0;36mdrop\u001b[0;34m(self, labels, axis, index, columns, level, inplace, errors)\u001b[0m\n\u001b[1;32m   4151\u001b[0m         \u001b[0;32mfor\u001b[0m \u001b[0maxis\u001b[0m\u001b[0;34m,\u001b[0m \u001b[0mlabels\u001b[0m \u001b[0;32min\u001b[0m \u001b[0maxes\u001b[0m\u001b[0;34m.\u001b[0m\u001b[0mitems\u001b[0m\u001b[0;34m(\u001b[0m\u001b[0;34m)\u001b[0m\u001b[0;34m:\u001b[0m\u001b[0;34m\u001b[0m\u001b[0;34m\u001b[0m\u001b[0m\n\u001b[1;32m   4152\u001b[0m             \u001b[0;32mif\u001b[0m \u001b[0mlabels\u001b[0m \u001b[0;32mis\u001b[0m \u001b[0;32mnot\u001b[0m \u001b[0;32mNone\u001b[0m\u001b[0;34m:\u001b[0m\u001b[0;34m\u001b[0m\u001b[0;34m\u001b[0m\u001b[0m\n\u001b[0;32m-> 4153\u001b[0;31m                 \u001b[0mobj\u001b[0m \u001b[0;34m=\u001b[0m \u001b[0mobj\u001b[0m\u001b[0;34m.\u001b[0m\u001b[0m_drop_axis\u001b[0m\u001b[0;34m(\u001b[0m\u001b[0mlabels\u001b[0m\u001b[0;34m,\u001b[0m \u001b[0maxis\u001b[0m\u001b[0;34m,\u001b[0m \u001b[0mlevel\u001b[0m\u001b[0;34m=\u001b[0m\u001b[0mlevel\u001b[0m\u001b[0;34m,\u001b[0m \u001b[0merrors\u001b[0m\u001b[0;34m=\u001b[0m\u001b[0merrors\u001b[0m\u001b[0;34m)\u001b[0m\u001b[0;34m\u001b[0m\u001b[0;34m\u001b[0m\u001b[0m\n\u001b[0m\u001b[1;32m   4154\u001b[0m \u001b[0;34m\u001b[0m\u001b[0m\n\u001b[1;32m   4155\u001b[0m         \u001b[0;32mif\u001b[0m \u001b[0minplace\u001b[0m\u001b[0;34m:\u001b[0m\u001b[0;34m\u001b[0m\u001b[0;34m\u001b[0m\u001b[0m\n",
      "\u001b[0;32m/data/dharp/packages/miniconda3/envs/spacied/lib/python3.9/site-packages/pandas/core/generic.py\u001b[0m in \u001b[0;36m_drop_axis\u001b[0;34m(self, labels, axis, level, errors)\u001b[0m\n\u001b[1;32m   4186\u001b[0m                 \u001b[0mnew_axis\u001b[0m \u001b[0;34m=\u001b[0m \u001b[0maxis\u001b[0m\u001b[0;34m.\u001b[0m\u001b[0mdrop\u001b[0m\u001b[0;34m(\u001b[0m\u001b[0mlabels\u001b[0m\u001b[0;34m,\u001b[0m \u001b[0mlevel\u001b[0m\u001b[0;34m=\u001b[0m\u001b[0mlevel\u001b[0m\u001b[0;34m,\u001b[0m \u001b[0merrors\u001b[0m\u001b[0;34m=\u001b[0m\u001b[0merrors\u001b[0m\u001b[0;34m)\u001b[0m\u001b[0;34m\u001b[0m\u001b[0;34m\u001b[0m\u001b[0m\n\u001b[1;32m   4187\u001b[0m             \u001b[0;32melse\u001b[0m\u001b[0;34m:\u001b[0m\u001b[0;34m\u001b[0m\u001b[0;34m\u001b[0m\u001b[0m\n\u001b[0;32m-> 4188\u001b[0;31m                 \u001b[0mnew_axis\u001b[0m \u001b[0;34m=\u001b[0m \u001b[0maxis\u001b[0m\u001b[0;34m.\u001b[0m\u001b[0mdrop\u001b[0m\u001b[0;34m(\u001b[0m\u001b[0mlabels\u001b[0m\u001b[0;34m,\u001b[0m \u001b[0merrors\u001b[0m\u001b[0;34m=\u001b[0m\u001b[0merrors\u001b[0m\u001b[0;34m)\u001b[0m\u001b[0;34m\u001b[0m\u001b[0;34m\u001b[0m\u001b[0m\n\u001b[0m\u001b[1;32m   4189\u001b[0m             \u001b[0mresult\u001b[0m \u001b[0;34m=\u001b[0m \u001b[0mself\u001b[0m\u001b[0;34m.\u001b[0m\u001b[0mreindex\u001b[0m\u001b[0;34m(\u001b[0m\u001b[0;34m**\u001b[0m\u001b[0;34m{\u001b[0m\u001b[0maxis_name\u001b[0m\u001b[0;34m:\u001b[0m \u001b[0mnew_axis\u001b[0m\u001b[0;34m}\u001b[0m\u001b[0;34m)\u001b[0m\u001b[0;34m\u001b[0m\u001b[0;34m\u001b[0m\u001b[0m\n\u001b[1;32m   4190\u001b[0m \u001b[0;34m\u001b[0m\u001b[0m\n",
      "\u001b[0;32m/data/dharp/packages/miniconda3/envs/spacied/lib/python3.9/site-packages/pandas/core/indexes/base.py\u001b[0m in \u001b[0;36mdrop\u001b[0;34m(self, labels, errors)\u001b[0m\n\u001b[1;32m   5590\u001b[0m         \u001b[0;32mif\u001b[0m \u001b[0mmask\u001b[0m\u001b[0;34m.\u001b[0m\u001b[0many\u001b[0m\u001b[0;34m(\u001b[0m\u001b[0;34m)\u001b[0m\u001b[0;34m:\u001b[0m\u001b[0;34m\u001b[0m\u001b[0;34m\u001b[0m\u001b[0m\n\u001b[1;32m   5591\u001b[0m             \u001b[0;32mif\u001b[0m \u001b[0merrors\u001b[0m \u001b[0;34m!=\u001b[0m \u001b[0;34m\"ignore\"\u001b[0m\u001b[0;34m:\u001b[0m\u001b[0;34m\u001b[0m\u001b[0;34m\u001b[0m\u001b[0m\n\u001b[0;32m-> 5592\u001b[0;31m                 \u001b[0;32mraise\u001b[0m \u001b[0mKeyError\u001b[0m\u001b[0;34m(\u001b[0m\u001b[0;34mf\"{labels[mask]} not found in axis\"\u001b[0m\u001b[0;34m)\u001b[0m\u001b[0;34m\u001b[0m\u001b[0;34m\u001b[0m\u001b[0m\n\u001b[0m\u001b[1;32m   5593\u001b[0m             \u001b[0mindexer\u001b[0m \u001b[0;34m=\u001b[0m \u001b[0mindexer\u001b[0m\u001b[0;34m[\u001b[0m\u001b[0;34m~\u001b[0m\u001b[0mmask\u001b[0m\u001b[0;34m]\u001b[0m\u001b[0;34m\u001b[0m\u001b[0;34m\u001b[0m\u001b[0m\n\u001b[1;32m   5594\u001b[0m         \u001b[0;32mreturn\u001b[0m \u001b[0mself\u001b[0m\u001b[0;34m.\u001b[0m\u001b[0mdelete\u001b[0m\u001b[0;34m(\u001b[0m\u001b[0mindexer\u001b[0m\u001b[0;34m)\u001b[0m\u001b[0;34m\u001b[0m\u001b[0;34m\u001b[0m\u001b[0m\n",
      "\u001b[0;31mKeyError\u001b[0m: \"['common'] not found in axis\""
     ]
    }
   ],
   "source": [
    "compounds_reduced.drop('common',axis=1).to_csv(\"/data/dharp/compounds/datasets/v3_aware/compounds_reduced.csv\",sep=\"\\t\",header=False)"
   ]
  },
  {
   "cell_type": "code",
   "execution_count": 107,
   "id": "da93b706-16c0-408c-b853-cc0dfb8d3ce1",
   "metadata": {},
   "outputs": [],
   "source": [
    "modifiers_reduced.to_csv(\"/data/dharp/compounds/datasets/v3_aware/modifiers_reduced.csv\",sep=\"\\t\",header=False)\n",
    "heads_reduced.to_csv(\"/data/dharp/compounds/datasets/v3_aware/heads_reduced.csv\",sep=\"\\t\",header=False)"
   ]
  }
 ],
 "metadata": {
  "kernelspec": {
   "display_name": "Python 3 (ipykernel)",
   "language": "python",
   "name": "python3"
  },
  "language_info": {
   "codemirror_mode": {
    "name": "ipython",
    "version": 3
   },
   "file_extension": ".py",
   "mimetype": "text/x-python",
   "name": "python",
   "nbconvert_exporter": "python",
   "pygments_lexer": "ipython3",
   "version": "3.9.5"
  }
 },
 "nbformat": 4,
 "nbformat_minor": 5
}
